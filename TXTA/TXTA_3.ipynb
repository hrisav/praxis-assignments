{
  "nbformat": 4,
  "nbformat_minor": 0,
  "metadata": {
    "colab": {
      "name": "TXTA 3.ipynb",
      "provenance": [],
      "collapsed_sections": [],
      "toc_visible": true
    },
    "kernelspec": {
      "name": "python3",
      "display_name": "Python 3"
    },
    "language_info": {
      "name": "python"
    }
  },
  "cells": [
    {
      "cell_type": "code",
      "metadata": {
        "id": "giaj5aSNS-sH"
      },
      "source": [
        "import pandas as pd\n",
        "import numpy as np\n",
        "import matplotlib.pyplot as plt\n",
        "import seaborn as sns\n",
        "plt.style.use('fivethirtyeight')\n",
        "\n",
        "import warnings\n",
        "warnings.filterwarnings('ignore')"
      ],
      "execution_count": null,
      "outputs": []
    },
    {
      "cell_type": "code",
      "metadata": {
        "id": "5zr85d06bG44"
      },
      "source": [
        "from sklearn.datasets import load_files\n",
        "from sklearn.model_selection import train_test_split\n",
        "import re\n",
        "import nltk\n",
        "from nltk.stem import PorterStemmer # for stemming\n",
        "from nltk.corpus import stopwords\n",
        "from sklearn.feature_extraction.text import CountVectorizer\n",
        "from sklearn.decomposition import TruncatedSVD\n",
        "from sklearn.linear_model import LogisticRegression\n",
        "from sklearn.metrics import confusion_matrix\n",
        "from sklearn.metrics import accuracy_score\n",
        "import gensim\n",
        "from gensim.models import Word2Vec\n",
        "import itertools"
      ],
      "execution_count": null,
      "outputs": []
    },
    {
      "cell_type": "code",
      "metadata": {
        "colab": {
          "base_uri": "https://localhost:8080/"
        },
        "id": "rKB5pQJi0Jnp",
        "outputId": "0704d289-033a-49e6-830e-d3089d5f192f"
      },
      "source": [
        "nltk.download('stopwords')"
      ],
      "execution_count": null,
      "outputs": [
        {
          "output_type": "stream",
          "text": [
            "[nltk_data] Downloading package stopwords to /root/nltk_data...\n",
            "[nltk_data]   Package stopwords is already up-to-date!\n"
          ],
          "name": "stdout"
        },
        {
          "output_type": "execute_result",
          "data": {
            "text/plain": [
              "True"
            ]
          },
          "metadata": {
            "tags": []
          },
          "execution_count": 3
        }
      ]
    },
    {
      "cell_type": "code",
      "metadata": {
        "colab": {
          "base_uri": "https://localhost:8080/"
        },
        "id": "1iAKlqWM0Xug",
        "outputId": "9c48d0e4-a7a1-4874-f796-110ff6289acb"
      },
      "source": [
        "nltk.download('punkt')"
      ],
      "execution_count": null,
      "outputs": [
        {
          "output_type": "stream",
          "text": [
            "[nltk_data] Downloading package punkt to /root/nltk_data...\n",
            "[nltk_data]   Package punkt is already up-to-date!\n"
          ],
          "name": "stdout"
        },
        {
          "output_type": "execute_result",
          "data": {
            "text/plain": [
              "True"
            ]
          },
          "metadata": {
            "tags": []
          },
          "execution_count": 4
        }
      ]
    },
    {
      "cell_type": "markdown",
      "metadata": {
        "id": "WRXTvzob3XDJ"
      },
      "source": [
        "## Getting Data"
      ]
    },
    {
      "cell_type": "code",
      "metadata": {
        "id": "nDKDIQjKbJZz"
      },
      "source": [
        "!unzip /content/bbc-fulltext.zip -d /content/"
      ],
      "execution_count": null,
      "outputs": []
    },
    {
      "cell_type": "code",
      "metadata": {
        "id": "dgG3nRFEjuI1"
      },
      "source": [
        "DATA_LOC = \"/content/bbc\"\n",
        "\n",
        "bbc_data = load_files(DATA_LOC, encoding=\"utf-8\", decode_error=\"replace\")"
      ],
      "execution_count": null,
      "outputs": []
    },
    {
      "cell_type": "code",
      "metadata": {
        "colab": {
          "base_uri": "https://localhost:8080/"
        },
        "id": "0PoJk7eNfC-1",
        "outputId": "eca92b84-962c-44d3-e0bc-57d8b66905a9"
      },
      "source": [
        "bbc_data.target"
      ],
      "execution_count": null,
      "outputs": [
        {
          "output_type": "execute_result",
          "data": {
            "text/plain": [
              "array([0, 4, 2, ..., 1, 1, 3])"
            ]
          },
          "metadata": {
            "tags": []
          },
          "execution_count": 7
        }
      ]
    },
    {
      "cell_type": "code",
      "metadata": {
        "colab": {
          "base_uri": "https://localhost:8080/"
        },
        "id": "UEYFxedoiNse",
        "outputId": "c303df7f-80f5-43f5-c506-9660afad4105"
      },
      "source": [
        "bbc_data.target_names"
      ],
      "execution_count": null,
      "outputs": [
        {
          "output_type": "execute_result",
          "data": {
            "text/plain": [
              "['business', 'entertainment', 'politics', 'sport', 'tech']"
            ]
          },
          "metadata": {
            "tags": []
          },
          "execution_count": 8
        }
      ]
    },
    {
      "cell_type": "code",
      "metadata": {
        "colab": {
          "base_uri": "https://localhost:8080/"
        },
        "id": "EAFGvOjJfKgR",
        "outputId": "95853e62-5144-4491-ce46-14dc7ddce0e7"
      },
      "source": [
        "len(bbc_data.target)"
      ],
      "execution_count": null,
      "outputs": [
        {
          "output_type": "execute_result",
          "data": {
            "text/plain": [
              "2225"
            ]
          },
          "metadata": {
            "tags": []
          },
          "execution_count": 9
        }
      ]
    },
    {
      "cell_type": "code",
      "metadata": {
        "colab": {
          "base_uri": "https://localhost:8080/"
        },
        "id": "F6aP4JOWkDle",
        "outputId": "e618aa91-ad04-43ce-efcc-722861bf0349"
      },
      "source": [
        "# getting count of each news category\n",
        "\n",
        "labels, counts = np.unique(bbc_data.target, return_counts=True)\n",
        "dict(zip(labels, counts))"
      ],
      "execution_count": null,
      "outputs": [
        {
          "output_type": "execute_result",
          "data": {
            "text/plain": [
              "{0: 510, 1: 386, 2: 417, 3: 511, 4: 401}"
            ]
          },
          "metadata": {
            "tags": []
          },
          "execution_count": 10
        }
      ]
    },
    {
      "cell_type": "code",
      "metadata": {
        "colab": {
          "base_uri": "https://localhost:8080/"
        },
        "id": "8imNY8iygMmC",
        "outputId": "88a0772a-7a57-460c-d020-402c5fbd6288"
      },
      "source": [
        "labels"
      ],
      "execution_count": null,
      "outputs": [
        {
          "output_type": "execute_result",
          "data": {
            "text/plain": [
              "array([0, 1, 2, 3, 4])"
            ]
          },
          "metadata": {
            "tags": []
          },
          "execution_count": 11
        }
      ]
    },
    {
      "cell_type": "code",
      "metadata": {
        "colab": {
          "base_uri": "https://localhost:8080/"
        },
        "id": "Td5pmD-1j2as",
        "outputId": "bc7b5a30-84ee-4299-f3de-bcece0e8c326"
      },
      "source": [
        "# just converting target_names to array for representing labels with names\n",
        "\n",
        "labels_name = np.array(bbc_data.target_names)[labels]\n",
        "dict(zip(labels_name, counts))"
      ],
      "execution_count": null,
      "outputs": [
        {
          "output_type": "execute_result",
          "data": {
            "text/plain": [
              "{'business': 510,\n",
              " 'entertainment': 386,\n",
              " 'politics': 417,\n",
              " 'sport': 511,\n",
              " 'tech': 401}"
            ]
          },
          "metadata": {
            "tags": []
          },
          "execution_count": 12
        }
      ]
    },
    {
      "cell_type": "code",
      "metadata": {
        "colab": {
          "base_uri": "https://localhost:8080/",
          "height": 194
        },
        "id": "zBDiFjRTytM6",
        "outputId": "46284be1-0486-4c3a-b170-6541a52b42af"
      },
      "source": [
        "df = pd.DataFrame(list(zip(bbc_data.target, bbc_data.data)), columns =['Target', 'Data'])\n",
        "df.head()"
      ],
      "execution_count": null,
      "outputs": [
        {
          "output_type": "execute_result",
          "data": {
            "text/html": [
              "<div>\n",
              "<style scoped>\n",
              "    .dataframe tbody tr th:only-of-type {\n",
              "        vertical-align: middle;\n",
              "    }\n",
              "\n",
              "    .dataframe tbody tr th {\n",
              "        vertical-align: top;\n",
              "    }\n",
              "\n",
              "    .dataframe thead th {\n",
              "        text-align: right;\n",
              "    }\n",
              "</style>\n",
              "<table border=\"1\" class=\"dataframe\">\n",
              "  <thead>\n",
              "    <tr style=\"text-align: right;\">\n",
              "      <th></th>\n",
              "      <th>Target</th>\n",
              "      <th>Data</th>\n",
              "    </tr>\n",
              "  </thead>\n",
              "  <tbody>\n",
              "    <tr>\n",
              "      <th>0</th>\n",
              "      <td>0</td>\n",
              "      <td>Tate &amp; Lyle boss bags top award\\n\\nTate &amp; Lyle...</td>\n",
              "    </tr>\n",
              "    <tr>\n",
              "      <th>1</th>\n",
              "      <td>4</td>\n",
              "      <td>Halo 2 sells five million copies\\n\\nMicrosoft ...</td>\n",
              "    </tr>\n",
              "    <tr>\n",
              "      <th>2</th>\n",
              "      <td>2</td>\n",
              "      <td>MSPs hear renewed climate warning\\n\\nClimate c...</td>\n",
              "    </tr>\n",
              "    <tr>\n",
              "      <th>3</th>\n",
              "      <td>3</td>\n",
              "      <td>Pavey focuses on indoor success\\n\\nJo Pavey wi...</td>\n",
              "    </tr>\n",
              "    <tr>\n",
              "      <th>4</th>\n",
              "      <td>2</td>\n",
              "      <td>Tories reject rethink on axed MP\\n\\nSacked MP ...</td>\n",
              "    </tr>\n",
              "  </tbody>\n",
              "</table>\n",
              "</div>"
            ],
            "text/plain": [
              "   Target                                               Data\n",
              "0       0  Tate & Lyle boss bags top award\\n\\nTate & Lyle...\n",
              "1       4  Halo 2 sells five million copies\\n\\nMicrosoft ...\n",
              "2       2  MSPs hear renewed climate warning\\n\\nClimate c...\n",
              "3       3  Pavey focuses on indoor success\\n\\nJo Pavey wi...\n",
              "4       2  Tories reject rethink on axed MP\\n\\nSacked MP ..."
            ]
          },
          "metadata": {
            "tags": []
          },
          "execution_count": 13
        }
      ]
    },
    {
      "cell_type": "code",
      "metadata": {
        "id": "f13Zc65-zCch"
      },
      "source": [
        "def clean(review):\n",
        "    review = re.sub('[^a-zA-Z]', ' ', review)       # removing everything other than alphabets\n",
        "    review = review.lower()\n",
        "    return review"
      ],
      "execution_count": null,
      "outputs": []
    },
    {
      "cell_type": "code",
      "metadata": {
        "colab": {
          "base_uri": "https://localhost:8080/",
          "height": 194
        },
        "id": "7AstMzRSzRiY",
        "outputId": "dab27fec-43bb-4968-f66f-434bf08e5359"
      },
      "source": [
        "df['Cleaned'] = pd.DataFrame(df['Data'].apply(lambda x: clean(x)))\n",
        "df.head()"
      ],
      "execution_count": null,
      "outputs": [
        {
          "output_type": "execute_result",
          "data": {
            "text/html": [
              "<div>\n",
              "<style scoped>\n",
              "    .dataframe tbody tr th:only-of-type {\n",
              "        vertical-align: middle;\n",
              "    }\n",
              "\n",
              "    .dataframe tbody tr th {\n",
              "        vertical-align: top;\n",
              "    }\n",
              "\n",
              "    .dataframe thead th {\n",
              "        text-align: right;\n",
              "    }\n",
              "</style>\n",
              "<table border=\"1\" class=\"dataframe\">\n",
              "  <thead>\n",
              "    <tr style=\"text-align: right;\">\n",
              "      <th></th>\n",
              "      <th>Target</th>\n",
              "      <th>Data</th>\n",
              "      <th>Cleaned</th>\n",
              "    </tr>\n",
              "  </thead>\n",
              "  <tbody>\n",
              "    <tr>\n",
              "      <th>0</th>\n",
              "      <td>0</td>\n",
              "      <td>Tate &amp; Lyle boss bags top award\\n\\nTate &amp; Lyle...</td>\n",
              "      <td>tate   lyle boss bags top award  tate   lyle s...</td>\n",
              "    </tr>\n",
              "    <tr>\n",
              "      <th>1</th>\n",
              "      <td>4</td>\n",
              "      <td>Halo 2 sells five million copies\\n\\nMicrosoft ...</td>\n",
              "      <td>halo   sells five million copies  microsoft is...</td>\n",
              "    </tr>\n",
              "    <tr>\n",
              "      <th>2</th>\n",
              "      <td>2</td>\n",
              "      <td>MSPs hear renewed climate warning\\n\\nClimate c...</td>\n",
              "      <td>msps hear renewed climate warning  climate cha...</td>\n",
              "    </tr>\n",
              "    <tr>\n",
              "      <th>3</th>\n",
              "      <td>3</td>\n",
              "      <td>Pavey focuses on indoor success\\n\\nJo Pavey wi...</td>\n",
              "      <td>pavey focuses on indoor success  jo pavey will...</td>\n",
              "    </tr>\n",
              "    <tr>\n",
              "      <th>4</th>\n",
              "      <td>2</td>\n",
              "      <td>Tories reject rethink on axed MP\\n\\nSacked MP ...</td>\n",
              "      <td>tories reject rethink on axed mp  sacked mp ho...</td>\n",
              "    </tr>\n",
              "  </tbody>\n",
              "</table>\n",
              "</div>"
            ],
            "text/plain": [
              "   Target  ...                                            Cleaned\n",
              "0       0  ...  tate   lyle boss bags top award  tate   lyle s...\n",
              "1       4  ...  halo   sells five million copies  microsoft is...\n",
              "2       2  ...  msps hear renewed climate warning  climate cha...\n",
              "3       3  ...  pavey focuses on indoor success  jo pavey will...\n",
              "4       2  ...  tories reject rethink on axed mp  sacked mp ho...\n",
              "\n",
              "[5 rows x 3 columns]"
            ]
          },
          "metadata": {
            "tags": []
          },
          "execution_count": 15
        }
      ]
    },
    {
      "cell_type": "code",
      "metadata": {
        "id": "wb9eE0BMzaK5"
      },
      "source": [
        "df['Stemmed'] = ''"
      ],
      "execution_count": null,
      "outputs": []
    },
    {
      "cell_type": "code",
      "metadata": {
        "id": "eHoq0P_szbrT"
      },
      "source": [
        "# stemming\n",
        "\n",
        "stemmer = PorterStemmer()\n",
        "\n",
        "for i in range(len(df['Cleaned'])):\n",
        "    words = nltk.word_tokenize(df['Cleaned'][i])\n",
        "    words = [stemmer.stem(word) for word in words if word not in set(stopwords.words('english'))]\n",
        "    df['Stemmed'][i] = ' '.join(words)"
      ],
      "execution_count": null,
      "outputs": []
    },
    {
      "cell_type": "code",
      "metadata": {
        "colab": {
          "base_uri": "https://localhost:8080/",
          "height": 194
        },
        "id": "CK3PbnbIzcR3",
        "outputId": "a35a68b6-ee49-4794-d1ac-d797c1b1f2cd"
      },
      "source": [
        "df.head()"
      ],
      "execution_count": null,
      "outputs": [
        {
          "output_type": "execute_result",
          "data": {
            "text/html": [
              "<div>\n",
              "<style scoped>\n",
              "    .dataframe tbody tr th:only-of-type {\n",
              "        vertical-align: middle;\n",
              "    }\n",
              "\n",
              "    .dataframe tbody tr th {\n",
              "        vertical-align: top;\n",
              "    }\n",
              "\n",
              "    .dataframe thead th {\n",
              "        text-align: right;\n",
              "    }\n",
              "</style>\n",
              "<table border=\"1\" class=\"dataframe\">\n",
              "  <thead>\n",
              "    <tr style=\"text-align: right;\">\n",
              "      <th></th>\n",
              "      <th>Target</th>\n",
              "      <th>Data</th>\n",
              "      <th>Cleaned</th>\n",
              "      <th>Stemmed</th>\n",
              "    </tr>\n",
              "  </thead>\n",
              "  <tbody>\n",
              "    <tr>\n",
              "      <th>0</th>\n",
              "      <td>0</td>\n",
              "      <td>Tate &amp; Lyle boss bags top award\\n\\nTate &amp; Lyle...</td>\n",
              "      <td>tate   lyle boss bags top award  tate   lyle s...</td>\n",
              "      <td>tate lyle boss bag top award tate lyle chief e...</td>\n",
              "    </tr>\n",
              "    <tr>\n",
              "      <th>1</th>\n",
              "      <td>4</td>\n",
              "      <td>Halo 2 sells five million copies\\n\\nMicrosoft ...</td>\n",
              "      <td>halo   sells five million copies  microsoft is...</td>\n",
              "      <td>halo sell five million copi microsoft celebr b...</td>\n",
              "    </tr>\n",
              "    <tr>\n",
              "      <th>2</th>\n",
              "      <td>2</td>\n",
              "      <td>MSPs hear renewed climate warning\\n\\nClimate c...</td>\n",
              "      <td>msps hear renewed climate warning  climate cha...</td>\n",
              "      <td>msp hear renew climat warn climat chang could ...</td>\n",
              "    </tr>\n",
              "    <tr>\n",
              "      <th>3</th>\n",
              "      <td>3</td>\n",
              "      <td>Pavey focuses on indoor success\\n\\nJo Pavey wi...</td>\n",
              "      <td>pavey focuses on indoor success  jo pavey will...</td>\n",
              "      <td>pavey focus indoor success jo pavey miss janua...</td>\n",
              "    </tr>\n",
              "    <tr>\n",
              "      <th>4</th>\n",
              "      <td>2</td>\n",
              "      <td>Tories reject rethink on axed MP\\n\\nSacked MP ...</td>\n",
              "      <td>tories reject rethink on axed mp  sacked mp ho...</td>\n",
              "      <td>tori reject rethink axe mp sack mp howard flig...</td>\n",
              "    </tr>\n",
              "  </tbody>\n",
              "</table>\n",
              "</div>"
            ],
            "text/plain": [
              "   Target  ...                                            Stemmed\n",
              "0       0  ...  tate lyle boss bag top award tate lyle chief e...\n",
              "1       4  ...  halo sell five million copi microsoft celebr b...\n",
              "2       2  ...  msp hear renew climat warn climat chang could ...\n",
              "3       3  ...  pavey focus indoor success jo pavey miss janua...\n",
              "4       2  ...  tori reject rethink axe mp sack mp howard flig...\n",
              "\n",
              "[5 rows x 4 columns]"
            ]
          },
          "metadata": {
            "tags": []
          },
          "execution_count": 18
        }
      ]
    },
    {
      "cell_type": "markdown",
      "metadata": {
        "id": "93ZxJBnL3h0b"
      },
      "source": [
        "## Using LSA"
      ]
    },
    {
      "cell_type": "code",
      "metadata": {
        "id": "cr73eOQD0-O0"
      },
      "source": [
        "# creating the Bag of Words model\n",
        "\n",
        "cv = CountVectorizer()\n",
        "X = cv.fit_transform(df['Stemmed']).toarray()         # sparse matrix"
      ],
      "execution_count": null,
      "outputs": []
    },
    {
      "cell_type": "code",
      "metadata": {
        "colab": {
          "base_uri": "https://localhost:8080/"
        },
        "id": "ooyL8m8016ln",
        "outputId": "d1305017-b320-4ff2-f079-35fbeda8fad5"
      },
      "source": [
        "len(df['Stemmed'][1])"
      ],
      "execution_count": null,
      "outputs": [
        {
          "output_type": "execute_result",
          "data": {
            "text/plain": [
              "1178"
            ]
          },
          "metadata": {
            "tags": []
          },
          "execution_count": 20
        }
      ]
    },
    {
      "cell_type": "code",
      "metadata": {
        "colab": {
          "base_uri": "https://localhost:8080/"
        },
        "id": "twHG1xO12vS4",
        "outputId": "c51da526-c3c6-43f8-ff56-747887998cda"
      },
      "source": [
        "X[0]"
      ],
      "execution_count": null,
      "outputs": [
        {
          "output_type": "execute_result",
          "data": {
            "text/plain": [
              "array([0, 0, 0, ..., 0, 0, 0])"
            ]
          },
          "metadata": {
            "tags": []
          },
          "execution_count": 21
        }
      ]
    },
    {
      "cell_type": "code",
      "metadata": {
        "colab": {
          "base_uri": "https://localhost:8080/"
        },
        "id": "7ds1WlKU18cF",
        "outputId": "181d9848-857a-47e6-d68a-22e3064742b1"
      },
      "source": [
        "len(X[0])"
      ],
      "execution_count": null,
      "outputs": [
        {
          "output_type": "execute_result",
          "data": {
            "text/plain": [
              "18979"
            ]
          },
          "metadata": {
            "tags": []
          },
          "execution_count": 22
        }
      ]
    },
    {
      "cell_type": "code",
      "metadata": {
        "colab": {
          "base_uri": "https://localhost:8080/"
        },
        "id": "LqRXa0aS2eF9",
        "outputId": "c3a71fd3-bda6-4659-f1e0-b437526c8fa5"
      },
      "source": [
        "X = X\n",
        "y = df['Target']\n",
        "\n",
        "X_train, X_test, y_train, y_test = train_test_split(X, y, test_size=0.3, shuffle=True, stratify=y, random_state=10)\n",
        "\n",
        "len(X_train), len(y_train), len(X_test), len(y_test)"
      ],
      "execution_count": null,
      "outputs": [
        {
          "output_type": "execute_result",
          "data": {
            "text/plain": [
              "(1557, 1557, 668, 668)"
            ]
          },
          "metadata": {
            "tags": []
          },
          "execution_count": 23
        }
      ]
    },
    {
      "cell_type": "code",
      "metadata": {
        "id": "Rd1BHEio2v7v"
      },
      "source": [
        "# for Latent Semantic Analysis\n",
        "\n",
        "n_topics = 5        # keeping num of topics same as given classes\n",
        "\n",
        "svd_model = TruncatedSVD(n_components = n_topics, algorithm = 'randomized', n_iter=100, random_state = 10)\n",
        "X_train = svd_model.fit_transform(X_train)\n",
        "X_test = svd_model.transform(X_test)"
      ],
      "execution_count": null,
      "outputs": []
    },
    {
      "cell_type": "code",
      "metadata": {
        "colab": {
          "base_uri": "https://localhost:8080/"
        },
        "id": "2fytRPkADfeP",
        "outputId": "c27030e9-f093-45f1-bf76-90251cce2421"
      },
      "source": [
        "X_train"
      ],
      "execution_count": null,
      "outputs": [
        {
          "output_type": "execute_result",
          "data": {
            "text/plain": [
              "array([[ 5.34119376, -3.06299749,  1.05704974,  1.53824731, -0.8738024 ],\n",
              "       [ 8.60648667, -2.70881562,  0.40078339, -4.15775011,  0.22156914],\n",
              "       [11.78379459, -7.93197316,  2.66187969,  3.71396853, -3.42767301],\n",
              "       ...,\n",
              "       [ 5.46836396,  0.58466565,  0.14409532, -0.12750989,  1.08462742],\n",
              "       [ 6.11838976, -3.00891059,  1.40991213,  2.1984599 ,  0.24034305],\n",
              "       [13.22369161, -9.18999257,  4.4685587 ,  6.6221757 ,  3.45806217]])"
            ]
          },
          "metadata": {
            "tags": []
          },
          "execution_count": 25
        }
      ]
    },
    {
      "cell_type": "code",
      "metadata": {
        "colab": {
          "base_uri": "https://localhost:8080/"
        },
        "id": "_8_I5ocWODit",
        "outputId": "10993391-105d-4c8e-8d70-774106bd0871"
      },
      "source": [
        "svd_model.components_"
      ],
      "execution_count": null,
      "outputs": [
        {
          "output_type": "execute_result",
          "data": {
            "text/plain": [
              "array([[ 1.05876714e-04,  1.47205138e-03,  2.12754577e-04, ...,\n",
              "         0.00000000e+00,  1.02515321e-04,  5.23993662e-05],\n",
              "       [-6.78818173e-05,  3.17840964e-03,  3.54923085e-04, ...,\n",
              "         0.00000000e+00,  2.43454996e-04,  1.96999849e-04],\n",
              "       [-1.98280493e-05,  1.25289525e-03, -9.67741708e-05, ...,\n",
              "         0.00000000e+00,  3.20066902e-05,  1.68647582e-04],\n",
              "       [-1.03440820e-04,  6.26891233e-04, -5.30422608e-05, ...,\n",
              "        -0.00000000e+00,  4.29673736e-05, -3.59820177e-05],\n",
              "       [ 3.27368341e-05, -1.02254181e-03, -2.67708449e-04, ...,\n",
              "         0.00000000e+00, -1.09872090e-06, -1.81714264e-04]])"
            ]
          },
          "metadata": {
            "tags": []
          },
          "execution_count": 26
        }
      ]
    },
    {
      "cell_type": "code",
      "metadata": {
        "colab": {
          "base_uri": "https://localhost:8080/"
        },
        "id": "ae7eLsLo4bD2",
        "outputId": "9a58a51c-8bb8-4b8f-f08b-dd1f87308dd0"
      },
      "source": [
        "# displaying words under each of the 5 topics\n",
        "\n",
        "terms = cv.get_feature_names()\n",
        "\n",
        "for i, comp in enumerate(svd_model.components_):\n",
        "    terms_comp = zip(terms, comp)\n",
        "    sorted_terms = sorted(terms_comp, key= lambda x:x[1], reverse=True)[:4]       # showing just 4 words per topic\n",
        "    print()\n",
        "    print(\"Topic \"+str(i)+\": \")\n",
        "    for t in sorted_terms:\n",
        "        print(t[0])"
      ],
      "execution_count": null,
      "outputs": [
        {
          "output_type": "stream",
          "text": [
            "\n",
            "Topic 0: \n",
            "said\n",
            "mr\n",
            "year\n",
            "would\n",
            "\n",
            "Topic 1: \n",
            "game\n",
            "best\n",
            "song\n",
            "year\n",
            "\n",
            "Topic 2: \n",
            "song\n",
            "best\n",
            "year\n",
            "mr\n",
            "\n",
            "Topic 3: \n",
            "game\n",
            "mr\n",
            "play\n",
            "parti\n",
            "\n",
            "Topic 4: \n",
            "wage\n",
            "minimum\n",
            "increas\n",
            "pay\n"
          ],
          "name": "stdout"
        }
      ]
    },
    {
      "cell_type": "code",
      "metadata": {
        "id": "4dYf90A5WpfV"
      },
      "source": [
        "classifier = LogisticRegression()\n",
        "classifier.fit(X_train, y_train)\n",
        "\n",
        "y_pred = classifier.predict(X_test)"
      ],
      "execution_count": null,
      "outputs": []
    },
    {
      "cell_type": "code",
      "metadata": {
        "colab": {
          "base_uri": "https://localhost:8080/"
        },
        "id": "vXQVkOxqXRwz",
        "outputId": "174247b1-1723-4d8a-891a-f00c3c491805"
      },
      "source": [
        "y_test"
      ],
      "execution_count": null,
      "outputs": [
        {
          "output_type": "execute_result",
          "data": {
            "text/plain": [
              "845     3\n",
              "887     2\n",
              "1621    3\n",
              "1912    1\n",
              "1672    0\n",
              "       ..\n",
              "997     1\n",
              "572     0\n",
              "1487    0\n",
              "948     1\n",
              "370     0\n",
              "Name: Target, Length: 668, dtype: int64"
            ]
          },
          "metadata": {
            "tags": []
          },
          "execution_count": 29
        }
      ]
    },
    {
      "cell_type": "code",
      "metadata": {
        "colab": {
          "base_uri": "https://localhost:8080/"
        },
        "id": "68ZjmJ-1XWPu",
        "outputId": "5c08da64-cccf-4d96-8658-91990f7c94d0"
      },
      "source": [
        "y_pred"
      ],
      "execution_count": null,
      "outputs": [
        {
          "output_type": "execute_result",
          "data": {
            "text/plain": [
              "array([3, 0, 3, 3, 0, 4, 2, 0, 1, 4, 3, 1, 2, 0, 1, 3, 2, 0, 3, 4, 1, 4,\n",
              "       1, 0, 3, 0, 0, 0, 3, 2, 1, 2, 4, 0, 3, 2, 4, 2, 4, 4, 3, 4, 3, 3,\n",
              "       4, 3, 4, 0, 1, 0, 1, 0, 3, 3, 1, 3, 0, 2, 0, 2, 0, 2, 4, 2, 2, 0,\n",
              "       3, 0, 2, 4, 0, 0, 0, 1, 0, 4, 3, 3, 1, 0, 3, 1, 0, 0, 1, 0, 3, 2,\n",
              "       3, 1, 3, 3, 0, 1, 3, 4, 2, 3, 0, 1, 3, 4, 4, 0, 0, 3, 4, 3, 2, 3,\n",
              "       1, 1, 2, 0, 4, 2, 2, 2, 2, 3, 1, 0, 0, 4, 3, 0, 1, 2, 2, 2, 1, 3,\n",
              "       3, 4, 0, 2, 2, 0, 4, 2, 2, 2, 0, 3, 4, 4, 3, 3, 3, 1, 0, 0, 0, 3,\n",
              "       4, 0, 0, 3, 3, 2, 0, 1, 2, 4, 4, 0, 4, 1, 0, 0, 3, 3, 1, 3, 3, 2,\n",
              "       2, 3, 4, 2, 3, 3, 2, 2, 1, 3, 2, 4, 4, 1, 3, 0, 3, 2, 4, 0, 3, 0,\n",
              "       3, 2, 0, 4, 0, 4, 2, 0, 4, 0, 1, 4, 2, 3, 2, 3, 1, 1, 2, 3, 1, 4,\n",
              "       3, 1, 2, 4, 4, 2, 3, 1, 4, 3, 3, 1, 3, 3, 2, 4, 2, 0, 3, 3, 0, 4,\n",
              "       0, 4, 4, 3, 3, 0, 0, 4, 0, 3, 2, 1, 0, 2, 2, 4, 0, 0, 3, 4, 4, 1,\n",
              "       0, 1, 4, 4, 4, 3, 0, 4, 0, 1, 4, 1, 1, 1, 0, 0, 0, 1, 0, 4, 2, 0,\n",
              "       1, 0, 2, 1, 0, 4, 1, 4, 4, 1, 2, 1, 4, 1, 2, 3, 0, 1, 2, 0, 1, 2,\n",
              "       0, 0, 4, 0, 3, 2, 2, 2, 2, 2, 0, 3, 0, 0, 1, 4, 2, 3, 2, 1, 2, 4,\n",
              "       4, 0, 3, 0, 3, 1, 1, 3, 3, 4, 0, 3, 3, 2, 2, 3, 0, 0, 3, 4, 3, 3,\n",
              "       1, 4, 0, 1, 0, 2, 0, 3, 2, 2, 2, 3, 3, 4, 4, 1, 0, 2, 0, 0, 4, 3,\n",
              "       3, 1, 0, 0, 3, 3, 3, 1, 0, 0, 4, 1, 4, 0, 1, 1, 4, 4, 3, 1, 2, 3,\n",
              "       1, 0, 2, 3, 2, 1, 0, 0, 0, 2, 3, 0, 2, 4, 3, 0, 3, 1, 0, 2, 3, 0,\n",
              "       1, 1, 0, 4, 4, 0, 1, 2, 4, 2, 3, 4, 1, 0, 0, 3, 0, 1, 4, 1, 1, 4,\n",
              "       3, 2, 1, 1, 0, 3, 2, 0, 0, 4, 4, 1, 2, 3, 0, 2, 3, 0, 3, 0, 4, 3,\n",
              "       0, 0, 0, 1, 4, 3, 2, 2, 4, 1, 1, 3, 0, 0, 2, 4, 0, 1, 1, 3, 3, 3,\n",
              "       1, 2, 4, 3, 3, 3, 1, 3, 2, 3, 0, 3, 1, 2, 3, 0, 1, 0, 0, 1, 3, 3,\n",
              "       0, 2, 3, 3, 4, 3, 3, 4, 3, 4, 3, 1, 3, 4, 4, 4, 0, 3, 3, 3, 0, 2,\n",
              "       1, 3, 4, 2, 1, 4, 2, 2, 3, 4, 0, 3, 4, 2, 0, 3, 3, 3, 0, 0, 0, 3,\n",
              "       2, 3, 2, 1, 3, 4, 1, 4, 3, 2, 3, 3, 2, 0, 1, 2, 3, 3, 3, 3, 3, 0,\n",
              "       3, 1, 2, 3, 0, 2, 2, 1, 4, 3, 1, 0, 0, 4, 4, 0, 2, 3, 0, 3, 2, 3,\n",
              "       0, 1, 0, 1, 0, 3, 3, 0, 1, 3, 2, 2, 3, 3, 3, 2, 4, 0, 2, 3, 2, 1,\n",
              "       2, 1, 1, 4, 4, 0, 4, 0, 3, 3, 4, 4, 2, 1, 3, 0, 2, 3, 2, 2, 3, 4,\n",
              "       3, 3, 0, 4, 2, 2, 1, 4, 3, 3, 4, 0, 4, 2, 3, 0, 0, 4, 1, 1, 3, 4,\n",
              "       3, 2, 0, 1, 0, 0, 1, 0])"
            ]
          },
          "metadata": {
            "tags": []
          },
          "execution_count": 30
        }
      ]
    },
    {
      "cell_type": "code",
      "metadata": {
        "colab": {
          "base_uri": "https://localhost:8080/"
        },
        "id": "ofmw-7Pj53fE",
        "outputId": "fb593ed3-c411-4aed-e690-880a7ca8a12c"
      },
      "source": [
        "cm = confusion_matrix(y_test, y_pred)\n",
        "print(cm)"
      ],
      "execution_count": null,
      "outputs": [
        {
          "output_type": "stream",
          "text": [
            "[[128   2  14   3   6]\n",
            " [  0  96   2  15   3]\n",
            " [ 21   0  96   8   0]\n",
            " [  1   7   2 140   4]\n",
            " [  6   2   5   6 101]]\n"
          ],
          "name": "stdout"
        }
      ]
    },
    {
      "cell_type": "code",
      "metadata": {
        "colab": {
          "base_uri": "https://localhost:8080/"
        },
        "id": "TuELYsq-C4kS",
        "outputId": "7ccb6256-e917-4481-f2df-f02c623772c5"
      },
      "source": [
        "print('Accuracy: ', round(accuracy_score(y_test, y_pred)*100,2),'%')"
      ],
      "execution_count": null,
      "outputs": [
        {
          "output_type": "stream",
          "text": [
            "Accuracy:  83.98 %\n"
          ],
          "name": "stdout"
        }
      ]
    },
    {
      "cell_type": "markdown",
      "metadata": {
        "id": "cwL5pKrXEA4v"
      },
      "source": [
        "## Using Word2Vec"
      ]
    },
    {
      "cell_type": "code",
      "metadata": {
        "colab": {
          "base_uri": "https://localhost:8080/",
          "height": 194
        },
        "id": "o6Di6S-WEDqS",
        "outputId": "18c265a5-6556-4bbc-bab3-cf86e2fc3b48"
      },
      "source": [
        "df.head()"
      ],
      "execution_count": null,
      "outputs": [
        {
          "output_type": "execute_result",
          "data": {
            "text/html": [
              "<div>\n",
              "<style scoped>\n",
              "    .dataframe tbody tr th:only-of-type {\n",
              "        vertical-align: middle;\n",
              "    }\n",
              "\n",
              "    .dataframe tbody tr th {\n",
              "        vertical-align: top;\n",
              "    }\n",
              "\n",
              "    .dataframe thead th {\n",
              "        text-align: right;\n",
              "    }\n",
              "</style>\n",
              "<table border=\"1\" class=\"dataframe\">\n",
              "  <thead>\n",
              "    <tr style=\"text-align: right;\">\n",
              "      <th></th>\n",
              "      <th>Target</th>\n",
              "      <th>Data</th>\n",
              "      <th>Cleaned</th>\n",
              "      <th>Stemmed</th>\n",
              "    </tr>\n",
              "  </thead>\n",
              "  <tbody>\n",
              "    <tr>\n",
              "      <th>0</th>\n",
              "      <td>0</td>\n",
              "      <td>Tate &amp; Lyle boss bags top award\\n\\nTate &amp; Lyle...</td>\n",
              "      <td>tate   lyle boss bags top award  tate   lyle s...</td>\n",
              "      <td>tate lyle boss bag top award tate lyle chief e...</td>\n",
              "    </tr>\n",
              "    <tr>\n",
              "      <th>1</th>\n",
              "      <td>4</td>\n",
              "      <td>Halo 2 sells five million copies\\n\\nMicrosoft ...</td>\n",
              "      <td>halo   sells five million copies  microsoft is...</td>\n",
              "      <td>halo sell five million copi microsoft celebr b...</td>\n",
              "    </tr>\n",
              "    <tr>\n",
              "      <th>2</th>\n",
              "      <td>2</td>\n",
              "      <td>MSPs hear renewed climate warning\\n\\nClimate c...</td>\n",
              "      <td>msps hear renewed climate warning  climate cha...</td>\n",
              "      <td>msp hear renew climat warn climat chang could ...</td>\n",
              "    </tr>\n",
              "    <tr>\n",
              "      <th>3</th>\n",
              "      <td>3</td>\n",
              "      <td>Pavey focuses on indoor success\\n\\nJo Pavey wi...</td>\n",
              "      <td>pavey focuses on indoor success  jo pavey will...</td>\n",
              "      <td>pavey focus indoor success jo pavey miss janua...</td>\n",
              "    </tr>\n",
              "    <tr>\n",
              "      <th>4</th>\n",
              "      <td>2</td>\n",
              "      <td>Tories reject rethink on axed MP\\n\\nSacked MP ...</td>\n",
              "      <td>tories reject rethink on axed mp  sacked mp ho...</td>\n",
              "      <td>tori reject rethink axe mp sack mp howard flig...</td>\n",
              "    </tr>\n",
              "  </tbody>\n",
              "</table>\n",
              "</div>"
            ],
            "text/plain": [
              "   Target  ...                                            Stemmed\n",
              "0       0  ...  tate lyle boss bag top award tate lyle chief e...\n",
              "1       4  ...  halo sell five million copi microsoft celebr b...\n",
              "2       2  ...  msp hear renew climat warn climat chang could ...\n",
              "3       3  ...  pavey focus indoor success jo pavey miss janua...\n",
              "4       2  ...  tori reject rethink axe mp sack mp howard flig...\n",
              "\n",
              "[5 rows x 4 columns]"
            ]
          },
          "metadata": {
            "tags": []
          },
          "execution_count": 33
        }
      ]
    },
    {
      "cell_type": "code",
      "metadata": {
        "colab": {
          "base_uri": "https://localhost:8080/",
          "height": 261
        },
        "id": "98cprJ0oZ3KS",
        "outputId": "919b665e-0e87-435b-d700-eb05cebcd87b"
      },
      "source": [
        "df['Tokenized'] = df['Stemmed'].apply(nltk.word_tokenize)     # generating tokens\n",
        "df.head()"
      ],
      "execution_count": null,
      "outputs": [
        {
          "output_type": "execute_result",
          "data": {
            "text/html": [
              "<div>\n",
              "<style scoped>\n",
              "    .dataframe tbody tr th:only-of-type {\n",
              "        vertical-align: middle;\n",
              "    }\n",
              "\n",
              "    .dataframe tbody tr th {\n",
              "        vertical-align: top;\n",
              "    }\n",
              "\n",
              "    .dataframe thead th {\n",
              "        text-align: right;\n",
              "    }\n",
              "</style>\n",
              "<table border=\"1\" class=\"dataframe\">\n",
              "  <thead>\n",
              "    <tr style=\"text-align: right;\">\n",
              "      <th></th>\n",
              "      <th>Target</th>\n",
              "      <th>Data</th>\n",
              "      <th>Cleaned</th>\n",
              "      <th>Stemmed</th>\n",
              "      <th>Tokenized</th>\n",
              "    </tr>\n",
              "  </thead>\n",
              "  <tbody>\n",
              "    <tr>\n",
              "      <th>0</th>\n",
              "      <td>0</td>\n",
              "      <td>Tate &amp; Lyle boss bags top award\\n\\nTate &amp; Lyle...</td>\n",
              "      <td>tate   lyle boss bags top award  tate   lyle s...</td>\n",
              "      <td>tate lyle boss bag top award tate lyle chief e...</td>\n",
              "      <td>[tate, lyle, boss, bag, top, award, tate, lyle...</td>\n",
              "    </tr>\n",
              "    <tr>\n",
              "      <th>1</th>\n",
              "      <td>4</td>\n",
              "      <td>Halo 2 sells five million copies\\n\\nMicrosoft ...</td>\n",
              "      <td>halo   sells five million copies  microsoft is...</td>\n",
              "      <td>halo sell five million copi microsoft celebr b...</td>\n",
              "      <td>[halo, sell, five, million, copi, microsoft, c...</td>\n",
              "    </tr>\n",
              "    <tr>\n",
              "      <th>2</th>\n",
              "      <td>2</td>\n",
              "      <td>MSPs hear renewed climate warning\\n\\nClimate c...</td>\n",
              "      <td>msps hear renewed climate warning  climate cha...</td>\n",
              "      <td>msp hear renew climat warn climat chang could ...</td>\n",
              "      <td>[msp, hear, renew, climat, warn, climat, chang...</td>\n",
              "    </tr>\n",
              "    <tr>\n",
              "      <th>3</th>\n",
              "      <td>3</td>\n",
              "      <td>Pavey focuses on indoor success\\n\\nJo Pavey wi...</td>\n",
              "      <td>pavey focuses on indoor success  jo pavey will...</td>\n",
              "      <td>pavey focus indoor success jo pavey miss janua...</td>\n",
              "      <td>[pavey, focus, indoor, success, jo, pavey, mis...</td>\n",
              "    </tr>\n",
              "    <tr>\n",
              "      <th>4</th>\n",
              "      <td>2</td>\n",
              "      <td>Tories reject rethink on axed MP\\n\\nSacked MP ...</td>\n",
              "      <td>tories reject rethink on axed mp  sacked mp ho...</td>\n",
              "      <td>tori reject rethink axe mp sack mp howard flig...</td>\n",
              "      <td>[tori, reject, rethink, axe, mp, sack, mp, how...</td>\n",
              "    </tr>\n",
              "  </tbody>\n",
              "</table>\n",
              "</div>"
            ],
            "text/plain": [
              "   Target  ...                                          Tokenized\n",
              "0       0  ...  [tate, lyle, boss, bag, top, award, tate, lyle...\n",
              "1       4  ...  [halo, sell, five, million, copi, microsoft, c...\n",
              "2       2  ...  [msp, hear, renew, climat, warn, climat, chang...\n",
              "3       3  ...  [pavey, focus, indoor, success, jo, pavey, mis...\n",
              "4       2  ...  [tori, reject, rethink, axe, mp, sack, mp, how...\n",
              "\n",
              "[5 rows x 5 columns]"
            ]
          },
          "metadata": {
            "tags": []
          },
          "execution_count": 39
        }
      ]
    },
    {
      "cell_type": "code",
      "metadata": {
        "colab": {
          "base_uri": "https://localhost:8080/"
        },
        "id": "oTppdJp6cr6T",
        "outputId": "20c7ffb8-fc7d-4b0a-abd7-7514a2809b84"
      },
      "source": [
        "X_train, X_test, y_train, y_test = train_test_split(df['Tokenized'], df['Target'], test_size=0.3, shuffle=True, stratify=df['Target'], random_state=10)\n",
        "\n",
        "X_train.shape, X_test.shape, y_train.shape, y_test.shape"
      ],
      "execution_count": null,
      "outputs": [
        {
          "output_type": "execute_result",
          "data": {
            "text/plain": [
              "((1557,), (668,), (1557,), (668,))"
            ]
          },
          "metadata": {
            "tags": []
          },
          "execution_count": 40
        }
      ]
    },
    {
      "cell_type": "code",
      "metadata": {
        "colab": {
          "base_uri": "https://localhost:8080/"
        },
        "id": "BZWKFpJReRqR",
        "outputId": "8122a6ea-2386-4dbb-8fa1-dd0ff887b698"
      },
      "source": [
        "X_train"
      ],
      "execution_count": null,
      "outputs": [
        {
          "output_type": "execute_result",
          "data": {
            "text/plain": [
              "1188    [brown, visit, slum, africa, trip, chancellor,...\n",
              "2081    [yuko, lose, us, bankruptci, battl, judg, dism...\n",
              "1214    [campbel, e, mail, row, silli, fuss, ex, media...\n",
              "917     [secur, paper, found, street, inquiri, way, fi...\n",
              "1944    [ultra, fast, wi, fi, near, complet, ultra, hi...\n",
              "                              ...                        \n",
              "2165    [kennedi, look, elect, gain, may, know, quit, ...\n",
              "524     [dvd, copi, protect, strengthen, dvd, harder, ...\n",
              "2043    [japanes, mogul, arrest, fraud, one, japan, be...\n",
              "1467    [kennedi, make, templ, address, charl, kennedi...\n",
              "704     [tori, tax, cut, lift, spirit, michael, howard...\n",
              "Name: Tokenized, Length: 1557, dtype: object"
            ]
          },
          "metadata": {
            "tags": []
          },
          "execution_count": 41
        }
      ]
    },
    {
      "cell_type": "code",
      "metadata": {
        "id": "InQxHvU1Z3NR"
      },
      "source": [
        "# min_count = 1 -> taking words which have atleast 1 apperance\n",
        "# size = 500 -> each word will have vector of 500 dimensions\n",
        "# window = 5 -> max distance between current and predicted word within a sentence\n",
        "# sg = 0 -> 0 means using CBOW method (0 is default value so not kept in param)\n",
        "\n",
        "wv_model = Word2Vec(df['Tokenized'], min_count = 1, size = 500, window = 5)"
      ],
      "execution_count": null,
      "outputs": []
    },
    {
      "cell_type": "code",
      "metadata": {
        "colab": {
          "base_uri": "https://localhost:8080/"
        },
        "id": "YOxX3xqWbxMu",
        "outputId": "fc3c7dce-e221-4234-c9a8-313f64508703"
      },
      "source": [
        "print(wv_model)       # word2vec model"
      ],
      "execution_count": null,
      "outputs": [
        {
          "output_type": "stream",
          "text": [
            "Word2Vec(vocab=18997, size=500, alpha=0.025)\n"
          ],
          "name": "stdout"
        }
      ]
    },
    {
      "cell_type": "code",
      "metadata": {
        "colab": {
          "base_uri": "https://localhost:8080/"
        },
        "id": "EeayN8tdFVEj",
        "outputId": "70e54f81-d03c-4be8-f997-08fd0efaf86d"
      },
      "source": [
        "words = list(wv_model.wv.vocab)     # showing all words in model\n",
        "print(words)"
      ],
      "execution_count": null,
      "outputs": [
        {
          "output_type": "stream",
          "text": [
            "['tate', 'lyle', 'boss', 'bag', 'top', 'award', 'chief', 'execut', 'name', 'european', 'businessman', 'year', 'lead', 'busi', 'magazin', 'iain', 'ferguson', 'titl', 'us', 'public', 'forb', 'return', 'one', 'uk', 'vener', 'manufactur', 'countri', 'compani', 'sugar', 'group', 'absent', 'ftse', 'seven', 'mr', 'help', 'growth', 'share', 'leapt', 'boost', 'firm', 'price', 'sale', 'artifici', 'sweeten', 'sag', 'stock', 'hiatu', 'britain', 'vaunt', 'index', 'said', 'took', 'helm', 'spend', 'career', 'consum', 'good', 'giant', 'unilev', 'origin', 'member', 'histor', 'ft', 'oper', 'factori', 'addit', 'product', 'facil', 'previou', 'winner', 'includ', 'royal', 'bank', 'scotland', 'fred', 'goodwin', 'former', 'vodafon', 'chri', 'gent', 'halo', 'sell', 'five', 'million', 'copi', 'microsoft', 'celebr', 'bumper', 'xbox', 'sci', 'fi', 'shooter', 'game', 'sold', 'worldwid', 'sinc', 'went', 'mid', 'novemb', 'prove', 'popular', 'onlin', 'gamer', 'notch', 'record', 'hour', 'play', 'live', 'accord', 'nine', 'averag', 'minut', 'per', 'session', 'sequel', 'best', 'need', 'speed', 'underground', 'inch', 'ahead', 'competit', 'take', 'slot', 'offici', 'chart', 'race', 'move', 'spot', 'first', 'place', 'nudg', 'gta', 'san', 'andrea', 'second', 'drop', 'half', 'life', 'fell', 'number', 'last', 'week', 'new', 'releas', 'goldeney', 'rogu', 'agent', 'killzon', 'fail', 'make', 'debut', 'respect', 'warcraft', 'fan', 'settl', 'world', 'open', 'day', 'massiv', 'multi', 'player', 'sign', 'even', 'forc', 'blizzard', 'add', 'anoth', 'server', 'cope', 'influx', 'turn', 'stand', 'alon', 'persist', 'inhabit', 'visit', 'europ', 'could', 'wait', 'januari', 'hear', 'get', 'mitt', 'nintendo', 'handheld', 'devic', 'ds', 'say', 'gamesindustri', 'biz', 'david', 'yarnton', 'gener', 'manag', 'told', 'press', 'confer', 'look', 'detail', 'launch', 'sunday', 'goe', 'japan', 'decemb', 'market', 'expect', 'around', 'march', 'msp', 'renew', 'climat', 'warn', 'chang', 'complet', 'control', 'within', 'sever', 'decad', 'scottish', 'environ', 'protect', 'agenc', 'committe', 'expert', 'give', 'evid', 'subject', 'parliament', 'believ', 'nuclear', 'energi', 'wind', 'farm', 'may', 'better', 'option', 'tri', 'tackl', 'global', 'warm', 'solut', 'suggest', 'conservationist', 'reduc', 'intern', 'air', 'travel', 'electr', 'train', 'part', 'inquiri', 'impact', 'sepa', 'attempt', 'curb', 'gase', 'pollut', 'transport', 'emiss', 'increas', 'ecologist', 'accept', 'signific', 'intrus', 'like', 'also', 'power', 'possibl', 'predict', 'two', 'method', 'remain', 'sourc', 'studi', 'sea', 'west', 'coast', 'alreadi', 'forecast', 'devast', 'weather', 'type', 'caus', 'havoc', 'across', 'month', 'damag', 'storm', 'becom', 'frequent', 'research', 'univers', 'highland', 'island', 'southampton', 'wave', 'height', 'atlant', 'project', 'conduct', 'jointli', 'environment', 'institut', 'thurso', 'uhi', 'millennium', 'network', 'oceanographi', 'centr', 'scientist', 'carri', 'seri', 'use', 'satellit', 'assess', 'hebrid', 'pavey', 'focus', 'indoor', 'success', 'jo', 'miss', 'view', 'great', 'edinburgh', 'cross', 'focu', 'prepar', 'championship', 'old', 'third', 'behind', 'hayley', 'yell', 'justyna', 'bak', 'prefer', 'track', 'win', 'bronz', 'wari', 'injuri', 'must', 'concentr', 'season', 'run', 'hill', 'came', 'fifth', 'athen', 'olymp', 'british', 'team', 'silver', 'medal', 'heringsdorf', 'start', 'either', 'boston', 'stuttgart', 'end', 'tori', 'reject', 'rethink', 'axe', 'mp', 'sack', 'howard', 'flight', 'local', 'conserv', 'associ', 'insist', 'candid', 'elect', 'russel', 'tanguay', 'arundel', 'south', 'down', 'inelig', 'seek', 'substitut', 'news', 'come', 'despit', 'alli', 'enough', 'support', 'hold', 'meet', 'discuss', 'fate', 'land', 'troubl', 'remark', 'tax', 'plan', 'quit', 'deputi', 'chairman', 'appar', 'extra', 'cut', 'want', 'continu', 'headquart', 'longer', 'approv', 'back', 'tuesday', 'parti', 'process', 'select', 'made', 'similar', 'comment', 'friday', 'dissent', 'councillor', 'met', 'afternoon', 'left', 'unless', 'instruct', 'extraordinari', 'egm', 'consult', 'lawyer', 'bbc', 'dispos', 'keep', 'signatur', 'trigger', 'rule', 'leader', 'argu', 'ensur', 'honesti', 'thing', 'privat', 'labour', 'campaign', 'coordin', 'alan', 'milburn', 'turmoil', 'expos', 'hidden', 'claim', 'senior', 'obsess', 'commit', 'liber', 'democrat', 'matthew', 'taylor', 'whilst', 'disagre', 'seem', 'somebodi', 'tell', 'truth', 'emerg', 'suspend', 'slough', 'constitu', 'refus', 'deselect', 'adrian', 'hilton', 'abandon', 'maastricht', 'treati', 'john', 'major', 'govern', 'act', 'treason', 'cathol', 'herald', 'highlight', 'articl', 'wrote', 'role', 'catholic', 'union', 'chosen', 'fight', 'seat', 'robert', 'ould', 'pictur', 'rang', 'gun', 'hunt', 'knife', 'statu', 'spokesman', 'consid', 'legal', 'action', 'depos', 'learn', 'final', 'decis', 'websit', 'monday', 'peopl', 'central', 'offic', 'behav', 'littl', 'dictat', 'seemingli', 'ordinari', 'treat', 'contempt', 'contact', 'lib', 'dem', 'ever', 'poll', 'set', 'result', 'council', 'frontbench', 'ed', 'davey', 'speak', 'held', 'english', 'area', 'flagship', 'pledg', 'replac', 'incom', 'would', 'pay', 'sum', 'go', 'vote', 'think', 'charl', 'kennedi', 'stronger', 'endors', 'attack', 'later', 'budget', 'michael', 'dismiss', 'gordon', 'brown', 'simpl', 'fact', 'plug', 'financi', 'black', 'hole', 'everyon', 'see', 'chancellor', 'hid', 'rise', 'hard', 'work', 'famili', 'falter', 'packag', 'measur', 'ad', 'interest', 'mockingli', 'welcom', 'accus', 'hand', 'away', 'urg', 'admit', 'respons', 'drag', 'net', 'stamp', 'duti', 'inherit', 'hide', 'crippl', 'inevit', 'problem', 'face', 'answer', 'wast', 'rattl', 'magic', 'balanc', 'conjur', 'thin', 'bid', 'convinc', 'nation', 'financ', 'dodgi', 'brought', 'dossier', 'publish', 'base', 'propos', 'borrow', 'next', 'six', 'less', 'billion', 'much', 'prudenc', 'surplus', 'prime', 'minist', 'weapon', 'mass', 'destruct', 'rebat', 'pension', 'offer', 'noth', 'put', 'polic', 'street', 'hospit', 'cleaner', 'parent', 'teacher', 'disciplin', 'skill', 'school', 'clear', 'choic', 'higher', 'lower', 'valu', 'money', 'battleground', 'bring', 'conclud', 'loud', 'cheer', 'blu', 'ray', 'dvd', 'format', 'rival', 'backer', 'soni', 'compet', 'toshiba', 'nec', 'hd', 'futur', 'film', 'thursday', 'electron', 'art', 'vivendi', 'high', 'definit', 'video', 'sound', 'incred', 'qualiti', 'hollywood', 'studio', 'extrem', 'keen', 'exploit', 'separ', 'show', 'la', 'vega', 'announc', 'technolog', 'standard', 'imag', 'greater', 'storag', 'richard', 'doherti', 'panason', 'laboratori', 'pioneer', 'utilis', 'blue', 'laser', 'optic', 'disc', 'time', 'today', 'abl', 'store', 'gb', 'data', 'sure', 'satisfi', 'abil', 'onto', 'smaller', 'fit', 'camcord', 'hope', 'war', 'akin', 'betamax', 'vh', 'resolv', 'huge', 'librari', 'current', 'big', 'battl', 'supremaci', 'industri', 'crucial', 'term', 'technic', 'requir', 'develop', 'demand', 'advanc', 'heilmann', 'capac', 'perform', 'internet', 'connect', 'ea', 'deliveri', 'vital', 'function', 'interact', 'kind', 'recent', 'playstat', 'raven', 'graphic', 'especi', 'pc', 'alway', 'deliv', 'textur', 'deeper', 'level', 'resolut', 'playback', 'forward', 'immers', 'realli', 'creat', 'involv', 'complic', 'model', 'frame', 'rate', 'experi', 'mean', 'compress', 'lost', 'photo', 'real', 'capabl', 'limit', 'thrill', 'build', 'intens', 'multipl', 'instal', 'likewis', 'consol', 'reli', 'singl', 'mgm', 'disney', 'buena', 'vista', 'well', 'dell', 'lg', 'samsung', 'phillip', 'amongst', 'other', 'paramount', 'warner', 'bro', 'benefit', 'obviou', 'jim', 'cardwel', 'presid', 'home', 'rapid', 'depend', 'factor', 'choos', 'court', 'still', 'ce', 'largest', 'pig', 'poster', 'anti', 'semit', 'depict', 'oliv', 'letwin', 'jewish', 'fli', 'prospect', 'andrew', 'mennear', 'whose', 'finchley', 'contain', 'larg', 'commun', 'brand', 'tasteless', 'offens', 'men', 'superimpos', 'wing', 'four', 'design', 'e', 'mail', 'ask', 'favourit', 'sent', 'friend', 'shock', 'shown', 'similarli', 'horrifi', 'distast', 'person', 'deliber', 'intent', 'sort', 'offenc', 'clearli', 'thought', 'maximum', 'overstep', 'mark', 'withdrawn', 'particularli', 'insensit', 'holocaust', 'difficult', 'mani', 'deni', 'jame', 'report', 'save', 'seriou', 'point', 'issu', 'matter', 'immigr', 'fool', 'costin', 'aim', 'comeback', 'jami', 'paralys', 'way', 'recal', 'car', 'accid', 'occur', 'schedul', 'step', 'stadium', 'k', 'walk', 'iron', 'chuckl', 'talk', 'immedi', 'lorri', 'drive', 'wrong', 'side', 'road', 'plough', 'rental', 'lot', 'pain', 'guess', 'toe', 'broken', 'waterford', 'man', 'mayb', 'cortison', 'inject', 'never', 'know', 'felt', 'though', 'muscl', 'rip', 'pelvi', 'someth', 'therapi', 'ultra', 'knew', 'certainti', 'vertebra', 'bottom', 'explod', 'fierc', 'lucki', 'fractur', 'brake', 'arriv', 'killer', 'ridicul', 'degre', 'heat', 'got', 'scan', 'saw', 'case', 'ok', 'differ', 'circumst', 'three', 'ireland', 'ambul', 'doctor', 'delay', 'surgeri', 'reliev', 'greek', 'titanium', 'rod', 'spinal', 'cord', 'fuse', 'pressur', 'agre', 'mater', 'dublin', 'heal', 'total', 'natur', 'chanc', 'import', 'absolut', 'fantast', 'wear', 'bodi', 'cast', 'spent', 'flat', 'progress', 'crutch', 'unaid', 'without', 'recoveri', 'physio', 'johnston', 'mcevoy', 'limerick', 'acupunctur', 'effect', 'needl', 'right', 'close', 'spine', 'yesterday', 'fairli', 'incapacit', 'receiv', 'treatment', 'polish', 'spala', 'tripl', 'champion', 'korzeniowski', 'past', 'fortnight', 'earlier', 'underw', 'fair', 'call', 'cryotherapi', 'basic', 'small', 'room', 'cool', 'liquid', 'nitrogen', 'minu', 'centigrad', 'promot', 'deep', 'head', 'poland', 'daili', 'twice', 'pool', 'mobil', 'lie', 'strength', 'gym', 'lift', 'light', 'weight', 'full', 'everyth', 'regularli', 'moment', 'everi', 'bit', 'movement', 'whole', 'pelvic', 'tighten', 'react', 'almagro', 'spanish', 'surg', 'unseed', 'nicola', 'becam', 'spaniard', 'reach', 'eight', 'bueno', 'oust', 'eighth', 'seed', 'mariano', 'zabaleta', 'admir', 'rain', 'affect', 'match', 'compatriot', 'seventh', 'rafael', 'nadal', 'beat', 'italian', 'potito', 'starac', 'outdoor', 'clay', 'event', 'hit', 'forehand', 'stop', 'teenag', 'luckili', 'pace', 'throughout', 'gaston', 'gaudio', 'brazilian', 'flavio', 'saretta', 'late', 'reynold', 'portrait', 'sir', 'joshua', 'omai', 'follow', 'fear', 'stay', 'export', 'wrangl', 'galleri', 'unsuccess', 'buy', 'anonym', 'owner', 'ban', 'prevent', 'paint', 'leav', 'th', 'centuri', 'allow', 'exhibit', 'creation', 'featur', 'print', 'caricatur', 'sculptur', 'artist', 'famou', 'fetch', 'highest', 'amount', 'auction', 'bought', 'london', 'dealer', 'collector', 'unnam', 'bar', 'rais', 'fund', 'young', 'dub', 'nobl', 'savag', 'polynesia', 'darl', 'societi', 'invit', 'fascin', 'exot', 'charact', 'academi', 'sport', 'bet', 'spotlight', 'peer', 'regul', 'parliamentari', 'substanti', 'done', 'phone', 'led', 'cheat', 'recommend', 'punter', 'improv', 'integr', 'jail', 'sentenc', 'gambl', 'lord', 'condon', 'cricket', 'corrupt', 'unit', 'prison', 'penalti', 'derisori', 'bigger', 'hotel', 'bill', 'crimin', 'symbol', 'perhap', 'pass', 'hous', 'might', 'appropri', 'bookmak', 'audit', 'trail', 'exchang', 'suspici', 'pattern', 'trace', 'faulkner', 'worcest', 'chair', 'neither', 'unfair', 'provid', 'potenti', 'administr', 'review', 'difficulti', 'convict', 'guilti', 'penalis', 'panel', 'defin', 'constitut', 'fix', 'odd', 'lay', 'lose', 'hors', 'green', 'sight', 'mauric', 'wipe', 'fourth', 'crown', 'summer', 'greec', 'fellow', 'american', 'justin', 'gatlin', 'franci', 'obikwelu', 'portug', 'hurt', 'mistak', 'birmingham', 'happen', 'goal', 'line', 'closest', 'fastest', 'sprint', 'semi', 'lane', 'feel', 'anyth', 'middl', 'gold', 'x', 'relay', 'catch', 'lewi', 'leg', 'kansa', 'star', 'norwich', 'grand', 'prix', 'pair', 'contest', 'distanc', 'franc', 'resum', 'task', 'recaptur', 'helsinki', 'august', 'biggest', 'threat', 'ambit', 'finland', 'someon', 'els', 'ato', 'boldon', 'crowd', 'guy', 'pakistani', 'women', 'veil', 'backward', 'islam', 'musharraf', 'pakistan', 'newsnight', 'programm', 'manchest', 'wife', 'religi', 'moder', 'commission', 'dr', 'maleeha', 'lodhi', 'listen', 'grievanc', 'isol', 'gen', 'confin', 'whether', 'terror', 'safe', 'ye', 'unfortun', 'address', 'core', 'therefor', 'context', 'strateg', 'long', 'polit', 'disput', 'illiteraci', 'poverti', 'combin', 'breed', 'ground', 'toni', 'blair', 'due', 'mirror', 'newspap', 'sensit', 'outl', 'paper', 'document', 'found', 'confidenti', 'radio', 'channel', 'code', 'al', 'qaeda', 'terrorist', 'extremist', 'milit', 'afghanistan', 'wider', 'situat', 'east', 'ongo', 'kashmir', 'optim', 'iraq', 'whatev', 'strategi', 'stabl', 'state', 'kuznetsova', 'drug', 'test', 'svetlana', 'posit', 'belgian', 'author', 'claud', 'eerdeken', 'russian', 'stimul', 'ephedrin', 'charleroi', 'discov', 'innoc', 'unclear', 'tournament', 'commiss', 'dope', 'wada', 'tenni', 'feder', 'itf', 'accosi', 'wta', 'region', 'yet', 'b', 'sampl', 'australian', 'identifi', 'worri', 'push', 'notifi', 'confirm', 'find', 'spain', 'prosecutor', 'conced', 'taken', 'medicin', 'substanc', 'simpli', 'concern', 'impos', 'disciplinari', 'procedur', 'defenc', 'legitim', 'cure', 'infect', 'howev', 'condemn', 'shamil', 'tarpishchev', 'ethic', 'book', 'proof', 'wrongdo', 'principl', 'statement', 'known', 'otherwis', 'pure', 'fiction', 'fabric', 'lse', 'doubt', 'bidder', 'deutsch', 'boers', 'risen', 'sharehold', 'voic', 'opposit', 'takeov', 'tci', 'repres', 'db', 'complain', 'bn', 'fuell', 'specul', 'euronext', 'pari', 'amsterdam', 'brussel', 'lisbon', 'bours', 'frankfurt', 'spoke', 'analyst', 'morn', 'although', 'none', 'unlik', 'halt', 'deal', 'obvious', 'appear', 'broker', 'succeed', 'exce', 'acquisit', 'investor', 'payout', 'overpay', 'reuter', 'sensibl', 'entrepreneuri', 'rolf', 'dress', 'invest', 'achiev', 'wish', 'distribut', 'asset', 'oppos', 'quot', 'hedg', 'atticu', 'capit', 'motiv', 'empir', 'rather', 'german', 'law', 'gain', 'approach', 'contempl', 'cash', 'euro', 'gmt', 'gainer', 'umbro', 'profit', 'sportswear', 'post', 'annual', 'replica', 'england', 'footbal', 'kit', 'pre', 'sponsorship', 'chelsea', 'celtic', 'agreement', 'club', 'ranger', 'shirt', 'cup', 'gave', 'lucr', 'payment', 'apprais', 'opportun', 'compens', 'peter', 'mcguigan', 'grow', 'list', 'june', 'seen', 'evolut', 'fashion', 'suppli', 'sweden', 'norway', 'penc', 'trade', 'mexico', 'fine', 'form', 'guillermo', 'cana', 'mexican', 'acapulco', 'pick', 'atp', 'alberto', 'martin', 'brazil', 'argentin', 'wild', 'card', 'puerta', 'carlo', 'moya', 'overcom', 'felix', 'mantilla', 'czech', 'jiri', 'novak', 'elimin', 'agustin', 'calleri', 'ago', 'albert', 'montan', 'triumph', 'sixth', 'filippo', 'volandri', 'argentina', 'doubl', 'itali', 'improb', 'outlast', 'touch', 'profil', 'movi', 'music', 'revolutionis', 'strike', 'retro', 'far', 'mould', 'break', 'dug', 'prototyp', 'lightweight', 'clam', 'shell', 'reveal', 'screen', 'switch', 'instantli', 'pedigre', 'crisp', 'given', 'free', 'rein', 'dual', 'japanes', 'maintain', 'emin', 'increasingli', 'gameboy', 'domin', 'grant', 'enter', 'portabl', 'gizmondo', 'tapwav', 'zodiac', 'hybrid', 'appeal', 'age', 'gender', 'wireless', 'compat', 'certainli', 'uniqu', 'exceed', 'figur', 'quarter', 'order', 'confid', 'revolutionari', 'ship', 'demo', 'metroid', 'hunter', 'machin', 'impress', 'smoothli', 'stylu', 'navig', 'map', 'disorient', 'super', 'mario', 'faith', 'classic', 'host', 'mini', 'stun', 'certain', 'harden', 'adapt', 'access', 'novic', 'ultim', 'failur', 'key', 'recognit', 'gimmick', 'elvi', 'rock', 'n', 'roll', 'legend', 'death', 'song', 'jailhous', 'steve', 'brockstein', 'cover', 'remix', 'convers', 'histori', 'pop', 'score', 'night', 'sonybmg', 'ambiti', 'modest', 'defend', 'servic', 'frontlin', 'complaint', 'shadow', 'unveil', 'promis', 'target', 'backbench', 'edward', 'leigh', 'direct', 'sooner', 'interview', 'jeremi', 'vine', 'perfectli', 'true', 'ought', 'voter', 'recognis', 'latest', 'wide', 'gather', 'platform', 'authent', 'tuition', 'fee', 'treasuri', 'vinc', 'cabl', 'fantasi', 'econom', 'produc', 'fraudul', 'prospectu', 'challeng', 'spell', 'deficit', 'wors', 'cost', 'militari', 'red', 'congression', 'cbo', 'shortfal', 'fiscal', 'dollar', 'weaken', 'amid', 'jitter', 'size', 'gap', 'widen', 'envisag', 'orderli', 'declin', 'greenback', 'twin', 'non', 'partisan', 'watchdog', 'note', 'septemb', 'account', 'trillion', 'revamp', 'extend', 'worsen', 'republican', 'blame', 'slow', 'condit', 'georg', 'w', 'bush', 'halv', 'exclud', 'relat', 'charg', 'congress', 'blackberri', 'thrown', 'common', 'chamber', 'speaker', 'comput', 'pager', 'send', 'promin', 'alastair', 'campbel', 'accident', 'explet', 'laden', 'messag', 'journalist', 'debat', 'caution', 'earpiec', 'frown', 'strong', 'rebuk', 'enforc', 'convent', 'colleagu', 'nomin', 'allegi', 'appl', 'ipod', 'expand', 'digit', 'gadget', 'compar', 'colour', 'version', 'batteri', 'earli', 'thank', 'itun', 'download', 'mike', 'mcguir', 'director', 'gartner', 'job', 'seal', 'seamless', 'idea', 'softwar', 'present', 'creativ', 'partner', 'ratchet', 'advertis', 'upbeat', 'zen', 'micro', 'memori', 'board', 'among', 'pew', 'adult', 'own', 'rose', 'tenfold', 'ifpi', 'eas', 'avail', 'trend', 'toward', 'novel', 'automat', 'sync', 'diy', 'podcast', 'stream', 'sophist', 'handset', 'kept', 'foot', 'door', 'motorola', 'corp', 'eye', 'media', 'billionair', 'rupert', 'murdoch', 'chernin', 'kick', 'tire', 'pretti', 'santa', 'monica', 'activison', 'box', 'cube', 'arcad', 'space', 'invad', 'pac', 'donkey', 'kong', 'gone', 'often', 'tag', 'reflect', 'heavi', 'almost', 'fun', 'suitabl', 'struggl', 'tier', 'explain', 'phoenix', 'arizona', 'prodigi', 'join', 'v', 'festiv', 'essex', 'headlin', 'stage', 'main', 'scissor', 'sister', 'franz', 'ferdinand', 'venu', 'hyland', 'park', 'weston', 'staffordshir', 'meanwhil', 'veteran', 'alongsid', 'athlet', 'band', 'juli', 'weekend', 'balado', 'near', 'kinross', 'queen', 'stone', 'kean', 'foo', 'fighter', 'saturday', 'chemic', 'brother', 'vice', 'versa', 'bob', 'angu', 'stellar', 'pride', 'unbeat', 'disappoint', 'ticket', 'saab', 'cadillac', 'motor', 'maker', 'medium', 'bl', 'loss', 'geneva', 'intend', 'luxuri', 'gm', 'carl', 'forster', 'effort', 'marqu', 'driver', 'diesel', 'engin', 'allay', 'closur', 'trollhaettan', 'rumour', 'cutback', 'swedish', 'opel', 'worker', 'ruesselsheim', 'germani', 'larger', 'proport', 'unalloy', 'inroad', 'consist', 'bmw', 'merced', 'jaguar', 'segment', 'altern', 'establish', 'upmarket', 'presidenti', 'limousin', 'badg', 'tough', 'steal', 'notabl', 'toyota', 'subsidiari', 'lexu', 'enjoy', 'tremend', 'benz', 'retain', 'stranglehold', 'introduc', 'desper', 'scale', 'fewer', 'suffici', 'fast', 'albeit', 'beyond', 'expenditur', 'vauxhal', 'framework', 'shift', 'adopt', 'remov', 'exposur', 'weak', 'expens', 'stupid', 'scheme', 'deploy', 'fleet', 'buyer', 'vehicl', 'initi', 'custom', 'percept', 'jobless', 'unemploy', 'consecut', 'reunif', 'adjust', 'bundesbank', 'calcul', 'statist', 'bad', 'sluggish', 'economi', 'primarili', 'onstart', 'winter', 'frank', 'juergen', 'weis', 'unadjust', 'sector', 'construct', 'stagnat', 'upturn', 'welfar', 'reform', 'swell', 'hartz', 'iv', 'system', 'classifi', 'nasti', 'basi', 'hvb', 'economist', 'ree', 'subsid', 'turnaround', 'wolfgang', 'clement', 'shake', 'adam', 'arm', 'carmak', 'retail', 'karstadtquel', 'slash', 'parmalat', 'su', 'america', 'food', 'bust', 'scandal', 'along', 'auditor', 'victim', 'fraud', 'judg', 'italaudit', 'formerli', 'thornton', 'lawsuit', 'prosecut', 'deloitt', 'rid', 'permit', 'sue', 'consob', 'hundr', 'collaps', 'supposedli', 'offshor', 'exist', 'worldcom', 'telecom', 'finish', 'trial', 'ex', 'berni', 'ebber', 'scott', 'sullivan', 'juror', 'will', 'wall', 'earn', 'conspiraci', 'plead', 'examin', 'attorney', 'reid', 'weingarten', 'portray', 'liar', 'quizz', 'estim', 'refer', 'fals', 'entri', 'short', 'wit', 'unawar', 'improp', 'conceal', 'soar', 'inflat', 'revenu', 'begun', 'dotcom', 'boom', 'alleg', 'respond', 'orchestr', 'period', 'bankruptci', 'mci', 'buyout', 'verizon', 'roddick', 'jose', 'andi', 'cyril', 'saulnier', 'sap', 'overcam', 'tommi', 'haa', 'surviv', 'scare', 'austrian', 'jurgen', 'melzer', 'frenchman', 'twist', 'ankl', 'fume', 'horribl', 'tonight', 'depth', 'perfect', 'tie', 'broke', 'straight', 'frustrat', 'rush', 'backhand', 'advantag', 'passag', 'mind', 'sometim', 'mental', 'robinson', 'critic', 'captain', 'jason', 'rubbish', 'beaten', 'wale', 'cardiff', 'twickenham', 'anyon', 'strive', 'avoid', 'defeat', 'rot', 'autumn', 'excel', 'word', 'comfort', 'newcastl', 'mathew', 'tait', 'demot', 'squad', 'outstand', 'olli', 'barkley', 'chin', 'coach', 'racism', 'lui', 'aragon', 'racist', 'thierri', 'henri', 'octob', 'angel', 'maria', 'villar', 'request', 'violenc', 'arsen', 'mate', 'antonio', 'rey', 'meant', 'offend', 'reason', 'easi', 'conscienc', 'oblig', 'colloqui', 'languag', 'understand', 'friendli', 'madrid', 'chant', 'jaim', 'lissavetzki', 'quick', 'declar', 'neg', 'zero', 'toler', 'question', 'turkish', 'eu', 'silvio', 'berlusconi', 'gerhard', 'schroeder', 'turkey', 'topic', 'summit', 'enthusiast', 'propon', 'favour', 'sceptic', 'elsewher', 'rapidli', 'popul', 'low', 'reneg', 'human', 'enact', 'era', 'kill', 'armenian', 'genocid', 'netherland', 'muslim', 'staunchest', 'stick', 'regular', 'hyundai', 'india', 'plant', 'korea', 'nearli', 'built', 'chennai', 'southern', 'provinc', 'tamil', 'nadu', 'indian', 'driven', 'poor', 'ownership', 'thousand', 'auto', 'percent', 'competitor', 'chung', 'mong', 'koo', 'latin', 'korean', 'brit', 'album', 'capitalis', 'eponym', 'u', 'dismantl', 'atom', 'bomb', 'eminem', 'toy', 'soldier', 'wooden', 'heart', 'reissu', 'anniversari', 'presley', 'birth', 'occupi', 'lonesom', 'destini', 'child', 'ti', 'lil', 'wayn', 'duet', 'westlif', 'brian', 'mcfadden', 'delta', 'goodrem', 'self', 'tourist', 'munster', 'heineken', 'biarritz', 'april', 'sociedad', 'paseo', 'de', 'anoeta', 'sebastian', 'wherea', 'parc', 'aguilera', 'irish', 'least', 'primari', 'object', 'marcel', 'reward', 'rugbi', 'tradit', 'fixtur', 'attract', 'attend', 'ulster', 'euskarian', 'tour', 'gibraltar', 'begin', 'jack', 'straw', 'resid', 'wednesday', 'foreign', 'secretari', 'kent', 'cheven', 'forum', 'counterpart', 'miguel', 'moratino', 'gibraltarian', 'referendum', 'caruana', 'citizen', 'dominick', 'chilcott', 'pon', 'socialist', 'sovereignti', 'organis', 'spree', 'giveaway', 'ball', 'advis', 'digbi', 'jone', 'cbi', 'tempt', 'bribe', 'golden', 'margin', 'spare', 'credit', 'stress', 'mpc', 'monetari', 'polici', 'justifi', 'lunch', 'cultur', 'risk', 'stabil', 'assur', 'pleas', 'election', 'prudent', 'bore', 'anywher', 'excess', 'prioriti', 'date', 'pundit', 'viewer', 'shape', 'tv', 'imagin', 'edit', 'titan', 'watch', 'slushier', 'bare', 'bone', 'fest', 'manipul', 'personalis', 'nm', 'endgam', 'genr', 'audienc', 'specif', 'tast', 'particip', 'storylin', 'plot', 'prop', 'bt', 'contribut', 'anomali', 'cctv', 'content', 'algorithm', 'tool', 'experiment', 'televis', 'text', 'drama', 'finnish', 'mervyn', 'peak', 'gothic', 'gormenghast', 'varieti', 'materi', 'doug', 'william', 'rel', 'dumb', 'signal', 'teach', 'lego', 'block', 'reassembl', 'sens', 'usual', 'co', 'ordin', 'stollenmay', 'radic', 'alter', 'directli', 'influenc', 'user', 'passiv', 'activ', 'engag', 'obey', 'complex', 'cinematographi', 'wyver', 'illumin', 'string', 'togeth', 'romant', 'portion', 'visual', 'observ', 'honour', 'stori', 'aesthet', 'entitl', 'renaiss', 'poetri', 'architectur', 'documentari', 'comedi', 'junk', 'delug', 'spam', 'circul', 'undergo', 'spamhau', 'viru', 'program', 'filter', 'uncheck', 'drown', 'sheer', 'spammer', 'recruit', 'virus', 'worm', 'compromis', 'via', 'vulner', 'trick', 'attach', 'malici', 'pump', 'behalf', 'collect', 'blacklist', 'harbour', 'rout', 'impract', 'techniqu', 'mailer', 'linford', 'infrastructur', 'stanley', 'ciphertrust', 'logic', 'armouri', 'meltdown', 'kevin', 'hogan', 'symantec', 'secur', 'prematur', 'efficaci', 'brightmail', 'instanc', 'web', 'link', 'rapper', 'cent', 'solo', 'candi', 'shop', 'disco', 'inferno', 'crept', 'rap', 'proteg', 'outsid', 'ten', 'g', 'disloyalti', 'feud', 'burst', 'scene', 'rich', 'die', 'tryin', 'narrowli', 'topper', 'r', 'hip', 'hop', 'newcom', 'masscr', 'usher', 'concurr', 'feat', 'previous', 'bee', 'gee', 'beatl', 'confess', 'snow', 'patrol', 'fete', 'meteor', 'accolad', 'belfast', 'born', 'glasgow', 'prize', 'ceremoni', 'theatr', 'paddi', 'casey', 'male', 'singer', 'songwrit', 'damien', 'rice', 'juliett', 'turner', 'femal', 'categori', 'morrissey', 'robbi', 'pj', 'harvey', 'pip', 'kyli', 'minogu', 'joss', 'anastacia', 'natasha', 'bedingfield', 'snoop', 'dogg', 'ronni', 'wood', 'breakthrough', 'wee', 'gari', 'lightbodi', 'drummer', 'jonni', 'quinn', 'pm', 'callaghan', 'eve', 'rd', 'birthday', 'sussex', 'audrey', 'son', 'daughter', 'longest', 'resign', 'harold', 'wilson', 'mourn', 'forgot', 'root', 'cabinet', 'hattersley', 'reaction', 'immens', 'sad', 'surpris', 'blow', 'decent', 'kindli', 'politician', 'poorer', 'heseltin', 'premiership', 'streak', 'determin', 'fond', 'rememb', 'youngest', 'father', 'warmth', 'wisdom', 'educ', 'portsmouth', 'northern', 'secondari', 'clerk', 'inland', 'enlist', 'navi', 'rank', 'lieuten', 'serv', 'junior', 'attle', 'exchequ', 'sterl', 'resist', 'devalu', 'controversi', 'dame', 'barbara', 'castl', 'latter', 'manifesto', 'strife', 'throw', 'troop', 'civilian', 'st', 'idi', 'amin', 'uganda', 'lectur', 'denni', 'temper', 'discont', 'standstil', 'victori', 'garbag', 'uncollect', 'staff', 'gravedigg', 'mood', 'margaret', 'thatcher', 'swept', 'landslid', 'yuko', 'oil', 'yugansk', 'rosneft', 'illeg', 'pursu', 'abn', 'amro', 'bnp', 'pariba', 'calyon', 'jp', 'morgan', 'chase', 'dresdner', 'kleinwort', 'wasserstein', 'consortium', 'ga', 'monopoli', 'gazprom', 'downfal', 'punish', 'founder', 'mikhail', 'khodorkovski', 'file', 'houston', 'texa', 'sought', 'injunct', 'februari', 'jurisdict', 'god', 'virtual', 'sim', 'ravi', 'purushotma', 'vocabulari', 'grammar', 'inher', 'chore', 'lure', 'children', 'homework', 'instead', 'educationalist', 'embrac', 'assumpt', 'phenomen', 'captur', 'adolesc', 'ripe', 'lesson', 'drum', 'pupil', 'couch', 'harder', 'somewhat', 'ride', 'bike', 'formal', 'graviti', 'contrast', 'student', 'sole', 'inform', 'incident', 'reinforc', 'suppos', 'impart', 'tongu', 'misunderstood', 'stumbl', 'fall', 'asleep', 'illustr', 'necessari', 'textual', 'upon', 'aid', 'drawback', 'lack', 'spoken', 'brush', 'pronunci', 'neighbour', 'town', 'simul', 'everyday', 'describ', 'suffer', 'comparison', 'slick', 'easier', 'creator', 'modifi', 'mod', 'encourag', 'civilis', 'iii', 'realis', 'solv', 'began', 'geograph', 'geographi', 'draw', 'infer', 'social', 'phenomena', 'journal', 'grappl', 'healthcar', 'north', 'buick', 'chevrolet', 'roadmap', 'rick', 'waggon', 'midst', 'asia', 'pacif', 'africa', 'diversifi', 'gmac', 'loan', 'contributor', 'attain', 'ford', 'output', 'sank', 'asian', 'fare', 'jump', 'nissan', 'overal', 'fuel', 'truck', 'guzzl', 'util', 'suv', 'tumbl', 'acknowledg', 'pontiac', 'cobalt', 'solid', 'calendar', 'slower', 'lanev', 'slump', 'prompt', 'stockpil', 'ninth', 'monthli', 'chrysler', 'daimlerchrysl', 'detroit', 'automak', 'boast', 'nibbl', 'acceler', 'suzuki', 'snap', 'assault', 'redesign', 'avalon', 'sedan', 'priu', 'petrol', 'consciou', 'cheaper', 'upward', 'effici', 'slowdown', 'row', 'ism', 'survey', 'norbert', 'ore', 'shortag', 'textil', 'apparel', 'tobacco', 'compil', 'purchas', 'airlin', 'southwest', 'quarterli', 'amr', 'carrier', 'york', 'slightli', 'anticip', 'gerard', 'arpey', 'woe', 'plagu', 'particular', 'indic', 'postpon', 'boe', 'jet', 'neidl', 'squeez', 'throat', 'glut', 'reduct', 'johnson', 'edg', 'sotherton', 'jade', 'kelli', 'aaa', 'heptathlon', 'medallist', 'leap', 'foul', 'qualifi', 'pentathlon', 'carolina', 'kluft', 'lambert', 'paul', 'brizzel', 'round', 'allyn', 'ian', 'macki', 'luck', 'disqualifi', 'plenti', 'hot', 'hurdl', 'vy', 'olympian', 'smash', 'greav', 'trio', 'clock', 'easili', 'surpass', 'helen', 'clithero', 'agonisingli', 'runner', 'welsh', 'thie', 'mcilroy', 'showdown', 'sheffield', 'watkin', 'susan', 'deacon', 'stole', 'thunder', 'fraser', 'woman', 'shot', 'absenc', 'injur', 'myerscough', 'mitchel', 'climb', 'cm', 'slovenia', 'pole', 'vault', 'decid', 'ashley', 'swain', 'taniesha', 'scanlon', 'iraqi', 'tatter', 'viciou', 'cycl', 'deadlock', 'radwan', 'hadi', 'aberdeen', 'blackwatch', 'petroleum', 'bristol', 'ann', 'alexand', 'nobodi', 'exactli', 'dire', 'vari', 'washington', 'independ', 'tank', 'brook', 'mend', 'irrig', 'telephon', 'divid', 'have', 'not', 'anger', 'ms', 'advert', 'soon', 'baghdad', 'pharmaci', 'richer', 'plight', 'kuwait', 'stake', 'jordanian', 'reconstruct', 'bechtel', 'rebuild', 'restor', 'halliburton', 'wealth', 'contract', 'health', 'sit', 'uneasili', 'accustom', 'essenti', 'multin', 'consequ', 'transit', 'backtrack', 'forget', 'brutal', 'baathist', 'regim', 'opinion', 'abroad', 'warmli', 'evolv', 'vast', 'resourc', 'magnitud', 'actual', 'meaning', 'except', 'affili', 'falcon', 'dozen', 'kirkuk', 'geo', 'ministri', 'hammer', 'transfer', 'normal', 'vaccin', 'immunis', 'speech', 'mortal', 'african', 'debt', 'relief', 'depart', 'un', 'gate', 'foundat', 'allianc', 'gavi', 'drawn', 'appli', 'iff', 'donor', 'bind', 'collater', 'thereaft', 'earth', 'barrier', 'hilari', 'compassion', 'rhetor', 'disguis', 'realiti', 'neo', 'privatis', 'duo', 'unsolicit', 'aol', 'subscrib', 'distributor', 'virginia', 'jayn', 'jessica', 'degroot', 'bulk', 'fake', 'rutkowski', 'acquit', 'snake', 'salesman', 'peddl', 'useless', 'ware', 'fed', 'refund', 'processor', 'item', 'eras', 'amass', 'fortun', 'ap', 'prohibit', 'jerri', 'kilgor', 'reportedli', 'oblon', 'outrag', 'client', 'brainwav', 'cap', 'brain', 'closer', 'partli', 'wheelchair', 'cursor', 'electrod', 'monkey', 'implant', 'proceed', 'scienc', 'scalp', 'electroencephalogram', 'rhythm', 'accur', 'jonathan', 'wolpaw', 'mcfarlan', 'albani', 'special', 'read', 'translat', 'nerv', 'stroke', 'invas', 'multidimension', 'interfac', 'clinic', 'robot', 'motoris', 'neuroprosthesi', 'volunt', 'partial', 'motion', 'mit', 'lab', 'demonstr', 'gronkjaer', 'jesper', 'atletico', 'citi', 'winger', 'denmark', 'window', 'medic', 'finalis', 'munoz', 'sarcast', 'applaud', 'everton', 'bruce', 'happi', 'let', 'danish', 'mother', 'terrif', 'delight', 'psp', 'entertain', 'queu', 'spider', 'umd', 'multiplay', 'tout', 'walkman', 'stiff', 'gamecub', 'pachter', 'wedbush', 'readi', 'ape', 'formula', 'wipeout', 'fire', 'lion', 'forthcom', 'sky', 'domest', 'commerci', 'haul', 'stoke', 'gulf', 'saudi', 'arabia', 'airway', 'sahara', 'chadha', 'delhi', 'lag', 'airport', 'shabbi', 'ill', 'equip', 'handl', 'traffic', 'chada', 'civil', 'aviat', 'modernis', 'legisl', 'negoti', 'premier', 'matur', 'brief', 'skip', 'click', 'splinter', 'cell', 'pandora', 'tomorrow', 'ring', 'pocket', 'kingdom', 'mention', 'nokia', 'gage', 'commut', 'fill', 'immeasur', 'snowbal', 'site', 'suit', 'port', 'lunar', 'lander', 'bejewel', 'colin', 'mcrae', 'ralli', 'typic', 'shoot', 'em', 'up', 'adventur', 'rare', 'rack', 'thrive', 'wap', 'menu', 'portal', 'grown', 'java', 'onboard', 'minimum', 'adher', 'familiar', 'tactic', 'strafe', 'physic', 'upload', 'ghost', 'bluetooth', 'justic', 'divers', 'furiou', 'bridg', 'joystick', 'keypad', 'hang', 'corner', 'replay', 'section', 'upgrad', 'evoc', 'palm', 'tree', 'cactu', 'whip', 'scroll', 'background', 'appreci', 'niggl', 'confus', 'fatal', 'macrospac', 'futurist', 'variou', 'deathmatch', 'mode', 'scenario', 'alien', 'cartoon', 'laid', 'explor', 'script', 'hint', 'command', 'flamethrow', 'rocket', 'launcher', 'grenad', 'coupl', 'mech', 'matrix', 'style', 'bullet', 'onslaught', 'clan', 'charm', 'gruell', 'crisi', 'bang', 'attent', 'percentag', 'turbul', 'tourism', 'visitor', 'moreov', 'frozen', 'burdensom', 'corpor', 'restructur', 'imf', 'macroeconom', 'currenc', 'float', 'freeli', 'costli', 'exercis', 'cake', 'everybodi', 'abdullatif', 'sener', 'burden', 'gross', 'gdp', 'allevi', 'turk', 'liter', 'contrari', 'dig', 'taxpay', 'wallet', 'assert', 'inde', 'membership', 'subsidi', 'balloon', 'agricultur', 'employ', 'flag', 'shun', 'uneduc', 'palat', 'circl', 'darkli', 'river', 'orient', 'cours', 'oppon', 'xenophob', 'prejudic', 'argument', 'eg', 'amplifi', 'owe', 'bond', 'obstacl', 'reza', 'moghadam', 'assist', 'arisen', 'recess', 'deppler', 'criteria', 'guid', 'instinct', 'split', 'gilbert', 'brad', 'yield', 'sfx', 'hire', 'slam', 'flush', 'meadow', 'slip', 'roger', 'lundgren', 'wimbledon', 'tarik', 'benhabil', 'wake', 'exit', 'french', 'proud', 'blunkett', 'bobbi', 'overhaul', 'dedic', 'neighbourhood', 'compulsori', 'charter', 'invok', 'frivol', 'annoy', 'pose', 'freedom', 'shirk', 'constabl', 'humbersid', 'westwood', 'intellig', 'soham', 'murder', 'huntley', 'nuisanc', 'behaviour', 'crime', 'paperwork', 'davi', 'pr', 'buri', 'reassur', 'affair', 'oaten', 'modern', 'partnership', 'abid', 'minor', 'cso', 'detain', 'suspect', 'copper', 'mori', 'theft', 'newest', 'certif', 'mere', 'revisit', 'stomp', 'carefre', 'driv', 'barnstorm', 'instant', 'gameplay', 'occas', 'youth', 'cj', 'mission', 'bu', 'plane', 'handi', 'presenc', 'urban', 'aveng', 'dread', 'deed', 'wage', 'blackmail', 'crook', 'cop', 'samuel', 'l', 'jackson', 'penn', 'rampant', 'compris', 'lo', 'santo', 'thinli', 'fierro', 'aka', 'francisco', 'ventura', 'carbon', 'suck', 'sprawl', 'sharp', 'write', 'ambienc', 'behold', 'monument', 'swath', 'countrysid', 'glorious', 'menac', 'grungi', 'preppi', 'flaunt', 'awesom', 'unusu', 'dramat', 'sunset', 'stupend', 'bread', 'butter', 'mechan', 'elabor', 'convincingli', 'superb', 'blur', 'freeway', 'pile', 'pedestrian', 'loquaci', 'bunch', 'pad', 'credibl', 'aspect', 'cloth', 'tattoo', 'haircut', 'habit', 'indulg', 'patron', 'paus', 'restaur', 'eat', 'hero', 'swim', 'inflam', 'pro', 'censorship', 'brigad', 'rockstar', 'shi', 'ramp', 'outing', 'hijack', 'exampl', 'gratuit', 'shove', 'steer', 'wheel', 'flee', 'tone', 'darker', 'jokey', 'grim', 'hardli', 'lend', 'gag', 'cheesi', 'apart', 'playlist', 'restrain', 'station', 'trademark', 'humour', 'anchor', 'odiou', 'gangland', 'lowlif', 'swagger', 'mouth', 'testament', 'magnific', 'flaw', 'plu', 'numer', 'detract', 'needlessli', 'fiddli', 'unwelcom', 'jar', 'pack', 'blight', 'entireti', 'overwhelmingli', 'bother', 'unmiss', 'holm', 'eaa', 'briton', 'salli', 'gunnel', 'jumper', 'christian', 'olsson', 'gutsi', 'scoop', 'writer', 'dinner', 'jungl', 'itv', 'drew', 'joe', 'pasqual', 'kerri', 'comic', 'butler', 'burrel', 'nightclub', 'fran', 'cosgrav', 'phil', 'tufnel', 'blackburn', 'tune', 'hottest', 'anthoni', 'mcpartlin', 'declan', 'donnelli', 'ant', 'dec', 'pascual', 'flood', 'pantomim', 'beanstalk', 'straightforward', 'csa', 'smith', 'departur', 'grill', 'shoulder', 'highli', 'leadership', 'fresh', 'repli', 'widespread', 'belief', 'bath', 'spokeswoman', 'willett', 'wonder', 'surround', 'introduct', 'simpler', 'mainten', 'backlog', 'unrecover', 'nowher', 'fulli', 'dissatisfi', 'disench', 'angri', 'escal', 'asid', 'servant', 'breakpoint', 'archi', 'kirkwood', 'retir', 'bound', 'nigel', 'waterson', 'amaz', 'shortli', 'notic', 'desk', 'chose', 'interpret', 'quickli', 'ukrain', 'off', 'wholesal', 'viktor', 'yushchenko', 'yulia', 'tymoshenko', 'renationalis', 'tini', 'shopfront', 'soviet', 'fragil', 'stuart', 'hensel', 'russia', 'resel', 'awar', 'care', 'oligarch', 'lowest', 'annul', 'irregular', 'protest', 'yanukovich', 'eastern', 'heartland', 'predecessor', 'leonid', 'kuchma', 'steel', 'mill', 'pinchuk', 'krivorizhst', 'stolen', 'kiev', 'jilt', 'lnm', 'tender', 'resal', 'revalu', 'revis', 'undertak', 'undecid', 'max', 'worth', 'punt', 'inclin', 'rest', 'garden', 'vienna', 'boy', 'darren', 'swede', 'dave', 'collin', 'overwhelm', 'uka', 'benefici', 'pressuris', 'inexperienc', 'excit', 'talent', 'journey', 'beij', 'belgrav', 'harrier', 'j', 'wessex', 'birchfield', 'abeyi', 'woodford', 'ladi', 'c', 'garland', 'ac', 'windsor', 'eton', 'hounslow', 'jimmi', 'aac', 'aldershot', 'farnham', 'district', 'speaight', 'baddeley', 'harrow', 'farah', 'mayock', 'barnsley', 'newham', 'beagl', 'shaftesburi', 'barnet', 'nott', 'buckfield', 'crawley', 'tomlinson', 'achik', 'dougla', 'oxford', 'p', 'idowu', 'cossin', 'davenport', 'gloucest', 'preddi', 'warburton', 'endacott', 'plymouth', 'kwaky', 'maduaka', 'basildon', 'eal', 'southal', 'middlesex', 'h', 'preston', 'exet', 'allahgreen', 'trafford', 'claxton', 'crane', 'whitlock', 'hern', 'croydon', 'mcconnel', 'murphi', 'purkiss', 'harri', 'apolog', 'princ', 'sorri', 'nazi', 'uniform', 'fanci', 'grandmoth', 'auschwitz', 'clarenc', 'apologis', 'costum', 'error', 'palac', 'repeat', 'clark', 'privileg', 'reservoir', 'goodwil', 'forev', 'sandhurst', 'probabl', 'janner', 'evil', 'decenc', 'fought', 'armi', 'photograph', 'swastika', 'armband', 'desert', 'sun', 'incid', 'contrit', 'buckingham', 'dicki', 'arbit', 'broadcast', 'babi', 'oscar', 'clint', 'eastwood', 'overtaken', 'tip', 'swank', 'actress', 'foxx', 'actor', 'scorses', 'leonardo', 'dicaprio', 'cate', 'blanchett', 'tom', 'neil', 'dark', 'emot', 'belov', 'chum', 'thompson', 'wrench', 'cri', 'gorgeou', 'colder', 'regard', 'showbusi', 'handicap', 'unstopp', 'momentum', 'katharin', 'hepburn', 'freeman', 'kodak', 'wolv', 'appoint', 'hoddl', 'glenn', 'hayward', 'gray', 'spur', 'caretak', 'desir', 'amibit', 'parallel', 'jez', 'moxey', 'paid', 'calibr', 'reput', 'manageri', 'swindon', 'disabl', 'saint', 'white', 'hart', 'tottenham', 'relationship', 'sour', 'millwal', 'innov', 'brave', 'pcg', 'vaio', 'laptop', 'piec', 'chip', 'amd', 'intel', 'gong', 'trotter', 'editor', 'clie', 'peg', 'ux', 'swivel', 'qwerti', 'keyboard', 'desktop', 'ra', 'organ', 'invent', 'afraid', 'canon', 'eo', 'camera', 'hardwar', 'reader', 'reliabl', 'vendor', 'novatech', 'unseat', 'theresa', 'rennard', 'slender', 'folkeston', 'hyth', 'carrol', 'decapit', 'temptat', 'elderli', 'spectrum', 'spokesperson', 'soft', 'cole', 'van', 'persi', 'robin', 'striker', 'fa', 'bergkamp', 'achil', 'tendon', 'crazi', 'freddi', 'ljungberg', 'arturo', 'lupoli', 'quinci', 'owusu', 'aliadier', 'gunner', 'wenger', 'front', 'pire', 'sustain', 'mari', 'sprain', 'ballymena', 'sprinter', 'alistair', 'cragg', 'circuit', 'corkman', 'midweek', 'dermot', 'colerain', 'annadal', 'strider', 'mclaughlin', 'willowfield', 'rowan', 'individu', 'dunwoodi', 'noel', 'pollock', 'salari', 'cameroon', 'cfa', 'ephraim', 'inoni', 'vow', 'scam', 'uncov', 'investig', 'payrol', 'structur', 'unearn', 'fide', 'nanga', 'yaound', 'repay', 'exemplari', 'mete', 'accomplic', 'criticis', 'transpar', 'lock', 'graft', 'pervas', 'visa', 'mandarin', 'knight', 'giev', 'perman', 'saga', 'lover', 'nanni', 'outgo', 'astonish', 'beggar', 'leoncia', 'casalm', 'applic', 'indefinit', 'budd', 'withheld', 'princip', 'span', 'knighthood', 'derek', 'wanless', 'undertook', 'natwest', 'nh', 'inspector', 'gcse', 'diploma', 'exam', 'written', 'christoph', 'lesli', 'elector', 'candidaci', 'younger', 'alex', 'folk', 'tabl', 'broad', 'amend', 'bernadett', 'devlin', 'understood', 'turnour', 'horsham', 'sandra', 'accompani', 'husband', 'helicopt', 'criss', 'hq', 'liam', 'fox', 'scrutini', 'bournemouth', 'fring', 'chariti', 'addact', 'chat', 'oracl', 'peoplesoft', 'acquir', 'merg', 'enterpris', 'redund', 'larri', 'ellison', 'correspond', 'placat', 'rile', 'funer', 'shrine', 'flower', 'candl', 'memorabilia', 'ogden', 'employe', 'anil', 'aggarw', 'databas', 'easygo', 'relax', 'atmospher', 'edgi', 'aggress', 'conduc', 'nasdaq', 'pirat', 'cannib', 'dominica', 'carib', 'caribbean', 'element', 'ancestor', 'practis', 'unavail', 'stood', 'conqueror', 'label', 'perpetu', 'dominican', 'diseas', 'colonis', 'indigen', 'crew', 'gara', 'revel', 'ronan', 'hail', 'aliv', 'lightli', 'hooker', 'shane', 'byrn', 'echo', 'defens', 'trust', 'driscol', 'sweeter', 'bounc', 'eddi', 'cueto', 'onsid', 'disallow', 'yard', 'offsid', 'gem', 'lineout', 'geordan', 'hicki', 'china', 'lent', 'yuganskneftega', 'kremlin', 'veb', 'chines', 'cnpc', 'vedomosti', 'opt', 'litig', 'sergei', 'oganesyan', 'indebt', 'unknown', 'unpaid', 'embattl', 'richest', 'evas', 'feed', 'thirst', 'crude', 'commod', 'leverag', 'dmitri', 'lukashov', 'brokerag', 'aton', 'properti', 'guarante', 'telecommun', 'tata', 'teleservic', 'km', 'faster', 'locat', 'permiss', 'pipe', 'sridharan', 'layout', 'imposs', 'roof', 'mile', 'premis', 'lightpoint', 'backbon', 'beam', 'puls', 'gbp', 'kbp', 'broadband', 'mbp', 'ideal', 'foggi', 'fog', 'expans', 'hp', 'revolut', 'carli', 'fiorina', 'hewlett', 'packard', 'converg', 'showcas', 'shelv', 'tech', 'democratis', 'deleg', 'seamlessli', 'lifestyl', 'guest', 'gwen', 'stefani', 'heavili', 'emphasi', 'theme', 'wearabl', 'rainbow', 'hue', 'relev', 'rington', 'simultan', 'hub', 'cartridg', 'scribe', 'customis', 'household', 'equat', 'eighti', 'keynot', 'mtv', 'bangkok', 'tsunami', 'disast', 'gig', 'outfit', 'rooster', 'concert', 'clip', 'swap', 'gsm', 'pound', 'belinda', 'henderson', 'hall', 'dip', 'persuad', 'intermiss', 'moscow', 'bankrupt', 'chapter', 'gazpromneft', 'misamor', 'letitia', 'promptli', 'unfriendli', 'destroy', 'mihkail', 'menatep', 'brando', 'godfath', 'marlon', 'repeatedli', 'schulberg', 'vaniti', 'glorifi', 'mafia', 'eventu', 'corleon', 'notori', 'nativ', 'pencil', 'moustach', 'alic', 'marchak', 'raft', 'fame', 'gangster', 'reluct', 'mutini', 'bounti', 'reviv', 'bernardo', 'bertolucci', 'tango', 'over', 'resembl', 'caan', 'duval', 'repris', 'tycoon', 'entir', 'nevzlin', 'israel', 'yuganskneftegaz', 'exil', 'barrel', 'recov', 'arrest', 'vladimir', 'putin', 'bankrol', 'narrow', 'cumul', 'eleven', 'on', 'durabl', 'offset', 'surplu', 'steadi', 'dale', 'prognosi', 'uncertain', 'danger', 'contin', 'greer', 'bulli', 'germain', 'housem', 'superior', 'cold', 'hungri', 'playground', 'irrespons', 'brigitt', 'nielsen', 'jacki', 'stallon', 'panick', 'badli', 'harm', 'feminist', 'taunt', 'mccririck', 'cola', 'drink', 'agenda', 'suitcas', 'nake', 'sex', 'pistol', 'lydon', 'eastend', 'danniella', 'westbrook', 'sunita', 'sharma', 'sandi', 'cum', 'dancer', 'bez', 'blazin', 'kenzi', 'ladbrok', 'warren', 'lush', 'dj', 'lisa', 'anson', 'evict', 'unexpectedli', 'donat', 'platon', 'lebedev', 'fertilis', 'absurd', 'contradict', 'embarrass', 'testimoni', 'divis', 'beer', 'brewer', 'flavour', 'spirit', 'breweri', 'search', 'downturn', 'drinker', 'sorrow', 'asahi', 'soybean', 'peptid', 'malt', 'shinnama', 'draft', 'yen', 'sapporo', 'suntori', 'happoshu', 'seawat', 'shochu', 'distil', 'alcohol', 'deriv', 'sweet', 'potato', 'barley', 'mainstay', 'kirin', 'parker', 'letter', 'decor', 'renaud', 'donnedieu', 'vabr', 'prais', 'cinema', 'thu', 'distinguish', 'midnight', 'express', 'guild', 'contemporari', 'dream', 'weav', 'cite', 'gale', 'spacey', 'verit', 'shrug', 'freez', 'childcar', 'matern', 'gloat', 'tape', 'wastealot', 'dross', 'tide', 'vincent', 'duck', 'complac', 'confront', 'evan', 'plausibl', 'rebutt', 'mandelson', 'nurseri', 'truli', 'older', 'counter', 'simon', 'sweetman', 'calder', 'finlay', 'sru', 'serious', 'hamper', 'rb', 'mackay', 'simmer', 'terribl', 'anybodi', 'transform', 'happier', 'profession', 'amateur', 'dismay', 'pull', 'matt', 'willi', 'anderson', 'acrimoni', 'scot', 'knack', 'disreput', 'disgrac', 'bite', 'soup', 'pizza', 'highburi', 'tunnel', 'ran', 'unthink', 'bolton', 'provoc', 'anyway', 'diplomat', 'feet', 'love', 'remind', 'phrase', 'gill', 'dein', 'boardroom', 'ensu', 'diatrib', 'pitch', 'nonsens', 'leagu', 'peacemak', 'stormi', 'ruud', 'nistelrooy', 'caught', 'reprimand', 'dutchman', 'aggressor', 'worst', 'loser', 'tend', 'paragon', 'virtu', 'nightmar', 'goldsmith', 'advic', 'baro', 'summari', 'solicitor', 'harriet', 'harman', 'qc', 'greenwood', 'irvin', 'lairg', 'mi', 'transcript', 'genuin', 'purport', 'cook', 'admiss', 'misl', 'dealt', 'marriag', 'philipp', 'sand', 'cheri', 'sanction', 'clare', 'ministeri', 'menzi', 'fullest', 'disclosur', 'biopic', 'talli', 'outstrip', 'recount', 'horror', 'grudg', 'michel', 'gellar', 'jennif', 'lopez', 'gere', 'shall', 'danc', 'acclaim', 'prestigi', 'globe', 'hackford', 'gentleman', 'mix', 'girlfriend', 'modem', 'blew', 'offlin', 'crash', 'depriv', 'resort', 'fax', 'pigeon', 'updat', 'properli', 'specifi', 'inadequ', 'xp', 'inadvert', 'sympathi', 'occasion', 'interconnected', 'instabl', 'unpredict', 'equival', 'godel', 'theorem', 'catastroph', 'reserv', 'judgment', 'disturb', 'excus', 'leak', 'lobbi', 'outbreak', 'legionnair', 'merit', 'ignor', 'unaccept', 'betray', 'ukip', 'outspent', 'slogan', 'mep', 'yorkshir', 'millionair', 'syke', 'billboard', 'powder', 'dri', 'glori', 'gunpowd', 'decre', 'cousin', 'huf', 'puf', 'disrespect', 'ruddock', 'poach', 'dragon', 'leinster', 'irfu', 'glad', 'keith', 'gleeson', 'och', 'overwork', 'pat', 'foresight', 'refere', 'earmark', 'hog', 'karl', 'mullen', 'clean', 'sweep', 'lansdown', 'yore', 'frighten', 'irishman', 'crumpl', 'mick', 'doyl', 'whitewash', 'downsiz', 'beast', 'salient', 'ladder', 'display', 'loyalti', 'repaid', 'spade', 'dog', 'verv', 'whisper', 'flamboy', 'hat', 'frontwoman', 'ana', 'matron', 'siouxsi', 'sioux', 'lp', 'sisterhood', 'mama', 'shortlist', 'peel', 'muse', 'mcfli', 'skinner', 'bandmat', 'toilet', 'ami', 'winehous', 'jamelia', 'sick', 'luca', 'walliam', 'barlow', 'donald', 'quip', 'kate', 'joy', 'frontman', 'chaplin', 'endur', 'gut', 'daniel', 'sibl', 'chaka', 'khan', 'gospel', 'choir', 'lemar', 'palmer', 'addict', 'geldof', 'speechless', 'yeah', 'blatant', 'facsimil', 'joke', 'heard', 'rob', 'lyric', 'greatest', 'deserv', 'groundbreak', 'presum', 'buzzcock', 'fallen', 'kinki', 'afro', 'mcalmont', 'tear', 'aw', 'sentiment', 'claptrap', 'inept', 'overr', 'cun', 'timescal', 'stairway', 'heaven', 'bohemian', 'rhapsodi', 'hollow', 'alright', 'travesti', 'bland', 'slushi', 'nose', 'depress', 'biass', 'novelti', 'kid', 'catergori', 'tiresom', 'soppi', 'boringli', 'mainstream', 'democraci', 'oh', 'loyal', 'hate', 'whenev', 'smile', 'sing', 'calm', 'seren', 'wuther', 'mantl', 'longev', 'soul', 'dislik', 'teen', 'aspir', 'orribl', 'mad', 'irrit', 'distract', 'wasp', 'picnic', 'asham', 'uninform', 'booo', 'hisss', 'whoever', 'knowledg', 'prior', 'insult', 'girl', 'load', 'crap', 'endless', 'bane', 'pavlovian', 'thrash', 'scream', 'bake', 'ditti', 'anthem', 'sop', 'sung', 'idol', 'musician', 'mediocr', 'realiz', 'nope', 'laughabl', 'poorli', 'brainwash', 'pulp', 'presnet', 'sadli', 'repertoir', 'snobbi', 'stanc', 'influenti', 'sincer', 'inspir', 'byrd', 'nick', 'drake', 'brilliantli', 'astound', 'clue', 'beauti', 'dull', 'lt', 'pleeeas', 'formul', 'frankli', 'embarass', 'nail', 'coffin', 'icon', 'lennon', 'jealou', 'hey', 'dust', 'karaok', 'diehard', 'appela', 'rounder', 'nice', 'catchi', 'tick', 'regress', 'proper', 'lacklust', 'pathet', 'bowi', 'etc', 'ridiculu', 'concept', 'sigh', 'upsid', 'goodlook', 'charismat', 'redifin', 'wed', 'britpop', 'oasi', 'sued', 'bargain', 'mogul', 'thoroughli', 'baffl', 'discis', 'artis', 'pointless', 'overplay', 'oversentiment', 'nostalgia', 'timeless', 'slightest', 'trouser', 'zambia', 'cautiou', 'kalusha', 'bwalya', 'cosafa', 'angola', 'lusaka', 'oldest', 'mauritiu', 'field', 'chipolopolo', 'trophi', 'knock', 'zambian', 'oversea', 'preliminari', 'palanca', 'negra', 'unabl', 'boxer', 'wine', 'sideway', 'bow', 'accomplish', 'annett', 'bene', 'nomine', 'farc', 'julia', 'ballot', 'border', 'rail', 'reopen', 'carlisl', 'tweedbank', 'borthwick', 'waverley', 'prosper', 'reintroduct', 'passeng', 'midlothian', 'tirelessli', 'reinstat', 'phase', 'hourli', 'gorebridg', 'freight', 'railway', 'longtown', 'davo', 'swiss', 'chairmanship', 'industrialis', 'jacqu', 'chirac', 'thabo', 'mbeki', 'ivori', 'peac', 'newli', 'palestinian', 'mahmoud', 'abba', 'showbiz', 'bono', 'angelina', 'joli', 'refuge', 'wef', 'mute', 'globalis', 'porto', 'alegr', 'outsourc', 'pricewaterhousecoop', 'iran', 'overbook', 'cancel', 'length', 'elaa', 'iata', 'deter', 'bump', 'fault', 'alert', 'preposter', 'ryanair', 'cawley', 'eraa', 'ec', 'mislead', 'liabl', 'marja', 'quillinan', 'meiland', 'grey', 'compli', 'reckon', 'disrupt', 'barrot', 'concret', 'regiment', 'battalion', 'alik', 'ratifi', 'geoff', 'hoon', 'reorganis', 'king', 'fusili', 'argyl', 'sutherland', 'colonel', 'merger', 'vision', 'amalgam', 'spark', 'outcri', 'casualti', 'threaten', 'heritag', 'importantli', 'envi', 'blueprint', 'eric', 'joyc', 'preserv', 'flexibl', 'duran', 'footag', 'krim', 'astronaut', 'rhode', 'stuff', 'le', 'bon', 'jeev', 'dwarf', 'googl', 'yahoo', 'resurg', 'doubleclick', 'unexpect', 'attribut', 'outperform', 'lit', 'literari', 'cowel', 'aloud', 'curti', 'caustic', 'cavanagh', 'harper', 'submit', 'synopsi', 'waysid', 'avenu', 'professor', 'ontario', 'canada', 'novelist', 'inaugur', 'excerpt', 'northwest', 'housew', 'simpson', 'enabl', 'strongest', 'freeview', 'fido', 'pet', 'regist', 'occup', 'combat', 'registr', 'sam', 'regardless', 'check', 'anecdot', 'inaccuraci', 'postal', 'redirect', 'retrac', 'warden', 'changeov', 'kosta', 'kenteri', 'katerina', 'thanou', 'provision', 'iaaf', 'tribun', 'gregori', 'ioannidi', 'refut', 'unsubstanti', 'illog', 'breach', 'correct', 'violat', 'persecut', 'tarnish', 'christo', 'tzeko', 'sydney', 'tester', 'villag', 'motorcycl', 'tel', 'aviv', 'chicago', 'suspens', 'explan', 'arbitr', 'hellen', 'konstantino', 'panagopoulo', 'panagioti', 'dimako', 'haralabo', 'hrisanthaki', 'stiliano', 'peraki', 'ioanni', 'karmi', 'allegedli', 'eyewit', 'gleneagl', 'perthshir', 'fairer', 'idealist', 'outcom', 'characterist', 'blunt', 'uncompromis', 'firefox', 'browser', 'await', 'fervour', 'steadili', 'mozilla', 'netscap', 'incarn', 'firebird', 'convert', 'ie', 'monitor', 'websidestori', 'slowli', 'erod', 'surfer', 'static', 'publicli', 'garner', 'brows', 'page', 'arrang', 'tab', 'neat', 'extens', 'toolbar', 'homeland', 'vocal', 'spread', 'opera', 'safari', 'amaya', 'chunk', 'hain', 'tyri', 'discourtesi', 'unintent', 'grave', 'hugh', 'dalton', 'carvel', 'sylvia', 'farrel', 'sitcom', 'scrub', 'blockbust', 'cameo', 'unruli', 'episod', 'friendship', 'zach', 'braff', 'ballykissangel', 'gentl', 'booth', 'daredevil', 'crockett', 'miami', 'nbc', 'heather', 'graham', 'perri', 'souness', 'graem', 'uefa', 'heerenveen', 'shearer', 'aggreg', 'nervou', 'magpi', 'bear', 'struck', 'goalkeep', 'tribut', 'laurent', 'unhappi', 'supplier', 'iceberg', 'tim', 'danton', 'tiscali', 'dissuad', 'subscript', 'withhold', 'practic', 'voluntari', 'ofcom', 'bewild', 'array', 'mull', 'suprem', 'copyright', 'infring', 'sharer', 'induc', 'piraci', 'rage', 'grokster', 'morpheu', 'illegitim', 'pursuit', 'hi', 'misgiv', 'attitud', 'submiss', 'unlaw', 'purpos', 'stifl', 'frontier', 'streamcast', 'landmark', 'optimist', 'uphold', 'preced', 'magna', 'carta', 'explos', 'shapiro', 'stephen', 'breyer', 'duplic', 'conceptu', 'overturn', 'souter', 'cea', 'cheapli', 'ossi', 'dead', 'marri', 'rubi', 'dee', 'beach', 'florida', 'activist', 'hernandez', 'grandson', 'paramed', 'shore', 'loui', 'purli', 'spike', 'lee', 'daze', 'fever', 'poitier', 'center', 'equiti', 'treasur', 'racial', 'equal', 'luther', 'jnr', 'malcolm', 'besid', 'nora', 'hasna', 'grandchildren', 'seamen', 'sail', 'biometr', 'cruis', 'liner', 'crystal', 'harmoni', 'holidaymak', 'balmi', 'breez', 'id', 'seafar', 'passport', 'ident', 'incorpor', 'barcod', 'holder', 'fingerprint', 'interoper', 'ilo', 'authenti', 'valid', 'ceo', 'cynthia', 'musselman', 'nigerian', 'sailor', 'wellb', 'safer', 'ocean', 'bruis', 'sock', 'gradual', 'ruck', 'problemat', 'upstair', 'advoc', 'territori', 'breakdown', 'simplifi', 'patienc', 'extent', 'encount', 'illus', 'meantim', 'rome', 'dutch', 'workforc', 'suiss', 'mortgag', 'hardest', 'shed', 'ivo', 'geijsen', 'oyen', 'eeghen', 'bloomberg', 'retrench', 'clive', 'woodward', 'lawrenc', 'dallaglio', 'zealand', 'compuls', 'benchmark', 'disadvantag', 'captainci', 'humili', 'potenc', 'customari', 'thorough', 'australia', 'jake', 'knee', 'trip', 'boat', 'drunk', 'okay', 'bing', 'snp', 'glenurquhart', 'inver', 'davidson', 'loch', 'ness', 'preach', 'rape', 'pub', 'chain', 'booz', 'clamp', 'incap', 'holyrood', 'sturgeon', 'gaff', 'stagger', 'withdraw', 'youngster', 'kieron', 'dyer', 'unbeaten', 'bowyer', 'carr', 'flank', 'header', 'wander', 'stelio', 'giannakopoulo', 'fluid', 'volley', 'pounc', 'loos', 'urgenc', 'keeper', 'jussi', 'jaaskelainen', 'midway', 'goalmouth', 'stride', 'downward', 'smart', 'jay', 'okocha', 'fernando', 'hierro', 'cynic', 'chop', 'midfield', 'escap', 'nearbi', 'curl', 'despair', 'allardyc', 'bitterli', 'heap', 'crack', 'scorelin', 'flatter', 'boumsong', 'brambl', 'babayaro', 'fay', 'jena', 'ameobi', 'sub', 'butt', 'milner', 'fadiga', 'gotti', 'ben', 'haim', 'candela', 'vaz', 'te', 'campo', 'gardner', 'jaidi', 'att', 'ref', 'dunn', 'gloucestershir', 'gerrard', 'liverpool', 'overtur', 'cheapen', 'sharpli', 'diabol', 'stevi', 'savour', 'anfield', 'beckon', 'steven', 'worthwhil', 'soap', 'coron', 'highbrow', 'filthi', 'shameless', 'libertin', 'shoe', 'shaun', 'poliakoff', 'bloodi', 'nighti', 'bennett', 'booker', 'hollinghurst', 'cloud', 'atla', 'abbott', 'lifetim', 'grang', 'amma', 'asant', 'hazel', 'blear', 'qualif', 'tougher', 'ihrc', 'salford', 'disproportion', 'experienc', 'religion', 'imam', 'civic', 'massoud', 'shadjareh', 'islamophobia', 'demonis', 'legitimis', 'backlash', 'ear', 'ethnic', 'victimis', 'payoff', 'judi', 'boynton', 'interven', 'advisor', 'jeroen', 'der', 'veer', 'mutual', 'incent', 'watt', 'walter', 'vijver', 'email', 'inquir', 'restat', 'machineri', 'reithof', 'cowley', 'outskirt', 'taper', 'vw', 'beetl', 'wernl', 'automot', 'cheapest', 'fork', 'cooper', 'spring', 'cheap', 'depreci', 'se', 'stewardship', 'rover', 'longbridg', 'mg', 'shanghai', 'saic', 'buffi', 'vampir', 'slayer', 'superhero', 'whedon', 'dc', 'heroin', 'linda', 'carter', 'paradis', 'bless', 'joel', 'trilog', 'legendari', 'dynam', 'reinvent', 'arena', 'screenplay', 'cult', 'spin', 'firefli', 'jk', 'banter', 'rundown', 'eject', 'we', 'reloc', 'ross', 'vike', 'hull', 'playboyz', 'maniac', 'granada', 'cheeki', 'laddish', 'punctuat', 'relianc', 'compact', 'vinyl', 'cassett', 'cd', 'grandma', 'plump', 'verbalici', 'stereophon', 'rapport', 'euthanasia', 'legalis', 'safeguard', 'inappropri', 'suicid', 'presumpt', 'omiss', 'duncan', 'nineti', 'petit', 'fellowship', 'cmf', 'lcf', 'saunder', 'advisori', 'patient', 'unwis', 'hasti', 'diagnosi', 'loophol', 'abus', 'unscrupul', 'lammi', 'dementia', 'strengthen', 'clariti', 'alzheim', 'mencap', 'autist', 'misunderstand', 'intensifi', 'neuron', 'dian', 'significantli', 'deepli', 'christma', 'broom', 'yeo', 'mansfield', 'somewher', 'possess', 'overseen', 'dawson', 'scrum', 'calf', 'gatland', 'leicest', 'moodi', 'gomarsal', 'elli', 'noon', 'sidelin', 'limp', 'saracen', 'stan', 'foreverman', 'spawn', 'hulk', 'collabor', 'screenwrit', 'brigg', 'pen', 'hellboy', 'franchis', 'pow', 'evergreen', 'marvel', 'lifelong', 'wallac', 'uca', 'caldwel', 'perceiv', 'enhanc', 'implic', 'exagger', 'unfamiliar', 'grasp', 'falsifi', 'disclos', 'coffe', 'quango', 'dan', 'slim', 'deregul', 'redwood', 'unwant', 'unnecessari', 'bonfir', 'unaccount', 'mushroom', 'abolish', 'gershon', 'bureaucraci', 'department', 'statutori', 'milk', 'westminst', 'licens', 'boiler', 'jacket', 'farmer', 'afford', 'rooney', 'joint', 'epidem', 'yearli', 'erad', 'deadliest', 'curabl', 'hiv', 'rightli', 'insepar', 'annum', 'pandem', 'flow', 'domenico', 'siniscalco', 'inocul', 'therebi', 'pharmaceut', 'actionaid', 'preoccup', 'wright', 'decim', 'slum', 'kenyan', 'nairobi', 'orphanag', 'tanzania', 'mozambiqu', 'cape', 'liken', 'marshal', 'navratilova', 'martina', 'prolong', 'damn', 'horn', 'nathali', 'dechi', 'uncl', 'tobi', 'hardcourt', 'daniela', 'hantuchova', 'leander', 'pae', 'surfac', 'algeria', 'riot', 'violent', 'el', 'watan', 'butan', 'dinar', 'canist', 'hike', 'resent', 'poorest', 'flare', 'bouira', 'kilometr', 'algier', 'western', 'tiaret', 'sidi', 'ammar', 'afp', 'maghnia', 'morocco', 'remot', 'mountain', 'propaganda', 'subsidis', 'lull', 'ancram', 'soften', 'veto', 'commentari', 'uncertainti', 'asylum', 'embargo', 'tiananmen', 'squar', 'massacr', 'bp', 'dividend', 'buyback', 'reap', 'discoveri', 'egypt', 'windfal', 'patent', 'linux', 'linu', 'torvald', 'california', 'kapor', 'licenc', 'ibm', 'corrobor', 'dubiou', 'wield', 'philpott', 'unleash', 'wmd', 'intellect', 'jill', 'intellectu', 'focker', 'stiller', 'niro', 'dustin', 'hoffman', 'barbra', 'streisand', 'dergarabedian', 'tracker', 'exhibitor', 'lemoni', 'snicket', 'fat', 'cosbi', 'carpet', 'probe', 'stain', 'griev', 'neill', 'praetorian', 'guard', 'elit', 'roman', 'emperor', 'gibson', 'quicker', 'unsur', 'sportsweek', 'hunger', 'quartet', 'newport', 'devonish', 'mbe', 'hamstr', 'sec', 'budapest', 'funkier', 'sake', 'insid', 'ericsson', 'bjorn', 'conveni', 'diari', 'tribe', 'materialist', 'sm', 'usag', 'impli', 'flop', 'phonecam', 'analogu', 'holiday', 'woven', 'ventur', 'rupe', 'kingfish', 'lager', 'vijay', 'mallya', 'froggatt', 'ale', 'foster', 'strongbow', 'kronenbourg', 'alcobev', 'bottl', 'redeem', 'aircraft', 'airbu', 'brainchild', 'nao', 'bourn', 'tendenc', 'legaci', 'eurofight', 'unrealist', 'overspend', 'procur', 'bach', 'undertaken', 'underli', 'tanker', 'nimrod', 'resons', 'successor', 'identif', 'foe', 'siff', 'angolan', 'reunit', 'luanda', 'sergio', 'gera', 'assign', 'calmer', 'grip', 'quest', 'ari', 'victoria', 'lapet', 'threw', 'suddenli', 'icrc', 'wambo', 'gazetta', 'tabloid', 'displac', 'landmin', 'dot', 'joaquim', 'sahundi', 'clearanc', 'mine', 'reunifi', 'soro', 'detach', 'lazi', 'overload', 'symptomat', 'searcher', 'grab', 'slice', 'yonca', 'brunini', 'queri', 'phenomenon', 'timer', 'hotbot', 'altavista', 'ur', 'holzl', 'trumpet', 'truer', 'commerc', 'woken', 'amazon', 'eyebal', 'plethora', 'outflank', 'battlefield', 'unlock', 'gigabyt', 'clumsi', 'catalogu', 'tailor', 'holi', 'grail', 'hewitt', 'dent', 'adelaid', 'lleyton', 'juan', 'ignacio', 'chela', 'olivi', 'rochu', 'kiefer', 'joachim', 'johansson', 'thoma', 'enqvist', 'melbourn', 'diageo', 'californian', 'chalon', 'smirnoff', 'vodka', 'guin', 'stout', 'winemak', 'chateau', 'estat', 'regulatori', 'demograph', 'consumpt', 'ivan', 'menez', 'turnov', 'weaker', 'paranoid', 'schizophren', 'unguard', 'carstair', 'rhona', 'brankin', 'clarif', 'safeti', 'kilbrid', 'authoris', 'restrict', 'routin', 'apport', 'urgent', 'unescort', 'specialis', 'minimis', 'mcletchi', 'psychiatr', 'conjunct', 'coatbridg', 'fianc', 'annabella', 'lanarkshir', 'in', 'tall', 'blond', 'hair', 'complexion', 'jean', 'fade', 'strathclyd', 'sergeant', 'mcdonald', 'neeson', 'ridgeway', 'dilapid', 'healthi', 'wealthi', 'fundrais', 'schindler', 'phantom', 'crumbl', 'malley', 'belisha', 'beacon', 'shakespear', 'yeat', 'stranmilli', 'embank', 'overlook', 'lagan', 'dunbar', 'rea', 'playwright', 'lynch', 'soho', 'belong', 'glen', 'antrim', 'childhood', 'paisley', 'dup', 'preacher', 'sermon', 'orat', 'bibl', 'thump', 'righteous', 'thaw', 'protocol', 'egyptian', 'isra', 'cairo', 'zone', 'compon', 'stall', 'spi', 'hosni', 'mubarak', 'ariel', 'sharon', 'settlement', 'remedi', 'henin', 'hardenn', 'elena', 'dementieva', 'upset', 'honest', 'sveta', 'safin', 'aussi', 'marat', 'tight', 'reel', 'sudden', 'iea', 'opec', 'brent', 'beleagu', 'orin', 'middleton', 'barclay', 'emi', 'sunk', 'coldplay', 'gorillaz', 'constant', 'alain', 'levi', 'stabilis', 'exact', 'coincid', 'reschedul', 'numi', 'downgrad', 'debit', 'plastic', 'toppl', 'apac', 'transact', 'groceri', 'supermarket', 'tesco', 'cromwel', 'branch', 'infant', 'gosport', 'roost', 'shopper', 'barclaycard', 'jemma', 'citigroup', 'trader', 'bafin', 'tokyo', 'flout', 'launder', 'jamaica', 'jamaican', 'regain', 'ail', 'stewart', 'viabl', 'catalyst', 'omar', 'pilot', 'hingi', 'competitv', 'volvo', 'pattaya', 'thailand', 'marlen', 'weingartn', 'filderstadt', 'thaliand', 'beverley', 'sang', 'haunt', 'bass', 'roni', 'charlen', 'letisha', 'mercuri', 'glamoris', 'firearm', 'aston', 'sleep', 'donna', 'asha', 'jama', 'hometown', 'bird', 'defiant', 'hound', 'scent', 'clash', 'facial', 'ashford', 'wiltshir', 'bail', 'greet', 'hoey', 'cruel', 'hobday', 'postbridg', 'dartmoor', 'sarah', 'mukherje', 'beaufort', 'badminton', 'horseback', 'rural', 'hunstman', 'turnout', 'prevail', 'judith', 'moritz', 'melton', 'mowbray', 'leicestershir', 'outnumb', 'unpick', 'temporari', 'repeal', 'suffolk', 'mcwhirter', 'henman', 'rusedski', 'greg', 'dubai', 'clinch', 'alarm', 'racket', 'disgust', 'umpir', 'igor', 'andreev', 'afterward', 'merritt', 'lashawn', 'fayettevil', 'bershawn', 'arkansa', 'bernard', 'lagat', 'quickest', 'nate', 'brannen', 'inferior', 'moroccan', 'hicham', 'guerrouj', 'eamonn', 'coghlan', 'kenenisa', 'bekel', 'ethiopian', 'marko', 'geneti', 'piero', 'perspect', 'analysi', 'camp', 'flung', 'incens', 'painter', 'della', 'francesco', 'angl', 'precis', 'telemetr', 'render', 'townsend', 'insight', 'monsanto', 'briberi', 'agrochem', 'indonesian', 'cotton', 'indonesia', 'invoic', 'genet', 'waiv', 'crop', 'jakarta', 'wray', 'complianc', 'labor', 'dow', 'thayer', 'ag', 'empow', 'macintosh', 'eaton', 'vanc', 'kathleen', 'utgoff', 'bureau', 'hurrican', 'temporarili', 'kany', 'shrewd', 'grammi', 'z', 'alicia', 'jaw', 'wire', 'shut', 'subsequ', 'colleg', 'dropout', 'transatlant', 'rhyme', 'dmc', 'mase', 'madd', 'superstar', 'roc', 'fella', 'roster', 'izzo', 'hova', 'bonni', 'clyde', 'ludacri', 'anytim', 'sink', 'smooth', 'humor', 'clich', 'jewelleri', 'jamz', 'twista', 'mobo', 'regret', 'irb', 'analys', 'kaplan', 'zurich', 'backsid', 'inquest', 'wsi', 'rollout', 'solitari', 'obtain', 'solidar', 'sixti', 'workmanlik', 'stringer', 'ludovico', 'nitoglia', 'luciano', 'orquera', 'kickabl', 'sparkl', 'dummi', 'dive', 'roland', 'marigni', 'hapless', 'horgan', 'overhead', 'scoot', 'tricki', 'apiec', 'rumbl', 'maul', 'latch', 'arci', 'castrogiovanni', 'bergamasco', 'canal', 'masi', 'troncon', 'cicero', 'ongaro', 'dellap', 'bortolami', 'persico', 'pariss', 'perugini', 'intoppa', 'del', 'fava', 'dal', 'maso', 'griffen', 'pozzebon', 'robertson', 'corrigan', 'hay', 'connel', 'easterbi', 'leami', 'foley', 'sheahan', 'horan', 'miller', 'humphrey', 'dempsey', 'brien', 'vandal', 'hacker', 'exclus', 'georgewbush', 'com', 'netcraft', 'proxi', 'akamai', 'prettejohn', 'usa', 'sevil', 'unassail', 'valencia', 'nicknam', 'charli', 'outset', 'jordi', 'arres', 'mallorcan', 'patrick', 'mcenro', 'hone', 'smarter', 'constantli', 'courter', 'forrest', 'lenovo', 'yate', 'aquariu', 'suprnova', 'org', 'bittorr', 'torrent', 'mpaa', 'raid', 'dampen', 'passion', 'christ', 'fahrenheit', 'necessarili', 'napoleon', 'dynamit', 'spiderman', 'jeff', 'blake', 'slate', 'upper', 'inc', 'spar', 'metr', 'lester', 'richardson', 'guidanc', 'mount', 'everest', 'terrifi', 'coe', 'cram', 'ovett', 'lotteri', 'class', 'erfurt', 'dmitriy', 'bogdanov', 'arnoud', 'okken', 'reina', 'unfaz', 'elev', 'unchang', 'brc', 'frost', 'bcc', 'dismal', 'outlook', 'consider', 'mccafferti', 'gaug', 'juggl', 'inflationari', 'buoyant', 'abrupt', 'gloomi', 'unrevis', 'confound', 'eef', 'wane', 'rebal', 'radley', 'deterior', 'soil', 'bell', 'irrelev', 'recept', 'buzz', 'hind', 'dehiba', 'cherkasova', 'glazer', 'rio', 'shine', 'incur', 'magnier', 'mcmanu', 'wareham', 'insur', 'comptrol', 'hevesi', 'overse', 'elson', 'delawar', 'shockwav', 'manhattan', 'allen', 'areen', 'aycock', 'bobbitt', 'clifford', 'stile', 'kellett', 'macklin', 'porter', 'tucker', 'sidgmor', 'wsj', 'bert', 'galesi', 'unearth', 'oversaw', 'melcher', 'terri', 'ry', 'cooder', 'dori', 'kokomo', 'cocktail', 'tambourin', 'beverli', 'skin', 'cancer', 'columbia', 'gram', 'parson', 'papa', 'chord', 'charit', 'manson', 'rent', 'discount', 'malibu', 'rig', 'unseal', 'warehous', 'count', 'ward', 'mawrey', 'midland', 'muhammad', 'afzal', 'moham', 'kazi', 'misus', 'sukul', 'counsel', 'petition', 'drove', 'birch', 'envelop', 'scatter', 'seiz', 'seizur', 'yellow', 'neatli', 'interrupt', 'forg', 'bordesley', 'conspir', 'deceiv', 'capra', 'springer', 'jon', 'thoday', 'workshop', 'gift', 'philip', 'doren', 'stern', 'electrolux', 'applianc', 'counti', 'durham', 'lawn', 'newton', 'aycliff', 'cooker', 'oven', 'spennymoor', 'aeg', 'zanussi', 'frigidair', 'han', 'straberg', 'ulf', 'carlsson', 'detent', 'judgement', 'heath', 'unpreced', 'unequivoc', 'conting', 'detaine', 'unsatisfactori', 'overst', 'bingham', 'incompat', 'discrimin', 'nichol', 'birkenhead', 'imprison', 'anathema', 'bullish', 'cornerston', 'napier', 'clearer', 'receipt', 'overestim', 'emmerson', 'wash', 'investec', 'ditch', 'beg', 'watersh', 'thatcherit', 'wreck', 'spontan', 'privi', 'disappear', 'leaflet', 'amf', 'rene', 'fourtou', 'upheld', 'marvin', 'cegetel', 'messier', 'worn', 'earliest', 'shook', 'bonham', 'butterfield', 'erik', 'thorn', 'nogar', 'divulg', 'rca', 'master', 'ass', 'saver', 'crisper', 'kewel', 'tendin', 'fulham', 'bayer', 'leverkusen', 'mandic', 'discomfort', 'durban', 'connor', 'lta', 'manga', 'crowther', 'arvind', 'parmar', 'keothavong', 'workout', 'instil', 'felgat', 'humbl', 'input', 'revers', 'gref', 'kommers', 'unjustifi', 'swindl', 'baikal', 'hustler', 'andrei', 'illarionov', 'strip', 'nationalis', 'iliaronov', 'ineffect', 'pour', 'water', 'qualit', 'threshold', 'uprat', 'boateng', 'empt', 'deadlin', 'verwaayen', 'lighter', 'loop', 'bandwidth', 'ovum', 'lavend', 'isp', 'strafford', 'panayi', 'surf', 'ipstream', 'robust', 'unbundl', 'beef', 'workplac', 'tinker', 'scrap', 'beaumont', 'bonu', 'moral', 'indefens', 'enthusiasm', 'barri', 'sheerman', 'riski', 'lender', 'clarifi', 'lake', 'vadim', 'mitroshin', 'clampdown', 'microsystem', 'grid', 'schwartz', 'buck', 'webcast', 'protein', 'fold', 'solari', 'idl', 'dayanidhi', 'maran', 'communist', 'coalit', 'manmohan', 'singh', 'kobita', 'desai', 'fdi', 'ignit', 'ernst', 'sanjay', 'mehta', 'bharti', 'televentur', 'singapor', 'essar', 'hong', 'hutchison', 'whampoa', 'novarti', 'drugmak', 'sandoz', 'hexal', 'eon', 'overtak', 'teva', 'expir', 'consolid', 'fragment', 'birgit', 'kuhlhoff', 'sal', 'oppenheim', 'strang', 'gwent', 'hal', 'luscomb', 'neath', 'swansea', 'osprey', 'ryan', 'blindsid', 'flanker', 'scorer', 'bench', 'gough', 'rhi', 'stade', 'unlucki', 'firmli', 'bold', 'toulous', 'capt', 'shanklin', 'henson', 'clermont', 'auvergn', 'llanelli', 'jenkin', 'cockbain', 'sidoli', 'owen', 'mcbryde', 'yapp', 'sowden', 'sweeney', 'ginepri', 'fifteen', 'wildcard', 'dispatch', 'decept', 'hyung', 'taik', 'jan', 'gambil', 'kim', 'hernych', 'republ', 'canadian', 'dancev', 'morrison', 'kenneth', 'carlsen', 'irakli', 'labadz', 'georgia', 'goldstein', 'andr', 'agassi', 'collegi', 'mardi', 'fish', 'mayor', 'retract', 'jibe', 'ken', 'livingston', 'weekli', 'ioc', 'panic', 'flap', 'assembl', 'abdic', 'wedg', 'horrif', 'jew', 'freelanc', 'finegold', 'ah', 'woo', 'liff', 'francoi', 'theodor', 'clara', 'furs', 'werner', 'seifert', 'undervalu', 'suitor', 'luxembourg', 'clearstream', 'jamieson', 'bigot', 'soccer', 'cathi', 'sectarian', 'parkhead', 'church', 'tension', 'troublesom', 'taint', 'troublemak', 'hatr', 'boil', 'incit', 'decorum', 'lenient', 'islero', 'bull', 'bullfight', 'manolet', 'scapegoat', 'verdict', 'flore', 'marca', 'argonaut', 'cambridg', 'monster', 'morphem', 'obe', 'starfox', 'potter', 'edgwar', 'kentish', 'rubin', 'salut', 'ruin', 'stockmarket', 'dairi', 'creditor', 'finanziaria', 'lawmak', 'enrico', 'bondi', 'specialist', 'quotat', 'apcom', 'enthral', 'impair', 'travi', 'macintyr', 'mmorpg', 'motto', 'shame', 'stanton', 'huddersfield', 'monger', 'pong', 'atari', 'pastim', 'unhealthi', 'distress', 'scope', 'everquest', 'ultima', 'epic', 'infinit', 'grind', 'mindless', 'ended', 'eq', 'evercrack', 'hayot', 'blogzin', 'hobbi', 'fraction', 'descend', 'blog', 'jane', 'chronicl', 'rend', 'mmoprg', 'bed', 'ummm', 'ya', 'widow', 'comed', 'funni', 'restless', 'sadder', 'marginalis', 'stretch', 'distinct', 'delet', 'rpg', 'sorround', 'mighti', 'sword', 'irretriev', 'hook', 'unhealthili', 'guilt', 'hehe', 'till', 'hobbl', 'bladder', 'toast', 'smoke', 'endlessli', 'adict', 'illusori', 'mirag', 'thirti', 'dysfunct', 'absorb', 'restart', 'midday', 'hark', 'hardcor', 'alot', 'graduat', 'pretend', 'henc', 'silli', 'standpoint', 'pit', 'scari', 'marrag', 'galaxi', 'attest', 'exponenti', 'jedi', 'saniti', 'unproduct', 'vacuum', 'vivid', 'upto', 'stat', 'evermor', 'ogr', 'somehow', 'hell', 'recreat', 'succesful', 'outlaw', 'willpow', 'adrenalin', 'furthermor', 'cafe', 'reccomend', 'counsellor', 'frag', 'relas', 'hr', 'strictli', 'enviro', 'dont', 'undeni', 'stare', 'swiftli', 'trifl', 'meaningless', 'ahhhh', 'lol', 'lill', 'destin', 'victorian', 'chambr', 'coal', 'beck', 'crespel', 'armentier', 'bolt', 'hugu', 'charbonni', 'enlarg', 'vanish', 'freder', 'sawicki', 'crossroad', 'eurozon', 'rotterdam', 'holland', 'huisman', 'itrec', 'sunken', 'submarin', 'kursk', 'henk', 'addink', 'mire', 'powerhous', 'bloc', 'siemen', 'boscholt', 'cordless', 'hungari', 'herbert', 'stueker', 'helmut', 'schneider', 'bonn', 'kay', 'ricki', 'gervai', 'comedian', 'tamsin', 'greig', 'riser', 'fri', 'norton', 'coogan', 'cow', 'kumar', 'vicar', 'dibley', 'tiger', 'stutter', 'oxymoron', 'skipper', 'wtih', 'kerosen', 'susilo', 'bambang', 'yudhoyono', 'homeless', 'aceh', 'earthquak', 'rupiah', 'sri', 'mulyani', 'indrawati', 'rachel', 'megawati', 'sukarnoputri', 'niesr', 'viabil', 'strongli', 'upsw', 'intact', 'robustli', 'horizon', 'fret', 'gsk', 'smuggl', 'pill', 'glaxosmithklin', 'humanitarian', 'divert', 'wealthier', 'coat', 'dye', 'glaxo', 'arnold', 'congratul', 'filmmak', 'mckendri', 'ashvin', 'bafta', 'drastic', 'babysitt', 'sundanc', 'dartford', 'powel', 'johnni', 'heel', 'heavier', 'nonetheless', 'dwell', 'parcel', 'opensid', 'scaveng', 'hitter', 'forefront', 'tussl', 'deck', 'gear', 'orang', 'odeon', 'keanu', 'reev', 'glitter', 'glamour', 'gael', 'garcia', 'bernal', 'imelda', 'staunton', 'kruger', 'slater', 'anjelica', 'huston', 'mirren', 'pierc', 'brosnan', 'etern', 'sunshin', 'spotless', 'neverland', 'vera', 'gritti', 'backstreet', 'abortionist', 'charliz', 'theron', 'ziyi', 'zhang', 'dagger', 'winslet', 'nod', 'carrey', 'depp', 'natali', 'portman', 'craney', 'cristi', 'meryl', 'streep', 'mann', 'gondri', 'marc', 'jobseek', 'nevertheless', 'hoover', 'egelton', 'bmo', 'mayland', 'clearview', 'unedit', 'marsh', 'mclennan', 'lessen', 'eliot', 'spitzer', 'trident', 'mmc', 'cherkaski', 'misde', 'fitch', 'defi', 'quak', 'gloom', 'batter', 'livelihood', 'tragedi', 'mess', 'strategist', 'wong', 'bombay', 'seng', 'lanka', 'baht', 'sontaya', 'kunplom', 'phuket', 'nari', 'chaiyasoot', 'maldiv', 'peril', 'ahm', 'shahe', 'spywar', 'preventon', 'stereotyp', 'vigil', 'goosen', 'particuarli', 'dial', 'dialler', 'surreptiti', 'firewal', 'rarer', 'gang', 'naiv', 'assum', 'unprotect', 'napster', 'outmod', 'bundl', 'newer', 'myer', 'wippit', 'janu', 'beta', 'unlimit', 'playabl', 'unsubscrib', 'lister', 'flock', 'jude', 'deconstruct', 'zeitgeist', 'remak', 'dudley', 'moor', 'merchant', 'refin', 'bitch', 'flanim', 'batman', 'leapfrog', 'prestig', 'laggard', 'wim', 'kok', 'incept', 'conclus', 'synonym', 'quo', 'ink', 'scarc', 'bubbl', 'implod', 'compel', 'hofheinz', 'inclus', 'prioritis', 'anymor', 'emul', 'backseat', 'unchart', 'sacrif', 'altar', 'manuel', 'barroso', 'richter', 'optinrealbig', 'seoul', 'municip', 'borama', 'contend', 'maneuv', 'sic', 'relentless', 'loom', 'thwart', 'culmin', 'mammal', 'quorn', 'revolv', 'invalid', 'unenforc', 'rspca', 'liberti', 'arbitrarili', 'whim', 'carlil', 'deport', 'woodhil', 'interne', 'gareth', 'broadmoor', 'unfold', 'thrust', 'multimedia', 'thinner', 'joseph', 'shipment', 'blank', 'lcd', 'dvr', 'pvr', 'buoy', 'audio', 'commonplac', 'telephoni', 'wherev', 'extern', 'flash', 'sd', 'mentor', 'gebrselassi', 'stranger', 'mulugeta', 'wondimu', 'abiyot', 'abat', 'lacklustr', 'yelena', 'isinbayeva', 'miseri', 'centimetr', 'agn', 'samaria', 'blatantli', 'unsettl', 'ronald', 'pognon', 'unnot', 'melani', 'meseret', 'defar', 'hennigar', 'uncomfort', 'breath', 'hodg', 'scarlet', 'eagl', 'stradey', 'tore', 'pector', 'gallach', 'wherebi', 'invigor', 'enorm', 'ajax', 'jol', 'koeman', 'vacant', 'arnesen', 'johann', 'cruyff', 'barcelona', 'rfc', 'waalwijk', 'santini', 'tonni', 'bruin', 'krol', 'ppi', 'michigan', 'baromet', 'slight', 'volatil', 'swung', 'greenspan', 'rebound', 'quinlan', 'stategist', 'downshift', 'overshadow', 'impetu', 'cherney', 'shepherdson', 'frequenc', 'glanc', 'da', 'vinci', 'lousi', 'bestsel', 'clergyman', 'jesu', 'crucifi', 'magdalen', 'bishop', 'rt', 'rev', 'thriller', 'theori', 'fantasis', 'biblic', 'astonishingli', 'manuscript', 'virgil', 'tacitu', 'coher', 'cottag', 'seller', 'hank', 'qatar', 'sheikhdom', 'lng', 'exxonmobil', 'qatarga', 'tonn', 'forese', 'cubic', 'onward', 'creditworthi', 'bb', 'bhanu', 'baweja', 'ub', 'grade', 'bbb', 'romania', 'salvador', 'lionel', 'richi', 'diana', 'dylan', 'springsteen', 'famin', 'commonwealth', 'paterson', 'dour', 'murrayfield', 'outmuscl', 'outplay', 'tens', 'sean', 'lamont', 'touchdown', 'boot', 'azzurri', 'wayward', 'equalis', 'foray', 'snatch', 'wore', 'squander', 'sloppi', 'fizzl', 'psycholog', 'shave', 'upright', 'pendulum', 'swing', 'wriggl', 'wilt', 'kirwan', 'laugh', 'webster', 'craig', 'southwel', 'cusit', 'bulloch', 'kerr', 'grime', 'murray', 'petri', 'hogg', 'hine', 'hinshelwood', 'mirco', 'stoica', 'f', 'ca', 'orlando', 'pedrazzi', 'kp', 'mcgraw', 'punk', 'vertigo', 'ellen', 'degener', 'christin', 'milian', 'latifah', 'stapl', 'intervent', 'telegraph', 'peston', 'animos', 'undermin', 'serialis', 'prescott', 'suspicion', 'manoeuvr', 'profound', 'mistrust', 'rift', 'outdo', 'rivalri', 'gmtv', 'cameron', 'witney', 'dirti', 'carol', 'walker', 'nem', 'interconnect', 'alcatel', 'thomson', 'telefonica', 'pragmat', 'encompass', 'pipelin', 'drm', 'unplay', 'provis', 'mourinho', 'nou', 'blip', 'honeymoon', 'iseq', 'eircom', 'benign', 'roy', 'asher', 'hibernian', 'valuat', 'mcalinden', 'ncb', 'stockbrok', 'miracl', 'markedli', 'spectacular', 'defect', 'impecc', 'defector', 'taxat', 'eager', 'breakfast', 'disagr', 'stalk', 'meyer', 'pave', 'clwyd', 'wound', 'normandi', 'erni', 'wise', 'landlin', 'katherin', 'dock', 'newburi', 'curri', 'cellnet', 'caudwel', 'briefcas', 'yuppi', 'eavesdrop', 'planet', 'advent', 'roam', 'gregan', 'hemispher', 'stud', 'wallabi', 'springbok', 'tana', 'umaga', 'schalk', 'burger', 'shaken', 'smit', 'cobu', 'visagi', 'victor', 'matfield', 'fouri', 'fabien', 'pelou', 'dwayn', 'ceri', 'wru', 'macqueen', 'cohen', 'traill', 'villier', 'ibanez', 'latham', 'lima', 'samoa', 'sa', 'bobo', 'fiji', 'mehrten', 'nz', 'au', 'hoeft', 'waugh', 'kefu', 'taukafa', 'tonga', 'guinazu', 'sititi', 'palepoi', 'rauluni', 'delport', 'slovakia', 'hopman', 'perth', 'gisela', 'dulko', 'dominik', 'hrbati', 'coria', 'sore', 'grew', 'karol', 'kucera', 'karina', 'habsudova', 'lokitorr', 'dalla', 'stark', 'unspecifi', 'edonkey', 'stunt', 'facilit', 'directconnect', 'hillbilli', 'scoggin', 'texan', 'ballad', 'jed', 'clampett', 'daugher', 'misel', 'bluegrass', 'flatt', 'earl', 'scrugg', 'guitar', 'banjo', 'pentagon', 'contrack', 'arlington', 'envis', 'manner', 'pco', 'subcontractor', 'col', 'schnaibl', 'earner', 'uncost', 'reintroduc', 'dental', 'stealth', 'empti', 'courag', 'batch', 'elan', 'biogen', 'idec', 'plung', 'sclerosi', 'tysabri', 'avonex', 'multifoc', 'leukoencephalopathi', 'pml', 'evalu', 'dose', 'goodbodi', 'phytopharm', 'yamanouchi', 'unbecom', 'extraordinarili', 'nicki', 'gavron', 'doorstep', 'predomin', 'gay', 'moot', 'keaton', 'nois', 'twelv', 'unremittingli', 'chatham', 'ideolog', 'disun', 'centrepiec', 'ofnew', 'justfor', 'theirfamili', 'radicallyimprov', 'infight', 'obstruct', 'overnight', 'rat', 'mous', 'rabbit', 'hare', 'blanket', 'barrist', 'quarri', 'farquhar', 'ham', 'prevar', 'otter', 'badger', 'bait', 'ibg', 'reai', 'luiz', 'inacio', 'lula', 'silva', 'julio', 'hegedu', 'lope', 'filho', 'janeir', 'leftist', 'surprisingli', 'metropolitan', 'sao', 'paolo', 'janeiro', 'belo', 'horizont', 'recif', 'psychologist', 'denis', 'commene', 'moorcroft', 'javelin', 'thrower', 'backley', 'marin', 'pe', 'judo', 'fulfil', 'karat', 'arduou', 'icm', 'ofst', 'notion', 'rodger', 'guitarist', 'ash', 'fender', 'stratocast', 'chemistri', 'blindingli', 'induct', 'rave', 'ive', 'bassist', 'rocker', 'supergroup', 'crimson', 'mott', 'hoopl', 'zeppelin', 'kenni', 'guantanamo', 'bay', 'mubanga', 'consign', 'cuba', 'wembley', 'interrog', 'daub', 'urin', 'cave', 'reconnaiss', 'louis', 'misfeas', 'collud', 'kidnap', 'freed', 'mattress', 'metal', 'mop', 'bitter', 'tortur', 'enemi', 'jakobi', 'reveng', 'sith', 'darkest', 'cb', 'unsuit', 'pg', 'roughli', 'clone', 'prequel', 'heroic', 'anakin', 'skywalk', 'darth', 'vader', 'compos', 'erupt', 'volcano', 'molten', 'lava', 'pact', 'devil', 'chaotic', 'blind', 'bent', 'generos', 'quota', 'hannah', 'seeker', 'workabl', 'hotspot', 'broadreach', 'skype', 'wi', 'conferenc', 'connectotel', 'virgin', 'megastor', 'travelodg', 'termin', 'magnu', 'mcewen', 'shorter', 'wavelength', 'versu', 'jvc', 'matsushita', 'twentieth', 'corbett', 'barker', 'quiz', 'clever', 'bemoan', 'sacha', 'baron', 'ali', 'sofa', 'veget', 'swear', 'bespectacl', 'sketchbook', 'sketch', 'temperament', 'fractiou', 'fussi', 'libya', 'unfrozen', 'libyan', 'tripoli', 'lockerbi', 'farhat', 'gadaravic', 'regan', 'deem', 'banker', 'unfreez', 'finest', 'nathan', 'todd', 'goat', 'albe', 'pillowman', 'mcdonagh', 'pam', 'ferri', 'hamilton', 'reilli', 'bud', 'griffith', 'hector', 'luc', 'mcburney', 'rufu', 'norri', 'festen', 'macneil', 'kalman', 'arditti', 'hildegard', 'bechtler', 'iphigenia', 'auli', 'milton', 'shulman', 'romola', 'garai', 'calico', 'redmayn', 'wishaw', 'hamlet', 'eldridg', 'rebecca', 'lenkiewicz', 'wintour', 'bursari', 'speedi', 'megabit', 'finger', 'idc', 'differenti', 'wanadoo', 'timet', 'ntl', 'telewest', 'tyranni', 'frederick', 'forsyth', 'dictatorship', 'scruffi', 'adolf', 'hitler', 'yearn', 'winston', 'churchil', 'baltic', 'adriat', 'curtain', 'psychopath', 'josef', 'stalin', 'berlin', 'blockad', 'shelter', 'precaut', 'futil', 'seventi', 'fatah', 'ira', 'inla', 'policemen', 'tyrant', 'humanli', 'secret', 'covert', 'juri', 'terroris', 'immun', 'habea', 'corpu', 'fundament', 'sleeper', 'fanat', 'penetr', 'mover', 'fascism', 'shatter', 'compass', 'fascist', 'detect', 'rake', 'obscur', 'flimsi', 'villain', 'overli', 'oppress', 'belmarsh', 'mandatori', 'readili', 'gchq', 'ny', 'biolog', 'kilo', 'semtex', 'flatten', 'plutonium', 'hysteria', 'apathet', 'migrat', 'riddl', 'meddl', 'publicis', 'invis', 'roughshod', 'adequ', 'erron', 'scant', 'ricin', 'poison', 'authoritarian', 'totalitarian', 'preciou', 'wholeheartedli', 'spill', 'blood', 'orwel', 'surveil', 'bomber', 'deadli', 'nuke', 'forgotten', 'misguid', 'verbalis', 'sat', 'miscarriag', 'indiscrimin', 'blitz', 'durat', 'likelihood', 'fundamentalist', 'lunat', 'sinist', 'isl', 'craftili', 'whittl', 'provok', 'fanatic', 'jefferson', 'distort', 'toll', 'wwii', 'syria', 'hobb', 'proposit', 'libertarian', 'philosoph', 'surrend', 'sovereign', 'barbar', 'roundli', 'collus', 'loyalist', 'justif', 'systemat', 'superfici', 'denunci', 'smack', 'ceausescu', 'someday', 'indetermin', 'utter', 'wholeheart', 'dupe', 'paranoia', 'persuas', 'insidi', 'fanfar', 'par', 'burma', 'anim', 'zimbabw', 'hypocrisi', 'qur', 'aan', 'prophet', 'survivor', 'canari', 'wharf', 'notwithstand', 'assassin', 'brighton', 'retaliatori', 'derog', 'undu', 'statut', 'neuter', 'eloqu', 'applaus', 'limbo', 'agonis', 'blogger', 'fuss', 'implement', 'disastr', 'sainsburi', 'outlin', 'disregard', 'coder', 'byron', 'pilgrimag', 'poem', 'brilliant', 'lzw', 'gif', 'eola', 'apach', 'gnu', 'fearsom', 'qwest', 'sbc', 'trailblaz', 'rational', 'underpin', 'mixtur', 'telekom', 'oao', 'telesystem', 'semin', 'hann', 'wittig', 'stiffen', 'hk', 'wafer', 'unprofit', 'espionag', 'fbi', 'gov', 'recipi', 'questionnair', 'solicit', 'phoney', 'unrel', 'stir', 'corri', 'josh', 'lewsey', 'banish', 'supercharg', 'blusteri', 'jersey', 'hodgson', 'halfway', 'coolli', 'bisect', 'willing', 'talisman', 'recycl', 'interv', 'touchlin', 'kicker', 'pin', 'indiscret', 'shortliv', 'upfield', 'deft', 'fumbl', 'spoon', 'magg', 'rowntre', 'grewcock', 'worsley', 'titterrel', 'mumbai', 'blast', 'hussain', 'zaidi', 'anurag', 'kashyap', 'mihir', 'maje', 'memon', 'silicon', 'paniccia', 'photon', 'haisheng', 'rong', 'ansheng', 'liu', 'ode', 'dani', 'hak', 'fang', 'fibr', 'gallium', 'arsenid', 'volum', 'amplif', 'crystallin', 'collid', 'errant', 'conductor', 'imbal', 'illiber', 'winnabl', 'jacqui', 'purs', 'dearli', 'patricia', 'patern', 'carer', 'grandpar', 'deduct', 'eff', 'mac', 'unreleas', 'asteroid', 'kurt', 'opsahl', 'outlet', 'appleinsid', 'powerpag', 'nfox', 'gradi', 'dean', 'gillmor', 'valley', 'teag', 'leipzig', 'simm', 'withdrew', 'brim', 'wolfram', 'sparkassen', 'q', 'streetwis', 'revelatori', 'flair', 'unforc', 'razorlight', 'dizze', 'rascal', 'zuton', 'estel', 'stem', 'sexual', 'misconduct', 'philadelphia', 'insuffici', 'jr', 'castor', 'unidentifi', 'dolor', 'troiani', 'krispi', 'kreme', 'doughnut', 'dunk', 'repurchas', 'leas', 'franchise', 'ivanko', 'rebellion', 'woolli', 'profoundli', 'secretli', 'disquiet', 'tram', 'berlinal', 'kristin', 'crucibl', 'sensat', 'launderett', 'shochiku', 'cinemat', 'akira', 'kurosawa', 'nottingham', 'forest', 'noe', 'pamarot', 'mido', 'gaffer', 'megson', 'uphil', 'spat', 'heir', 'conglomer', 'ambani', 'petrochem', 'ipcl', 'mukesh', 'reconsid', 'anand', 'jain', 'reaffirm', 'dhiru', 'bhai', 'utah', 'forti', 'liberac', 'mcallist', 'redford', 'geoffrey', 'gilmor', 'sieg', 'pianist', 'melancholia', 'chechnya', 'romeo', 'dallair', 'rwanda', 'benjamin', 'bratt', 'vaughn', 'quirki', 'thumbsuck', 'naomi', 'primer', 'carruth', 'spurlock', 'transistor', 'donofrio', 'suburb', 'hinton', 'automobil', 'altogeth', 'academ', 'hype', 'awe', 'subtleti', 'creep', 'nanotechnolog', 'superconduct', 'bulki', 'persona', 'underus', 'illiter', 'supercomput', 'valuabl', 'gene', 'furnitur', 'broader', 'multidisciplinari', 'trait', 'dti', 'represent', 'underrepres', 'imper', 'puzzl', 'whistl', 'cuff', 'rehears', 'hayao', 'miyazaki', 'howl', 'wynn', 'witch', 'wizard', 'toho', 'lyn', 'mccartney', 'ashok', 'vishwanathan', 'cre', 'visibl', 'uncap', 'kieran', 'mccormack', 'connacht', 'jackman', 'payn', 'costello', 'omit', 'cullen', 'duffi', 'harlequin', 'howe', 'mcmillan', 'molineux', 'charlott', 'wilbur', 'eb', 'phinnaeu', 'oprah', 'winfrey', 'goos', 'clees', 'sheep', 'buscemi', 'dakota', 'fern', 'winick', 'rejoin', 'martyn', 'walsh', 'shark', 'spice', 'peck', 'rhodri', 'rowel', 'coverag', 'biographi', 'uninterrupt', 'sophi', 'constraint', 'bulletin', 'pierr', 'jeunet', 'rescu', 'sol', 'lash', 'pompey', 'ricardo', 'fuller', 'slack', 'vieira', 'arjan', 'zeeuw', 'linvoy', 'primu', 'ashdown', 'flutter', 'punch', 'kolo', 'anxiou', 'fiddl', 'webb', 'teas', 'patrik', 'berger', 'aiyegbeni', 'yakubu', 'reflex', 'cling', 'snif', 'almunia', 'feroci', 'mathieu', 'flamini', 'marker', 'griffin', 'berkov', 'lualua', 'hislop', 'quashi', 'ciss', 'lauren', 'clichi', 'lehmann', 'fabrega', 'sendero', 'hoyt', 'appetit', 'chees', 'yuan', 'astronom', 'denomin', 'ripert', 'ixi', 'ghosn', 'renault', 'toshiyuki', 'shiga', 'mastermind', 'australasia', 'trim', 'tenur', 'devot', 'character', 'electro', 'braveri', 'imparti', 'indi', 'kano', 'interpol', 'bunnymen', 'uncondit', 'endicott', 'zillion', 'jackass', 'connolli', 'spiki', 'hawkin', 'masteri', 'xfm', 'unheard', 'ted', 'kessler', 'nimbl', 'concis', 'trevor', 'nelson', 'nme', 'conor', 'mcnichola', 'fearn', 'glastonburi', 'emili', 'eavi', 'garag', 'mc', 'dre', 'leed', 'kaiser', 'vocifer', 'stink', 'foil', 'weigh', 'conflict', 'privaci', 'overrul', 'intrud', 'counterbalanc', 'christi', 'verbal', 'torn', 'hungrier', 'faulti', 'bosch', 'dingolf', 'stoppag', 'mileag', 'pank', 'audi', 'sindelfingen', 'bottleneck', 'unaffect', 'patch', 'unpatch', 'manual', 'spate', 'messeng', 'msn', 'png', 'sybari', 'conti', 'faint', 'orchestra', 'plate', 'rambl', 'microphon', 'glare', 'gon', 'na', 'rocki', 'fluster', 'telecast', 'headset', 'footswitch', 'wrack', 'smell', 'curs', 'elegantli', 'gentlemen', 'firemen', 'helmet', 'hatchet', 'crawl', 'smoulder', 'governor', 'reliv', 'carous', 'unwind', 'avert', 'gateshead', 'unison', 'serwotka', 'walkout', 'amicu', 'lengthi', 'villa', 'carlton', 'leari', 'dariu', 'vassel', 'luke', 'underneath', 'puma', 'federico', 'aramburu', 'felip', 'contepomi', 'drill', 'sharper', 'indisciplin', 'rag', 'unstructur', 'rifl', 'rug', 'contriv', 'munsterman', 'gonzalo', 'longo', 'composur', 'fortuit', 'concess', 'quash', 'follett', 'apartheid', 'yougov', 'vicki', 'shami', 'chakrabarti', 'pervers', 'unpalat', 'bullock', 'sizabl', 'unicef', 'cantones', 'telethon', 'coastal', 'csi', 'serial', 'ceas', 'forens', 'logo', 'mistaken', 'morrow', 'shiro', 'tsuda', 'kk', 'tetsuro', 'tsusaka', 'fischer', 'fluent', 'hebrew', 'citizenship', 'incumb', 'klein', 'delic', 'binyamin', 'netanyahu', 'emigr', 'massachussett', 'shultz', 'marco', 'tsumani', 'spectacl', 'rougeri', 'caucaunibuca', 'rawaqa', 'reihana', 'sidestep', 'xv', 'gavin', 'arrog', 'majest', 'wilkinson', 'inuri', 'stuck', 'julian', 'gethin', 'vickeri', 'beforehand', 'choke', 'cigarett', 'reignit', 'bat', 'xing', 'wangli', 'smoker', 'manli', 'sociabl', 'salesmen', 'stmc', 'stma', 'unpopular', 'hdtv', 'transmit', 'plasma', 'tuffi', 'thx', 'blown', 'deer', 'datamonitor', 'bskyb', 'pixel', 'crave', 'projector', 'cgi', 'rfu', 'lodg', 'livid', 'satisfact', 'vigor', 'landsdown', 'northampton', 'budg', 'pountney', 'persia', 'bask', 'dash', 'warrior', 'bellicos', 'hing', 'dahaka', 'dispel', 'sultri', 'empress', 'studious', 'commodor', 'amiga', 'meticul', 'acrobat', 'energet', 'blend', 'sceneri', 'lop', 'flashi', 'haphazard', 'somersault', 'pirouett', 'gloriou', 'swoop', 'plummet', 'cliff', 'doom', 'annoyingli', 'fountain', 'path', 'fiendish', 'gruesom', 'slay', 'intro', 'disservic', 'commenc', 'sequenc', 'onimusha', 'climax', 'soundtrack', 'unsatisfi', 'outright', 'inequ', 'ni', 'quaintli', 'wrist', 'pearson', 'futurologist', 'ambient', 'everywher', 'inanim', 'clumsili', 'pervad', 'handbag', 'lens', 'greenfield', 'neuroscientist', 'sleepwalk', 'sensor', 'sewn', 'sleev', 'nano', 'molecular', 'nanoscal', 'dioxid', 'tio', 'antibacteri', 'odour', 'uv', 'nanoparticl', 'biocid', 'cyborgian', 'passer', 'hack', 'forehead', 'infiltr', 'arrogantli', 'cyborg', 'inorgan', 'nair', 'mira', 'makepeac', 'thackeray', 'literatur', 'climber', 'becki', 'rees', 'witherspoon', 'bollywood', 'serendip', 'monsoon', 'masterpiec', 'salaam', 'cann', 'mississippi', 'masala', 'denzel', 'perez', 'venic', 'memor', 'mesmeris', 'sighted', 'intuit', 'viscer', 'minx', 'irresist', 'pregnant', 'prophesi', 'flesh', 'underf', 'luminos', 'pregnanc', 'fleshi', 'ampl', 'bosom', 'cart', 'carriag', 'arthur', 'guinever', 'glossi', 'tale', 'shallow', 'brood', 'keira', 'knightli', 'grit', 'attenborough', 'schama', 'engross', 'titchmarsh', 'frothi', 'landscap', 'soulman', 'ltd', 'basement', 'jaxx', 'bombardi', 'tellier', 'beaudoin', 'montreal', 'snowmobil', 'reshap', 'rous', 'hardi', 'credenti', 'margherita', 'undim', 'worthless', 'neck', 'elig', 'sheridan', 'loosehead', 'tryscor', 'kingsholm', 'surrey', 'deepen', 'geolog', 'gerri', 'spindler', 'advers', 'uplift', 'gigajoul', 'nottinghamshir', 'derbyshir', 'northumberland', 'grass', 'pete', 'sampra', 'whatsoev', 'selfish', 'taught', 'bmr', 'royalti', 'yoxal', 'feargal', 'sharkey', 'luci', 'emma', 'pike', 'bend', 'spasm', 'margot', 'jen', 'tautou', 'ameli', 'ron', 'beckinsal', 'vanessa', 'paradi', 'binoch', 'mytholog', 'louvr', 'museum', 'yepp', 'iriv', 'pmc', 'archo', 'av', 'pma', 'croha', 'tivo', 'smartphon', 'shorten', 'vcr', 'jupit', 'coleman', 'burgeon', 'tyre', 'activis', 'ubisoft', 'marseil', 'rib', 'sebastien', 'chaunac', 'cage', 'nalbandian', 'feliciano', 'karlov', 'croatian', 'ljubic', 'ancic', 'hotli', 'elizabeth', 'silk', 'chiffon', 'bead', 'grate', 'pinni', 'gunpoint', 'bio', 'pic', 'azkaban', 'pod', 'leaf', 'stroll', 'encas', 'egg', 'cocoon', 'helper', 'expo', 'aichi', 'autopilot', 'reclin', 'mountabl', 'mph', 'staircas', 'dismount', 'gillingwat', 'loughborough', 'imac', 'nich', 'marketplac', 'dimens', 'augment', 'exoskeleton', 'vehicular', 'bandwagon', 'arguabl', 'infirm', 'erel', 'avineri', 'rotat', 'interior', 'dane', 'xavier', 'maliss', 'delray', 'ace', 'toma', 'zib', 'unimpress', 'lob', 'elen', 'likhotseva', 'serena', 'bovina', 'lindsay', 'anastasia', 'myskina', 'jie', 'zheng', 'marion', 'bartoli', 'conchita', 'martinez', 'patti', 'schnyder', 'switzerland', 'li', 'sania', 'mirza', 'jelena', 'jankov', 'serbia', 'montenegro', 'windi', 'bye', 'codenam', 'xenon', 'ps', 'rori', 'horrend', 'hood', 'foremost', 'complement', 'har', 'horsepow', 'codemast', 'shader', 'realism', 'spit', 'breadth', 'canva', 'filmic', 'florin', 'indistinguish', 'starter', 'ai', 'craft', 'polygon', 'mysteri', 'frantic', 'roubl', 'interfax', 'screw', 'oleg', 'maximov', 'troika', 'dialog', 'bailiff', 'peru', 'huaral', 'chancay', 'telecentr', 'cepe', 'peruvian', 'saldarriaga', 'mainli', 'feedback', 'underlin', 'cuyo', 'hydraul', 'dam', 'kw', 'cabin', 'technician', 'bulb', 'mda', 'gpr', 'mm', 'bandaid', 'brighter', 'continent', 'paradorn', 'srichaphan', 'santoro', 'nikolay', 'davydenko', 'youzhni', 'euan', 'belt', 'danielli', 'marcu', 'di', 'rollo', 'godman', 'calvin', 'howarth', 'tyke', 'hugo', 'beatti', 'callam', 'fullarton', 'allist', 'lloyd', 'lawson', 'protestor', 'forcibl', 'raf', 'fairford', 'glo', 'aris', 'coachload', 'escort', 'harrison', 'rix', 'mackey', 'proportion', 'armour', 'shield', 'disord', 'amnesti', 'sumitomo', 'mitsui', 'ufj', 'mitsubishi', 'mtfg', 'daiwa', 'auckland', 'belgium', 'acasuso', 'gonzalez', 'chilean', 'unbeliev', 'innocu', 'galla', 'duff', 'cudicini', 'showpiec', 'celestin', 'deputis', 'paulo', 'ferreira', 'hudel', 'keenan', 'tillen', 'untri', 'arjen', 'robben', 'sfa', 'mikoliuna', 'sauliu', 'barg', 'linesman', 'tynecastl', 'coin', 'dad', 'prso', 'wrestl', 'prutton', 'wiley', 'chest', 'lad', 'mcleish', 'dado', 'zealous', 'spurn', 'hoist', 'tighthead', 'shrek', 'nemo', 'zellweg', 'outshin', 'busiest', 'dreamwork', 'crackdown', 'strict', 'guidelin', 'immor', 'xinhua', 'elementari', 'tightli', 'log', 'blaze', 'porn', 'intercept', 'commemor', 'crass', 'perish', 'foolishli', 'brazenli', 'rabbi', 'hier', 'wiesenth', 'walt', 'refrain', 'reveta', 'bower', 'raymond', 'watson', 'bryson', 'shamrock', 'thomsen', 'imped', 'dunde', 'utd', 'emphat', 'archibald', 'prod', 'crawford', 'whelan', 'robson', 'poke', 'tap', 'claw', 'helpless', 'onrush', 'esson', 'spun', 'cute', 'ritchi', 'brebner', 'colgan', 'dodd', 'diamond', 'mcnaughton', 'heikkinen', 'blanchard', 'mutu', 'cocain', 'crunch', 'honestli', 'cring', 'breaker', 'trap', 'ronaldo', 'cristiano', 'insurg', 'handed', 'fallujah', 'immin', 'revitalis', 'portfolio', 'fusion', 'zephyr', 'visteon', 'montego', 'freestyl', 'crossov', 'mustang', 'lr', 'varig', 'brink', 'alencar', 'ruben', 'berta', 'sizeabl', 'tariff', 'tyne', 'tynesid', 'placard', 'mar', 'northumbria', 'warcup', 'liais', 'judici', 'chile', 'government', 'cochilco', 'patricio', 'cartagena', 'bhp', 'billiton', 'escondida', 'codelco', 'analyz', 'withstood', 'hyuung', 'dieter', 'kindlmann', 'rainer', 'schuettler', 'monfil', 'luczak', 'gimelstob', 'costa', 'phau', 'elud', 'mileston', 'overtook', 'fife', 'kirkcaldi', 'canvass', 'phd', 'dunfermlin', 'rosyth', 'naval', 'sedgefield', 'infam', 'meal', 'granita', 'islington', 'column', 'treadmil', 'princess', 'marguerit', 'eldest', 'macaulay', 'infirmari', 'softer', 'encroach', 'redistribut', 'nurs', 'veng', 'bicker', 'hearsay', 'hothous', 'truce', 'blairit', 'springboard', 'nike', 'sneaker', 'beaverton', 'oregon', 'footwear', 'stene', 'hefti', 'wifi', 'radiu', 'loosen', 'strangl', 'defunct', 'oftel', 'kilobit', 'obituari', 'markova', 'prima', 'ballerina', 'heyday', 'lilian', 'royc', 'ballet', 'impresario', 'diaghilev', 'russ', 'diphtheria', 'gover', 'tow', 'mont', 'matiss', 'stravinski', 'rambert', 'vic', 'anton', 'dolin', 'choreograph', 'tudor', 'ashton', 'gisel', 'grace', 'swan', 'sylphid', 'popularis', 'ii', 'cincinnati', 'relish', 'gaal', 'enviou', 'ronaldinho', 'lishman', 'ageism', 'charlton', 'nat', 'truanci', 'migrant', 'weed', 'weir', 'pois', 'sunderland', 'larn', 'mccarthi', 'mcgeough', 'physiqu', 'sli', 'smear', 'fagin', 'misjudg', 'backfir', 'blackboard', 'aadc', 'terabyt', 'fiona', 'lossless', 'degrad', 'encrypt', 'scratch', 'recoup', 'roar', 'elland', 'silverwar', 'comprehens', 'obligatori', 'luton', 'qpr', 'turf', 'scandinavia', 'throne', 'fabian', 'sundar', 'katwala', 'overdu', 'descent', 'slide', 'composit', 'inabl', 'ritzier', 'chill', 'temperatur', 'overarch', 'welter', 'knotti', 'pointedli', 'conciliatori', 'gestur', 'dick', 'cheney', 'barosso', 'shimon', 'pere', 'yassir', 'arafat', 'keenli', 'snub', 'wholli', 'malaria', 'entranc', 'somerset', 'unprovok', 'moy', 'merseysid', 'derbi', 'laurel', 'dom', 'bungalow', 'mccourt', 'playschool', 'floella', 'joko', 'jakamoko', 'toto', 'collingwood', 'debbi', 'isitt', 'jacquelin', 'mum', 'factual', 'tartan', 'turban', 'balamori', 'featherboy', 'clinton', 'altria', 'rj', 'lorillard', 'liggett', 'williamson', 'nicotin', 'accumul', 'counteract', 'defraud', 'cml', 'bba', 'bsa', 'rightmov', 'shipsid', 'realist', 'quieter', 'shaw', 'doldrum', 'baa', 'reiter', 'heathrow', 'stanst', 'hacan', 'clearski', 'borough', 'hillingdon', 'wandsworth', 'gatwick', 'unblight', 'homeown', 'runway', 'underestim', 'sander', 'denial', 'uniti', 'woke', 'necess', 'polar', 'interim', 'iyad', 'allawi', 'spectat', 'arab', 'emir', 'communiqu', 'unifi', 'streamlin', 'fiat', 'extric', 'void', 'gianni', 'agnelli', 'juchemich', 'gogh', 'theo', 'somali', 'ayaan', 'hirsi', 'stab', 'theatric', 'den', 'hamer', 'depardon', 'underexposur', 'saddam', 'hussein', 'baggag', 'handler', 'eighteen', 'fsa', 'ombudsman', 'mcivor', 'ncci', 'riyadh', 'riyal', 'unauthoris', 'multilater', 'unpay', 'bartlett', 'oxfam', 'obscen', 'defer', 'dispens', 'mandela', 'elat', 'ecstat', 'welshman', 'romanian', 'bulgarian', 'entrepreneur', 'toughen', 'hagu', 'unfulfil', 'richmond', 'ffion', 'pitt', 'outkast', 'boi', 'speakerboxxx', 'quantiti', 'expon', 'xtra', 'southernplayalisticadillacmuzik', 'platinum', 'stakonia', 'geniu', 'pinnacl', 'hurri', 'liga', 'bernabeu', 'raul', 'garri', 'mcclelland', 'congruent', 'comerica', 'littman', 'cari', 'leahi', 'lean', 'inventori', 'wiet', 'upstart', 'ipo', 'stack', 'gmail', 'froogl', 'beauvillain', 'rediscov', 'refocus', 'weiner', 'premium', 'overblown', 'canni', 'inktomi', 'koogl', 'semel', 'savvi', 'yang', 'stead', 'gateway', 'quiet', 'jarosik', 'mateja', 'kezman', 'bosvelt', 'fowler', 'lampard', 'superbl', 'didier', 'drogba', 'likeli', 'enliven', 'drab', 'letharg', 'sven', 'goran', 'eriksson', 'trickeri', 'flurri', 'parri', 'goalward', 'frenet', 'lone', 'quietli', 'eidur', 'gudjohnsen', 'petr', 'cech', 'sheet', 'ricochet', 'stopper', 'tiago', 'makelel', 'smertin', 'distin', 'barton', 'sibierski', 'mcmanaman', 'musampa', 'macken', 'weaver', 'onuoha', 'jordan', 'claus', 'insert', 'curfew', 'oversight', 'wrongli', 'ramrod', 'stringent', 'uneasi', 'sanitis', 'ge', 'behemoth', 'immelt', 'rouki', 'jazz', 'javier', 'bardem', 'geislerova', 'schumach', 'kar', 'wai', 'thai', 'barrati', 'chan', 'chook', 'chorist', 'bootl', 'embark', 'constrain', 'humil', 'pot', 'ecb', 'nineteenth', 'sputter', 'stefan', 'schilb', 'hsbc', 'trinkau', 'burkhardt', 'spook', 'volkswagen', 'guidant', 'defibril', 'pacemak', 'heartbeat', 'antitrust', 'overlap', 'stent', 'tube', 'arteri', 'unblock', 'mediat', 'concili', 'uncoop', 'disapprov', 'ison', 'parton', 'rigid', 'gravesen', 'sivabaek', 'defiantli', 'arrigo', 'sacchi', 'emilio', 'butragueno', 'wanderley', 'luxemburgo', 'anni', 'edna', 'spongebob', 'squarep', 'brittani', 'theater', 'lament', 'indict', 'iren', 'infecti', 'mobilis', 'drip', 'elitist', 'seychel', 'bafana', 'minnow', 'curepip', 'baxter', 'madagascar', 'namibia', 'botswana', 'lesotho', 'malawi', 'swaziland', 'slowest', 'cip', 'pmi', 'steam', 'prebon', 'yaman', 'lena', 'komileva', 'policymak', 'standoff', 'slager', 'supervisori', 'heavyweight', 'breuer', 'pan', 'nattrass', 'hartlepool', 'reich', 'bash', 'kilroy', 'sudetenland', 'czechoslovakia', 'happili', 'outdat', 'farag', 'knapman', 'nutter', 'homosexu', 'sin', 'unfeas', 'batten', 'verita', 'overh', 'breakneck', 'overshoot', 'overbalanc', 'gamepad', 'iowa', 'frontrunn', 'forefath', 'frasca', 'copenhagen', 'uruguayan', 'newsgam', 'uruguay', 'cambiemo', 'webpag', 'ecolog', 'halifax', 'nationwid', 'archer', 'downsid', 'clamour', 'spite', 'dissolv', 'radcliff', 'paula', 'triumphant', 'marathon', 'chepkemei', 'ordeal', 'dredg', 'formid', 'footstep', 'recuper', 'grayson', 'sanguin', 'sinch', 'deaf', 'yawn', 'rosenborg', 'celta', 'vigo', 'kanu', 'seaman', 'harshli', 'cesc', 'workrat', 'verg', 'supremo', 'sillerman', 'renam', 'cfx', 'beckham', 'ckx', 'offspr', 'clarkson', 'hardcastl', 'graceland', 'lomu', 'jonah', 'kidney', 'transplant', 'ebb', 'spanglish', 'billi', 'connelli', 'surreal', 'quaid', 'whisk', 'orphan', 'wick', 'olaf', 'twenti', 'tuberculosi', 'torao', 'toshitsun', 'eaten', 'raw', 'centenarian', 'osaka', 'sexagenarian', 'buddhist', 'sutra', 'tea', 'outliv', 'kyoto', 'yuji', 'shimizu', 'golf', 'diet', 'fertil', 'childbirth', 'shrink', 'shigeo', 'morioka', 'philippin', 'procr', 'devis', 'basket', 'diall', 'icsti', 'patterson', 'stockholm', 'galan', 'feofanova', 'kronor', 'henric', 'svanberg', 'dissip', 'dimitri', 'yachvili', 'scoreless', 'scrappi', 'engend', 'tit', 'tat', 'emphasis', 'botch', 'yann', 'delaigu', 'floor', 'scuf', 'pepito', 'elhorga', 'scrag', 'danni', 'sylvain', 'marconnet', 'bruno', 'rectifi', 'marlu', 'stray', 'uner', 'dominici', 'scrummag', 'liebenberg', 'ma', 'thion', 'betsen', 'bonnair', 'chabal', 'servat', 'milloud', 'lamboley', 'nyanga', 'mignoni', 'michalak', 'grandclaud', 'stamford', 'benitez', 'morient', 'freshen', 'burk', 'iptv', 'triall', 'payer', 'imp', 'telco', 'adsl', 'voip', 'packet', 'localis', 'terrestri', 'rahul', 'chakkara', 'bbci', 'fait', 'benoit', 'thale', 'supplement', 'cam', 'bespok', 'uptak', 'branson', 'rebel', 'apprentic', 'trump', 'grogin', 'plank', 'taxi', 'scandinavian', 'ander', 'igel', 'nordic', 'teliasonera', 'analyt', 'sk', 'shin', 'bae', 'watchabl', 'gambino', 'dvb', 'dmb', 'yeob', 'yeun', 'drain', 'tu', 'deco', 'thorni', 'dab', 'radioscap', 'slatteri', 'artific', 'ernest', 'gellhorn', 'mason', 'prof', 'npd', 'musicmatch', 'realplay', 'wma', 'mirapoint', 'radicati', 'nienhui', 'phish', 'prolifer', 'clearswift', 'casual', 'companion', 'aspers', 'invari', 'bogu', 'alyn', 'hockey', 'explicit', 'sopho', 'commonli', 'misspel', 'cluley', 'plain', 'extinct', 'dinosaur', 'sonia', 'bupa', 'turnbul', 'mottram', 'edu', 'fraca', 'lid', 'shout', 'feroc', 'nevil', 'ineffici', 'remaind', 'populu', 'atlabour', 'pompeii', 'archaeolog', 'glimps', 'lifeplu', 'miniatur', 'backpack', 'viewpoint', 'fresco', 'tavern', 'excav', 'troy', 'nadia', 'magnenat', 'thalman', 'miralab', 'stoddart', 'dramatis', 'imageri', 'ancient', 'damian', 'hockney', 'chatshow', 'euroscept', 'buckinghamshir', 'insan', 'resurrect', 'croucher', 'amex', 'aefa', 'marqui', 'kain', 'minneapoli', 'perimet', 'hillsborough', 'crush', 'paphiti', 'missil', 'guardian', 'squalor', 'marr', 'galloway', 'plea', 'hostag', 'hassan', 'abduct', 'expel', 'staunch', 'kidnapp', 'jazeera', 'intermediari', 'calisto', 'tanzi', 'parma', 'fausto', 'tonna', 'default', 'insolv', 'demis', 'typhoon', 'eclips', 'oona', 'libel', 'bethnal', 'kelvin', 'stoog', 'boundari', 'brick', 'irrespect', 'shamelessli', 'tower', 'dunstan', 'stepney', 'fortress', 'bangladeshi', 'eadi', 'notebaert', 'massag', 'workstat', 'kutaragi', 'wmc', 'fivefold', 'hostil', 'xstrata', 'vail', 'woodsid', 'uranium', 'deposit', 'aluminium', 'nickel', 'austria', 'engerwitzdorf', 'rudolf', 'bunt', 'fernsehen', 'outgrowth', 'aon', 'cohes', 'wer', 'requisit', 'usdaw', 'karen', 'whitefield', 'hannett', 'devon', 'cullumpton', 'jocelyn', 'stoker', 'diva', 'greenberg', 'misdirect', 'gidley', 'retrain', 'strain', 'dougi', 'musselburgh', 'racecours', 'nandrolon', 'goon', 'upscal', 'nordstrom', 'trendi', 'bebe', 'outfitt', 'wal', 'mart', 'gasolin', 'perkin', 'retailmetr', 'llc', 'costco', 'furnish', 'pier', 'accessori', 'clair', 'materialis', 'jewel', 'zale', 'dearth', 'barnard', 'beneficiari', 'goldman', 'sach', 'neilsen', 'domain', 'icann', 'pornographi', 'catalan', 'xxx', 'pornograph', 'aero', 'info', 'suffix', 'desailli', 'courtesi', 'flo', 'gianfranco', 'zola', 'rivaldo', 'figo', 'kluivert', 'gharafa', 'milan', 'gullit', 'gianluca', 'vialli', 'claudio', 'ranieri', 'abramovich', 'lebeouf', 'josep', 'guardiola', 'titi', 'camara', 'gabriel', 'batistuta', 'dugarri', 'maldini', 'alessandro', 'costacurta', 'manic', 'radiohead', 'jupitu', 'vocalist', 'bradfield', 'leonard', 'hammersmith', 'yianni', 'papadoyiannaki', 'testifi', 'tamper', 'inspect', 'tankan', 'heizo', 'takenaka', 'pessimist', 'quicken', 'reliant', 'daddi', 'gail', 'berman', 'drift', 'unscript', 'seth', 'macfarlan', 'raimi', 'boogeyman', 'traumat', 'debra', 'bruer', 'bowl', 'marley', 'regga', 'partridg', 'exodu', 'turin', 'mesmer', 'manifest', 'gladli', 'truncat', 'guinea', 'downhil', 'mankind', 'firstli', 'secondli', 'redempt', 'mel', 'morri', 'indec', 'viacom', 'fcc', 'jock', 'janet', 'breast', 'halftim', 'infin', 'voucher', 'insul', 'cesar', 'terzian', 'et', 'du', 'quai', 'orfevr', 'arnaud', 'desplechin', 'abdellatif', 'kechich', 'esquiv', 'choru', 'auteuil', 'amalr', 'jugnot', 'torreton', 'equipi', 'poelvoord', 'podium', 'maggi', 'cheung', 'emmanuel', 'devo', 'yoland', 'moreau', 'karin', 'viard', 'honorari', 'dutronc', 'tuc', 'brendan', 'barber', 'outweigh', 'jobcentr', 'winn', 'dixi', 'succumb', 'grocer', 'jacksonvil', 'kraft', 'merchandis', 'gim', 'afield', 'twitch', 'msci', 'ration', 'reinsur', 'confifi', 'lankan', 'rub', 'adhi', 'karya', 'semen', 'gresik', 'broadli', 'consensu', 'neutral', 'hazard', 'colorado', 'indirect', 'moin', 'unforese', 'unguess', 'costliest', 'minuscul', 'contagion', 'tremor', 'indiffer', 'harley', 'jagielka', 'blade', 'tong', 'underdog', 'simplest', 'paci', 'tame', 'clutch', 'warnock', 'geari', 'pascal', 'cygan', 'unmark', 'misplac', 'brombi', 'liddel', 'montgomeri', 'thirlwel', 'kabba', 'haystead', 'ebou', 'dowd', 'carson', 'nebraska', 'respiratori', 'emphysema', 'norfolk', 'carsoni', 'buse', 'hanau', 'queue', 'ticketless', 'smartcard', 'romen', 'alun', 'intimid', 'en', 'penni', 'bicest', 'oxfordshir', 'brookstein', 'maiden', 'erasur', 'artwork', 'dana', 'rayn', 'kasabian', 'boulevard', 'idiot', 'tessa', 'jowel', 'responsibilti', 'physician', 'caborn', 'symptom', 'inconvenienc', 'primera', 'bautista', 'winless', 'santand', 'steaua', 'bucharest', 'caper', 'clooney', 'heist', 'wesley', 'snipe', 'triniti', 'fabl', 'krank', 'sinatra', 'soderbergh', 'damon', 'elliott', 'gould', 'catherin', 'zeta', 'fellman', 'complimentari', 'dispirit', 'milder', 'unabashedli', 'trivial', 'macrovis', 'ripguard', 'upcom', 'weinstein', 'unfound', 'peterborough', 'inhuman', 'franco', 'frattini', 'contraven', 'maev', 'sherlock', 'aggrav', 'brom', 'saha', 'viotti', 'marcello', 'fenic', 'renown', 'scala', 'coma', 'jule', 'massenet', 'manon', 'philharmon', 'piano', 'cello', 'lausann', 'conservatori', 'gino', 'marinuzzi', 'munich', 'giusepp', 'verdi', 'traviata', 'strauss', 'ariadn', 'auf', 'naxo', 'roi', 'lahor', 'giacomo', 'puccini', 'madam', 'butterfli', 'bohem', 'froment', 'halevi', 'juiv', 'giampaolo', 'vianello', 'superintend', 'joyou', 'rebirth', 'vincenzo', 'bellini', 'norma', 'mauro', 'cristian', 'bollesan', 'francai', 'montpelli', 'viadana', 'calvisano', 'padova', 'treviso', 'aquilla', 'agen', 'narbonn', 'laport', 'perpignan', 'granclaud', 'marcoussi', 'whitehal', 'nowaday', 'nippl', 'wardrob', 'malfunct', 'thyssenkrupp', 'coru', 'arcleor', 'nippon', 'slid', 'baoshan', 'peugeot', 'steelmak', 'miner', 'tinto', 'cia', 'vale', 'dolc', 'cvrd', 'kazuhiro', 'takahashi', 'smbc', 'arcelor', 'jfe', 'misrepres', 'misrepresent', 'unwinn', 'wpp', 'omnicom', 'sorrel', 'nop', 'ogilvi', 'mather', 'cordiant', 'rubicam', 'fifa', 'andhra', 'pradesh', 'satyanarayana', 'memorandum', 'visakhapatnam', 'acr', 'motorbik', 'accredit', 'flame', 'cauldron', 'wow', 'raci', 'alltel', 'mellow', 'sweatshirt', 'pea', 'fergi', 'purpl', 'hotpant', 'mischer', 'aerosmith', 'gloria', 'estefan', 'ico', 'spiritu', 'wanda', 'colossu', 'zelda', 'cel', 'ocarina', 'trailer', 'wariowar', 'sega', 'ice', 'spec', 'tarkovski', 'enigmat', 'stalker', 'decay', 'mutat', 'intrigu', 'eater', 'hideo', 'kojima', 'wildlif', 'tecmo', 'ninja', 'retool', 'demon', 'motorsport', 'endeavour', 'autosport', 'racer', 'tansley', 'sequenti', 'changer', 'amput', 'autocycl', 'ampute', 'sidecar', 'hewland', 'gearbox', 'rider', 'lap', 'tt', 'prejud', 'subaru', 'impreza', 'accommod', 'parar', 'lincolnshir', 'throttl', 'parapleg', 'quadripleg', 'limb', 'astra', 'gsi', 'pedal', 'rainey', 'statur', 'cushion', 'lever', 'tb', 'pander', 'hepat', 'gillon', 'lung', 'diagnos', 'terrenc', 'higgin', 'dint', 'motorcyl', 'crete', 'spurt', 'extract', 'rubinsohn', 'outturn', 'curv', 'unanim', 'afi', 'toss', 'hypnot', 'kowalski', 'malloy', 'annal', 'newscast', 'brokaw', 'impend', 'freefal', 'censor', 'abc', 'spielberg', 'watcher', 'burner', 'os', 'ilif', 'iphoto', 'idvd', 'sparrow', 'essenc', 'biscuit', 'tin', 'disk', 'tuner', 'itx', 'motherboard', 'fledg', 'dictionari', 'merriam', 'hyperlink', 'learner', 'blogospher', 'slant', 'immediaci', 'hitwis', 'technorati', 'weblog', 'repress', 'jukebox', 'trojan', 'idef', 'pl', 'multiplex', 'contractor', 'dockland', 'redevelop', 'pare', 'writeback', 'wheatley', 'barwick', 'mikael', 'silvestr', 'but', 'screensav', 'contenti', 'lyco', 'vigilant', 'skirt', 'sender', 'centralis', 'crise', 'traffick', 'heighten', 'unrest', 'scar', 'bilater', 'slba', 'gooneratn', 'moratorium', 'socied', 'evacu', 'astiazaran', 'goalpost', 'confirn', 'zidan', 'partido', 'contra', 'pobreza', 'fiesta', 'plp', 'forgiv', 'gossip', 'schoolboy', 'kinnock', 'frenzi', 'insurrect', 'coup', 'muriel', 'mcewan', 'atwood', 'commend', 'marquez', 'saul', 'bellow', 'kundera', 'updik', 'salman', 'rushdi', 'jm', 'coetze', 'kazuo', 'ishiguro', 'colombia', 'gunter', 'ismail', 'kadar', 'albania', 'stanislaw', 'lem', 'naguib', 'mahfouz', 'eloy', 'kenzaburo', 'oe', 'ozick', 'roth', 'tabucchi', 'abraham', 'yehoshua', 'bondhold', 'roberto', 'lavagna', 'nestor', 'kirchner', 'irrat', 'renegoti', 'aggriev', 'sandvin', 'fourfold', 'morin', 'congest', 'clarion', 'spoil', 'schroth', 'yanke', 'mdr', 'wheelock', 'bypass', 'limelight', 'breadlin', 'outward', 'motormouth', 'interf', 'dogvil', 'lar', 'von', 'trier', 'vocat', 'gorton', 'riversid', 'holborn', 'pancra', 'oldham', 'saddleworth', 'withington', 'finsburi', 'yardley', 'taunton', 'orpington', 'haltempric', 'howden', 'eastbourn', 'wight', 'dorset', 'canterburi', 'westmorland', 'lonsdal', 'undergon', 'stanford', 'filo', 'campu', 'monik', 'rude', 'unsophist', 'uncouth', 'satirist', 'swift', 'gulliv', 'capitalist', 'sequoia', 'cisco', 'gargantuan', 'countrymen', 'rubber', 'bailey', 'bate', 'yugoslavian', 'fore', 'likeliest', 'umbrella', 'touchston', 'miramax', 'rewind', 'knell', 'tveter', 'snalun', 'archiv', 'gothika', 'antiqu', 'roadshow', 'informa', 'flourish', 'vod', 'correctli', 'obes', 'hoard', 'pda', 'byte', 'squirrel', 'shini', 'hoarder', 'larsson', 'floppi', 'summon', 'sanderson', 'kai', 'horstman', 'thirlbi', 'tunisia', 'neumi', 'nanuku', 'marika', 'vakacegu', 'needless', 'tuidriva', 'bainivalu', 'appleford', 'brass', 'spoof', 'nichola', 'burn', 'satir', 'paedophilia', 'brooker', 'webmast', 'guerrilla', 'node', 'ashcroft', 'columnist', 'jam', 'milanesi', 'megapixel', 'zoom', 'razr', 'maverick', 'idiosyncrat', 'surefir', 'unconvent', 'burton', 'kentucki', 'iggi', 'elm', 'vietnam', 'platoon', 'undercov', 'hanson', 'fairi', 'scissorhand', 'plaudit', 'downbeat', 'grape', 'overweight', 'retard', 'craze', 'donni', 'brasco', 'snuff', 'gilliam', 'loath', 'sleepi', 'dench', 'chocolat', 'moss', 'wonka', 'roald', 'dahl', 'chocol', 'babyshambl', 'brixton', 'walden', 'overcrowd', 'robberi', 'killamangiro', 'disconnect', 'bouncer', 'occurr', 'wass', 'carlish', 'grandchild', 'feeder', 'ladybird', 'saffron', 'firstsav', 'payabl', 'notif', 'asymmetr', 'pent', 'dwindl', 'llu', 'cp', 'talktalk', 'shrunk', 'dilig', 'bona', 'deliver', 'tampa', 'buccan', 'magnat', 'cacophoni', 'boop', 'beep', 'button', 'gameboyzz', 'norman', 'tetri', 'kraftwerk', 'sp', 'tweak', 'jarek', 'kujda', 'rudimentari', 'synthes', 'improvis', 'kudja', 'malgorzata', 'purveyor', 'boyd', 'wgbh', 'skil', 'antelop', 'hectar', 'ranch', 'underwood', 'webcam', 'tail', 'meat', 'taxidermi', 'speci', 'barbari', 'corsican', 'mouflon', 'blackbuck', 'silhouett', 'distant', 'unnecessarili', 'unregul', 'sylvest', 'holbi', 'agit', 'loopi', 'moazzam', 'begg', 'belmar', 'feroz', 'abbasi', 'cuban', 'azmat', 'godsiff', 'unansw', 'unsustain', 'lawless', 'contravent', 'mamdouh', 'habib', 'conven', 'kenyon', 'pleasur', 'kooyong', 'acclimatis', 'molyneux', 'lionhead', 'dungeon', 'fad', 'skateboard', 'pivot', 'bullfrog', 'computeris', 'weird', 'geek', 'grigori', 'ioanidi', 'unreason', 'parkinson', 'restructu', 'bannist', 'woolwich', 'pwc', 'overvalu', 'karachi', 'kse', 'jubil', 'yaseen', 'lakhani', 'malaysia', 'mma', 'countrywid', 'asif', 'zardari', 'benazir', 'bhutto', 'baglihar', 'administ', 'abuzz', 'defus', 'iranian', 'mojtaba', 'arash', 'sigarchi', 'saminejad', 'curt', 'hopkin', 'embassi', 'blogspher', 'cyber', 'dissid', 'simonetti', 'focal', 'muddi', 'messi', 'expertis', 'templat', 'woeful', 'rsa', 'insecur', 'netsur', 'scrambl', 'unsecur', 'cracknel', 'ml', 'allsop', 'bac', 'aa', 'parliamentarian', 'breathalys', 'roadsid', 'gwyneth', 'residenti', 'cyclist', 'lueder', 'comptia', 'inventor', 'suge', 'parol', 'marijuana', 'barstow', 'tupac', 'shakur', 'probat', 'bodyguard', 'protege', 'saloon', 'riddick', 'butcher', 'unsung', 'digest', 'jarr', 'fairytal', 'bicentenni', 'andersen', 'parken', 'mermaid', 'frederik', 'bloom', 'recogn', 'authorship', 'odens', 'ugli', 'duckl', 'gala', 'supermodel', 'helena', 'christensen', 'ambassador', 'keitel', 'pele', 'gizmo', 'covet', 'pentax', 'optio', 'sv', 'yh', 'sexier', 'indispens', 'vaughan', 'inexor', 'eagerli', 'whitbread', 'geraldin', 'mccaughrean', 'joann', 'landladi', 'lodger', 'jenni', 'amanda', 'didact', 'preachi', 'fletcher', 'norrel', 'susanna', 'anglia', 'waterston', 'suzi', 'readabl', 'scholarship', 'tragic', 'likeabl', 'symmon', 'mystic', 'erotica', 'philosophi', 'reclaim', 'bolster', 'shopahol', 'beal', 'capgemini', 'usabl', 'issuer', 'indemnifi', 'login', 'usernam', 'password', 'iri', 'token', 'activcard', 'passcod', 'ascertain', 'embed', 'scammer', 'keystrok', 'godzilla', 'creatur', 'shogo', 'tomiyama', 'herebi', 'proclaim', 'grauman', 'masahiro', 'matsuoka', 'ryuhei', 'kitamura', 'vacat', 'prehistor', 'lizard', 'melancholi', 'monti', 'python', 'bright', 'highway', 'dragoon', 'mozart', 'requiem', 'berti', 'vogt', 'miser', 'estonia', 'ghana', 'meagr', 'ibrox', 'dumbarton', 'invect', 'curriculum', 'vita', 'callow', 'rash', 'adroit', 'magician', 'salam', 'pax', 'oday', 'rashe', 'discard', 'unafraid', 'censur', 'kosovo', 'airi', 'liberati', 'glitterati', 'reclassif', 'cannabi', 'furor', 'divorce', 'brightsid', 'hallam', 'despatch', 'inconveni', 'braill', 'literaci', 'numeraci', 'heckl', 'faction', 'wri', 'sadi', 'labrador', 'curli', 'retriev', 'stomach', 'blume', 'vomit', 'kosenkow', 'balkom', 'hurdler', 'ghent', 'jadel', 'gregorio', 'arron', 'gevaert', 'joic', 'absa', 'empower', 'tighter', 'tulip', 'knightley', 'samuelson', 'bridget', 'thunderbird', 'sexism', 'merril', 'stephani', 'villalba', 'unequ', 'unfairli', 'meritocraci', 'im', 'kwon', 'taek', 'retrospect', 'chihwaseon', 'unmistak', 'cinematograph', 'retic', 'stylis', 'bizet', 'carmen', 'xhosa', 'ekhayelitsha', 'khayelitsha', 'dornford', 'hazlewood', 'reclassifi', 'repair', 'fallon', 'impugn', 'coffer', 'heathcoat', 'amori', 'folli', 'entrench', 'mailshot', 'evapor', 'refusenik', 'hosford', 'vastli', 'rump', 'cornwal', 'rewrit', 'cv', 'grassroot', 'fao', 'protection', 'endang', 'liberalis', 'saharan', 'supervolcano', 'docu', 'volcan', 'yellowston', 'angela', 'canning', 'lancashir', 'timothi', 'spall', 'cherish', 'schoolday', 'pompei', 'transmiss', 'mongolian', 'genghi', 'belsen', 'archangel', 'fingersmith', 'conman', 'burchil', 'lesbian', 'stevenson', 'bex', 'barron', 'headmast', 'retreat', 'nettl', 'midsom', 'marpl', 'gu', 'sant', 'conneri', 'poppin', 'epipsod', 'wiedersehen', 'versac', 'lichtenstein', 'warhol', 'storey', 'townhous', 'cunanan', 'sothebi', 'impressionist', 'nude', 'tobia', 'juxtapos', 'basquiat', 'rue', 'ru', 'stalem', 'bouba', 'diop', 'clearest', 'honda', 'accura', 'tran', 'howitz', 'dragonhood', 'subdu', 'salvo', 'shudder', 'handedli', 'nonchantli', 'predat', 'prey', 'bin', 'personifi', 'glide', 'repel', 'crescendo', 'deafen', 'din', 'ado', 'nervelessli', 'spikey', 'freshli', 'gell', 'implor', 'teeter', 'hesit', 'patchier', 'sheard', 'lehman', 'whistleblow', 'inescap', 'slew', 'niel', 'ransom', 'wimax', 'larribeau', 'ubiqu', 'bluephon', 'ip', 'megabyt', 'galor', 'circular', 'seagat', 'usb', 'sexi', 'unplug', 'nevosl', 'stereo', 'arl', 'uei', 'nevo', 'hotseat', 'chassi', 'leboff', 'skelet', 'porsch', 'sleek', 'risqu', 'audiophil', 'sanyo', 'vpc', 'mpeg', 'mb', 'thumb', 'mpio', 'slung', 'geeki', 'dangl', 'discreetli', 'pendant', 'fiend', 'dinkier', 'fy', 'stuf', 'potent', 'uncharacterist', 'dimension', 'mefin', 'thinker', 'stalwart', 'hansen', 'rafa', 'affirm', 'myth', 'sponsor', 'remiss', 'indecis', 'agm', 'dialogu', 'cleverli', 'constru', 'foolish', 'pend', 'hayman', 'preparatori', 'policeman', 'nightspot', 'slurri', 'bucket', 'ruth', 'repressor', 'dimblebi', 'farmyard', 'muck', 'stank', 'splatter', 'wilmslow', 'corsa', 'ginger', 'beard', 'jerzi', 'dudek', 'dimitar', 'berbatov', 'franca', 'lifelin', 'eurex', 'recker', 'hessen', 'aloi', 'rhiel', 'reoffend', 'reconvict', 'oversubscrib', 'naresh', 'goya', 'hiten', 'deccan', 'spicejet', 'kuala', 'lumpur', 'affluent', 'sixteen', 'upsurg', 'instrument', 'raini', 'samurai', 'bleep', 'nuditi', 'warmong', 'impati', 'caller', 'can', 'cara', 'diemont', 'autom', 'churn', 'towel', 'sunov', 'vivaldi', 'greensleev', 'anna', 'groenefeld', 'accuraci', 'unbias', 'bryan', 'ferrero', 'robredo', 'outclass', 'silenc', 'unflapp', 'dissatisfact', 'rand', 'sanit', 'exempt', 'colen', 'garrow', 'pleasant', 'ebay', 'fisher', 'omaha', 'parlour', 'botin', 'hispano', 'reconven', 'amusategui', 'corcostegui', 'banco', 'abbey', 'mostli', 'sar', 'untax', 'ulrich', 'schult', 'strathau', 'hinder', 'politici', 'torr', 'athletico', 'ronaldino', 'barca', 'espanyol', 'zinedin', 'brace', 'knockout', 'stipul', 'juventu', 'bayern', 'gasp', 'olympiako', 'internazional', 'lyon', 'fenerbahc', 'monaco', 'werder', 'bremen', 'psv', 'eindhoven', 'hospic', 'kensington', 'rode', 'maze', 'polytechn', 'anglo', 'esteem', 'sdlp', 'unionist', 'discord', 'reshuffl', 'painkil', 'lobbyist', 'denounc', 'bamboozl', 'spadea', 'mirnyi', 'campaig', 'con', 'abhorr', 'thirdli', 'adair', 'conscious', 'whichev', 'plumb', 'intimidatori', 'pheasant', 'consumer', 'haulag', 'litr', 'tuppenc', 'regrett', 'trek', 'upn', 'quantum', 'bakula', 'nx', 'coupon', 'voyag', 'roberta', 'doha', 'slovakian', 'magdaleena', 'maleeva', 'sugiyama', 'samantha', 'stosur', 'nicol', 'pratt', 'tunisian', 'selima', 'sfar', 'molik', 'backdat', 'discrep', 'theed', 'wikid', 'mack', 'dreamt', 'spoilt', 'greed', 'ludicr', 'celt', 'insignific', 'sublim', 'headi', 'ignomini', 'dump', 'phalanx', 'toughest', 'teeth', 'jpr', 'tenterhook', 'blossom', 'dawn', 'guis', 'emerald', 'elus', 'reign', 'legion', 'bleu', 'diminut', 'aaron', 'lurk', 'snaffl', 'hash', 'resumpt', 'mazi', 'scamper', 'barbini', 'heinz', 'riley', 'collis', 'arch', 'schole', 'graciou', 'prescript', 'biotech', 'gw', 'pharma', 'sativex', 'approxim', 'spray', 'satifex', 'tetrahydrocannabinol', 'cannabidiol', 'arthriti', 'baywatch', 'hasselhoff', 'pamela', 'duke', 'hazzard', 'knot', 'crest', 'howler', 'numbingli', 'beachgoer', 'makeov', 'cab', 'jemima', 'pointsec', 'backup', 'oslo', 'adept', 'norwegian', 'retrofon', 'mug', 'harp', 'hamster', 'osborn', 'salmond', 'plaid', 'cymru', 'sixway', 'collier', 'wigglesworth', 'pieter', 'rasmussen', 'lombard', 'windo', 'niekerk', 'horsman', 'gilli', 'hickey', 'macleod', 'fortey', 'dali', 'vaili', 'trueman', 'hanley', 'hercu', 'redpath', 'roddam', 'schofield', 'caillet', 'bozzi', 'coutt', 'anglesea', 'lund', 'marten', 'recharg', 'trainor', 'evangelist', 'lithium', 'ion', 'wring', 'ebl', 'notebook', 'parsimoni', 'voltag', 'guzzler', 'titu', 'mellor', 'shay', 'bookabl', 'bellami', 'wildli', 'sami', 'hyypia', 'xabi', 'alonso', 'snuf', 'jermain', 'shola', 'deservedli', 'florent', 'sinama', 'pongol', 'finnan', 'carragh', 'riis', 'nunez', 'traor', 'hamann', 'og', 'ambros', 'zogbia', 'hertfordshir', 'grosjean', 'kimberli', 'grubbi', 'deceit', 'chao', 'metrovia', 'laud', 'jolin', 'shoo', 'lavish', 'slap', 'outdon', 'bradshaw', 'slug', 'enron', 'donaldson', 'sarban', 'oxley', 'accomod', 'delist', 'deregistr', 'unwil', 'confeder', 'basf', 'cadburi', 'schwepp', 'eightieth', 'prenti', 'bonus', 'breathtak', 'firefight', 'woolstenholm', 'cypru', 'erewash', 'blackman', 'ashfield', 'kemp', 'petrina', 'holdsworth', 'parodi', 'vie', 'awol', 'goodby', 'wrap', 'marlin', 'conform', 'intertrust', 'coral', 'confusingli', 'fogg', 'shelley', 'maximis', 'freer', 'cori', 'doctorow', 'hossam', 'pharaoh', 'tardelli', 'groin', 'roma', 'overreact', 'methat', 'shalabi', 'exert', 'shehata', 'michaella', 'krajicek', 'slovak', 'wessel', 'meghann', 'shaughnessi', 'baccanello', 'philippoussi', 'refug', 'debtor', 'judiciari', 'zack', 'discriminatori', 'yuganskneftga', 'irrepar', 'glocer', 'disillus', 'thereabout', 'undoubtedli', 'unpleas', 'brew', 'captiv', 'legitimaci', 'oxygen', 'steadfastli', 'phonograph', 'bpi', 'bedfellow', 'kazaa', 'fileshar', 'mulligan', 'onetel', 'alloc', 'senat', 'yagan', 'mall', 'lynn', 'malik', 'shahid', 'dewsburi', 'abbot', 'shylock', 'dicken', 'untru', 'embroil', 'evad', 'marchionn', 'wagon', 'patriarch', 'recapitalis', 'sham', 'jcwi', 'liechtenstein', 'iceland', 'rhian', 'beynon', 'registrar', 'amoah', 'rimmer', 'deterr', 'draconian', 'onestat', 'preview', 'brinkman', 'randl', 'vibrant', 'ecosystem', 'tindal', 'catt', 'creepi', 'imaginari', 'lukewarm', 'snyder', 'scarlett', 'stripe', 'precinct', 'fda', 'cox', 'inhibitor', 'celebrex', 'vioxx', 'merck', 'voluntarili', 'rung', 'pfizer', 'bextra', 'cardiovascular', 'anderlecht', 'trowbridg', 'chicoin', 'kalanick', 'swoosh', 'weiss', 'commoditis', 'morgenstern', 'overp', 'unsign', 'broe', 'unimagin', 'shred', 'inner', 'beith', 'baker', 'unflatt', 'dhirubhai', 'nanik', 'rupani', 'richli', 'capitul', 'bode', 'sharpen', 'fray', 'cement', 'personnel', 'sown', 'coax', 'bewilder', 'inconsist', 'demolit', 'reassess', 'masoch', 'unwash', 'furi', 'freakeri', 'bout', 'flagel', 'hutch', 'slang', 'coppendal', 'granger', 'paxman', 'heckler', 'sharron', 'storer', 'harangu', 'grief', 'undoubt', 'belgrano', 'falkland', 'soapbox', 'fizz', 'memoir', 'enthus', 'maxim', 'omap', 'vox', 'rasor', 'ntt', 'docomo', 'scrutinis', 'infanc', 'reboot', 'setback', 'abstain', 'cutter', 'unoffici', 'cramp', 'mri', 'arbor', 'swarm', 'pollard', 'unwit', 'workgroup', 'diffus', 'seagrav', 'mild', 'bandstand', 'publicist', 'shefrin', 'diabet', 'buddi', 'holli', 'aretha', 'frankin', 'blooper', 'wipro', 'apurva', 'shah', 'vivek', 'azim', 'premji', 'decri', 'seminar', 'eoc', 'reimburs', 'taster', 'segreg', 'ridg', 'acid', 'konami', 'evo', 'lma', 'hawk', 'battlefront', 'gran', 'turismo', 'pal', 'gt', 'flu', 'vaulter', 'lievin', 'slop', 'inmat', 'robber', 'eczema', 'barlinni', 'rigor', 'sheriff', 'remand', 'hearten', 'macaskil', 'fiasco', 'bovespa', 'buoyanc', 'hardlin', 'paschoal', 'tadeu', 'buonomo', 'tov', 'punit', 'pillar', 'palocci', 'orthodox', 'brasilia', 'afflict', 'sanctuari', 'stricter', 'lick', 'bahama', 'timor', 'consul', 'bordeaux', 'oporto', 'redeploy', 'nigeria', 'pretoria', 'maseru', 'mbaban', 'basra', 'kabul', 'pyongyang', 'keyn', 'strand', 'dodg', 'sandford', 'embryon', 'tissu', 'nostalg', 'superman', 'retire', 'laps', 'castaigned', 'trounc', 'mockeri', 'admittedli', 'pernod', 'domecq', 'ricard', 'seagram', 'propel', 'glenmorangi', 'whiski', 'lvmh', 'chiva', 'regal', 'scotch', 'havana', 'rum', 'jacob', 'creek', 'courvoisi', 'brandi', 'stolichnaya', 'ballantin', 'snack', 'dunkin', 'donut', 'baskin', 'robbin', 'cream', 'easyjet', 'easymobil', 'easygroup', 'haji', 'ioannou', 'disclaim', 'interc', 'airtim', 'kfb', 'koram', 'overpaid', 'accret', 'newbridg', 'aftermath', 'southcorp', 'penfold', 'lindeman', 'rosemount', 'relin', 'oatley', 'startl', 'lensworth', 'flip', 'shawn', 'manger', 'constel', 'brl', 'mondavi', 'bering', 'blass', 'truste', 'precursor', 'onu', 'moffat', 'fightstar', 'warwick', 'amic', 'eccleshal', 'chiefli', 'riotou', 'clutterbuck', 'crabb', 'renni', 'ep', 'slur', 'clown', 'rk', 'minded', 'humankind', 'petti', 'tiff', 'midstream', 'steed', 'diminish', 'eurosceptic', 'nauseat', 'egotist', 'chauvinist', 'ego', 'etat', 'exhaust', 'countless', 'discredit', 'contradictori', 'vain', 'pompou', 'tan', 'vacuiti', 'amus', 'refresh', 'mandat', 'populist', 'worthi', 'dither', 'europhil', 'pray', 'backdoor', 'broaden', 'purg', 'schoolchildren', 'classroom', 'twee', 'symbolis', 'nikkei', 'steepest', 'jeopardis', 'apec', 'unalt', 'taker', 'ewan', 'mcgregor', 'berri', 'vin', 'pacifi', 'recut', 'newmarket', 'hitch', 'brooksid', 'redmond', 'mersey', 'remit', 'hollyoak', 'cbe', 'bankash', 'suppress', 'shadowcrew', 'camberley', 'newark', 'bulgaria', 'ringlead', 'anatoli', 'tyukanov', 'carderplanet', 'darkprofit', 'nhtcu', 'counterfeit', 'deat', 'supt', 'proprietari', 'homophob', 'beeni', 'sizzla', 'brett', 'dancehal', 'yearwood', 'picket', 'eleph', 'buju', 'banton', 'tok', 'capleton', 'vybz', 'kartel', 'vp', 'jammin', 'apollo', 'flotat', 'bookrunn', 'shortcom', 'kaprano', 'damndest', 'hum', 'ponder', 'muso', 'posterior', 'disus', 'courtroom', 'domino', 'smog', 'sebadoh', 'tet', 'harvard', 'proactiv', 'preval', 'retrovir', 'cholesterol', 'ethiopia', 'demographi', 'considin', 'statuett', 'savoy', 'bevan', 'fellner', 'chairmen', 'laundrett', 'elliot', 'pegg', 'pawel', 'pawlikowski', 'rite', 'deakin', 'ladykil', 'cattral', 'nighi', 'firth', 'whisker', 'crossbar', 'specimen', 'giddi', 'undaunt', 'weighti', 'ridley', 'paver', 'wolf', 'enchant', 'biochemistri', 'torak', 'cub', 'primev', 'hutton', 'gavyn', 'dyke', 'gilligan', 'anatomi', 'trivialis', 'disengag', 'distrust', 'decamp', 'kudrow', 'gyllenha', 'schwimmer', 'divorc', 'drunkard', 'duan', 'hopwood', 'matador', 'costner', 'hustl', 'squid', 'whale', 'autobiograph', 'noah', 'baumbach', 'sneak', 'gdc', 'austin', 'healey', 'compound', 'vent', 'louisa', 'cheetham', 'ramsay', 'christchurch', 'wolfson', 'menswear', 'directori', 'bubb', 'woolworth', 'hatfield', 'balfour', 'manslaught', 'derail', 'upkeep', 'jeffri', 'railtrack', 'fugil', 'lea', 'peas', 'pottag', 'monkhous', 'headingley', 'tuxford', 'alcorn', 'comair', 'undeliv', 'mineta', 'disarray', 'luggag', 'sickout', 'chronic', 'understaf', 'paycut', 'discourag', 'ohio', 'exacerb', 'zara', 'hyde', 'fleetboston', 'boa', 'banc', 'bacap', 'cfd', 'tambon', 'hussey', 'gustafson', 'palombo', 'spector', 'lana', 'neglig', 'cutler', 'civilli', 'rigueur', 'roderick', 'lindblom', 'interfer', 'furlong', 'collat', 'paltrow', 'torrenti', 'mudslid', 'pavlik', 'dilemma', 'martyr', 'certifi', 'algerian', 'modif', 'versatil', 'retent', 'lw', 'tediou', 'uninspir', 'ba', 'yannick', 'julien', 'laharragu', 'aurelien', 'jauzion', 'bourgoin', 'harinordoquy', 'ubiquit', 'variant', 'crank', 'bombard', 'infest', 'earthlink', 'webroot', 'mcafe', 'spybot', 'gecad', 'overproduct', 'vintner', 'dominiqu', 'bussereau', 'preferenti', 'viticultur', 'lemetay', 'fnsea', 'overcapac', 'grower', 'consent', 'burgundi', 'ci', 'henrik', 'tgwu', 'gmb', 'lip', 'seventeen', 'cullum', 'wolstenholm', 'teignmouth', 'doll', 'withstand', 'rigour', 'wto', 'johannesson', 'pinpoint', 'vagina', 'monologu', 'kampala', 'ugandan', 'expung', 'unnatur', 'prostitut', 'kefa', 'ssempgani', 'ensler', 'anatom', 'ngo', 'mukasa', 'apparatu', 'iaea', 'livio', 'costantini', 'verifi', 'haystack', 'illicit', 'visualis', 'toolkit', 'umpteenth', 'sneer', 'warfar', 'upstag', 'squabbl', 'unavoid', 'pertin', 'intim', 'benn', 'seeth', 'inconceiv', 'gnoll', 'reverend', 'eldon', 'howley', 'aru', 'sanzar', 'chiropractor', 'meersseman', 'eliud', 'kipchog', 'gebr', 'gebremariam', 'dejen', 'berhanu', 'mccormick', 'morpeth', 'lasp', 'asi', 'tirunesh', 'dibaba', 'benita', 'kathi', 'crossley', 'kitt', 'nevi', 'nia', 'rough', 'randt', 'releg', 'shower', 'extravaganza', 'roosevelt', 'silent', 'secreci', 'banquet', 'dorothi', 'chandler', 'pavilion', 'auditorium', 'librarian', 'herrick', 'overheard', 'sidney', 'skolski', 'cedric', 'gibbon', 'plaster', 'fifti', 'fairbank', 'sr', 'admitt', 'hobson', 'jolson', 'bogart', 'casablanca', 'fonda', 'alfr', 'hitchcock', 'glitz', 'demur', 'reagan', 'demean', 'sacheen', 'littlefeath', 'cruz', 'opal', 'cavalcad', 'blackpool', 'seasid', 'placatori', 'asplin', 'pixi', 'bramham', 'wetherbi', 'richfield', 'charlatan', 'marilyn', 'leon', 'fiddler', 'dickinson', 'strasbourg', 'redress', 'tardi', 'unec', 'shrank', 'bdb', 'malta', 'abey', 'eichel', 'herv', 'gaymard', 'epp', 'buckl', 'sinner', 'ceil', 'joaquin', 'dusti', 'golfer', 'fairway', 'landfil', 'unrecycl', 'goodman', 'toxic', 'recondit', 'georgeta', 'minciu', 'sworn', 'condoleezza', 'succour', 'comer', 'jolt', 'wride', 'bloodlin', 'byssh', 'entrant', 'cyberathlet', 'cpl', 'istanbul', 'soccerex', 'ofex', 'seater', 'ashburton', 'grove', 'satur', 'matchday', 'fargo', 'squash', 'tp', 'auld', 'lang', 'syne', 'ingredi', 'noisi', 'jongleur', 'merri', 'nearest', 'goodpub', 'shepherd', 'feign', 'unprofession', 'outburst', 'imanol', 'pape', 'heyman', 'ludov', 'valbon', 'castr', 'toulousain', 'brive', 'eng', 'jerom', 'pap', 'serg', 'zier', 'huw', 'kwame', 'timeslot', 'bethan', 'homegrown', 'parfitt', 'turkcel', 'atinc', 'ozkan', 'finan', 'mtn', 'tav', 'tehran', 'khomeini', 'postur', 'inward', 'yeahronimo', 'elicit', 'chronolog', 'languish', 'infogram', 'relaunch', 'metatars', 'algemeen', 'dagblad', 'dacourt', 'mokoena', 'magistr', 'denham', 'ambigu', 'woolf', 'sgc', 'mitig', 'trauma', 'reband', 'steep', 'wlga', 'wellington', 'torfaen', 'minims', 'dai', 'whing', 'utmost', 'random', 'glyn', 'petrel', 'oilfield', 'everasia', 'khurmala', 'dome', 'iog', 'himrin', 'ironhors', 'suba', 'luhai', 'magnifi', 'font', 'residu', 'berit', 'width', 'banner', 'telenor', 'ipc', 'rife', 'casino', 'fruit', 'weblogg', 'gilan', 'motjaba', 'harsh', 'khatami', 'persian', 'farda', 'ayatollah', 'ruhollah', 'khomenei', 'khamenei', 'incompet', 'retrial', 'mullah', 'maci', 'bloomingdal', 'sped', 'kahn', 'bluntli', 'borussia', 'dortmund', 'westfallen', 'gerd', 'niebaum', 'florian', 'hamm', 'mismanag', 'thilo', 'halser', 'schechter', 'babinet', 'musiwav', 'jona', 'equilibrium', 'continuum', 'cont', 'defam', 'balco', 'detector', 'steroid', 'zinc', 'godfrey', 'fend', 'jetstar', 'qanta', 'clijster', 'mcname', 'rehabilit', 'nd', 'dokic', 'sele', 'absente', 'vozvrashcheni', 'andrey', 'zvyagintsev', 'gillian', 'zatoichi', 'yimou', 'martial', 'girin', 'bellevil', 'rendezv', 'metlif', 'annuiti', 'benmosch', 'barney', 'citibank', 'quint', 'gartmor', 'muddl', 'vagu', 'scurril', 'basingstok', 'shrewsburi', 'torbay', 'astrazeneca', 'iressa', 'coagul', 'exanta', 'spinner', 'crestor', 'jefferi', 'tarceva', 'placebo', 'osi', 'genentech', 'roch', 'aztrazeneca', 'mckillop', 'custodi', 'corston', 'glaringli', 'hung', 'gigg', 'toshack', 'briefli', 'waver', 'focuss', 'coloni', 'imperialist', 'missionairi', 'internation', 'mardel', 'outspoken', 'unilater', 'taipei', 'bracket', 'kenya', 'arbitrari', 'cumbersom', 'cowardli', 'unravel', 'fintian', 'bmg', 'fictiti', 'coincident', 'fogarti', 'cardin', 'cormac', 'iter', 'archbishop', 'malnourish', 'congreg', 'cathedr', 'injustic', 'saviour', 'ligament', 'deplet', 'guscott', 'standout', 'odpm', 'hbo', 'humber', 'spiral', 'fledgl', 'kop', 'deflect', 'underscor', 'hawkpoint', 'thaksin', 'shiniwatra', 'ajar', 'benefactor', 'traditionalist', 'math', 'southan', 'gaze', 'wham', 'lewd', 'anselmo', 'feleppa', 'wager', 'dougray', 'wartim', 'enigma', 'bana', 'salmon', 'herlihi', 'bunuel', 'cruso', 'macduff', 'orson', 'macbeth', 'robocop', 'omni', 'waterfront', 'invalu', 'ankara', 'recep', 'erdogan', 'croatia', 'yugoslavia', 'redknapp', 'wigley', 'fratton', 'middlesbrough', 'mandar', 'velimir', 'zajec', 'sturrock', 'mbita', 'textbook', 'digitis', 'eduvis', 'herren', 'antenna', 'solar', 'maciej', 'sundra', 'bjorkman', 'edmondson', 'bronchiti', 'eleni', 'daniilid', 'mauresmo', 'frenchwoman', 'camil', 'sharapova', 'pavel', 'massu', 'zvonareva', 'petrova', 'karolina', 'sprem', 'francesca', 'schiavon', 'silvia', 'farina', 'elia', 'fabiola', 'zuluaga', 'likhovtseva', 'tatiana', 'golovin', 'frazier', 'magdalena', 'smashnova', 'shinobu', 'asago', 'flavia', 'pennetta', 'kostan', 'iveta', 'benesova', 'countryfil', 'dweller', 'evenli', 'sherwood', 'erlich', 'ram', 'becker', 'harel', 'noam', 'okun', 'brightest', 'revolt', 'pardon', 'eduard', 'shevardnadz', 'saakashvili', 'georgian', 'warp', 'upris', 'brigand', 'mugger', 'briber', 'peerag', 'glibli', 'bedwellti', 'fai', 'faro', 'penultim', 'holiff', 'statler', 'rear', 'dabbl', 'nashvil', 'rpm', 'confectioneri', 'pepper', 'snappl', 'stitzer', 'basqu', 'sniffer', 'florentino', 'guti', 'cadena', 'ser', 'nihat', 'kahveci', 'albacet', 'separatist', 'eta', 'fc', 'decrypt', 'dormant', 'freebi', 'whalley', 'deciph', 'bingo', 'ingenu', 'ukrainian', 'perchesk', 'rinat', 'akhmetov', 'resold', 'ghz', 'synergist', 'multicor', 'kleynhan', 'meta', 'predominantli', 'clearnet', 'rebuff', 'spiegel', 'firepow', 'ruthless', 'madonna', 'elton', 'musicolog', 'garfunkel', 'wilder', 'metallica', 'madli', 'songbook', 'whiff', 'anai', 'faraj', 'nomura', 'disgruntl', 'glean', 'posthum', 'norah', 'gladi', 'rendit', 'replic', 'boo', 'maroon', 'mayer', 'britney', 'spear', 'stardust', 'sting', 'lennox', 'motorhead', 'transmigr', 'autobiographi', 'jolanda', 'ceplak', 'slovenian', 'runaway', 'landlord', 'adida', 'inse', 'naud', 'osella', 'meti', 'takashi', 'yamanaka', 'resili', 'forgiven', 'alitalia', 'barot', 'lufthansa', 'iberia', 'az', 'madden', 'riaa', 'swapper', 'assessor', 'oreo', 'cooki', 'sugari', 'kool', 'nutrit', 'pepsico', 'reformul', 'calori', 'cereal', 'lanc', 'friedmann', 'fm', 'reidar', 'waseniu', 'mustafa', 'jibouri', 'assad', 'envoy', 'alexandra', 'schumer', 'vermont', 'traci', 'schmaler', 'outsprint', 'mccabe', 'restraint', 'rationalis', 'reinvest', 'cosla', 'monteith', 'knox', 'fatigu', 'clung', 'netherdal', 'fightback', 'steinmetz', 'bryn', 'cunningham', 'hore', 'calum', 'macra', 'pattison', 'morton', 'trickl', 'larkin', 'glimmer', 'mccall', 'berthinussen', 'mcente', 'parr', 'mcgee', 'rennick', 'millar', 'maxwel', 'mccullough', 'feather', 'bradi', 'longwel', 'doak', 'generalis', 'pernici', 'romanc', 'nile', 'aishwarya', 'rai', 'bride', 'angadia', 'courier', 'shailendra', 'swashbuckl', 'heald', 'overton', 'cfca', 'giamatti', 'southeastern', 'haden', 'madsen', 'abort', 'kaz', 'hirai', 'il', 'divo', 'daldri', 'familiaris', 'loma', 'maguir', 'mower', 'heali', 'haydn', 'gwnne', 'matin', 'bossi', 'disbelief', 'shone', 'dear', 'repossess', 'allud', 'inflict', 'gurkha', 'brunei', 'logist', 'baha', 'mousa', 'shiner', 'receptionist', 'carla', 'ferstman', 'sadden', 'ongc', 'entiti', 'subir', 'raha', 'shankar', 'aiyar', 'bpd', 'sudan', 'sakhalin', 'siberian', 'hitachi', 'matshushita', 'fujitsu', 'sculthorp', 'wigan', 'joynt', 'rfl', 'niggli', 'sonni', 'knowsley', 'reassert', 'bia', 'limo', 'chilli', 'autograph', 'throng', 'sequin', 'shiver', 'shimmer', 'armani', 'sienna', 'claudia', 'schiffer', 'oc', 'micha', 'caramel', 'floati', 'frock', 'mcqueen', 'hermion', 'flew', 'cuckoo', 'nest', 'deliri', 'hyderabad', 'wyatt', 'unmatch', 'tad', 'sittingbourn', 'sheppey', 'tightest', 'auster', 'discretionari', 'needi', 'medicaid', 'mccain', 'conrad', 'cater', 'yob', 'asbo', 'patchi', 'dispers', 'drunken', 'pulsat', 'causeway', 'gisbergen', 'ginsberg', 'undo', 'relinquish', 'erinl', 'voyc', 'birkett', 'mckenzi', 'biljon', 'hoadley', 'rabeni', 'chuter', 'buckland', 'cockeril', 'tuilagi', 'bemand', 'tuiliagi', 'vesti', 'fireston', 'yorker', 'gridlock', 'thiev', 'feloni', 'chongq', 'lifan', 'paw', 'garfield', 'cat', 'yamaha', 'lump', 'taiwan', 'undersecretari', 'fraudster', 'jayanti', 'amarishi', 'buhecha', 'conterfeit', 'inlay', 'mohabbatein', 'eurodisney', 'mickey', 'arabian', 'walid', 'talal', 'mystifi', 'quiksilv', 'rossignol', 'ski', 'surfwear', 'boix', 'vive', 'snowboard', 'sara', 'foresti', 'wist', 'sofia', 'coppola', 'travail', 'dramatist', 'marivaux', 'impoverish', 'schoolteach', 'unfashion', 'postcard', 'hirst', 'tracey', 'testino', 'bradburn', 'loach', 'chalayan', 'coxon', 'pitfal', 'convey', 'cebit', 'hanov', 'flyer', 'buzzword', 'wirelessli', 'neull', 'headphon', 'brailey', 'sgh', 'koji', 'umemoto', 'magnet', 'riccardo', 'rinaldini', 'transmitt', 'trainer', 'susann', 'riss', 'accordingli', 'unskil', 'underst', 'boyfriend', 'jaslyn', 'tiebreak', 'ruffl', 'pervez', 'mayfair', 'learnt', 'ewood', 'goodison', 'colchest', 'beig', 'firewir', 'peripher', 'ethernet', 'imovi', 'garageband', 'stylish', 'famous', 'celeron', 'bedroom', 'vat', 'sempron', 'workhors', 'jal', 'pricey', 'athlon', 'buildyourown', 'innuendo', 'sacrific', 'scientif', 'rfid', 'scanner', 'ard', 'vetham', 'passcard', 'misconcept', 'caspian', 'whereabout', 'rosi', 'carsten', 'fritsch', 'commerzbank', 'macdonald', 'manjit', 'scannel', 'mare', 'siac', 'hugil', 'possibilti', 'sleepless', 'habeu', 'blot', 'irishmen', 'malcom', 'bastil', 'fondat', 'enfanc', 'valeri', 'giscard', 'esta', 'aymon', 'ovat', 'aznavour', 'clapton', 'osbourn', 'hereford', 'doncast', 'mcindo', 'adriano', 'rigoglioso', 'mawson', 'mkandawir', 'pitman', 'purdi', 'stansfield', 'ingham', 'fenton', 'morley', 'priet', 'ravenhil', 'tierney', 'beardsley', 'copping', 'warrington', 'maloney', 'treaci', 'prowess', 'ciara', 'beyonc', 'bug', 'architect', 'longhorn', 'drayson', 'powderject', 'smallpox', 'philanthropist', 'ondaatj', 'refriger', 'haughey', 'bequest', 'beardmor', 'hambro', 'magan', 'bearwood', 'knowingli', 'recklessli', 'paperback', 'finalist', 'sebold', 'madeley', 'finnigan', 'lesser', 'overhang', 'seung', 'conquer', 'sandal', 'thanksgiv', 'scath', 'bisexu', 'sinew', 'bravado', 'buttnumbathon', 'hamstrung', 'grandios', 'scorn', 'bleach', 'unwieldi', 'accent', 'mata', 'hari', 'dracula', 'gore', 'vidal', 'jfk', 'comb', 'niscc', 'waarschuwingsdienst', 'pronounc', 'cosi', 'pester', 'stump', 'cosmet', 'berhan', 'adera', 'miscount', 'mongrel', 'beckett', 'dixon', 'zhaox', 'quantit', 'nobutaka', 'machimura', 'mainland', 'ars', 'meighan', 'afterlif', 'serpent', 'pizzorno', 'karloff', 'sideburn', 'getaway', 'farmhous', 'rutland', 'lsf', 'guerilla', 'primal', 'fieri', 'badland', 'cutt', 'budgetari', 'align', 'ecofin', 'planemak', 'jumbo', 'slimmer', 'dreamlin', 'variat', 'aisl', 'seattl', 'airplan', 'learmount', 'eva', 'smallest', 'ifo', 'dz', 'bernd', 'weidenstein', 'sinn', 'dca', 'rem', 'tent', 'secc', 'balloch', 'lomond', 'hampden', 'bellahouston', 'ticketweb', 'goodfella', 'unforgiven', 'alda', 'backstag', 'indescrib', 'bittersweet', 'brothel', 'calcutta', 'yoga', 'tai', 'chi', 'agil', 'basketbal', 'hoop', 'southwark', 'inter', 'fenc', 'chide', 'bide', 'turkmen', 'turkmenistan', 'saparmurat', 'niyazov', 'naftohaz', 'yuri', 'boyko', 'thay', 'siberia', 'feyenoord', 'keegan', 'roundabout', 'puppet', 'nesbit', 'yesteryear', 'sprung', 'cg', 'airbrush', 'trippi', 'otherworldli', 'stella', 'papamichael', 'remad', 'mannequin', 'repackag', 'clanger', 'tabbi', 'pink', 'yaffl', 'mice', 'furri', 'wombl', 'supernatur', 'catweazl', 'gandalf', 'thundercat', 'sacr', 'banana', 'pandi', 'grearest', 'toon', 'abysm', 'entic', 'apal', 'cuddli', 'dougal', 'disneyfi', 'everth', 'bod', 'pugwash', 'woefulli', 'pluder', 'rework', 'dare', 'muffin', 'mule', 'granni', 'grandpa', 'ufo', 'saphir', 'battlestar', 'galactica', 'misti', 'mungo', 'midg', 'stair', 'remodel', 'plani', 'rehash', 'atkinson', 'expat', 'dearest', 'noggin', 'nog', 'witti', 'chorlton', 'wheeli', 'rentaghost', 'terrahawk', 'extortion', 'citreon', 'luv', 'willow', 'wisp', 'wouldnt', 'rushden', 'morph', 'torch', 'hmmmmm', 'postgat', 'fingerbob', 'antic', 'hippi', 'yoffi', 'fingermous', 'builder', 'postman', 'fireman', 'krusti', 'gobo', 'supermarion', 'seam', 'plunder', 'bagpuss', 'clunki', 'mock', 'chorton', 'mega', 'gurgit', 'starski', 'drivel', 'amateurish', 'that', 'cairn', 'rajasthan', 'gammel', 'evalut', 'pb', 'jacoba', 'uncut', 'discreet', 'timberlak', 'bolder', 'disorderli', 'oti', 'impromptu', 'chare', 'trespass', 'shropshir', 'redver', 'hartpuri', 'holliday', 'huntsman', 'ledburi', 'herefordshir', 'thame', 'polo', 'highgrov', 'bromesberrow', 'jockey', 'wakeham', 'chef', 'doorkeep', 'handcuf', 'cidatel', 'infomerci', 'siriu', 'citadel', 'pennsylvania', 'syndic', 'rant', 'prone', 'hairi', 'schwarzer', 'edwin', 'frey', 'slaughter', 'surgeon', 'handout', 'ammunit', 'demeanour', 'gloss', 'larder', 'pore', 'mohammad', 'expedi', 'modestli', 'majli', 'rial', 'kosslick', 'soweto', 'safest', 'croni', 'leo', 'puerto', 'rican', 'salsa', 'merengu', 'velvet', 'mavi', 'alabama', 'raitt', 'gretchen', 'lynyrd', 'skynyrd', 'bett', 'disloy', 'thigh', 'jadakiss', 'jada', 'homi', 'gunshot', 'entourag', 'xxl', 'nirupama', 'vaidyanathan', 'hungarian', 'petra', 'mandula', 'begrudg', 'unhelp', 'cigar', 'flounder', 'revert', 'kpmg', 'headach', 'lieberman', 'sate', 'juvenil', 'readership', 'syllabl', 'shade', 'bylin', 'joan', 'swansong', 'superteam', 'cosmic', 'dandruff', 'ingrown', 'toenail', 'acn', 'rekindl', 'nerdi', 'irradi', 'skyscrap', 'spidey', 'affection', 'sidekick', 'brawn', 'thor', 'bigotri', 'kirbi', 'romitaand', 'panther', 'northstar', 'closet', 'spectacularli', 'indestruct', 'meldrum', 'easton', 'bahoken', 'livi', 'outjump', 'skim', 'simmon', 'stanic', 'gabor', 'vincz', 'ferenc', 'horvath', 'lilley', 'lothian', 'deloumeaux', 'dair', 'mcpake', 'freeland', 'hartley', 'neilson', 'berra', 'wyness', 'cesnauski', 'moilanen', 'kizi', 'westfalen', 'molsiri', 'makarov', 'gordievski', 'kgb', 'yale', 'historian', 'wrung', 'decod', 'perm', 'artic', 'latvia', 'bedsit', 'guaranti', 'pbgc', 'roundtabl', 'fer', 'congressmen', 'nobel', 'laureat', 'strap', 'firmer', 'logu', 'oklahoma', 'ak', 'embu', 'isaiah', 'kiplagat', 'edith', 'masai', 'guru', 'jakob', 'splash', 'glamor', 'kite', 'fallout', 'bashir', 'whore', 'schaffel', 'legrand', 'frailti', 'sneddon', 'pli', 'molest', 'mfa', 'bangladesh', 'rockwel', 'garment', 'cambodia', 'nepal', 'pendleton', 'consenu', 'seismic', 'placement', 'otc', 'outsold', 'houlihan', 'computerandvideogam', 'slimlin', 'ramif', 'harmonis', 'lichtenberg', 'undemocrat', 'petul', 'guillem', 'balagu', 'nappi', 'naiveti', 'ole', 'garrido', 'miscreant', 'lambast', 'volvi', 'loco', 'bernab', 'casilla', 'marchena', 'xavi', 'maradona', 'varga', 'galactico', 'negropont', 'skinni', 'scotsman', 'hamish', 'macdonel', 'pillori', 'drank', 'wiser', 'soundbit', 'vignal', 'nacho', 'novo', 'rab', 'waterreu', 'hartson', 'sutton', 'disposses', 'sotiri', 'kyrgiako', 'ricksen', 'mcnamara', 'bald', 'laursen', 'petrov', 'henchoz', 'juninho', 'paulista', 'mcgeadi', 'buffel', 'namouchi', 'rae', 'lovenkrand', 'mccurri', 'collar', 'charvi', 'sch', 'len', 'telephoto', 'rokr', 'zander', 'ctia', 'yle', 'hsdpa', 'downlink', 'sphere', 'hangar', 'dorri', 'rever', 'teak', 'farewel', 'burnley', 'matteo', 'sinclair', 'mcgreal', 'oster', 'micah', 'cotteril', 'hotpot', 'spici', 'lunchtim', 'goalless', 'ipswich', 'claret', 'prem', 'kinsey', 'tod', 'advocaci', 'greatli', 'enquiri', 'disinterest', 'misselbrook', 'alfonso', 'cuaron', 'bleak', 'hogwart', 'calam', 'corni', 'winsom', 'myriad', 'oldman', 'crookshank', 'scabber', 'rowl', 'featurett', 'sleaz', 'incess', 'ptc', 'inaccur', 'smut', 'peddler', 'bozel', 'raunchi', 'raunch', 'jeanni', 'keda', 'avion', 'atr', 'gorur', 'gopinath', 'bagnato', 'bangalor', 'andriy', 'shevchenko', 'cheekbon', 'rui', 'kaka', 'serginho', 'tomasson', 'goalscor', 'ancelotti', 'shootout', 'vibe', 'kenard', 'gibb', 'sicken', 'darnel', 'scuffl', 'shannon', 'noll', 'nina', 'pepsi', 'sexiest', 'missi', 'cher', 'luna', 'fairground', 'electra', 'ja', 'imbruglia', 'stakehold', 'verroken', 'burt', 'belafont', 'eulog', 'poiter', 'attallah', 'shabazz', 'harlem', 'ditto', 'digniti', 'fathom', 'ardent', 'balkan', 'macedonia', 'peninsula', 'albanian', 'macedonian', 'ambo', 'burga', 'vlore', 'conceiv', 'fato', 'opic', 'eximbank', 'chevrontexaco', 'exxon', 'bosphoru', 'dardanel', 'strait', 'colombian', 'schmidt', 'nicholson', 'sall', 'woodsman', 'bacon', 'selma', 'bori', 'liverpudlian', 'bigley', 'henley', 'curiou', 'wallow', 'grovel', 'thuggish', 'saud', 'faisal', 'abdullah', 'facto', 'ruler', 'ghazi', 'gosaibi', 'uproar', 'piti', 'soderl', 'radek', 'stepanek', 'synthet', 'vindic', 'hairdress', 'indign', 'spellar', 'decreas', 'uni', 'unattract', 'whine', 'insinu', 'hardwork', 'br', 'simplist', 'purr', 'afloat', 'sweatshop', 'hello', 'underpaid', 'ancillari', 'unglamor', 'openli', 'paltri', 'manpow', 'sweat', 'tangibl', 'sme', 'fudg', 'hardship', 'overtim', 'laze', 'sleaford', 'scansoft', 'gracenot', 'speechwork', 'tru', 'orlean', 'parish', 'rakoski', 'corey', 'wither', 'siemssen', 'descript', 'snapshot', 'rohit', 'gupta', 'morquendi', 'smse', 'palpabl', 'dina', 'funnel', 'ramdhan', 'yadav', 'kotamaraja', 'heret', 'trawler', 'sella', 'gel', 'devoid', 'matchwinn', 'duffer', 'fluf', 'scoresheet', 'capriati', 'advanta', 'hmv', 'unannounc', 'gobsmack', 'dido', 'dionn', 'tina', 'proce', 'darfur', 'raphael', 'saumarez', 'pedestrianis', 'trafalgar', 'greco', 'tolstoy', 'urbino', 'caravaggio', 'stubb', 'alva', 'tussaud', 'alton', 'lanzarot', 'abdomen', 'savant', 'stringfellow', 'dlp', 'bink', 'gfk', 'oudendijk', 'adaptor', 'dvi', 'hdmi', 'connector', 'underway', 'preoccupi', 'sticker', 'mercer', 'ebu', 'laven', 'suffic', 'sage', 'gp', 'erm', 'brennan', 'climbdown', 'whittingdal', 'shambl', 'leisur', 'salvat', 'lomax', 'cobham', 'depardieu', 'figaro', 'reno', 'uncredit', 'dimanch', 'fiancail', 'bulg', 'ofoto', 'snapfish', 'pixagogo', 'photosig', 'critiqu', 'picasa', 'archivist', 'tantilis', 'tuck', 'totp', 'kash', 'roli', 'keat', 'habitat', 'futurelab', 'teamwork', 'chatroom', 'eschew', 'tainment', 'edutain', 'useabl', 'lite', 'croke', 'mcd', 'diego', 'ticketmast', 'luncheon', 'okonedo', 'moldova', 'cheshir', 'carrington', 'sardinia', 'koubek', 'viewfind', 'moblog', 'kiosk', 'fonetographi', 'rankin', 'nan', 'goldin', 'vettriano', 'livermor', 'onemus', 'lamacq', 'kember', 'totallyradio', 'ledgendari', 'faultless', 'bloke', 'sportsman', 'tasti', 'chequ', 'nervi', 'stilian', 'halliwel', 'busier', 'stephan', 'utterli', 'aiden', 'mens', 'bollan', 'balmer', 'arbuckl', 'gilhaney', 'malon', 'harti', 'regent', 'prerog', 'amadeo', 'fensao', 'smatter', 'eccentr', 'druid', 'priest', 'oddi', 'itn', 'lorrain', 'chapman', 'mackenzi', 'donnellon', 'inuit', 'tote', 'lim', 'giggl', 'crestfallen', 'maitland', 'irfan', 'hanif', 'carman', 'rodney', 'hylton', 'pott', 'suez', 'agua', 'peso', 'vido', 'clarin', 'futurolog', 'bolivia', 'alto', 'contractu', 'iadb', 'eclac', 'venezuela', 'christina', 'bratman', 'undisclos', 'meghan', 'dirrti', 'fiance', 'geni', 'marmalad', 'maya', 'editori', 'nuj', 'fitzpatrick', 'broadsheet', 'holling', 'littlewood', 'maclennan', 'lifeblood', 'unforgiv', 'outwardli', 'dish', 'playmak', 'fallibl', 'athletic', 'hansard', 'twigg', 'rafteri', 'paxil', 'wellbutrin', 'garnier', 'discontinu', 'allergi', 'mab', 'azzam', 'tamimi', 'eros', 'mcb', 'sher', 'curtic', 'rochdal', 'disaffect', 'lorna', 'fitzsimon', 'zombi', 'bot', 'honeynet', 'honey', 'worryingli', 'shortest', 'irc', 'ddo', 'adsens', 'peep', 'avi', 'mclean', 'yea', 'brunswick', 'michali', 'dimitrakopoulo', 'primetim', 'emmer', 'tandem', 'alita', 'lucid', 'brisban', 'krome', 'maxi', 'spore', 'amoeba', 'frodo', 'baggin', 'seuss', 'endorphin', 'workload', 'genem', 'gencrowd', 'attende', 'owain', 'bennallack', 'awoken', 'dirk', 'hawkish', 'trichet', 'kitchen', 'bizarr', 'analog', 'realm', 'cautious', 'toshihiko', 'fukui', 'pullback', 'amit', 'yoran', 'clout', 'impervi', 'suscept', 'abruptli', 'cybersecur', 'decss', 'ripper', 'circumv', 'claimant', 'inact', 'ostwald', 'oecd', 'bi', 'coti', 'koen', 'earnest', 'sox', 'signifi', 'oner', 'nicolaisen', 'blinx', 'felin', 'jak', 'daxter', 'clank', 'dollop', 'acpo', 'underag', 'protract', 'indirectli', 'angrili', 'yetund', 'mutant', 'abnorm', 'armand', 'leroi', 'imperi', 'armistead', 'kunzru', 'eyr', 'alexei', 'sayl', 'eleg', 'inquisit', 'zadi', 'deborah', 'sucessor', 'corbijn', 'depech', 'quell', 'glass', 'propens', 'undeclar', 'trebl', 'sibneft', 'opaqu', 'siphon', 'healthiest', 'alarmingli', 'greas', 'antagonist', 'errat', 'vendetta', 'rectitud', 'salutari', 'powergen', 'cherri', 'melvil', 'rehab', 'brentford', 'frampton', 'deon', 'saux', 'svensson', 'oakley', 'carrot', 'plum', 'struggler', 'gigant', 'sodj', 'creaki', 'torquay', 'docherti', 'solent', 'rotherham', 'millmoor', 'craven', 'hypnotis', 'ned', 'temko', 'inextric', 'cock', 'ellman', 'hypnotist', 'bannatyn', 'broadsid', 'corros', 'piecem', 'abstent', 'ampa', 'climan', 'crouch', 'klinsmann', 'understudi', 'alumnia', 'halloween', 'carpent', 'carv', 'lynda', 'obst', 'babysit', 'cluedo', 'rubbl', 'beek', 'rambo', 'apocalyps', 'plural', 'globescan', 'pipa', 'maryland', 'kull', 'blister', 'untrammel', 'willey', 'lira', 'bosworth', 'croooner', 'darin', 'reclus', 'hoskin', 'brenda', 'blethyn', 'hord', 'remembr', 'schlock', 'niven', 'ringworld', 'starship', 'trooper', 'dolbi', 'bungi', 'fratern', 'errera', 'fansit', 'lan', 'cultiv', 'titbit', 'screenshot', 'essay', 'keska', 'wollaton', 'jeddah', 'boyl', 'sear', 'scoreboard', 'burrow', 'bereft', 'scuttl', 'scorch', 'jutg', 'bryce', 'kirk', 'gratitud', 'birthplac', 'sublimin', 'eman', 'societ', 'laissez', 'enlighten', 'toil', 'balmor', 'atrium', 'gerald', 'vima', 'childish', 'lembit', 'opik', 'landown', 'gile', 'defra', 'luff', 'bark', 'intifada', 'gaza', 'sanjaya', 'senanayak', 'unreli', 'trinidad', 'tobago', 'taran', 'rampersad', 'purif', 'tablet', 'ravag', 'techi', 'cach', 'mob', 'saffo', 'cyberspac', 'michelangelo', 'nato', 'panlog', 'makow', 'caf', 'seaboard', 'radar', 'cachet', 'registri', 'unjust', 'hindu', 'sikh', 'downdraft', 'islamaphobia', 'sayeeda', 'warsi', 'contracept', 'pinochet', 'augusto', 'rigg', 'allend', 'equatori', 'embezzl', 'rejoic', 'eduardo', 'contrera', 'repar', 'hendrix', 'baltasar', 'garzon', 'sugabab', 'hoffmann', 'gestingthorp', 'fortifi', 'supplementari', 'lactat', 'drought', 'josserand', 'poker', 'graber', 'realarcad', 'powerbook', 'zenith', 'warrant', 'subset', 'abacu', 'sextant', 'chronomet', 'browni', 'diamound', 'casio', 'qv', 'startac', 'cdp', 'hiss', 'emen', 'elsen', 'surprisngli', 'pulsar', 'quartz', 'odditi', 'pez', 'tamagotchi', 'ronco', 'scrambler', 'subsum', 'minidisc', 'netmd', 'clockwork', 'revolutionalis', 'brevil', 'pie', 'noteboook', 'tandi', 'do', 'razor', 'wristwatch', 'hoov', 'tinni', 'anyht', 'ql', 'libretto', 'vulcan', 'flipstart', 'vapourwar', 'psion', 'app', 'err', 'bias', 'dishearten', 'trackbal', 'trackpad', 'cornel', 'fluctuat', 'mathemat', 'parrot', 'redder', 'unitari', 'stockton', 'tee', 'trent', 'bangor', 'aberystwyth', 'wrexham', 'freelov', 'imperson', 'pcsu', 'bloglin', 'rss', 'pyra', 'lanzon', 'foothold', 'monetis', 'uneven', 'zoellick', 'gooch', 'goldfin', 'sentinel', 'tyco', 'kozlowski', 'loot', 'qrio', 'filler', 'whizzi', 'froth', 'taser', 'soda', 'cant', 'fizzi', 'astro', 'camilla', 'hrh', 'duchess', 'consort', 'monarchi', 'heirloom', 'prayer', 'chapel', 'anglican', 'remarriag', 'disillusion', 'ro', 'coward', 'extortionist', 'overspil', 'capella', 'pipex', 'pluck', 'forewarn', 'alphabet', 'bloggi', 'nikolai', 'nolan', 'gawker', 'bicycl', 'wonkett', 'bo', 'gothamist', 'greenfairydotcom', 'londonist', 'hicksdesign', 'plasticbag', 'meme', 'flickr', 'nrj', 'avril', 'lavign', 'cote', 'azur', 'clad', 'schoolgirl', 'elephunk', 'jenif', 'voisin', 'francophon', 'paraguay', 'lili', 'fictionalis', 'paraguayan', 'solano', 'mistress', 'honourari', 'narr', 'contagi', 'wildfir', 'snobberi', 'napkin', 'arc', 'hautman', 'godless', 'valentin', 'aurora', 'unambigu', 'carniv', 'blink', 'mismatch', 'vessel', 'duopoli', 'berson', 'fanni', 'mae', 'kudo', 'finsih', 'bok', 'blomefontein', 'immacul', 'girvan', 'vertic', 'galway', 'strut', 'doubter', 'provinci', 'beilev', 'duel', 'mang', 'armagh', 'londonderri', 'ym', 'huey', 'hutchinson', 'capitol', 'feasibl', 'toothless', 'brute', 'indig', 'rearrang', 'harmless', 'fixat', 'dispassion', 'subtl', 'malwar', 'categoris', 'marek', 'strihavka', 'benni', 'stowel', 'finn', 'opportunist', 'unrival', 'hoy', 'ultimatum', 'dipo', 'brownsword', 'overheat', 'rebalanc', 'congdon', 'ing', 'chagrin', 'deshui', 'renminbi', 'gorg', 'out', 'scenic', 'yangtz', 'yue', 'fujian', 'megawatt', 'mw', 'xiluodi', 'jinshajiang', 'environmentalist', 'nu', 'mekong', 'salween', 'downstream', 'gypsi', 'pragu', 'hale', 'steyn', 'carswel', 'objection', 'discriminatorili', 'bleakli', 'mcclaren', 'boro', 'lazio', 'boudewijn', 'zenden', 'exorcist', 'schrader', 'stellan', 'skarsgard', 'forerun', 'harlin', 'frankenheim', 'merrin', 'sydow', 'cliffhang', 'vern', 'bromwich', 'albion', 'hurosawa', 'xie', 'xuren', 'winkfield', 'scarman', 'dispossess', 'nephew', 'sloss', 'alight', 'rotten', 'electrifi', 'epitom', 'be', 'reheat', 'boulton', 'leyton', 'pilkington', 'haslam', 'talbot', 'buxton', 'dimech', 'artel', 'corden', 'mcintosh', 'herron', 'lockwood', 'saah', 'ibehr', 'wardley', 'newey', 'zakuani', 'mcmahon', 'mathieson', 'amo', 'blaisdon', 'rebelli', 'tredegar', 'pengam', 'gleni', 'tutor', 'islwyn', 'firebrand', 'remonstr', 'canio', 'alcock', 'rofe', 'enrag', 'nicer', 'husson', 'mast', 'etsi', 'xda', 'sonyericsson', 'instat', 'bakley', 'criminalist', 'dowel', 'baretta', 'leant', 'emmi', 'tomb', 'yasser', 'ramallah', 'wreath', 'abu', 'mazen', 'nasa', 'audioblog', 'vj', 'piper', 'ipodd', 'wmp', 'madison', 'nascent', 'winer', 'commercialis', 'podshow', 'unobtrus', 'microcosm', 'referr', 'angler', 'fishermen', 'cruelti', 'neglect', 'mutil', 'blanch', 'redraft', 'unpunish', 'arous', 'irrevers', 'enshrin', 'circus', 'powi', 'orthopaed', 'stafford', 'nestl', 'wet', 'petcar', 'perrier', 'brabeck', 'letmath', 'zoe', 'chrissi', 'grantham', 'angi', 'daffodil', 'deplor', 'slimfast', 'dove', 'cescau', 'antoni', 'burgman', 'simplif', 'sweer', 'petercam', 'organiz', 'beverag', 'procter', 'atkin', 'carbohydr', 'spruce', 'unwrap', 'sculptor', 'wentworth', 'foyer', 'adorn', 'dim', 'photographi', 'mundan', 'wonki', 'refineri', 'gallon', 'kyle', 'sillier', 'cartel', 'eia', 'mueller', 'chakib', 'khelil', 'borrel', 'lipietz', 'proust', 'greedi', 'birkin', 'nanci', 'reunion', 'outbid', 'shadrin', 'sberbank', 'freshwat', 'tass', 'tver', 'kaha', 'kiknavelidz', 'collison', 'exorbit', 'expropri', 'rainsford', 'retali', 'impound', 'harrog', 'statistician', 'postgradu', 'rariti', 'pricier', 'underserv', 'maharaja', 'praful', 'patel', 'valv', 'burnout', 'adjudg', 'singstar', 'bongo', 'konga', 'tooth', 'byplan', 'hitman', 'durex', 'ssl', 'condom', 'gpw', 'scholl', 'reckitt', 'benckis', 'surgic', 'glove', 'antisept', 'seton', 'syndol', 'analges', 'meltu', 'cough', 'sauber', 'hosieri', 'deodor', 'mister', 'rijkaard', 'frisk', 'gaillard', 'giordano', 'portugues', 'fewest', 'speegl', 'cec', 'summaris', 'renton', 'rnib', 'howel', 'panavox', 'synthesis', 'imit', 'sincerest', 'flatteri', 'repetit', 'sparingli', 'manhunt', 'pakeerah', 'leblanc', 'mimick', 'elspa', 'classif', 'chainsaw', 'apprehens', 'mindset', 'daunt', 'backyard', 'ceasefir', 'kashmiri', 'islamabad', 'srinagar', 'muzaffarabad', 'sikhism', 'holiest', 'templ', 'amritsar', 'roti', 'sindh', 'flashpoint', 'thirteen', 'phoeb', 'joey', 'aniston', 'courteney', 'arquett', 'rayman', 'pictochat', 'kart', 'satoru', 'iwata', 'qualm', 'euphor', 'crockeri', 'vacuou', 'touchi', 'feeli', 'remitt', 'expatri', 'persson', 'verdecchia', 'olga', 'fedorova', 'kallur', 'recurr', 'tosin', 'oke', 'adrift', 'djhone', 'rund', 'irina', 'alexi', 'unfavour', 'qmv', 'baltacha', 'clamshel', 'spearhead', 'shantytown', 'narobi', 'kibera', 'hut', 'mud', 'cardboard', 'veracruz', 'gustavo', 'sanchez', 'hassel', 'prise', 'policyhold', 'trough', 'axa', 'lengthen', 'surveyor', 'unsold', 'ric', 'hitchhik', 'malkovich', 'rickman', 'humma', 'kavula', 'intergalact', 'unsaf', 'rep', 'rove', 'gmipol', 'unab', 'variabl', 'broadway', 'menageri', 'tennesse', 'ethel', 'barrymor', 'rinaldi', 'leveaux', 'wingfield', 'beasti', 'mic', 'flautist', 'horowitz', 'yauch', 'flutist', 'bsl', 'videophon', 'rnid', 'textphon', 'currington', 'guido', 'gybel', 'disenfranchis', 'negar', 'bipin', 'bihari', 'steami', 'hindi', 'chadti', 'jawani', 'topless', 'macfadyen', 'cartilag', 'medial', 'alasdair', 'strokosch', 'verif', 'catalina', 'sandino', 'moreno', 'smuggler', 'marston', 'rodrigo', 'serna', 'depositori', 'banca', 'nazional', 'lavoro', 'paschi', 'siena', 'inaccess', 'hammerton', 'bleakest', 'inbev', 'ambev', 'artoi', 'interbrew', 'beermak', 'anheus', 'busch', 'rijk', 'quentin', 'dusk', 'dafur', 'expertli', 'tacitli', 'uptight', 'slaveri', 'slave', 'plantat', 'intertwin', 'dimon', 'ingrain', 'louisiana', 'missiv', 'tbwa', 'trev', 'shd', 'fuck', 'twat', 'mcfadyen', 'malarkey', 'circ', 'underhand', 'longtim', 'digney', 'ephemera', 'mcmullen', 'raiwalui', 'balshaw', 'rawlinson', 'gerber', 'popham', 'rigney', 'vickerman', 'bartholomeusz', 'vaikona', 'bracken', 'randel', 'vyvyan', 'broster', 'chesney', 'snapper', 'paparazzi', 'telegraaf', 'schoonen', 'aarhu', 'stiftstidend', 'reichhold', 'panoram', 'photojourn', 'buzznet', 'paedophil', 'avid', 'ko', 'instapundit', 'sebok', 'brooklyn', 'plaza', 'ohlemey', 'dishonest', 'anew', 'warmest', 'umbil', 'myron', 'ebel', 'webber', 'dreyfuss', 'conleth', 'debri', 'choreographi', 'laura', 'gambon', 'pryce', 'whishaw', 'hytner', 'gielgud', 'emilia', 'othello', 'mtsensk', 'ade', 'tempest', 'deirdr', 'clanci', 'cadl', 'donmar', 'druri', 'mear', 'lyttelton', 'jerwood', 'swamp', 'sadler', 'hecuba', 'tyndal', 'covertli', 'twelfth', 'various', 'keighley', 'swipe', 'crossrail', 'souza', 'proxim', 'maidenhead', 'berkshir', 'milkman', 'guildford', 'conlon', 'exoner', 'cantona', 'mask', 'selhurst', 'kung', 'fu', 'nixon', 'easiest', 'mellon', 'unstuck', 'berth', 'underr', 'malagasi', 'ariari', 'bolz', 'krewel', 'microprocessor', 'healthsouth', 'scrushi', 'vouch', 'sav', 'epitomis', 'icbc', 'bailout', 'ragovoy', 'germano', 'whitney', 'outen', 'zafi', 'multilingu', 'smiley', 'hoax', 'christmas', 'mikko', 'hypponen', 'motley', 'crue', 'mantooth', 'degen', 'rheumat', 'honor', 'cohort', 'knit', 'guadalcan', 'pearl', 'hawaii', 'gunboat', 'battleship', 'crewman', 'shuffl', 'stilt', 'linear', 'bombast', 'ploy', 'muster', 'unconvinc', 'checkpoint', 'tract', 'disturbingli', 'irritatingli', 'camaraderi', 'tidier', 'tropic', 'reminisc', 'dazzl', 'underwhelm', 'hearti', 'abund', 'puzzlement', 'critter', 'juliet', 'deeley', 'sarft', 'ruigang', 'cga', 'jeann', 'gescher', 'evok', 'flick', 'glu', 'hallow', 'renegad', 'portli', 'auric', 'goldfing', 'juic', 'nightfir', 'aura', 'fraught', 'crosshair', 'oddjob', 'xenia', 'onatopp', 'umbrag', 'cavali', 'humanoid', 'emiew', 'asimo', 'horiuchi', 'workmat', 'segway', 'scooter', 'waist', 'shinjuku', 'shibuya', 'gait', 'biped', 'jog', 'stubbornli', 'catsuit', 'schoolfriend', 'hewson', 'clayton', 'mcguin', 'coars', 'eeri', 'scout', 'stardom', 'extravag', 'achtung', 'zooropa', 'macphisto', 'netrat', 'beauvillian', 'kickstart', 'industrialist', 'underfund', 'hassl', 'enel', 'judder', 'internationalis', 'ukif', 'ascii', 'unicod', 'paypal', 'verisign', 'idn', 'undetect', 'zealou', 'carradin', 'templeton', 'livebox', 'abensur', 'vonag', 'router', 'simmelink', 'effortlessli', 'seep', 'footprint', 'generoso', 'rossi', 'holloway', 'loftu', 'bureaucrat', 'alland', 'cuthbert', 'redon', 'rwandan', 'tutsi', 'hutu', 'militia', 'taboo', 'kayitesi', 'blewitt', 'deutschland', 'carrick', 'jimi', 'overdos', 'monterey', 'equant', 'breton', 'pagesjaun', 'hulm', 'gla', 'spencer', 'drkw', 'reseach', 'bh', 'rebid', 'paulsmeier', 'linden', 'intranet', 'bled', 'energis', 'undercut', 'neurosi', 'anxieti', 'idlewild', 'mogwai', 'fanclub', 'jool', 'portishead', 'internacion', 'venta', 'bano', 'ine', 'monteiro', 'abeb', 'dinkessa', 'gelet', 'burka', 'quinton', 'jeer', 'idolis', 'brightli', 'cue', 'naysmith', 'mikel', 'arteta', 'heintz', 'hibbert', 'outpac', 'fabul', 'yobo', 'osman', 'carsley', 'kilban', 'piston', 'plessi', 'hampshir', 'exel', 'dhl', 'bracknel', 'tibbett', 'britten', 'burberri', 'mothercar', 'beh', 'synergi', 'holcim', 'acc', 'ambuja', 'underpr', 'markfield', 'asphalt', 'mittal', 'sunil', 'mendi', 'destitut', 'laker', 'unparallel', 'espn', 'ooz', 'classi', 'eyebrow', 'monopolis', 'rankl', 'nfl', 'nba', 'nhl', 'dizzyingli', 'quench', 'oodl', 'preambl', 'belli', 'perpetr', 'knuckl', 'endear', 'blazer', 'recours', 'mcdowel', 'cosh', 'gobbl', 'cordon', 'disintegr', 'tackler', 'edelman', 'respit', 'junya', 'tanas', 'jpmorgan', 'diplomaci', 'forthright', 'sarkozi', 'destabilis', 'boon', 'illva', 'saronno', 'changyu', 'shenzhen', 'liqueur', 'yantai', 'capita', 'flagrant', 'handbook', 'stevenag', 'newslett', 'peradventur', 'insofar', 'wallpap', 'flynn', 'grumbletext', 'mef', 'mblox', 'zed', 'groundrul', 'cowboy', 'jef', 'raskin', 'folder', 'gui', 'xerox', 'hertzfeld', 'reputedli', 'pancreat', 'counterproduct', 'satisfactori', 'shani', 'pugh', 'elwa', 'bolshevik', 'leek', 'unelect', 'llangadfan', 'mostyn', 'wrought', 'underwat', 'reisur', 'goetti', 'tui', 'mediterrann', 'allianz', 'liabil', 'dax', 'cac', 'floiran', 'woest', 'analsyt', 'airasia', 'tanco', 'wealthiest', 'abolit', 'ilston', 'valent', 'remi', 'korchemni', 'usada', 'thg', 'modafinil', 'alvin', 'dwain', 'reproduct', 'nomad', 'behead', 'rothemund', 'gestapo', 'township', 'troup', 'kazakh', 'kazakhstan', 'uzbekistan', 'belaru', 'pelt', 'nursultan', 'abish', 'uli', 'nazarbayev', 'satyajit', 'kassel', 'transsexu', 'brandon', 'teena', 'fipresci', 'aaltra', 'caouett', 'tarnat', 'huckabe', 'pixar', 'stanzel', 'inund', 'unus', 'edgescap', 'boingbo', 'bdo', 'stoy', 'hemington', 'skidelski', 'acquitt', 'llewellyn', 'ultimit', 'selector', 'cocoa', 'adamu', 'bello', 'naira', 'seedl', 'ibadan', 'osagi', 'edo', 'bean', 'slinkier', 'seldom', 'adamind', 'funki', 'technophob', 'finit', 'celltick', 'yaron', 'toren', 'kombou', 'everett', 'laah', 'chong', 'gyu', 'sejong', 'conmen', 'tidi', 'netski', 'bagl', 'mydoom', 'gaobot', 'randex', 'theoret', 'cabir', 'mosquito', 'symbian', 'skull', 'jaschen', 'sasser', 'tenet', 'evangel', 'intoler', 'apathi', 'burglar', 'unconsci', 'grossli', 'adag', 'englishman', 'trawl', 'barra', 'sympathet', 'schwarzenegg', 'adwar', 'blinkx', 'recip', 'encarta', 'encyclopaedia', 'protagonist', 'endogen', 'wonk', 'parabl', 'heinou', 'minim', 'selfishli', 'exhort', 'solomon', 'ingeni', 'rom', 'ican', 'jse', 'faller', 'banda', 'defray', 'aburiz', 'bakri', 'partizan', 'belgrad', 'villarr', 'lynton', 'crosbi', 'iota', 'massachusett', 'grandfath', 'sodomi', 'donoghu', 'lombardi', 'fahey', 'copycat', 'clutter', 'vindict', 'perjuri', 'pervert', 'elaps', 'tebbit', 'perjur', 'teddi', 'jackal', 'repertori', 'langtri', 'trodden', 'poulton', 'masonri', 'easter', 'osx', 'powermac', 'macworld', 'yamaron', 'appris', 'fomc', 'daw', 'horner', 'gillingham', 'probyn', 'enclosur', 'haka', 'munro', 'nil', 'instig', 'kiwi', 'psych', 'maori', 'empathi', 'etho', 'ae', 'warbrick', 'eyton', 'pakiha', 'reflecion', 'undef', 'bedel', 'sivright', 'patronis', 'churlishli', 'convuls', 'laughter', 'exclaim', 'invinc', 'inauspici', 'hayden', 'tanner', 'clem', 'barbarian', 'uzzel', 'parad', 'whinneray', 'blemish', 'carwyn', 'quittenton', 'duli', 'mckechni', 'centenari', 'swat', 'demolish', 'johannesburg', 'corduroy', 'downtown', 'slamdanc', 'xdanc', 'merrier', 'disdain', 'unpatriot', 'monolith', 'egalitarian', 'jansen', 'lorenzo', 'amoruso', 'bowen', 'freak', 'ashia', 'faze', 'chicken', 'pox', 'printer', 'inkjet', 'predetermin', 'dualli', 'restitut', 'computeract', 'oft', 'demel', 'underperform', 'maserati', 'ferrari', 'alfa', 'morchio', 'umberto', 'eurovis', 'celin', 'dion', 'nana', 'mouskouri', 'lulu', 'iglesia', 'ruslana', 'steamrol', 'autolink', 'isbn', 'carfax', 'hypergrowth', 'outreach', 'fronter', 'bluewat', 'enoch', 'walton', 'footfal', 'heav', 'copeland', 'bse', 'softbank', 'otoku', 'pedro', 'sympathis', 'mutv', 'tarantino', 'mendelsohn', 'er', 'alia', 'shadi', 'hm', 'lantern', 'obi', 'trice', 'encor', 'mosh', 'tirad', 'crotch', 'dainti', 'darcey', 'bussel', 'rad', 'trew', 'kickbox', 'antoinett', 'sibley', 'fonteyn', 'nureyev', 'nurtur', 'lian', 'chia', 'liang', 'foreword', 'northamptonshir', 'quagmir', 'nelli', 'knowl', 'linkin', 'chester', 'bennington', 'xzibit', 'tor', 'vall', 'pharrel', 'colosseum', 'mpx', 'obermann', 'mcbride', 'gner', 'chavez', 'alvarez', 'regener', 'greenwich', 'thefirst', 'mia', 'prolif', 'foudi', 'fawcett', 'shortstop', 'nomar', 'garciaparra', 'lievremont', 'tabacco', 'magn', 'northeast', 'sg', 'aitken', 'olof', 'mellberg', 'crow', 'hive', 'sprinkl', 'marit', 'adulteri', 'maid', 'coachmen', 'addison', 'jessi', 'amelia', 'laugher', 'fled', 'frider', 'handel', 'profess', 'staid', 'woollen', 'bonar', 'fawk', 'shelf', 'vellum', 'parchment', 'multitud', 'occ', 'bard', 'benin', 'kerek', 'quadrupl', 'lam', 'stagework', 'cbbc', 'newsround', 'sseyo', 'minimixa', 'fashionista', 'botafogo', 'hassal', 'ormerod', 'kenton', 'campes', 'berat', 'pom', 'predica', 'castig', 'thick', 'gant', 'errigo', 'wendi', 'ide', 'gaydo', 'shawshank', 'darabont', 'kane', 'cheadl', 'priceless', 'solidifi', 'wraz', 'jackpot', 'impostor', 'vet', 'schenck', 'slain', 'pim', 'fortuyn', 'islamist', 'unwittingli', 'booy', 'burgl', 'messagelab', 'harvest', 'middlemen', 'sunner', 'scattergun', 'www', 'fiszman', 'mccune', 'mmf', 'orkney', 'speedili', 'fergu', 'smarti', 'riddel', 'grindley', 'eccleshar', 'def', 'dmx', 'ashanti', 'beani', 'sigel', 'dirt', 'tacit', 'culprit', 'nash', 'malign', 'palaniappan', 'chidambaram', 'vi', 'displeasur', 'boycott', 'vile', 'jonesboro', 'brisk', 'herr', 'abundantli', 'flakier', 'fossil', 'superfast', 'graczyk', 'dsl', 'tdg', 'limitless', 'fingertip', 'instantan', 'millisecond', 'allair', 'brightcov', 'unencumb', 'middlewar', 'myrio', 'cor', 'wearsid', 'dispar', 'molli', 'coddl', 'sprite', 'joypad', 'grunt', 'wade', 'hectic', 'snowmen', 'crab', 'gastropod', 'cannon', 'camel', 'ostrich', 'weaponri', 'dole', 'nut', 'spud', 'firework', 'blaster', 'twinkl', 'horserac', 'rothschild', 'lacroix', 'haut', 'coutur', 'moet', 'chandon', 'champagn', 'vuitton', 'falic', 'parmjit', 'memphi', 'symphoni', 'gennaro', 'castaldo', 'venezuelan', 'cattl', 'formalis', 'pdvsa', 'enarsa', 'petrobra', 'sur', 'hereditari', 'tyler', 'mscp', 'facey', 'lieu', 'burnt', 'desol', 'clench', 'fist', 'missionari', 'heartfelt', 'junip', 'olympiad', 'cathal', 'epo', 'wag', 'underachiev', 'scrape', 'delud', 'undignifi', 'transpir', 'cobhwoman', 'amazingli', 'flora', 'bearer', 'mckee', 'linger', 'probem', 'catherina', 'mckiernan', 'candidli', 'clubman', 'tootsi', 'craphous', 'deportivo', 'coruna', 'jorg', 'andrad', 'tempo', 'biscan', 'dietmar', 'depor', 'irureta', 'unfett', 'discret', 'hykeham', 'aspic', 'sharewar', 'masquerad', 'zip', 'sporad', 'benq', 'arima', 'ietf', 'cern', 'particl', 'ipv', 'tcp', 'glitch', 'perci', 'backlin', 'honiss', 'stung', 'transgress', 'pauls', 'joubert', 'willems', 'westhuyzen', 'preez', 'botha', 'aj', 'venter', 'shimang', 'lind', 'britz', 'rossouw', 'claassen', 'toit', 'standbi', 'peacekeep', 'gbagbo', 'plaintiff', 'lerach', 'fastow', 'bruckheim', 'anelka', 'stale', 'pleasantli', 'decompress', 'horoscop', 'eyesight', 'hotmail', 'irv', 'tack', 'unwork', 'foment', 'sheffi', 'aili', 'mcsweeney', 'gillick', 'derval', 'rourk', 'offali', 'aoif', 'lisburn', 'mcneic', 'allan', 'bogl', 'gregg', 'ivanov', 'canberra', 'melinda', 'czink', 'katarina', 'srebotnik', 'vahid', 'hashemian', 'maccabi', 'miresmaeili', 'cleric', 'threefold', 'nonethless', 'kamal', 'nath', 'aberr', 'simplifar', 'gallagh', 'parul', 'gunnar', 'solskjaer', 'picker', 'jeffrey', 'royer', 'elgindi', 'extort', 'roslynn', 'mauskopf', 'foreman', 'sob', 'weep', 'charad', 'crusad', 'foreknowledg', 'mitch', 'milverton', 'stricken', 'wttc', 'rato', 'epicentr', 'egeland', 'tidal', 'troeber', 'crescent', 'waterborn', 'diarrhoea', 'southeast', 'burren', 'onshor', 'hindustan', 'congo', 'finian', 'mactaggart', 'cypriot', 'adnan', 'shihab', 'eldin', 'boothroyd', 'betti', 'addick', 'worthington', 'carrow', 'toffe', 'stitch', 'pardew', 'upton', 'wideband', 'uwb', 'cept', 'ubisens', 'theriault', 'liaison', 'ieee', 'britannia', 'pib', 'greyhound', 'offload', 'blb', 'vue', 'barr', 'clae', 'hultman', 'jollan', 'academia', 'toprev', 'insubstanti', 'diversionari', 'leadsnosoftwarepat', 'aboutroughli', 'filethat', 'multiprocess', 'prudenti', 'gelb', 'bermuda', 'newsom', 'incalcul', 'nameless', 'averi', 'shenfeld', 'cibc', 'sohn', 'geopolit', 'duda', 'disobey', 'antoin', 'fuqua', 'squib', 'pancak', 'deton', 'whet', 'tortois', 'caveat', 'clump', 'weakest', 'buffet', 'touati', 'natexi', 'banqu', 'populair', 'teraflop', 'linpack', 'erich', 'strohmaier', 'ame', 'aerospac', 'cray', 'alamo', 'megaflop', 'pittsburgh', 'lockyer', 'whitcomb', 'alloway', 'winchest', 'secular', 'polaris', 'agreeabl', 'unherald', 'manor', 'buffer', 'mishap', 'pragmatist', 'irreplac', 'delgado', 'hander', 'plaisir', 'mulhous', 'fiorentina', 'moggi', 'juve', 'dinamo', 'xdr', 'rambu', 'psx', 'microwav', 'furious', 'succe', 'videogam', 'kg', 'heartbreak', 'doe', 'rochest', 'minnesota', 'petaflop', 'genom', 'proven', 'cloak', 'krau', 'sovlink', 'cryer', 'articul', 'auxiliari', 'frigat', 'bayleaf', 'greener', 'lax', 'ainsworth', 'disjoint', 'spatial', 'densiti', 'carolin', 'spelman', 'sabotag', 'bridgehead', 'ellsmor', 'wintri', 'clau', 'minc', 'embodi', 'gollum', 'zemecki', 'gump', 'castaway', 'shri', 'swaminarayan', 'mandir', 'neasden', 'yeovil', 'watford', 'sheff', 'wolverhampton', 'nottm', 'coventri', 'stronghold', 'normanton', 'itpc', 'changeabl', 'amman', 'eurythm', 'lowli', 'roller', 'goth', 'recommiss', 'rowetta', 'satchel', 'rosencrantz', 'demerg', 'delux', 'pinewood', 'grosvenor', 'mecca', 'ate', 'grazer', 'goldwyn', 'showtim', 'supers', 'lb', 'liver', 'mclibel', 'brighten', 'gripe', 'workspac', 'congeni', 'prettier', 'mariann', 'petersen', 'barn', 'introspect', 'solver', 'truss', 'outer', 'drainag', 'plasterboard', 'rockwool', 'slab', 'oak', 'veneer', 'uplight', 'washer', 'downlight', 'fluoresc', 'dimmabl', 'tub', 'renov', 'sportscar', 'mediobanca', 'scupper', 'qca', 'decidedli', 'woodhead', 'upheav', 'macaefa', 'maloti', 'unceremoni', 'tw', 'vogu', 'bangaldesh', 'mafeca', 'agoa', 'keaveney', 'runcorn', 'shirley', 'fridg', 'clune', 'doc', 'wive', 'sheila', 'neaptid', 'houllier', 'daytim', 'jana', 'hoodia', 'bushmen', 'kalahari', 'stave', 'calorif', 'intak', 'dixey', 'erl', 'refsum', 'carlsberg', 'amstel', 'kroner', 'iniqu', 'hornsey', 'tenant', 'refurbish', 'wolfensohn', 'general', 'shinawatra', 'juthama', 'siriwan', 'license', 'kenney', 'mangala', 'aishwariya', 'catapult', 'jessop', 'snappi', 'smudg', 'millilitr', 'epson', 'halid', 'appointe', 'armstrong', 'pollmann', 'spamcop', 'baton', 'cobi', 'hundredth', 'celleri', 'scour', 'nt', 'nullifi', 'domicil', 'catchphras', 'fatten', 'pedomet', 'pounder', 'healthier', 'salad', 'jelli', 'catalys', 'daimlerchryls', 'nishioka', 'greenhous', 'unwilling', 'blush', 'outweight', 'hessel', 'anabol', 'goer', 'unprint', 'glitzi', 'unsurprisingli', 'karger', 'cert', 'goodridg', 'ador', 'ton', 'pep', 'artistri', 'downright', 'homebuy', 'sabbath', 'ozzi', 'kerrang', 'glam', 'juda', 'lostprophet', 'clog', 'graveston', 'cemeteri', 'sydu', 'cridland', 'groov', 'saumil', 'nanavati', 'intervoic', 'nineteen', 'so', 'sendo', 'agrarian', 'cojed', 'farmland', 'vestey', 'latifundio', 'agroflora', 'hato', 'charcot', 'ortiz', 'trampl', 'moynihan', 'overstretch', 'thinkvantag', 'optiplex', 'compaq', 'modul', 'tpm', 'protecttool', 'obscurant', 'uncontrol', 'bisni', 'mahendra', 'siregar', 'alwi', 'theatrego', 'shakespearean', 'oram', 'whatsonstag', 'rsc', 'barnett', 'barrag', 'tradesman', 'workshar', 'acut', 'metadata', 'mallon', 'ne', 'metric', 'tomaney', 'robb', 'gutter', 'atlanta', 'morehous', 'gatekeep', 'stepchild', 'ta', 'mansoor', 'mohi', 'uddin', 'allur', 'deflat', 'hiromichi', 'shirakawa', 'amber', 'yead', 'ryman', 'scunthorp', 'hinckley', 'stockport', 'don', 'rabb', 'jeep', 'schrempp', 'fuso', 'daimerchrysl', 'inconclus', 'ghriskey', 'disappointingli', 'tutu', 'desmond', 'arson', 'shadowi', 'meibion', 'glyndwr', 'elfyn', 'llwyd', 'nationalist', 'conwi', 'dna', 'llyn', 'pembrokeshir', 'sion', 'aubrey', 'unsolv', 'merionnydd', 'nant', 'maniffesto', 'provocateur', 'dafydd', 'korn', 'awaken', 'welch', 'bakersfield', 'untouch', 'cocker', 'winwood', 'burdon', 'indisput', 'baptist', 'franklin', 'pickett', 'carnegi', 'milt', 'fathead', 'newman', 'orbison', 'hallelujah', 'cochran', 'exuber', 'hoagi', 'carmichael', 'progeni', 'mayfield', 'manfr', 'sha', 'dwight', 'avg', 'zonealarm', 'hotlin', 'gall', 'rhino', 'flatman', 'dowson', 'haughton', 'mony', 'roqu', 'flaxse', 'narcolepsi', 'korchemi', 'evanesc', 'trevin', 'skeen', 'brownsvil', 'hagerstown', 'tantalis', 'infuri', 'skirmish', 'forebod', 'troublespot', 'unkempt', 'clobber', 'sledgehamm', 'nightmarish', 'herd', 'mingl', 'hl', 'underplay', 'exposit', 'alienwar', 'ati', 'radeon', 'merci', 'hurl', 'corps', 'lifelik', 'crowbar', 'ping', 'exhilar', 'distinctli', 'murki', 'irk', 'rashli', 'eckhard', 'dealership', 'airplay', 'od', 'mycokemus', 'smfg', 'nihon', 'keizai', 'shimbun', 'yoshifumi', 'nishikawa', 'heronri', 'nozaki', 'nikkocitigroup', 'deceler', 'curzon', 'almodovar', 'omagh', 'proudest', 'idioci', 'overshot', 'nielson', 'yili', 'mongolia', 'junhuai', 'mengniu', 'befal', 'chen', 'huiqin', 'huatai', 'peek', 'allard', 'directx', 'avatar', 'strachan', 'bonderman', 'barrow', 'beth', 'acoust', 'vaidisova', 'inexperi', 'romp', 'rollercoast', 'abigail', 'abdomin', 'richey', 'lyricist', 'poet', 'figurehead', 'flicker', 'alley', 'plath', 'sherri', 'severn', 'goa', 'fuerteventura', 'dredd', 'lipstick', 'skeleton', 'cleveland', 'saxophon', 'guernsey', 'coltran', 'gown', 'ella', 'fitzgerald', 'handwritten', 'theoloniu', 'monk', 'dizzi', 'gillespi', 'jj', 'trombon', 'vibraphon', 'belon', 'hampton', 'bruni', 'sablan', 'lomana', 'beti', 'santiago', 'helguera', 'dobla', 'daft', 'si', 'eido', 'backroom', 'bonnet', 'margat', 'nortel', 'toronto', 'admonish', 'underwrit', 'ofheo', 'armando', 'nirvana', 'nevermind', 'courtney', 'cobain', 'krist', 'novosel', 'grohl', 'biograph', 'dens', 'mercantil', 'nymex', 'ahold', 'foodservic', 'improperli', 'kelley', 'bailin', 'rymer', 'seafood', 'bowman', 'hannigan', 'maritim', 'redgat', 'tyson', 'amuro', 'sternest', 'leaderless', 'flak', 'dumpsit', 'intermedi', 'ilw', 'radioact', 'sellafield', 'cumbria', 'untreat', 'sixfold', 'decommiss', 'millston', 'exasper', 'laxton', 'stammer', 'goalkick', 'unnerv', 'haskin', 'sway', 'ampli', 'mammoth', 'sulk', 'uninterest', 'chatter', 'beset', 'vicent', 'rangel', 'rancher', 'arnoldo', 'squatter', 'loneli', 'unquestion', 'decathlet', 'daley', 'gnaw', 'antwerp', 'willem', 'galmier', 'despond', 'detest', 'inauthent', 'hacienda', 'winterbottom', 'ruerup', 'methodolog', 'colorect', 'getter', 'abbrevi', 'cantalupo', 'hose', 'lovin', 'mccafe', 'agnost', 'misprint', 'esther', 'rantzen', 'courteou', 'recit', 'revu', 'tele', 'ho', 'whittington', 'nicklebi', 'astel', 'panto', 'secomb', 'consumm', 'pointon', 'whimsic', 'droll', 'sepp', 'blatter', 'prinz', 'marta', 'fipro', 'tittl', 'tattl', 'infra', 'unlicens', 'minicab', 'marson', 'tfl', 'ir', 'glow', 'harker', 'hypertag', 'kati', 'melua', 'jameson', 'opu', 'dei', 'categor', 'hutt', 'blaengwynfi', 'afan', 'aberavon', 'nye', 'ieuan', 'wyn', 'deckchair', 'kisrti', 'findlay', 'hundreth', 'mcilori', 'sudanes', 'rabah', 'yusuf', 'salterbaxt', 'harwood', 'greenpeac', 'csr', 'lexicon', 'homili', 'fluff', 'tepid', 'monotoni', 'shea', 'kiki', 'bradley', 'bellion', 'headbutt', 'unrepent', 'headbut', 'detriment', 'volit', 'dover', 'shipman', 'byodkm', 'hidebound', 'hallmark', 'turbo', 'gigabit', 'sierra', 'throughput', 'brydon', 'wcdma', 'optimis', 'ev', 'lucent', 'mmo', 'cingular', 'caselitz', 'fraunhof', 'sino', 'bloodthirsti', 'cumberbatch', 'tenth', 'stagnant', 'brunt', 'isabel', 'kronawitt', 'hypovereinsbank', 'saye', 'bedfordshir', 'odel', 'unreserv', 'flail', 'jani', 'stepsist', 'ainum', 'mohd', 'saaid', 'navarednam', 'lillian', 'malaysian', 'metrojaya', 'khoo', 'peng', 'shrivel', 'husk', 'namesak', 'reverber', 'prentic', 'unregist', 'adductor', 'setter', 'stephenson', 'koh', 'phi', 'eileen', 'jacobsen', 'dobrow', 'moon', 'forbidden', 'tug', 'salt', 'kyrgyz', 'ultraviolet', 'askar', 'akaev', 'backslid', 'hastili', 'neon', 'lamp', 'prelud', 'metaphor', 'indel', 'rumor', 'solvent', 'cuticl', 'panacea', 'mikosz', 'ife', 'joanna', 'jess', 'usatf', 'portland', 'ingram', 'dumfriesshir', 'ochil', 'stirl', 'renfrewshir', 'guardsman', 'hendri', 'steeli', 'foulk', 'illston', 'evidentiari', 'basebal', 'waltz', 'ballroom', 'chelsom', 'swollen', 'gland', 'carey', 'lowel', 'tess', 'anita', 'dobson', 'jagger', 'alfi', 'mcshane', 'deadwood', 'suburban', 'teri', 'hatcher', 'marcia', 'felic', 'huffman', 'nip', 'soprano', 'bateman', 'cecil', 'demil', 'stub', 'accoust', 'ruptur', 'aneurysm', 'madejski', 'unchalleng', 'mapletoft', 'staniforth', 'everitt', 'stimpson', 'roast', 'horak', 'penney', 'nordt', 'hatley', 'hardwick', 'gustard', 'paic', 'strudwick', 'danah', 'priscott', 'skivington', 'fleme', 'zorro', 'bandera', 'broccoli', 'neal', 'purvi', 'baccarat', 'sadist', 'nemesi', 'chiffr', 'americanis', 'mcgurk', 'reinvigor', 'minder', 'bergerac', 'supernanni', 'lucern', 'borat', 'dancefloor', 'varirti', 'lenni', 'flashmob', 'agatha', 'takeaway', 'gameshow', 'medalist', 'baselin', 'gameplan', 'darn', 'appleton', 'anderton', 'bushtuck', 'torrid', 'eli', 'lilli', 'prozac', 'unfilt', 'bevington', 'rosemead', 'taurel', 'breier', 'cpi', 'atm', 'hirsch', 'europay', 'mastercard', 'thiemann', 'towergroup', 'slammer', 'welchia', 'capric', 'gravit', 'melt', 'supplant', 'roper', 'imrg', 'hostway', 'lingeri', 'fanlo', 'narrowband', 'robosapien', 'kimmel', 'broadu', 'gin', 'deathifi', 'entropia', 'plateau', 'behrmann', 'mindark', 'beachfront', 'entopia', 'ped', 'ingot', 'shogun', 'varley', 'cs', 'gilmar', 'clandestin', 'mom', 'pavement', 'lebanes', 'beirut', 'idaho', 'constantin', 'renner', 'realti', 'zombic', 'flown', 'antibiot', 'panorama', 'unseen', 'ridgeley', 'shirli', 'mariah', 'geri', 'fienn', 'aquat', 'exan', 'isa', 'pitylak', 'oftexa', 'payperact', 'leadplex', 'groundless', 'lin', 'ftc', 'wantag', 'rightward', 'sina', 'sohu', 'subvers', 'moran', 'cyclic', 'blyth', 'oap', 'pint', 'froze', 'robotiquett', 'cogniron', 'kerstin', 'dautenhahn', 'pointer', 'connick', 'pajama', 'supervisor', 'pyjama', 'charisma', 'bissel', 'ackerman', 'adler', 'emil', 'theres', 'raquin', 'thou', 'shalt', 'characteris', 'decuk', 'outpour', 'zar', 'kirsten', 'pfeifer', 'carolyn', 'burnham', 'delici', 'neurot', 'surburban', 'starv', 'akroyd', 'seduct', 'myra', 'grifter', 'bugsi', 'perenni', 'swallow', 'pellet', 'bogota', 'pietro', 'quirkier', 'alejandro', 'amenabar', 'willian', 'jole', 'carvalho', 'vinod', 'pand', 'dolphi', 'ordain', 'dia', 'zubair', 'picturesqu', 'kerala', 'duchi', 'lancast', 'salvag', 'ka', 'proviso', 'hitzlsperg', 'hamburg', 'wobbl', 'minar', 'beatabl', 'franck', 'queudru', 'riggott', 'hermann', 'hreidarsson', 'karkouri', 'szilard', 'nemeth', 'kieli', 'floyd', 'hasselbaink', 'smother', 'southgat', 'reizig', 'doriva', 'parnabi', 'koncheski', 'euell', 'kishishev', 'jeffer', 'susten', 'angst', 'chopin', 'debussi', 'wagner', 'napalm', 'macmillan', 'gorbachev', 'louder', 'megastar', 'twiddl', 'nea', 'allot', 'vantag', 'gaydon', 'mothbal', 'prater', 'conspicu', 'eclect', 'subtitl', 'offput', 'cinemago', 'damm', 'kinnare', 'pusan', 'forearm', 'woodman', 'socket', 'tapsfield', 'adss', 'remuner', 'rebut', 'hydrat', 'hurriedli', 'quicksand', 'mutola', 'campel', 'macey', 'abi', 'oyepitan', 'annu', 'fazela', 'discu', 'korzhanenko', 'stanozolol', 'liven', 'rutto', 'okayo', 'cobbleston', 'mistim', 'unbalanc', 'beijing', 'motorist', 'wang', 'yan', 'dignitari', 'motorcad', 'outrid', 'unclog', 'impass', 'paddington', 'hug', 'inadmiss', 'peirc', 'appal', 'northolt', 'homecom', 'iqbal', 'sacrani', 'cagig', 'vivanco', 'kronberg', 'haiti', 'doriv', 'eastland', 'dishevel', 'outfield', 'inconspicu', 'supersed', 'politicis', 'danner', 'elleri', 'precautionari', 'tbc', 'reebok', 'bute', 'jolen', 'damen', 'glynn', 'troman', 'tipto', 'xenophobia', 'nastiest', 'tevez', 'gandulla', 'boca', 'vasco', 'gama', 'gandula', 'ballboy', 'corinthian', 'strangest', 'palermo', 'disorgan', 'tranquil', 'acquaint', 'metropoli', 'pel', 'ream', 'hyster', 'ambush', 'kiss', 'copa', 'libertador', 'feint', 'dribbl', 'harbin', 'xueb', 'wen', 'jiabao', 'perreira', 'infal', 'houck', 'pathologist', 'mcfeeley', 'toxicolog', 'jitteri', 'juggernaut', 'holist', 'bicep', 'haematoma', 'jumpi', 'mazanec', 'leaver', 'innumeraci', 'liquefi', 'lpg', 'nioc', 'yadavaran', 'jufeyr', 'inbox', 'explicitli', 'grizzli', 'pointi', 'aizlewood', 'hover', 'billingsg', 'surest', 'inkl', 'afoot', 'crackl', 'camper', 'trundl', 'psychedel', 'scoobi', 'doo', 'regenc', 'dandi', 'wig', 'sgt', 'chic', 'soberli', 'chit', 'mantra', 'hydroelectr', 'xiluodu', 'camden', 'perch', 'stool', 'gregari', 'peculiarli', 'unshowbusi', 'sip', 'scarf', 'aladdin', 'ostent', 'toothbrush', 'upholst', 'stripi', 'barter', 'vintag', 'raquel', 'curios', 'burgess', 'detakat', 'wedgburg', 'hellewel', 'roxi', 'supergrass', 'manzerana', 'eno', 'manzanera', 'wyss', 'crescenzi', 'tabak', 'crosscourt', 'deuc', 'hangov', 'dink', 'leaden', 'scintil', 'unreturn', 'groundstrok', 'raucou', 'embryo', 'rothwel', 'dfe', 'development', 'lovel', 'weyman', 'leibovich', 'doorway', 'amidst', 'naoki', 'kamiyama', 'pessim', 'enquir', 'informaton', 'serviett', 'elf', 'akon', 'futurehead', 'operat', 'crooner', 'alison', 'eurotunnel', 'frill', 'shuttl', 'eurostar', 'randal', 'loung', 'lackadais', 'livestock', 'cull', 'pyre', 'prepared', 'hallfredsson', 'fh', 'hafnarfjordur', 'leno', 'blige', 'uma', 'thurman', 'mat', 'wiland', 'kuerten', 'garro', 'berdych', 'nicoal', 'gonzaelz', 'sw', 'timewarn', 'catwoman', 'bertelsmann', 'shackl', 'tribal', 'joie', 'vivr', 'innat', 'overdr', 'min', 'arn', 'hush', 'djimi', 'ferrerira', 'sidefoot', 'pellegrino', 'pidgeley', 'sweetest', 'starbuck', 'garish', 'unstain', 'trembl', 'hackett', 'unfaith', 'eyetoy', 'millward', 'iestyn', 'bradford', 'kel', 'coslett', 'abtahi', 'wikinew', 'nachison', 'mond', 'linguist', 'chomski', 'acclim', 'discours', 'movabletyp', 'dinghi', 'bromsgrov', 'worcestershir', 'windswept', 'egwin', 'evesham', 'instructor', 'wayfar', 'truant', 'mendaci', 'pelleti', 'layoff', 'testosteron', 'epitestosteron', 'unbroken', 'adulthood', 'apprenticeship', 'appleg', 'weissler', 'verdon', 'maclain', 'megan', 'schweitzer', 'clio', 'logan', 'destati', 'envision', 'coppin', 'hume', 'hanlon', 'starcom', 'mediavest', 'stacey', 'jolna', 'diaper', 'humax', 'directtv', 'tivotogo', 'rinu', 'johan', 'neesken', 'knvb', 'huizinga', 'cologn', 'clemenc', 'dorp', 'pervan', 'gonsalv', 'bergman', 'michelmor', 'mim', 'coke', 'thermal', 'ferrochrom', 'vanadium', 'tarrant', 'firesid', 'edgar', 'poe', 'bierc', 'isg', 'lakshmi', 'ispat', 'spokeman', 'kidman', 'mansion', 'eucalyptu', 'apprehend', 'assort', 'xml', 'gadgetri', 'shack', 'countdown', 'junki', 'wisconsin', 'mcintyr', 'playboy', 'gabbidon', 'bluebird', 'delaney', 'coyn', 'motherwel', 'rickett', 'tranmer', 'kouma', 'earnshaw', 'aer', 'lingu', 'seamu', 'kearney', 'ahern', 'profan', 'revok', 'superbowl', 'legis', 'politcian', 'brownbeck', 'adjourn', 'reckless', 'eddington', 'surcharg', 'cargo', 'broughton', 'brul', 'feta', 'kristiansen', 'brie', 'rebrand', 'wool', 'cuisin', 'vc', 'precondit', 'vehement', 'longden', 'kaplinski', 'pinsent', 'buerk', 'unwel', 'panicki', 'mehdi', 'copern', 'enfish', 'raynsford', 'realloc', 'eeoc', 'physiotherapist', 'aidan', 'prejudg', 'vassili', 'sevasti', 'tatton', 'orimuls', 'newri', 'ifa', 'mccreadi', 'portadown', 'pullman', 'weitz', 'overthrow', 'religios', 'blasphemi', 'bridgetothestar', 'spyglass', 'lyra', 'belacqua', 'unviabl', 'iconoclast', 'curtail', 'nolberto', 'impetuos', 'lurch', 'if', 'willmean', 'mijatov', 'lamberti', 'rhein', 'ferencvaro', 'basl', 'threadbar', 'baum', 'pasco', 'franki', 'tanni', 'redgrav', 'leukaemia', 'sudel', 'paternalist', 'impuls', 'hindsight', 'bedsid', 'slept', 'pope', 'chalfont', 'handmad', 'necklac', 'sapphir', 'carat', 'daisi', 'muller', 'quad', 'colon', 'burglari', 'overcharg', 'ica', 'oxbi', 'flic', 'singleton', 'layer', 'wlt', 'wltm', 'pescator', 'heck', 'lookout', 'spreadsheet', 'stata', 'keyword', 'rittweg', 'jf', 'sendmail', 'unremark', 'sonapt', 'rohm', 'psychoacoust', 'sibbald', 'encod', 'mimic', 'montieth', 'pearc', 'einstein', 'gmr', 'shearman', 'accru', 'ratif', 'ladyman', 'antithesi', 'dogmat', 'overbear', 'burstow', 'marrow', 'euston', 'pelham', 'mobi', 'fr', 'piazza', 'brindley', 'mainlin', 'musicologist', 'cantata', 'bwv', 'chieko', 'hara', 'rifkin', 'palaeontologist', 'aria', 'rubik', 'bestow', 'snowfal', 'unseason', 'shum', 'purvin', 'gertz', 'fathi', 'shatwan', 'ballard', 'maruti', 'tractor', 'mahindra', 'federlin', 'scrapbook', 'souvenir', 'stepdaught', 'amitai', 'etzioni', 'axi', 'communitarian', 'emption', 'gravest', 'fissil', 'abdul', 'qadeer', 'osama', 'enrich', 'haven', 'fatboy', 'fallow', 'palookavil', 'outgun', 'superclub', 'subconsci', 'valium', 'landlock', 'maracana', 'pepp', 'jolli', 'masochist', 'bravest', 'balk', 'hesaid', 'gammag', 'interchang', 'ippr', 'decentralis', 'middleman', 'cosmopolitan', 'cliqu', 'asymmetri', 'naamsa', 'skate', 'gascoign', 'smilli', 'skater', 'rink', 'torvil', 'khordokovski', 'bedford', 'unwav', 'leeway', 'loyn', 'cheslea', 'shaka', 'swerv', 'kamara', 'geremi', 'wardl', 'mistakenli', 'psg', 'bosman', 'ict', 'indiana', 'conjoin', 'doubli', 'corridor', 'plainli', 'bookshelv', 'endow', 'brawl', 'winkler', 'alterc', 'jostl', 'contamin', 'higdon', 'topsi', 'turvi', 'otro', 'lado', 'gladiat', 'gemma', 'mosqu', 'derelict', 'taha', 'idri', 'welshpool', 'uaf', 'kalan', 'kawa', 'karim', 'kurd', 'stearn', 'pretenc', 'aig', 'chubb', 'anounc', 'luigi', 'neri', 'babacan', 'einhoven', 'rodick', 'scrichapan', 'bookshop', 'terrel', 'witchcraft', 'wizardri', 'voldemort', 'outpati', 'inpati', 'bma', 'beddow', 'waiter', 'kirsti', 'unambiti', 'daveport', 'sexist', 'melon', 'birkbeck', 'yvett', 'joni', 'lovenduski', 'barrack', 'follet', 'babe', 'wiggl', 'teather', 'quotient', 'gunfight', 'mayhem', 'wooki', 'ewok', 'waypoint', 'hoth', 'at', 'tatooin', 'geonosi', 'endor', 'backdrop', 'curious', 'motif', 'snazzi', 'bog', 'speeder', 'doubtless', 'poni', 'cozza', 'afteward', 'welford', 'negat', 'pierson', 'munchi', 'usta', 'talker', 'exeem', 'sloncek', 'novastream', 'pouwels', 'delft', 'walkington', 'mischief', 'devolv', 'miscellan', 'enclos', 'liquor', 'eleanor', 'billup', 'chomp', 'donnacha', 'sheehan', 'alec', 'surgen', 'lakomski', 'kort', 'schubert', 'viljoen', 'emerick', 'sika', 'timoteo', 'waasdorp', 'klerck', 'petruzzella', 'osentowski', 'gouw', 'mo', 'unga', 'sherman', 'tuipulotu', 'asbesto', 'asbestosi', 'chairwoman', 'meredith', 'hellicar', 'malpractic', 'bewlay', 'abut', 'showroom', 'mauri', 'mamma', 'craymer', 'remortgag', 'zomba', 'mackintosh', 'dhani', 'glickman', 'wav', 'deleteri', 'movielink', 'cinemanow', 'curbishley', 'jonatan', 'biowar', 'neverwint', 'edmonton', 'alberta', 'shauna', 'rico', 'bergh', 'mauger', 'marti', 'holah', 'nonu', 'cowan', 'laulala', 'jermo', 'keino', 'piri', 'weepu', 'dwyer', 'sevilla', 'etienn', 'cobh', 'santri', 'currentili', 'agio', 'mccambridg', 'fionnualla', 'britton', 'tulu', 'caledonian', 'derartu', 'hammerstein', 'alpin', 'trapp', 'nazism', 'edelweiss', 'filmgoer', 'kitsch', 'yodel', 'lederhosen', 'viennes', 'volksop', 'nun', 'austro', 'hellblaz', 'satan', 'minion', 'hollwood', 'aaliyah', 'blackground', 'penski', 'cessna', 'mortem', 'blackadd', 'baldrick', 'trench', 'poignant', 'lauri', 'miranda', 'wink', 'graz', 'stretcher', 'boavista', 'ock', 'torment', 'tobey', 'dunst', 'molina', 'hellrais', 'gil', 'wilma', 'erin', 'cheek', 'gaudi', 'po', 'unfinish', 'traine', 'larissa', 'stepson', 'sholto', 'lampoon', 'aldridg', 'browhil', 'hoper', 'whop', 'retort', 'spous', 'mawer', 'yoo', 'ji', 'kdb', 'yungmin', 'dongwon', 'pant', 'chalk', 'spaghetti', 'incapac', 'feckless', 'gotten', 'janco', 'pyykkonen', 'meg', 'whitman', 'keener', 'saxon', 'spenc', 'zeal', 'clap', 'brownit', 'shipley', 'katrina', 'tieless', 'parbutt', 'steward', 'shipyard', 'telford', 'bravura', 'porterhous', 'feelgood', 'viduka', 'barren', 'martika', 'vicissitud', 'sarin', 'counterterror', 'erect', 'canopi', 'reced', 'mink', 'eyelash', 'jodi', 'lachais', 'knockback', 'farega', 'aplomb', 'unruffl', 'brillianc', 'jink', 'subtitut', 'frustratingli', 'matthieu', 'penal', 'rogg', 'tantamount', 'communion', 'criminalis', 'kumaratunga', 'hambantota', 'clergi', 'mahinda', 'rajapaks', 'solheim', 'newcomb', 'lendl', 'rafter', 'cahil', 'chap', 'sledg', 'mullet', 'endearingli', 'messian', 'hynd', 'inducte', 'honeyman', 'farndon', 'medley', 'stabber', 'waldorf', 'astoria', 'diddley', 'rowdi', 'lotta', 'shakin', 'goin', 'shutdown', 'miliband', 'ralph', 'leftw', 'haverstock', 'msc', 'huggi', 'farga', 'booki', 'putrid', 'folllow', 'tether', 'corelli', 'mandolin', 'censu', 'freescal', 'wimedia', 'ofdm', 'ravencraft', 'zdnet', 'patriot', 'enjoin', 'atomstroieksport', 'minghella', 'bifa', 'birthistl', 'hickox', 'pavlikowski', 'cylind', 'sporti', 'powertrain', 'ares', 'lilliu', 'montezemolo', 'sportwagon', 'gtv', 'darleen', 'druyun', 'refuel', 'lockhe', 'solana', 'youssou', 'senegales', 'chango', 'spasiuk', 'eliza', 'carthi', 'zephaniah', 'malian', 'tinariwen', 'bebo', 'vald', 'flamenco', 'cigala', 'lagrima', 'negrasmus', 'sulimanov', 'bruvik', 'lillehamm', 'tono', 'abet', 'premedit', 'unauthor', 'tsar', 'ormond', 'aynsley', 'oriel', 'bofra', 'progam', 'weblink', 'viral', 'finjan', 'propag', 'ironi', 'offshoot', 'satisfactorili', 'portillo', 'bridgepoint', 'widdecomb', 'agoni', 'aunt', 'indepen', 'sightse', 'wadi', 'sultan', 'merl', 'wolverton', 'unrequit', 'inwhich', 'pasadena', 'brusca', 'traction', 'liberian', 'liberia', 'anglian', 'woodbridg', 'liebeneberg', 'bezier', 'dod', 'buff', 'warez', 'risciso', 'popz', 'fourteen', 'sanku', 'eriflleh', 'hellfir', 'spelt', 'kartadinata', 'tresco', 'mcnulti', 'techno', 'faceless', 'hew', 'extradit', 'townsden', 'loudmouth', 'messageboard', 'acquiesc', 'alias', 'graffiti', 'brag', 'notorieti', 'victimless', 'sensationalist', 'courthous', 'stilwel', 'weirdest', 'ontrack', 'careless', 'lavatori', 'reformat', 'hideou', 'drayton', 'hopeless', 'boorman', 'baez', 'aara', 'beneath', 'jiulin', 'cao', 'changi', 'debacl', 'plusnet', 'mladenov', 'dragan', 'jauregi', 'blurri', 'widescreen', 'telli', 'flaherti', 'antonia', 'bernath', 'kisna', 'subhash', 'ghai', 'raj', 'lagaan', 'throb', 'adarsh', 'ar', 'rahman', 'langrish', 'polli', 'annabel', 'bilingu', 'dil', 'bhi', 'kahey', 'amitabh', 'bachchan', 'aamir', 'eastward', 'sweetheart', 'adb', 'overview', 'ifzal', 'abd', 'thadao', 'chino', 'normalci', 'annualis', 'iizuka', 'ichi', 'skillset', 'zdf', 'jasperneit', 'warburg', 'spd', 'schleswig', 'holstein', 'rhine', 'westphalia', 'geordi', 'misfit', 'stoppard', 'mcavoy', 'barratt', 'boosh', 'groen', 'buffalo', 'giteau', 'amor', 'goll', 'lucio', 'jonti', 'tannadic', 'repriev', 'hkrfu', 'molloy', 'jrfu', 'tokumasu', 'auxerr', 'roux', 'almeria', 'stefano', 'baldini', 'jaouad', 'gharib', 'tergat', 'illustri', 'unmask', 'snippet', 'leaker', 'kleinberg', 'stubborn', 'bounceback', 'gloomier', 'brushstrok', 'uber', 'funk', 'isnt', 'pigeonhol', 'syncop', 'melodi', 'bebop', 'ragtim', 'tuff', 'kravitz', 'ty', 'btw', 'pute', 'colourblind', 'rnb', 'crunk', 'oversensit', 'despis', 'comapni', 'condesend', 'benson', 'booksel', 'langdon', 'symbologist', 'brotherhood', 'illuminati', 'vatican', 'sulpic', 'rusesabagina', 'raoul', 'kigali', 'cockerel', 'passabl', 'bremner', 'falsehood', 'rust', 'muna', 'jeanett', 'melissa', 'ader', 'strode', 'tariku', 'omin', 'alleyn', 'franciqu', 'highfield', 'cl', 'traver', 'jarvi', 'ferrovi', 'refinanc', 'pfi', 'jubile', 'piccadilli', 'amey', 'trutnev', 'wrest', 'tnk', 'waller', 'kulakov', 'barrick', 'usurp', 'rhb', 'malay', 'sportswoman', 'emmiss', 'rac', 'convoy', 'alyona', 'bondarenko', 'nervous', 'fisheri', 'finni', 'peterhead', 'fraserburgh', 'tolkien', 'mirvish', 'conjuct', 'varttina', 'hobbit', 'warchu', 'jrr', 'prong', 'ifr', 'dipiazza', 'eco', 'epa', 'ripmobil', 'drawer', 'hein', 'weee', 'chromium', 'cadmium', 'fanara', 'surgutneftega', 'yuganksneftega', 'aftenposten', 'slavishli', 'bingley', 'housebuild', 'wimpey', 'humpti', 'dumpti', 'ark', 'lamda', 'artgarden', 'whistler', 'relli', 'tateson', 'goyal', 'kwayk', 'janin', 'dtt', 'tnt', 'numeriqu', 'terrestr', 'tou', 'gerolami', 'mediametri', 'sagem', 'conseil', 'superieur', 'audiovisuel', 'inexpens', 'bouquet', 'bodinat', 'vassilli', 'repons', 'spearat', 'pranab', 'snecma', 'mukerje', 'aeronaut', 'orion', 'dassault', 'mikoyan', 'gurevich', 'hcl', 'dinesh', 'keskar', 'toutai', 'claquin', 'ccf', 'bridgewel', 'stam', 'jaap', 'cafu', 'electrician', 'cannist', 'kampen', 'vapour', 'compost', 'adrien', 'brodi', 'blixt', 'disgorg', 'sentel', 'preclud', 'corr', 'hernia', 'teessid', 'gaizka', 'mendieta', 'jarkko', 'nieminen', 'businessmen', 'yoshiaki', 'tsutsumi', 'nagano', 'seibu', 'rebuilt', 'dine', 'scold', 'soy', 'sauc', 'futon', 'oxycodon', 'narcot', 'weitzman', 'sober', 'opiat', 'saliva', 'paion', 'desmoteplas', 'clot', 'sleigh', 'prank', 'mope', 'vs', 'slade', 'mistleto', 'woodley', 'nanj', 'snooker', 'whirlwind', 'smoki', 'meo', 'reardon', 'murambadoro', 'hapoel', 'bnei', 'sakhnin', 'partizani', 'tirana', 'stint', 'haifa', 'etchi', 'masudi', 'agoy', 'esper', 'fidel', 'castro', 'suffoc', 'barrionuevo', 'disrepair', 'barrioneuvo', 'jd', 'burnish', 'pickup', 'hybridis', 'cayenn', 'nailbit', 'endemol', 'adjud', 'incorrect', 'supervis', 'questionsmark', 'prick', 'gratifi', 'kilmarnock', 'derid', 'werewolf', 'cheerlead', 'elis', 'philand', 'madea', 'galifray', 'planetari', 'ital', 'cunningli', 'slope', 'mushi', 'mantel', 'thorp', 'krasner', 'lorim', 'yvonn', 'dea', 'discharg', 'strenuous', 'basel', 'ideologu', 'mediterranean', 'unreform', 'nexu', 'shocker', 'tama', 'cafod', 'guff', 'adul', 'reddi', 'powerpoint', 'telemedicin', 'hatch', 'pctvt', 'prassana', 'rambathla', 'foolproof', 'berkeley', 'intermitt', 'insect', 'postul', 'unduli', 'communicateresearch', 'dlf', 'vancheshwar', 'meter', 'timefram', 'anshuman', 'chittabrata', 'majumdar', 'citu', 'confiscatori', 'yanukovych', 'sooth', 'rybachuk', 'veron', 'revil', 'norm', 'ispa', 'conduit', 'ayer', 'starkli', 'briefer', 'hariri', 'solider', 'rafik', 'lebanon', 'blom', 'shanda', 'nyse', 'vicker', 'expuls', 'rancour', 'nag', 'spokespeopl', 'hailey', 'authori', 'daydream', 'rusti', 'brolin', 'harass', 'aiport', 'womanis', 'seberg', 'bisset', 'painstak', 'nassau', 'moneychang', 'panopli', 'alwale', 'claridg', 'connaught', 'fairmont', 'cotonsport', 'ghanaian', 'garoua', 'accra', 'kotoko', 'kumasi', 'douala', 'agyemang', 'bortey', 'boukar', 'makaji', 'nzame', 'cameroonian', 'sabl', 'bati', 'kemadj', 'thokozani', 'xaba', 'ngom', 'nfor', 'cloet', 'hanningfield', 'cranfield', 'openzon', 'logon', 'cybercrimin', 'cybercrim', 'configur', 'footwork', 'debrief', 'deject', 'peform', 'magath', 'newbi', 'hefc', 'upfront', 'espanol', 'caballero', 'monterrey', 'millan', 'latinohiphopradio', 'yoda', 'makisa', 'papo', 'uno', 'veint', 'emce', 'darlington', 'mowden', 'nhtsa', 'avalanch', 'kodiak', 'silverad', 'gmc', 'savana', 'yukon', 'xlr', 'srx', 'ranier', 'isuzu', 'ascend', 'windshield', 'discern', 'devin', 'flack', 'jeannin', 'grecian', 'goallin', 'hiley', 'sawyer', 'gaia', 'ampadu', 'af', 'djemba', 'wyman', 'outsel', 'galvan', 'aleksey', 'khristenko', 'pheromon', 'daylight', 'pheremon', 'bankabl', 'whodunit', 'cryptographi', 'semiot', 'mediev', 'repercuss', 'liz', 'staten', 'undul', 'caption', 'rosenberg', 'homepag', 'annouc', 'hypertens', 'norvasc', 'chili', 'ley', 'zornotza', 'amorebieta', 'timbilil', 'edinburghintern', 'djibril', 'propostit', 'hoc', 'memo', 'stickl', 'ntpc', 'suha', 'naik', 'threatend', 'santi', 'defac', 'phpbb', 'randomli', 'pa', 'kofi', 'annan', 'ead', 'camu', 'lagarder', 'forgeard', 'hertrich', 'superjumbo', 'overrun', 'lci', 'wojcicki', 'bibliographi', 'bodleian', 'scholarli', 'reg', 'leclerc', 'wilkin', 'amadeu', 'vest', 'nikki', 'rocco', 'affabl', 'ledley', 'upson', 'makeshift', 'ounc', 'disconcert', 'jeremiah', 'bowden', 'childlik', 'stimulu', 'preset', 'downstair', 'bathroom', 'kettl', 'orwellian', 'overdraft', 'unshred', 'cratchit', 'underworld', 'securewav', 'cahoot', 'convolut', 'overmighti', 'deferenti', 'ntv', 'bogdanchikov', 'cashflow', 'lukoil', 'surgutneftegaz', 'misappropri', 'dissemin', 'panda', 'wolong', 'sichuan', 'bamboo', 'hemin', 'globio', 'biodivers', 'leroy', 'lita', 'ldv', 'makofo', 'amankwaah', 'anyinsah', 'orr', 'oyedel', 'ntimban', 'zeh', 'puncheon', 'chorley', 'mckoy', 'tapp', 'pacquett', 'fiduciari', 'unconscion', 'wcg', 'untap', 'seti', 'wgc', 'proteom', 'elain', 'gallin', 'intract', 'molecul', 'hoegaarden', 'staropramen', 'leuven', 'klin', 'ivanovo', 'saransk', 'volzhski', 'omsk', 'novocheboksarsk', 'chernigov', 'nikolaev', 'kharkov', 'unaccompani', 'brownle', 'reintegr', 'patsi', 'rowland', 'sid', 'hove', 'guildhal', 'cazalet', 'beresford', 'trouper', 'lamin', 'diack', 'namibian', 'hasson', 'tiga', 'kingsley', 'sureyya', 'serdengecti', 'tevfik', 'aksoy', 'hayriy', 'evren', 'stavang', 'fervent', 'narraway', 'kiol', 'walder', 'mayerholf', 'mayerhofl', 'scyth', 'grindal', 'isaacson', 'parl', 'garvey', 'fanolua', 'curnier', 'eustac', 'elloway', 'sigley', 'cornwel', 'sh', 'maraca', 'subway', 'afficiando', 'ph', 'pantech', 'mackel', 'delus', 'gigapixel', 'tno', 'canyon', 'rockscap', 'hartog', 'rafferti', 'bookmark', 'suranga', 'chandratillak', 'promiscu', 'encamp', 'caravan', 'amen', 'ryder', 'cottenham', 'cambridgeshir', 'mineti', 'ulvaeu', 'andersson', 'agnetha', 'faltskog', 'frid', 'lyngstad', 'cirku', 'nikla', 'stromstedt', 'jagran', 'dainik', 'valenciana', 'awkward', 'hristo', 'stoichkov', 'spars', 'medecin', 'irancel', 'ehud', 'olmert', 'ruhi', 'dogusoy', 'psa', 'citroen', 'hotb', 'connected', 'iband', 'bracelet', 'wearer', 'devoic', 'undergradu', 'voorhe', 'krueger', 'homesick', 'alexandria', 'misr', 'cair', 'mohieldin', 'technocrat', 'lockup', 'searchabl', 'onyx', 'illinoi', 'jive', 'quirksvil', 'layov', 'matsuura', 'dayton', 'hailstorm', 'ama', 'levin', 'shaki', 'montros', 'secam', 'smernicki', 'aeroplan', 'stewardess', 'tallest', 'tfc', 'swiftest', 'decker', 'suction', 'blower', 'vibrat', 'shaft', 'authorit', 'masayuki', 'shimono', 'taller', 'petrona', 'fur', 'wholescal', 'rdf', 'champ', 'takuo', 'miyagishima', 'boyzon', 'olivia', 'barbado', 'aimlessli', 'hoobastank', 'seacrest', 'groban', 'jayceon', 'compton', 'kournikova', 'popstar', 'salaci', 'hackarmi', 'einar', 'bjorgo', 'unosat', 'voigt', 'keyob', 'encapsul', 'riverb', 'candillon', 'sertit', 'swore', 'taskforc', 'patoi', 'weh', 'emoticon', 'bst', 'robinov', 'tambien', 'burnett', 'erot', 'incub', 'langland', 'coudenberg', 'cellar', 'remnant', 'senn', 'tara', 'abstract', 'planner', 'expressionist', 'vein', 'technologist', 'altruist', 'wojahn', 'teja', 'rah', 'digga', 'nspcc', 'fickl', 'motherhood', 'makeup', 'arama', 'bunker', 'mythic', 'inflammatori', 'punki', 'tinseltown']\n"
          ],
          "name": "stdout"
        }
      ]
    },
    {
      "cell_type": "code",
      "metadata": {
        "colab": {
          "base_uri": "https://localhost:8080/"
        },
        "id": "30hmryhWFmcu",
        "outputId": "d627333e-6701-4a75-c87b-fc6fe129d354"
      },
      "source": [
        "print(wv_model['award'])            # showing vector result of 'award'"
      ],
      "execution_count": null,
      "outputs": [
        {
          "output_type": "stream",
          "text": [
            "[ 0.07503908 -0.32147467 -0.21514909  0.31517604 -0.21327786  0.0505368\n",
            "  0.06681369 -0.03563528  0.88697267  0.13598992  0.5502062  -0.34088048\n",
            "  0.01955201  0.3254728   0.20980768 -0.30755532  0.1071178   0.9841755\n",
            " -0.19690432  0.24618976  0.5871445  -0.13746668 -0.286835    0.44310343\n",
            "  0.22580999  0.39978978  0.6766553  -0.13824409  0.5631352   0.4170839\n",
            "  0.5328391   0.45542753  0.28664547 -0.32548437  0.02594325  0.08204161\n",
            "  0.63135135  0.19376266 -0.3785987  -0.28269318  0.29659927 -0.22493699\n",
            " -0.01731181 -0.10122898  0.38008156 -0.30703422 -0.4660031  -0.196941\n",
            "  0.0736649   0.20987345  0.2232421   0.13540857  0.6600943  -0.20682253\n",
            " -0.07864965 -0.3474183  -0.68735    -0.22489533  0.2796611  -0.41037703\n",
            "  0.36923993 -0.36851984  0.42692536  0.2604507  -0.21524638  0.3341367\n",
            " -0.61734545  0.40379316 -0.1160107   0.27691662 -0.71064055  0.45351267\n",
            "  0.3055435  -0.2674344  -1.042059    0.22741526  0.55077577  0.14797533\n",
            "  0.37382826  0.0510541  -0.3991457  -0.2646165  -0.5581093   0.73745704\n",
            " -0.06422226  0.60758924  0.6457371   0.15999024 -0.33683452 -0.28499836\n",
            "  0.5182374   0.07310737  0.11249135 -0.15665373 -0.07903592 -0.49055418\n",
            " -0.10320087 -0.17848419  0.7533736  -0.83276683  0.31877252 -0.3295544\n",
            " -0.7025873   0.3160469  -0.0598621   0.78343046 -0.7460569  -0.22055438\n",
            " -0.4410224   0.19356051  0.11002103 -0.06722497 -0.06118059 -0.43071586\n",
            "  0.02419159  0.23677066  0.735062    0.26020905  0.38876036 -0.03929182\n",
            "  0.03204448  0.79365784  0.08715959  0.39802834  0.36404938  0.3859859\n",
            "  0.30780187 -0.25298604 -0.17590138  0.16011268  0.6086114  -0.27753198\n",
            "  0.26510993 -0.29749963  0.20686875 -0.8666404   0.05141634  0.40941933\n",
            " -0.93010545  0.24606268  0.27925822 -0.18368033 -0.21921583 -0.13471752\n",
            " -0.34992638 -0.07226852 -0.82087296  1.0168186   0.25448868  0.00952178\n",
            " -0.26211086  0.40272892  0.1280591  -0.0339634  -0.17483668 -0.45828757\n",
            "  0.2730101   0.2623664  -0.35478696  0.5382633  -0.00603755  0.3403772\n",
            " -0.02237253 -0.14705223  0.8254943  -0.3944483   0.1916038  -0.14705753\n",
            "  0.04077094 -0.10710716 -0.5483032  -0.16726719  0.49963707  0.7607099\n",
            "  0.39491037  0.01402411 -0.22881584 -0.6245465  -0.03617039  0.2183349\n",
            "  0.2989405  -0.04937664  0.51110613  0.21163467  0.3771964   0.7112253\n",
            " -0.58443254 -0.20262483 -0.09071256  0.09037744  0.33583868 -0.753414\n",
            " -0.05829369  0.11388616  0.04389208  0.5687204  -0.2934125  -1.1464471\n",
            " -0.12463573  0.03139561  0.08210533  0.22578993 -0.23352106  0.00658985\n",
            " -0.9233588   0.11946054  0.4202621   0.35336715  0.06250845 -0.07527265\n",
            " -0.17011207 -0.14606094 -0.5012719   0.29732972 -0.24335952  0.0742754\n",
            " -1.0688974   0.8237021   0.35314375  0.20753887 -0.27021968  0.31564724\n",
            "  0.30394596 -0.4250976  -0.43525955  0.49921918 -0.5799599   0.13155086\n",
            "  0.27208596  0.01477765 -0.09615559 -0.3286562  -0.24111272 -1.1354094\n",
            " -0.53623456 -0.20235507  0.8455024   0.31524047  0.01223823 -0.13111418\n",
            " -0.16809747 -0.01195623  0.1447083  -0.09698886  0.41698307  0.46906918\n",
            "  0.41906312  0.3089861  -0.21679571  0.14598459  0.04105923  0.28277668\n",
            " -0.30419517  0.33466697 -0.5017518  -0.24139898  0.40231985  0.16040508\n",
            "  0.3724454   0.0498454   0.16454878  0.7279496   0.3164426   0.46809644\n",
            " -0.22622591  0.0573589   0.3450231  -0.22149211 -0.5972619  -0.3028232\n",
            "  0.54024935 -0.07592005  0.2947602  -0.0145429  -0.04747255 -0.05711882\n",
            " -0.02138051  0.01314567  0.44228926  0.51033     0.24662797 -0.044014\n",
            "  0.6024021  -0.29288414  0.37191755  0.33415446 -0.15855835 -0.1753135\n",
            "  0.29852512  0.26391402 -0.10771297 -1.2274855  -0.0462532  -0.00863851\n",
            "  0.20448315  0.16455844 -0.35519984  0.25716028  0.00130543  0.37971786\n",
            "  0.1710641  -0.97251725  0.01360913  0.03503902  0.09074562  0.6733133\n",
            "  0.37022007 -1.0670625  -0.36534923  0.28675282 -0.3458205  -0.20909135\n",
            " -0.6846891  -0.8083314  -0.27800977 -0.5740554   0.17002492  0.00511329\n",
            " -0.40337488 -0.4761784   0.47140452 -0.42677498 -0.11106963  0.10525402\n",
            "  0.439986    0.30654097  0.09744562 -0.70268357  0.03091712  0.20778328\n",
            "  0.6034388   0.24534506 -0.13149978  0.13589351 -0.55003583  0.22607596\n",
            "  0.21950682  0.26789844 -0.16084597 -0.569389    0.75685275  0.31847805\n",
            " -0.3355492  -0.13212615  0.774255   -0.2829174   0.17610475 -0.52808356\n",
            " -0.31815955  0.11876354 -0.31291083 -0.15108007  0.38749772 -0.24598864\n",
            "  0.70063114  0.30238354 -0.59295166 -0.22527984  0.17097639  0.09691709\n",
            "  0.14696276  0.31491664 -0.15637572 -0.9039782  -0.15226977 -0.5693453\n",
            " -0.73198926  0.18699169  0.2742102   0.46234608 -0.00458246  0.41137218\n",
            " -0.48053634  0.2259146  -0.17057967  1.0673972   0.14979285  0.16930796\n",
            " -0.4194483   0.12691416  0.03657849  0.05956845 -0.15659066  0.51052046\n",
            " -0.10527638 -0.02490734 -0.17537458 -0.48233372 -0.18641227 -0.02989179\n",
            "  0.19476178 -0.04745118  0.03421481  1.0717427   0.18673673  0.40820497\n",
            "  0.3189356  -0.3288722   0.51281255  0.48341206 -0.47248805  0.3549982\n",
            " -0.33707038  0.03593092  0.33635736 -0.6096181   0.5233693  -0.26916528\n",
            "  0.01970835  0.43033051 -0.05925235 -0.16695094  0.261243   -0.38640442\n",
            "  0.27070302  0.09957067  0.29571736  0.05541316  0.03349601 -0.51163524\n",
            " -0.05215909 -0.23167923 -1.033003    0.44373283 -0.38903758 -0.12019867\n",
            " -0.23952736 -0.8091486  -0.36064613  0.63531697  0.6514638  -0.4575958\n",
            " -0.7493558  -0.43929076  0.5623733  -0.44364184  0.02044541  0.47179946\n",
            "  0.04837357  0.23657134  1.2370555   0.36877298 -0.9981431   1.2252938\n",
            " -1.0445698  -0.37901962 -0.07062888  0.21940263 -0.3479835  -0.5176586\n",
            " -0.9322013   0.58190644  0.65462995  0.2114816   0.04396838 -0.7653158\n",
            " -0.24257715 -0.17815341  0.3304476   0.39368907  0.4238806  -0.23707151\n",
            " -0.13420601 -0.16595826 -0.0211125  -0.02126293  0.05274021  0.15225819\n",
            "  0.02783984  0.4061548  -0.50315106  0.36212742 -0.11794828 -0.31000364\n",
            " -0.9113289   0.32181388  0.19853191 -0.30943066  0.24505694  0.33866352\n",
            " -0.28246406  0.62575877  0.11505024  0.28615272  0.43772802 -0.4997827\n",
            " -0.28547758  0.518175    0.5032162  -0.27517536 -0.21563569 -0.3699807\n",
            " -0.5790145   0.58059144 -0.07079238  0.28503004 -0.33758426  0.21305706\n",
            " -0.07364851  0.44237417]\n"
          ],
          "name": "stdout"
        }
      ]
    },
    {
      "cell_type": "code",
      "metadata": {
        "colab": {
          "base_uri": "https://localhost:8080/"
        },
        "id": "dfcRzMwNPoPc",
        "outputId": "c076adce-8cc6-4bba-bb82-08aa1ca534bf"
      },
      "source": [
        "np.mean(wv_model['award'])      # calculating mean for the vectors of 'award' - this concept will be used for training model"
      ],
      "execution_count": null,
      "outputs": [
        {
          "output_type": "execute_result",
          "data": {
            "text/plain": [
              "0.018519623"
            ]
          },
          "metadata": {
            "tags": []
          },
          "execution_count": 46
        }
      ]
    },
    {
      "cell_type": "code",
      "metadata": {
        "colab": {
          "base_uri": "https://localhost:8080/"
        },
        "id": "pRlz2UoZFqly",
        "outputId": "c2322a24-6495-40f6-f5ea-11725861ccb6"
      },
      "source": [
        "wv_model.most_similar('supermarket')      # finding most similar words to 'supermarket'"
      ],
      "execution_count": null,
      "outputs": [
        {
          "output_type": "execute_result",
          "data": {
            "text/plain": [
              "[('driver', 0.9978682994842529),\n",
              " ('vehicl', 0.9977596402168274),\n",
              " ('plung', 0.9976966381072998),\n",
              " ('mainli', 0.997539758682251),\n",
              " ('appetit', 0.9974253177642822),\n",
              " ('cement', 0.9972644448280334),\n",
              " ('region', 0.9972152709960938),\n",
              " ('bubbl', 0.9970439672470093),\n",
              " ('petrochem', 0.996979832649231),\n",
              " ('arabia', 0.9969272613525391)]"
            ]
          },
          "metadata": {
            "tags": []
          },
          "execution_count": 47
        }
      ]
    },
    {
      "cell_type": "code",
      "metadata": {
        "colab": {
          "base_uri": "https://localhost:8080/"
        },
        "id": "Jq9j7lMKIDP9",
        "outputId": "5b5527b1-4e4e-43ec-ace2-939234730376"
      },
      "source": [
        "wv_model.similar_by_word('award')"
      ],
      "execution_count": null,
      "outputs": [
        {
          "output_type": "execute_result",
          "data": {
            "text/plain": [
              "[('guild', 0.9899619817733765),\n",
              " ('oscar', 0.9866883158683777),\n",
              " ('nomin', 0.9856992959976196),\n",
              " ('star', 0.9826651811599731),\n",
              " ('serna', 0.9819879531860352),\n",
              " ('best', 0.9801581501960754),\n",
              " ('theatrego', 0.9767152070999146),\n",
              " ('actor', 0.9754496812820435),\n",
              " ('patsi', 0.9746658802032471),\n",
              " ('prize', 0.9722363948822021)]"
            ]
          },
          "metadata": {
            "tags": []
          },
          "execution_count": 48
        }
      ]
    },
    {
      "cell_type": "code",
      "metadata": {
        "colab": {
          "base_uri": "https://localhost:8080/"
        },
        "id": "PFmdDXeBLeXh",
        "outputId": "85c5cb23-ec89-474f-b8ef-b01ff6e93fc2"
      },
      "source": [
        "wv_model.similarity('supermarket','award')      # finding similarity between 'award' and 'supermarket'"
      ],
      "execution_count": null,
      "outputs": [
        {
          "output_type": "execute_result",
          "data": {
            "text/plain": [
              "0.56501424"
            ]
          },
          "metadata": {
            "tags": []
          },
          "execution_count": 49
        }
      ]
    },
    {
      "cell_type": "code",
      "metadata": {
        "colab": {
          "base_uri": "https://localhost:8080/"
        },
        "id": "uwVBGE09cWya",
        "outputId": "117bd42b-f205-4af4-dd8f-760a20f3eab7"
      },
      "source": [
        "len(wv_model.wv.index2word)"
      ],
      "execution_count": null,
      "outputs": [
        {
          "output_type": "execute_result",
          "data": {
            "text/plain": [
              "18997"
            ]
          },
          "metadata": {
            "tags": []
          },
          "execution_count": 50
        }
      ]
    },
    {
      "cell_type": "code",
      "metadata": {
        "colab": {
          "base_uri": "https://localhost:8080/"
        },
        "id": "n8lItUUUbpDx",
        "outputId": "c7ca21cf-f39b-45c3-c8da-4bc9506d1d54"
      },
      "source": [
        "wv_model.wv.index2word[0:5]         # contains all words whose embedding has been done"
      ],
      "execution_count": null,
      "outputs": [
        {
          "output_type": "execute_result",
          "data": {
            "text/plain": [
              "['said', 'year', 'mr', 'would', 'also']"
            ]
          },
          "metadata": {
            "tags": []
          },
          "execution_count": 51
        }
      ]
    },
    {
      "cell_type": "code",
      "metadata": {
        "colab": {
          "base_uri": "https://localhost:8080/"
        },
        "id": "g7C5L8BNcCnX",
        "outputId": "1f281578-9392-4320-f1b9-079aa2791b47"
      },
      "source": [
        "wv_model.wv.syn0[0:5]               # contains embedded values for each words "
      ],
      "execution_count": null,
      "outputs": [
        {
          "output_type": "execute_result",
          "data": {
            "text/plain": [
              "array([[ 0.07112597,  0.4339686 , -0.26686496, ...,  0.06399513,\n",
              "         0.12586893,  0.19365853],\n",
              "       [-0.23375562, -0.45294818, -0.17165804, ..., -0.02260541,\n",
              "        -0.29067567,  0.9794277 ],\n",
              "       [ 0.4947634 ,  0.56376994, -0.14264657, ...,  0.06022156,\n",
              "         0.2220228 ,  0.30649102],\n",
              "       [-0.06140633,  0.4722354 , -0.00916265, ...,  0.01068647,\n",
              "        -0.05040403,  0.22962937],\n",
              "       [ 0.01256272,  0.26805693, -0.2265621 , ...,  0.11942334,\n",
              "         0.01239043,  0.17052233]], dtype=float32)"
            ]
          },
          "metadata": {
            "tags": []
          },
          "execution_count": 52
        }
      ]
    },
    {
      "cell_type": "code",
      "metadata": {
        "id": "9V9riPY-bDHG"
      },
      "source": [
        "vectorized = dict(zip(wv_model.wv.index2word, wv_model.wv.syn0))      # combining above 2 results using dict"
      ],
      "execution_count": null,
      "outputs": []
    },
    {
      "cell_type": "code",
      "metadata": {
        "colab": {
          "base_uri": "https://localhost:8080/"
        },
        "id": "WRZhMECacq_j",
        "outputId": "d4f74059-401b-4436-ad25-fe3f1f49bb8a"
      },
      "source": [
        "dict(itertools.islice(vectorized.items(), 2))       # showing first 2 items from dictionary"
      ],
      "execution_count": null,
      "outputs": [
        {
          "output_type": "execute_result",
          "data": {
            "text/plain": [
              "{'said': array([ 0.07112597,  0.4339686 , -0.26686496,  0.15510337, -0.30903938,\n",
              "        -0.08031351, -0.4680401 ,  0.00929801,  0.22784938, -0.28907296,\n",
              "        -0.06546865,  0.10212998,  0.0852081 ,  0.19408864,  0.2758271 ,\n",
              "         0.3794512 , -0.01959948, -0.01365622, -0.31975102,  0.30496624,\n",
              "         0.43598786,  0.33860323,  0.22961085,  0.2208227 ,  0.230135  ,\n",
              "         0.17108983, -0.27428737, -0.1697538 ,  0.12251393,  0.02811553,\n",
              "         0.5636225 , -0.08428622, -0.18016179,  0.03086792,  0.2405307 ,\n",
              "         0.04243381, -0.27726218,  0.6380574 ,  0.04940381, -0.08734284,\n",
              "         0.1168775 ,  0.06064125, -0.38898298, -0.16034219,  0.2691019 ,\n",
              "        -0.13112718,  0.13625784, -0.1036145 ,  0.28217494, -0.49584588,\n",
              "         0.6961837 ,  0.4189717 ,  0.15572195,  0.02929845, -0.11712011,\n",
              "         0.07411481, -0.46422285, -0.12496691,  0.03390019, -0.15995508,\n",
              "         0.27104992,  0.03025885,  0.0020361 ,  0.25401008, -0.24413104,\n",
              "        -0.10402504,  0.11544683, -0.00978404, -0.0782897 , -0.1846267 ,\n",
              "        -0.2810691 , -0.17003404,  0.11095556, -0.08577076, -0.47138444,\n",
              "         0.10599047,  0.12192699,  0.46301445, -0.30129176, -0.16215576,\n",
              "        -0.38546315, -0.11151097,  0.02563767, -0.20571667, -0.1557858 ,\n",
              "         0.31435922, -0.17365123,  0.21224841,  0.20352763, -0.01825847,\n",
              "         0.1807043 , -0.26213938, -0.21501012,  0.02926455,  0.11047203,\n",
              "        -0.3411624 , -0.03841268,  0.00153086, -0.10513173,  0.18670359,\n",
              "        -0.13624743,  0.28467184,  0.15730253, -0.02258468,  0.1672452 ,\n",
              "         0.38188106, -0.13470775, -0.23832786, -0.05813983, -0.08236294,\n",
              "         0.38750398, -0.1261586 ,  0.13011238, -0.36393133,  0.13274898,\n",
              "        -0.17104065,  0.31991175, -0.1708929 ,  0.35709402,  0.29971072,\n",
              "         0.05111564, -0.20811841, -0.19386382,  0.28150034,  0.32590166,\n",
              "         0.01651541,  0.35632563, -0.14304398,  0.17755723,  0.22683369,\n",
              "         0.14402212,  0.10545903, -0.1472792 , -0.22410016, -0.05605566,\n",
              "         0.13397786, -0.3717379 ,  0.22582325, -0.02555061, -0.22066435,\n",
              "         0.11517688,  0.11104278,  0.1884552 ,  0.21741351,  0.00942943,\n",
              "         0.06993249, -0.22880882, -0.3826576 , -0.3640624 ,  0.15512148,\n",
              "         0.17019765,  0.04349216,  0.06806542, -0.14052798, -0.3996451 ,\n",
              "        -0.3300962 ,  0.01155406, -0.26041344, -0.72249776, -0.11107268,\n",
              "         0.26737252,  0.40582663,  0.09966116, -0.05423584,  0.12503769,\n",
              "         0.2600755 ,  0.05184191,  0.09172565, -0.21687588,  0.02913971,\n",
              "        -0.24192491, -0.05810779, -0.09473686,  0.06746972,  0.26999256,\n",
              "        -0.20113322, -0.03838906, -0.18585041, -0.4284832 ,  0.0588203 ,\n",
              "         0.03241779,  0.08020283,  0.12487874,  0.35129735, -0.18077488,\n",
              "         0.4233431 , -0.11133523, -0.05104093, -0.1974726 ,  0.18344694,\n",
              "         0.05077163, -0.4316162 ,  0.05047276,  0.16697156, -0.00782551,\n",
              "        -0.3460168 , -0.05009817,  0.04491511,  0.05335532,  0.04322809,\n",
              "        -0.18783414,  0.17923072, -0.08398434, -0.05966911,  0.07679898,\n",
              "         0.03268375, -0.10082074,  0.0251084 ,  0.06635293,  0.04895699,\n",
              "        -0.58208823, -0.39780185, -0.01682045,  0.1556302 , -0.12769932,\n",
              "        -0.18976669,  0.09996063,  0.29463726, -0.1713418 , -0.10764681,\n",
              "         0.00991692, -0.27116084,  0.26923785, -0.13100474,  0.23951733,\n",
              "         0.20288138, -0.21644625,  0.18051794,  0.12148312, -0.13269465,\n",
              "         0.01597905, -0.34237635,  0.10395236,  0.12487751,  0.03796041,\n",
              "         0.10628969,  0.13196671,  0.06761173, -0.02002858,  0.00211528,\n",
              "         0.04283589,  0.09223671,  0.3165875 , -0.05741546, -0.33402932,\n",
              "         0.03817402,  0.5652888 ,  0.11333653, -0.11104838, -0.4241598 ,\n",
              "        -0.14372799,  0.26776987, -0.11728252,  0.04499061, -0.28704298,\n",
              "        -0.544948  , -0.18634729,  0.01334714,  0.16614045, -0.02288689,\n",
              "         0.11600558,  0.05116875, -0.42377555,  0.20797691,  0.04094999,\n",
              "        -0.31473136,  0.33433893, -0.32825786, -0.09097061, -0.1368436 ,\n",
              "        -0.20180032, -0.13715774,  0.06264762,  0.02100214, -0.00362622,\n",
              "        -0.07054812, -0.12005033,  0.04752447, -0.06545073, -0.23031856,\n",
              "         0.22691177,  0.15835744, -0.06984898,  0.19945927, -0.19696616,\n",
              "        -0.23281303,  0.15188406, -0.53527176, -0.0129343 , -0.21430734,\n",
              "         0.09914074,  0.11214192,  0.22233835, -0.20241387,  0.35823256,\n",
              "        -0.43195695, -0.01999058, -0.10660897,  0.20609343,  0.2399199 ,\n",
              "        -0.12619007, -0.21808375, -0.00444825,  0.20852675,  0.22366963,\n",
              "        -0.14867069,  0.13122651,  0.08729875,  0.27013168,  0.17181782,\n",
              "         0.15929972, -0.1807522 ,  0.24944243, -0.681413  ,  0.08516102,\n",
              "         0.4466259 ,  0.16145726,  0.23138905, -0.22315998, -0.35163024,\n",
              "         0.10385077, -0.18187198,  0.14777598, -0.2178938 , -0.04796582,\n",
              "         0.06418914, -0.2575072 ,  0.14482334,  0.0875774 , -0.05980812,\n",
              "        -0.21050861, -0.14754917,  0.0012319 , -0.24660479, -0.08956964,\n",
              "         0.20455433, -0.3268345 , -0.126747  ,  0.09812458, -0.13543794,\n",
              "         0.01667919,  0.02742773,  0.25104618, -0.03403087, -0.15286787,\n",
              "        -0.2696537 , -0.14385322, -0.41058406, -0.01972703, -0.14840896,\n",
              "        -0.02089715, -0.20888029, -0.27880406,  0.34572428,  0.14569476,\n",
              "         0.18842727,  0.22277804, -0.04790618, -0.4287154 , -0.19233292,\n",
              "         0.24891402, -0.5175851 ,  0.00697456, -0.11227816, -0.01960163,\n",
              "         0.12500854,  0.10306901, -0.10106935,  0.07979228,  0.19880696,\n",
              "        -0.16264966,  0.07780344, -0.31741408, -0.11455604,  0.26277933,\n",
              "         0.20872904, -0.11595929,  0.35952276,  0.19873767,  0.08077297,\n",
              "         0.0212504 , -0.32667404,  0.36476222,  0.09355439, -0.04666867,\n",
              "         0.44574514,  0.16732687,  0.15130918,  0.26694313, -0.11548234,\n",
              "        -0.33665416, -0.36881855, -0.08333386,  0.37291858, -0.12480707,\n",
              "         0.02272121, -0.01043938, -0.5086322 ,  0.46721178, -0.1169946 ,\n",
              "         0.1599865 ,  0.16165411,  0.19011615,  0.05968352,  0.07170308,\n",
              "        -0.07734182,  0.22418407,  0.08001171,  0.05424267, -0.03759676,\n",
              "         0.22694227,  0.08104683, -0.02912397, -0.04242548,  0.04410904,\n",
              "        -0.16585258, -0.45658967,  0.33014292,  0.05144879, -0.16981447,\n",
              "        -0.00991815,  0.18559055, -0.23397812,  0.10771688,  0.3216157 ,\n",
              "        -0.26830995, -0.455767  , -0.6099044 , -0.3074216 ,  0.66470855,\n",
              "         0.05827423, -0.3933102 , -0.30222237, -0.15060748,  0.12645175,\n",
              "        -0.77500373, -0.08547381,  0.0720956 , -0.09151734,  0.24835452,\n",
              "        -0.08261528,  0.13722378, -0.4050781 ,  0.9339765 , -0.31299496,\n",
              "         0.02017479, -0.34528208,  0.14161798, -0.16743477, -0.2667558 ,\n",
              "         0.05181611,  0.14919066, -0.2580744 , -0.0596936 , -0.0048916 ,\n",
              "        -0.04657346,  0.1635523 ,  0.01891045, -0.4018832 , -0.41792017,\n",
              "        -0.23257832, -0.2238971 , -0.1012749 ,  0.08143335, -0.3974791 ,\n",
              "         0.04707558, -0.29664984, -0.02191472,  0.11111553,  0.03702125,\n",
              "        -0.29679996,  0.10909954,  0.18070406, -0.13962403, -0.07246145,\n",
              "        -0.18139763, -0.22442514,  0.26387253, -0.2181708 , -0.2711071 ,\n",
              "         0.30446658,  0.3469615 ,  0.02562256, -0.2760039 , -0.19233005,\n",
              "        -0.14286728,  0.05378291,  0.25532183,  0.24303699,  0.1247787 ,\n",
              "         0.5518577 ,  0.30178607, -0.04771086,  0.42940482, -0.30209818,\n",
              "        -0.07725397, -0.00206571,  0.06399513,  0.12586893,  0.19365853],\n",
              "       dtype=float32),\n",
              " 'year': array([-2.33755618e-01, -4.52948183e-01, -1.71658039e-01,  1.64812386e-01,\n",
              "        -8.58671591e-02,  2.83818126e-01, -5.06433070e-01, -3.30972999e-01,\n",
              "         6.03584707e-01, -6.90371513e-01,  7.24819452e-02, -7.56988525e-01,\n",
              "        -5.17882705e-01,  3.28750521e-01,  5.52024603e-01, -6.89370930e-01,\n",
              "        -3.06245476e-01,  8.97366256e-02, -6.12045787e-02,  4.69463617e-01,\n",
              "         1.07016020e-01, -5.55523813e-01,  2.31307149e-01, -1.97662205e-01,\n",
              "        -5.02074398e-02,  8.42081979e-02,  1.14658184e-01, -2.10209891e-01,\n",
              "        -6.11220360e-01, -3.36662948e-01,  1.75260082e-01,  6.48623407e-01,\n",
              "        -3.53326976e-01,  1.24968119e-01, -3.71718317e-01,  2.62122095e-01,\n",
              "        -1.40286043e-01,  5.55516556e-02,  2.83322215e-01,  2.65578907e-02,\n",
              "         3.86838049e-01, -5.31750679e-01, -7.32312799e-01, -5.59389532e-01,\n",
              "        -2.36393958e-01, -6.50334135e-02, -2.73557156e-01, -6.35015726e-01,\n",
              "         8.04940283e-01,  2.93443531e-01, -3.96916538e-01,  4.02306765e-01,\n",
              "        -6.73523769e-02,  2.26613015e-01,  3.30690503e-01,  2.93308914e-01,\n",
              "        -7.85034835e-01,  6.07342839e-01,  7.67495871e-01,  1.46837775e-02,\n",
              "         1.36309966e-01,  2.22926736e-01,  2.99989190e-02,  4.98476714e-01,\n",
              "         3.00726056e-01,  8.95336922e-03, -3.61990333e-01, -2.18152687e-01,\n",
              "        -1.22882091e-01,  2.58399874e-01, -9.23512220e-01,  5.82324266e-01,\n",
              "         1.44946113e-01,  2.16936748e-02,  1.99543223e-01,  4.08551395e-01,\n",
              "         1.18297195e+00,  7.30771348e-02,  1.72929496e-01, -5.21075606e-01,\n",
              "        -5.72932720e-01, -4.58199888e-01, -7.18463659e-01,  3.17966342e-01,\n",
              "         3.18514675e-01,  4.56321210e-01,  4.45489049e-01,  2.11317539e-01,\n",
              "         2.25947812e-01, -5.53274691e-01,  1.17771173e+00,  2.06974745e-01,\n",
              "         1.96754128e-01, -2.98218817e-01,  1.06703401e-01, -3.33915263e-01,\n",
              "         3.68446976e-01, -4.07881498e-01, -4.93100375e-01, -1.16461742e+00,\n",
              "        -5.53993881e-01, -1.86267793e-02, -1.08136460e-01,  2.24003464e-01,\n",
              "        -3.85945141e-01,  6.11650527e-01, -6.83016062e-01, -1.23459779e-01,\n",
              "         1.21580146e-01,  4.31043833e-01,  8.31465274e-02, -1.59270674e-01,\n",
              "        -5.03112435e-01,  1.16633020e-01,  5.47212660e-01, -4.46196944e-01,\n",
              "         1.01538040e-01,  5.35413504e-01,  6.59270361e-02, -1.63805410e-02,\n",
              "        -4.05586958e-01,  3.27263981e-01,  1.89319953e-01, -2.03643873e-01,\n",
              "         6.46469414e-01,  1.15417540e-01,  6.69722676e-01, -5.00372171e-01,\n",
              "         4.97117713e-02, -3.96693110e-01,  8.21037710e-01, -1.72493368e-01,\n",
              "        -3.35868075e-02, -6.68869793e-01,  2.07930937e-01,  3.93589675e-01,\n",
              "         5.62646151e-01,  4.29738402e-01, -6.53030947e-02,  3.40674579e-01,\n",
              "         2.50445396e-01,  7.88744316e-02, -2.73738235e-01,  3.94130051e-01,\n",
              "         1.27332628e-01,  2.67661095e-01, -5.17024398e-01,  5.98985076e-01,\n",
              "        -6.28278553e-01,  6.76055849e-01, -1.03078865e-01, -3.32679451e-01,\n",
              "         1.13731802e+00, -4.43103790e-01, -5.60957044e-02, -4.54430431e-01,\n",
              "        -2.73315668e-01,  1.31427184e-01, -4.50840980e-01,  2.17306316e-01,\n",
              "         5.49618602e-01,  9.93235186e-02,  3.01269740e-02, -4.29620653e-01,\n",
              "         1.15972126e+00,  3.46161634e-01,  5.72085232e-02,  2.10927427e-01,\n",
              "        -3.49348098e-01,  6.66136742e-02, -5.61139703e-01, -7.85351396e-02,\n",
              "         1.44220144e-01,  8.14851075e-02, -2.76914775e-01,  3.34848613e-02,\n",
              "        -2.66390145e-01, -3.89605686e-02, -2.02168092e-01, -1.51557520e-01,\n",
              "        -2.88865566e-01, -4.58253741e-01,  2.69233078e-01,  7.55227134e-02,\n",
              "        -1.04860179e-01,  1.78760409e-01, -1.49663672e-01, -6.51519179e-01,\n",
              "         2.21813247e-01, -3.33409101e-01,  5.56132913e-01, -1.17725205e+00,\n",
              "         1.13731831e-01,  2.48452127e-01, -2.42562577e-01, -6.09811664e-01,\n",
              "         3.21633518e-02, -1.71433017e-01,  1.69676617e-01,  4.02178466e-02,\n",
              "         8.23227018e-02, -2.21579030e-01, -7.05608428e-01,  1.22886617e-03,\n",
              "        -9.19503987e-01, -4.93819088e-01,  2.25202203e-01,  3.20198447e-01,\n",
              "         1.39643829e-02,  3.07236277e-02,  1.46663725e-01,  1.66697264e-01,\n",
              "        -4.01893884e-01,  6.37336433e-01, -8.44920695e-01,  2.63080269e-01,\n",
              "        -3.56126763e-02,  3.59348208e-01, -6.46011472e-01,  1.62459224e-01,\n",
              "         2.49873266e-01,  7.63264894e-01,  6.52853966e-01,  1.15941629e-01,\n",
              "        -3.89735848e-01,  5.54440975e-01, -7.27357090e-01, -3.76195729e-01,\n",
              "         2.94396847e-01, -2.14705557e-01, -8.29893872e-02, -8.36900115e-01,\n",
              "         5.17327726e-01, -1.05683231e+00, -2.70733625e-01, -3.21785212e-01,\n",
              "         2.36477256e-01, -4.64038253e-02, -5.33730201e-02,  3.80322397e-01,\n",
              "        -2.73370355e-01,  2.03818858e-01, -4.63729948e-01, -1.12129651e-01,\n",
              "         3.93245846e-01,  6.06166840e-01, -1.69911638e-01,  5.21628797e-01,\n",
              "         3.00652295e-01,  4.22572911e-01, -4.57434505e-01,  2.26202786e-01,\n",
              "        -3.61018151e-01, -4.30534750e-01, -2.35233098e-01, -5.15711248e-01,\n",
              "         8.32256973e-02, -1.67261451e-01,  2.72743821e-01,  8.32499787e-02,\n",
              "        -8.33396465e-02,  6.12545133e-01,  4.64371830e-01,  3.09888095e-01,\n",
              "         2.56675750e-01, -4.38781977e-01,  6.57316446e-01,  2.43085653e-01,\n",
              "        -4.37140673e-01, -2.10378408e-01, -4.51830663e-02,  5.98822892e-01,\n",
              "        -2.52067417e-01,  1.80371836e-01,  5.63459937e-03,  2.13370293e-01,\n",
              "        -4.52715665e-01, -6.06486619e-01, -7.71780610e-02,  1.67803198e-01,\n",
              "         5.22614062e-01,  1.05559275e-01,  4.42318738e-01, -6.84411466e-01,\n",
              "         3.31158400e-01,  7.71732688e-01,  8.40223506e-02, -1.94084197e-01,\n",
              "        -5.12357838e-02, -2.68543661e-01,  1.55524999e-01,  3.29337299e-01,\n",
              "         7.95389786e-02,  6.14532568e-02, -3.28670263e-01,  1.36799559e-01,\n",
              "        -5.92203200e-01,  5.00715431e-03,  5.63856959e-01,  3.30921471e-01,\n",
              "         1.40520871e-01, -5.23880661e-01,  4.88682270e-01,  3.03661197e-01,\n",
              "        -4.17179495e-01, -3.72310370e-01,  9.33127940e-01, -9.56310093e-01,\n",
              "         4.33136225e-01, -4.03426230e-01,  4.71619099e-01, -4.44780082e-01,\n",
              "         4.94503081e-01, -4.46728975e-01, -2.71340996e-01, -8.08953762e-01,\n",
              "         4.77820337e-02,  1.60978034e-01, -3.67758036e-01, -7.46936873e-02,\n",
              "         8.90164256e-01, -8.41113746e-01,  5.50837934e-01, -1.30576178e-01,\n",
              "         3.82238925e-01,  2.75773019e-01,  1.96269173e-02, -5.18846989e-01,\n",
              "         3.28406721e-01,  6.19803309e-01, -1.88539863e-01, -1.90953285e-01,\n",
              "        -8.31456706e-02, -8.29289675e-01, -5.32440484e-01,  1.20375462e-01,\n",
              "         1.38434917e-01, -4.19086963e-01, -9.21757147e-02,  5.51177204e-01,\n",
              "        -4.29886341e-01,  1.97475150e-01, -9.20392275e-01,  2.48505026e-01,\n",
              "         2.87373573e-01,  3.55064332e-01, -3.24464887e-01, -3.17999393e-01,\n",
              "        -1.47994861e-01,  4.36182976e-01, -2.75053903e-02, -1.38264894e-01,\n",
              "        -1.59037024e-01, -5.26474416e-01,  1.32136238e+00,  9.25096422e-02,\n",
              "        -5.19224554e-02,  2.77894169e-01,  2.87215382e-01, -3.95336956e-01,\n",
              "        -6.42619312e-01, -6.52926624e-01, -2.65095085e-01, -3.41158867e-01,\n",
              "         3.94444913e-01,  5.06163359e-01, -5.90273082e-01, -3.77366424e-01,\n",
              "        -7.04964846e-02,  5.44882298e-01,  6.89191699e-01, -5.95418334e-01,\n",
              "        -5.54993629e-01,  6.16277874e-01,  3.58412534e-01,  4.46153820e-01,\n",
              "         1.09935865e-01, -6.35143593e-02, -8.93250406e-01, -3.68162356e-02,\n",
              "         3.07703037e-02, -8.25796962e-01, -6.85916394e-02,  7.30421841e-01,\n",
              "         4.28710997e-01,  3.51495653e-01, -8.45745802e-02, -6.51849627e-01,\n",
              "         2.79429823e-01, -1.16035491e-01, -8.68038774e-01,  1.65399104e-01,\n",
              "         2.76670605e-01,  9.29845929e-01,  4.10848409e-01, -8.83243605e-02,\n",
              "         7.38078356e-01, -8.56332719e-01,  2.24356398e-01,  4.87153620e-01,\n",
              "        -1.87771454e-01,  5.61141849e-01,  1.45123273e-01, -2.05180869e-02,\n",
              "         1.29937768e-01, -6.04797602e-01,  3.55620474e-01, -2.52648294e-01,\n",
              "         7.85435438e-01,  5.29117823e-01,  1.86760858e-01, -2.23457236e-02,\n",
              "         2.55077958e-01, -4.49744910e-01,  7.21409082e-01,  1.94259569e-01,\n",
              "         4.02475260e-02,  1.16104573e-01, -3.55812907e-02, -5.07496417e-01,\n",
              "         5.85865796e-01, -1.28102407e-01,  3.09572816e-01, -1.24037266e-01,\n",
              "        -4.22182530e-01, -6.70485020e-01, -2.00648710e-01,  7.56658316e-02,\n",
              "         2.01451838e-01,  2.44919434e-01,  2.12204140e-02, -7.42568791e-01,\n",
              "         5.35462320e-01, -5.44325709e-01, -3.45337987e-01, -5.64514279e-01,\n",
              "         3.09271883e-04, -3.26109916e-01,  5.69702506e-01,  3.07563264e-02,\n",
              "         4.58854854e-01,  3.05672497e-01,  2.45448887e-01,  2.54160352e-02,\n",
              "        -2.05255866e-01,  7.24641085e-01, -1.32496387e-01,  5.24932563e-01,\n",
              "         4.44426239e-02, -5.53474486e-01, -8.61410975e-01,  7.95679763e-02,\n",
              "        -7.17877876e-03, -1.85762882e-01, -6.53985679e-01, -8.16913962e-01,\n",
              "        -1.75350204e-01,  5.16075827e-02,  7.44499207e-01,  6.26112521e-01,\n",
              "        -2.31143564e-01, -3.50744098e-01,  2.24241152e-01,  2.91740268e-01,\n",
              "         3.37608933e-01, -6.27805233e-01,  4.54377115e-01, -4.39340740e-01,\n",
              "         4.54265485e-03,  1.24439985e-01,  1.39812827e-01,  2.88036942e-01,\n",
              "         1.77896693e-01, -3.06201637e-01,  9.29656476e-02,  1.53788030e-01,\n",
              "         4.74721909e-01, -2.28793621e-01,  5.29135108e-01,  8.33593383e-02,\n",
              "         1.19688049e-01,  2.44965285e-01,  2.38343075e-01,  3.30403000e-01,\n",
              "        -1.68165147e-01, -4.50592395e-03, -6.90897286e-01,  2.02120781e-01,\n",
              "        -2.00909246e-02,  2.63516437e-02,  3.00687939e-01, -1.94583163e-01,\n",
              "        -1.49443656e-01,  5.56796789e-01,  6.81745410e-01,  4.11379859e-02,\n",
              "         1.96910482e-02, -2.26054098e-02, -2.90675670e-01,  9.79427695e-01],\n",
              "       dtype=float32)}"
            ]
          },
          "metadata": {
            "tags": []
          },
          "execution_count": 54
        }
      ]
    },
    {
      "cell_type": "code",
      "metadata": {
        "colab": {
          "base_uri": "https://localhost:8080/"
        },
        "id": "JDFIonTTgD6n",
        "outputId": "1c5c952e-75f7-441f-e272-5bf64fc91638"
      },
      "source": [
        "veclen = len(vectorized.values())\n",
        "veclen"
      ],
      "execution_count": null,
      "outputs": [
        {
          "output_type": "execute_result",
          "data": {
            "text/plain": [
              "18997"
            ]
          },
          "metadata": {
            "tags": []
          },
          "execution_count": 55
        }
      ]
    },
    {
      "cell_type": "code",
      "metadata": {
        "colab": {
          "base_uri": "https://localhost:8080/"
        },
        "id": "uILbXmr0gD9b",
        "outputId": "8c3ad482-df3d-4f3b-a339-8b04146db408"
      },
      "source": [
        "np.zeros(veclen)        # generating vector of 0s -  - this concept will be used for training model"
      ],
      "execution_count": null,
      "outputs": [
        {
          "output_type": "execute_result",
          "data": {
            "text/plain": [
              "array([0., 0., 0., ..., 0., 0., 0.])"
            ]
          },
          "metadata": {
            "tags": []
          },
          "execution_count": 56
        }
      ]
    },
    {
      "cell_type": "code",
      "metadata": {
        "colab": {
          "base_uri": "https://localhost:8080/"
        },
        "id": "frx1GADqgEAs",
        "outputId": "81afe5b4-64c9-4f41-9cd8-0dcc73420d47"
      },
      "source": [
        "len(np.zeros(veclen))"
      ],
      "execution_count": null,
      "outputs": [
        {
          "output_type": "execute_result",
          "data": {
            "text/plain": [
              "18997"
            ]
          },
          "metadata": {
            "tags": []
          },
          "execution_count": 57
        }
      ]
    },
    {
      "cell_type": "code",
      "metadata": {
        "id": "e1ij-qCyibyu"
      },
      "source": [
        "# transforming each of the rows in X_train\n",
        "# for each word in each row find the mean of its vectors, if the word is missing then fill 0s\n",
        "# as we took only vectors of 500 dimension, 0s wont be visible much\n",
        "\n",
        "X_train1 = [np.mean([vectorized[w] for w in words if w in vectorized] or [np.zeros(veclen, dtype=object)], axis=0) for words in X_train]"
      ],
      "execution_count": null,
      "outputs": []
    },
    {
      "cell_type": "code",
      "metadata": {
        "colab": {
          "base_uri": "https://localhost:8080/"
        },
        "id": "UxTFCVb8jh2v",
        "outputId": "e461d192-7930-4ace-bae1-c9cedae8f09f"
      },
      "source": [
        "X_train1[0:2]"
      ],
      "execution_count": null,
      "outputs": [
        {
          "output_type": "execute_result",
          "data": {
            "text/plain": [
              "[array([ 2.90502310e-02,  2.43937492e-01, -1.22020431e-01,  3.95096764e-02,\n",
              "        -2.11627811e-01, -8.81321654e-02, -4.15482521e-01, -1.33286342e-01,\n",
              "         3.19586843e-01, -2.71463931e-01,  7.88782686e-02, -6.39215633e-02,\n",
              "         2.65201256e-02,  1.82513490e-01,  1.88873723e-01,  1.83322921e-01,\n",
              "         7.01930225e-02,  1.10841185e-01, -1.73782587e-01,  2.80567169e-01,\n",
              "         3.29006016e-01,  1.07526086e-01,  1.34195119e-01,  1.05937794e-01,\n",
              "         1.42471254e-01,  1.13040939e-01, -7.30301216e-02, -1.62150756e-01,\n",
              "         3.12071177e-03,  3.65713462e-02,  3.74599069e-01,  9.38910022e-02,\n",
              "        -1.18822426e-01, -5.29368035e-02,  1.15344696e-01,  4.58975583e-02,\n",
              "        -1.88763902e-01,  3.71275544e-01,  1.48655893e-02, -7.38357306e-02,\n",
              "         2.30919421e-01, -2.03682925e-03, -2.67561704e-01, -1.31778851e-01,\n",
              "         2.44455621e-01, -1.33829638e-01,  3.06663644e-02, -1.51587099e-01,\n",
              "         2.86414683e-01, -1.97897300e-01,  4.52413589e-01,  3.95262241e-01,\n",
              "         1.41701117e-01,  4.11234088e-02,  1.05188778e-02, -1.69971049e-01,\n",
              "        -4.05058175e-01,  4.86733392e-02,  1.54962435e-01, -1.72686875e-01,\n",
              "         1.03880055e-01,  4.86266389e-02,  4.58414741e-02,  1.46736056e-01,\n",
              "        -1.62320629e-01, -4.12928462e-02, -1.38496205e-01,  2.50107627e-02,\n",
              "        -1.69735715e-01,  2.55661998e-02, -3.31073910e-01, -7.75070265e-02,\n",
              "         1.13895468e-01, -9.30224434e-02, -3.77821237e-01,  8.36417750e-02,\n",
              "         1.66892350e-01,  2.16929704e-01, -1.09816179e-01, -1.31252408e-01,\n",
              "        -2.10027054e-01, -2.83676367e-02, -2.00757936e-01, -6.49678782e-02,\n",
              "        -5.38249947e-02,  2.63974488e-01, -3.46197262e-02,  1.80792809e-01,\n",
              "         1.27719223e-01,  6.71754628e-02,  3.29852402e-01, -9.90540758e-02,\n",
              "        -6.74262345e-02,  1.64886992e-02,  1.15207709e-01, -2.79906422e-01,\n",
              "        -1.96621027e-02, -6.43498823e-02, -8.39544460e-02, -2.18066126e-01,\n",
              "        -1.66376591e-01,  9.32236090e-02,  8.33805576e-02, -7.06961155e-02,\n",
              "        -1.98552255e-02,  4.00861323e-01, -2.54064828e-01, -2.02514842e-01,\n",
              "        -6.67654946e-02,  4.42170873e-02,  3.10463846e-01, -1.09883986e-01,\n",
              "         7.93165565e-02, -1.72593072e-01,  1.61066025e-01, -1.69966757e-01,\n",
              "         2.42470071e-01,  8.07907730e-02,  2.57659495e-01,  1.86930507e-01,\n",
              "        -5.23954108e-02,  1.67979505e-02, -7.80834556e-02,  9.02793556e-02,\n",
              "         4.68090624e-01,  1.35148158e-02,  3.38350803e-01, -6.80580586e-02,\n",
              "         1.17162779e-01,  1.77003101e-01,  2.62941450e-01, -3.03507540e-02,\n",
              "        -1.20545156e-01, -2.47721091e-01,  8.27258974e-02,  8.67660567e-02,\n",
              "        -1.43965274e-01,  2.20341459e-01, -9.92053077e-02, -7.53792003e-02,\n",
              "         6.21233415e-03,  7.57195652e-02, -3.52268899e-03,  1.36582479e-01,\n",
              "        -6.73388839e-02,  1.17125593e-01, -2.94001102e-01, -1.99817553e-01,\n",
              "        -1.99610382e-01,  1.16035536e-01,  1.05045840e-01,  3.46534662e-02,\n",
              "         1.07059933e-01, -1.41789034e-01, -2.07051769e-01, -2.51089573e-01,\n",
              "        -4.74537760e-02,  8.37340631e-05, -4.10962731e-01, -1.40929427e-02,\n",
              "         1.63886979e-01,  2.78611630e-01,  1.56576276e-01,  3.98093089e-03,\n",
              "         3.43416512e-01,  1.29914895e-01, -3.31168249e-02,  3.85714732e-02,\n",
              "        -1.05486847e-01,  5.30077443e-02, -2.65428662e-01, -3.13430317e-02,\n",
              "         7.45742321e-02,  1.03562720e-01,  2.43703783e-01, -1.64432406e-01,\n",
              "        -1.03261419e-01, -1.36596456e-01, -2.54202873e-01,  1.24430925e-01,\n",
              "         1.15357749e-01,  3.29301879e-02,  8.06584954e-02,  2.34536678e-01,\n",
              "        -6.91494578e-03,  2.18991891e-01, -1.21079147e-01, -4.81212810e-02,\n",
              "        -1.01436883e-01,  9.29111615e-02,  9.67777967e-02, -4.12207156e-01,\n",
              "         5.61645329e-02,  2.53526509e-01, -2.20830422e-02, -2.70317495e-01,\n",
              "        -1.36802882e-01, -1.01778828e-01,  3.98646295e-02,  1.02742761e-01,\n",
              "        -1.07481442e-01,  9.37161818e-02, -1.36650681e-01, -1.24291375e-01,\n",
              "        -1.51049525e-01, -5.57045341e-02,  3.24011818e-02,  1.97622050e-02,\n",
              "         9.59588066e-02,  9.66474786e-02, -3.54791731e-01, -2.89871126e-01,\n",
              "         1.10764708e-02,  1.01835385e-01, -2.00626269e-01,  1.13748806e-03,\n",
              "        -1.16183162e-01,  3.51215601e-01, -1.35402694e-01, -4.92731482e-02,\n",
              "         7.77715370e-02, -2.52902657e-02,  2.46517435e-01, -1.14855789e-01,\n",
              "         2.43994705e-02,  1.85313284e-01, -3.01600575e-01, -1.80922262e-02,\n",
              "         1.18238106e-01,  1.69577301e-02, -1.56605747e-02, -4.54062462e-01,\n",
              "         1.61913440e-01, -1.15361236e-01, -6.59176782e-02,  3.43737528e-02,\n",
              "         9.22982246e-02,  1.12276934e-01, -7.18550831e-02,  1.08437598e-01,\n",
              "         1.18445205e-02, -8.60057548e-02,  1.25808284e-01, -5.26895225e-02,\n",
              "        -1.17203012e-01,  1.40272424e-01,  2.54346341e-01,  1.10885166e-01,\n",
              "        -4.02004011e-02, -1.06248334e-01, -7.13008344e-02,  1.81385264e-01,\n",
              "        -1.35270163e-01,  3.34357023e-02, -2.38173902e-01, -4.20369893e-01,\n",
              "         1.40273683e-02,  9.49130952e-02,  9.59555507e-02,  6.97295368e-02,\n",
              "         4.35127132e-02,  1.79196358e-01, -1.43974751e-01,  1.61604837e-01,\n",
              "         1.08532067e-02, -2.28135750e-01,  3.27325404e-01, -1.90825373e-01,\n",
              "        -1.20714165e-01, -1.03022695e-01, -1.51115686e-01, -8.39092657e-02,\n",
              "         9.40582231e-02, -1.71554238e-02, -8.99017379e-02,  2.59765815e-02,\n",
              "        -1.88517720e-01,  6.82273954e-02, -4.37197983e-02, -6.69017285e-02,\n",
              "         1.29364327e-01,  1.65021300e-01,  4.77053709e-02,  4.83080037e-02,\n",
              "        -1.12523973e-01, -3.09943799e-02,  4.17183973e-02, -2.46153474e-01,\n",
              "        -8.53499339e-04, -1.18470550e-01,  8.54883865e-02,  9.75880679e-03,\n",
              "         1.58107147e-01, -1.84274297e-02,  2.36767471e-01, -3.55356067e-01,\n",
              "        -1.08984247e-01, -2.80020665e-02,  2.28207678e-01,  2.19529077e-01,\n",
              "        -2.07357090e-02, -2.07481697e-01,  4.79037352e-02,  1.75432891e-01,\n",
              "         1.14054739e-01, -2.73891538e-02,  2.05102682e-01, -1.39507696e-01,\n",
              "         1.43804073e-01,  1.00312449e-01,  1.88772053e-01, -2.81605303e-01,\n",
              "         9.29610655e-02, -4.29232121e-01,  9.71094817e-02,  2.17967659e-01,\n",
              "        -3.87339946e-03,  2.03770638e-01, -1.55771673e-01, -2.55866438e-01,\n",
              "         2.17889845e-01, -1.85149938e-01,  2.76856899e-01, -1.13174804e-01,\n",
              "         2.46235053e-03,  4.52086739e-02, -2.38517284e-01, -9.04057324e-02,\n",
              "         3.98092605e-02, -5.24138100e-02, -7.23227784e-02, -6.88421726e-02,\n",
              "         2.98366547e-02, -1.67403549e-01, -1.87111706e-01,  1.52718291e-01,\n",
              "        -1.02847114e-01, -1.56002030e-01, -1.23292273e-02,  2.51136720e-04,\n",
              "         3.72064114e-02,  1.49278969e-01, -2.21634731e-02, -1.88814960e-02,\n",
              "        -2.11990736e-02, -2.61349022e-01,  4.53564059e-03, -3.29277784e-01,\n",
              "        -1.03261463e-01, -1.16687473e-02,  1.31225977e-02, -1.04942843e-01,\n",
              "        -1.55292794e-01,  1.88917041e-01,  3.26142490e-01,  1.07331917e-01,\n",
              "         7.80359134e-02, -8.20413381e-02, -1.76829502e-01, -1.87147424e-01,\n",
              "         1.65304288e-01, -3.84653896e-01, -1.76351052e-02, -1.46253794e-01,\n",
              "        -8.94866046e-03,  4.10555564e-02, -1.58457067e-02,  5.29668741e-02,\n",
              "        -3.34364222e-03,  1.67486489e-01, -6.33146556e-04,  4.45093513e-02,\n",
              "        -2.11704567e-01,  2.50888690e-02,  1.62873134e-01,  1.74336612e-01,\n",
              "         7.83954374e-03,  2.50604808e-01, -7.53682991e-03, -3.34654488e-02,\n",
              "         9.84870866e-02, -2.50095367e-01,  1.80576533e-01,  1.75231576e-01,\n",
              "        -6.35944232e-02,  3.30178559e-01,  5.49084432e-02,  1.31283151e-02,\n",
              "         2.44832754e-01,  1.06994053e-02, -3.04194450e-01, -2.31081933e-01,\n",
              "         3.18298638e-02,  4.19306070e-01,  1.44089796e-02, -5.92475049e-02,\n",
              "         1.55245200e-01, -2.74997413e-01,  2.89251566e-01, -3.46057229e-02,\n",
              "         2.43835114e-02,  2.62892097e-01,  1.39547005e-01,  1.42903656e-01,\n",
              "         1.25693426e-01, -1.20049722e-01,  1.18038073e-01,  3.67563814e-02,\n",
              "         9.26709399e-02,  8.02348331e-02,  1.20271742e-01, -1.41024496e-02,\n",
              "         6.60088062e-02, -3.05726472e-02,  1.62806094e-01, -8.62880498e-02,\n",
              "        -9.60591361e-02,  1.02704860e-01,  1.57346204e-02, -1.16660565e-01,\n",
              "         3.21384403e-03,  3.28237042e-02, -7.93400779e-02,  5.47749549e-02,\n",
              "         1.05985619e-01, -1.00076124e-01, -1.47438675e-01, -1.58593729e-01,\n",
              "        -2.96212379e-02,  2.45906800e-01, -2.32491898e-03, -1.53858393e-01,\n",
              "        -4.48620841e-02, -5.43992743e-02, -1.45373503e-02, -2.93495089e-01,\n",
              "         1.26457708e-02,  2.65761781e-02, -2.84933262e-02,  6.26738742e-02,\n",
              "        -8.10126811e-02,  4.01792862e-02, -8.29179212e-02,  3.04722935e-01,\n",
              "        -1.29600838e-01, -1.20904495e-03, -1.00778453e-01,  5.47934137e-02,\n",
              "        -1.34789973e-01, -2.96115786e-01, -1.71753347e-01,  1.47150323e-01,\n",
              "        -9.85144377e-02,  2.28182971e-02, -9.67610851e-02, -1.21901542e-01,\n",
              "         1.18910894e-01, -4.44965661e-02, -1.08775459e-01, -2.00495616e-01,\n",
              "        -8.23832527e-02, -2.26139948e-01,  1.66920889e-02,  1.48809746e-01,\n",
              "        -2.30021313e-01, -8.02594498e-02, -1.30757034e-01, -7.57690296e-02,\n",
              "         3.63489203e-02,  3.68972830e-02, -1.44580245e-01,  1.57193780e-01,\n",
              "         1.21570133e-01, -7.01134130e-02, -1.27463073e-01, -1.64132431e-01,\n",
              "         2.85399202e-02,  8.37290585e-02, -3.82990688e-02, -1.41844854e-01,\n",
              "         3.39468747e-01,  3.25636595e-01,  4.57415655e-02, -1.31881282e-01,\n",
              "        -8.65784883e-02, -1.21420220e-01, -1.92035854e-01,  2.10735261e-01,\n",
              "         2.52482116e-01,  1.25630051e-01,  2.31908679e-01,  1.38098225e-01,\n",
              "        -7.02152252e-02,  2.94877321e-01, -7.82383904e-02, -8.67433399e-02,\n",
              "         6.14570864e-02,  6.90724030e-02,  1.71297658e-02,  2.55088568e-01],\n",
              "       dtype=float32),\n",
              " array([-4.52471286e-04,  2.58994162e-01, -1.58771545e-01,  3.16163450e-02,\n",
              "        -1.99978814e-01, -1.66932940e-01, -3.67251188e-01, -1.96285605e-01,\n",
              "         2.92070359e-01, -2.92576820e-01,  1.55611545e-01, -8.63285661e-02,\n",
              "         4.09346186e-02,  1.80249885e-01,  2.46027693e-01,  1.88596740e-01,\n",
              "         3.39333527e-03,  1.30490601e-01, -8.66980180e-02,  2.94466585e-01,\n",
              "         2.83322304e-01,  1.50998726e-01,  1.08967327e-01,  1.01184390e-01,\n",
              "         4.90683839e-02,  1.05725192e-01, -4.48132791e-02, -1.57198161e-01,\n",
              "        -7.73971304e-02, -5.59376180e-02,  3.69737357e-01,  9.69144925e-02,\n",
              "        -1.64027944e-01, -4.71951589e-02,  4.26078178e-02,  3.56820710e-02,\n",
              "        -2.15501502e-01,  2.43435830e-01,  1.13379858e-01,  1.19067151e-02,\n",
              "         2.72807866e-01,  9.15621966e-03, -1.96889892e-01, -1.59501538e-01,\n",
              "         2.40448132e-01, -1.04136504e-01,  3.34143862e-02, -1.91517532e-01,\n",
              "         2.53808558e-01, -1.08179718e-01,  3.76948476e-01,  3.29512835e-01,\n",
              "         1.28413752e-01,  3.65028493e-02,  6.38466924e-02, -2.35423699e-01,\n",
              "        -4.19077426e-01,  9.60096270e-02,  8.24197754e-02, -1.95145220e-01,\n",
              "        -2.41468800e-03,  1.50456861e-01,  2.68768128e-02,  1.66473329e-01,\n",
              "        -1.38832048e-01, -6.83987588e-02, -1.52280182e-01,  1.44675830e-02,\n",
              "        -2.27410391e-01,  1.38192475e-01, -3.29872400e-01, -9.88846421e-02,\n",
              "         7.43314922e-02, -1.13526113e-01, -2.88067192e-01,  1.95807200e-02,\n",
              "         1.66417912e-01,  1.00166693e-01, -6.65370822e-02, -1.46444738e-01,\n",
              "        -1.79374546e-01,  1.77051388e-02, -2.32798189e-01, -9.80750099e-02,\n",
              "        -3.18410471e-02,  1.99717849e-01, -2.92507522e-02,  1.61682159e-01,\n",
              "         1.25033677e-01,  3.01065445e-02,  3.72430474e-01, -8.75727385e-02,\n",
              "        -8.83428194e-03,  6.19650073e-02,  1.74765289e-01, -2.93634057e-01,\n",
              "        -2.37350166e-02, -3.85073014e-02, -1.44623801e-01, -2.64594495e-01,\n",
              "        -2.54382879e-01,  8.34866315e-02,  9.13399160e-02, -1.18695416e-01,\n",
              "        -7.05544949e-02,  4.08743322e-01, -2.44223133e-01, -2.27147743e-01,\n",
              "        -2.26569548e-02,  8.90613347e-02,  3.21078271e-01, -9.77574736e-02,\n",
              "         6.72027692e-02, -8.32866207e-02,  1.94517210e-01, -2.08304524e-01,\n",
              "         1.59544826e-01,  9.47383419e-02,  2.45322943e-01,  2.33475104e-01,\n",
              "         2.51501463e-02,  3.60644348e-02, -7.39382580e-02,  5.10832109e-02,\n",
              "         4.59511101e-01,  2.21143961e-02,  3.75060827e-01, -2.84178071e-02,\n",
              "         1.66073188e-01,  1.78640902e-01,  2.58216172e-01, -6.41243458e-02,\n",
              "        -9.99322906e-02, -2.64017224e-01,  1.38398945e-01,  1.39872313e-01,\n",
              "        -1.75363049e-01,  2.41344005e-01, -6.84498996e-02, -5.13077043e-02,\n",
              "        -8.37635919e-02,  7.69840330e-02,  3.19792368e-02,  9.27890316e-02,\n",
              "        -1.03616357e-01,  1.16353743e-01, -2.81117499e-01, -1.84556395e-01,\n",
              "        -1.84949666e-01,  5.56212366e-02,  1.10818841e-01,  1.90517902e-02,\n",
              "         1.25649989e-01, -2.16228470e-01, -1.53617471e-01, -2.63207257e-01,\n",
              "        -1.09527618e-01,  1.09463491e-01, -3.11444908e-01,  1.90122686e-02,\n",
              "         1.05667636e-01,  2.60695040e-01,  1.81356207e-01,  2.46445667e-02,\n",
              "         3.49857271e-01,  1.33856684e-01, -8.39527547e-02,  2.48292889e-02,\n",
              "        -7.27736205e-02,  6.18189089e-02, -3.26897800e-01, -2.74845269e-02,\n",
              "         7.20135197e-02,  1.23910636e-01,  2.29246438e-01, -1.41036078e-01,\n",
              "        -9.05010775e-02, -6.32255375e-02, -2.41221279e-01,  1.57199338e-01,\n",
              "         1.09023690e-01,  1.02382347e-01,  1.04616001e-01,  1.70736253e-01,\n",
              "         5.90709038e-02,  1.71150059e-01, -6.14610054e-02, -5.29040247e-02,\n",
              "        -1.10156231e-01,  1.02984328e-02,  7.46442154e-02, -4.07479852e-01,\n",
              "         1.21849060e-01,  2.42821932e-01, -5.94517030e-02, -2.39953786e-01,\n",
              "        -1.33513629e-01, -1.03501476e-01,  7.74757862e-02,  5.35159148e-02,\n",
              "        -5.78886755e-02,  9.40571800e-02, -1.40381753e-01, -1.64807841e-01,\n",
              "        -1.28984436e-01, -1.69755608e-01,  1.27133476e-02, -1.00858917e-03,\n",
              "         9.52381045e-02,  1.26600742e-01, -3.02323163e-01, -3.23120594e-01,\n",
              "         5.41277155e-02, -4.72849607e-02, -1.75396979e-01,  3.97265665e-02,\n",
              "        -1.21534817e-01,  4.37649280e-01, -1.73766971e-01, -4.06033918e-02,\n",
              "         6.04307875e-02,  3.84755209e-02,  2.32062474e-01, -8.92787054e-02,\n",
              "        -1.99736059e-02,  1.19511724e-01, -2.86518663e-01, -9.99607295e-02,\n",
              "         1.20266341e-01,  7.74718449e-02, -3.39574069e-02, -4.06745106e-01,\n",
              "         1.66170299e-01, -1.01357915e-01, -5.67592308e-02, -1.51063921e-03,\n",
              "         1.46141415e-02,  1.31824896e-01, -1.57029256e-01,  1.37625813e-01,\n",
              "         4.70866822e-02, -9.45945159e-02,  1.24705493e-01,  7.35373469e-04,\n",
              "        -1.36568369e-02,  1.13841057e-01,  1.54748291e-01,  9.06915888e-02,\n",
              "        -2.80171027e-03, -7.68815503e-02, -5.65811880e-02,  1.06971689e-01,\n",
              "        -1.20261535e-01, -2.99376957e-02, -2.19798595e-01, -4.07953650e-01,\n",
              "         9.95974690e-02,  6.89593926e-02,  2.91643869e-02,  5.30609973e-02,\n",
              "         1.20536730e-01,  1.04265146e-01, -1.33514732e-01,  1.46244407e-01,\n",
              "         1.01164458e-02, -1.89635620e-01,  3.22982371e-01, -1.53470695e-01,\n",
              "        -1.36498600e-01, -7.65526891e-02, -1.17338374e-01, -7.93274492e-02,\n",
              "         8.41252804e-02, -1.72096677e-02, -8.67814496e-02,  7.11331889e-02,\n",
              "        -1.78148836e-01,  1.20441124e-01, -5.96375391e-02, -4.79157940e-02,\n",
              "         1.88679080e-02,  1.38396531e-01, -1.52550600e-02,  9.02388804e-03,\n",
              "        -1.09242089e-01,  3.44618112e-02,  4.19796864e-03, -1.38692468e-01,\n",
              "        -2.15215869e-02, -1.36980712e-01,  1.46800339e-01,  3.27070802e-02,\n",
              "         2.08048701e-01,  1.22184576e-02,  2.28813931e-01, -3.90927672e-01,\n",
              "        -1.15860187e-01, -6.70641437e-02,  2.60378957e-01,  2.26537749e-01,\n",
              "        -1.73460785e-02, -1.48967251e-01,  1.76874660e-02,  1.49326146e-01,\n",
              "         9.77325886e-02, -1.00424007e-01,  2.39710405e-01, -4.56774682e-02,\n",
              "         1.30004302e-01,  3.42510045e-02,  2.14861885e-01, -2.77359843e-01,\n",
              "         9.44454670e-02, -3.32159579e-01,  6.99832514e-02,  2.18678415e-01,\n",
              "        -1.04315147e-01,  1.65945411e-01, -1.14218943e-01, -1.92802042e-01,\n",
              "         2.58210868e-01, -1.34680614e-01,  3.37397188e-01, -1.32955879e-01,\n",
              "        -2.85959039e-02,  3.19120102e-02, -2.12244496e-01, -1.03906065e-01,\n",
              "         1.25149433e-02, -1.30065635e-01, -3.03459577e-02, -9.80865732e-02,\n",
              "         1.05179340e-01, -2.21624345e-01, -2.11618364e-01,  1.13469213e-01,\n",
              "        -6.81651235e-02, -1.81749120e-01, -5.11587709e-02,  5.44446483e-02,\n",
              "        -4.77017090e-03,  1.66405007e-01, -6.42232522e-02, -4.25188895e-03,\n",
              "        -3.10901366e-02, -2.35072941e-01,  1.00422492e-02, -3.32858324e-01,\n",
              "        -9.45722982e-02,  4.94103134e-02, -4.51854579e-02, -6.62888736e-02,\n",
              "        -1.60750687e-01,  1.61948517e-01,  3.16117108e-01,  7.22700432e-02,\n",
              "         7.08029419e-02, -8.31428990e-02, -1.51035085e-01, -1.42998785e-01,\n",
              "         1.07512318e-01, -3.40592086e-01, -2.62245443e-02, -6.96799830e-02,\n",
              "         2.54276469e-02,  7.93552250e-02, -3.95737914e-03,  2.85945758e-02,\n",
              "        -7.59500414e-02,  1.33361146e-01,  3.12546045e-02,  2.73109581e-02,\n",
              "        -1.97560683e-01,  1.08721912e-01,  1.39477119e-01,  8.53434652e-02,\n",
              "         7.08401874e-02,  2.14253113e-01, -3.51544693e-02, -8.98039639e-02,\n",
              "         1.51667744e-01, -2.17680156e-01,  6.89426064e-02,  1.84795767e-01,\n",
              "        -9.15525407e-02,  3.08176428e-01,  3.11488528e-02, -4.61677648e-02,\n",
              "         2.57100582e-01,  2.51208749e-02, -2.75779605e-01, -1.86397567e-01,\n",
              "         2.97390893e-02,  3.87834162e-01, -2.61405692e-03, -1.02783933e-01,\n",
              "         2.15748131e-01, -1.53464884e-01,  2.27681383e-01, -7.69283921e-02,\n",
              "        -3.36526107e-04,  3.18274736e-01,  1.64358109e-01,  7.87321106e-02,\n",
              "         9.36583579e-02, -8.84714797e-02,  1.08127154e-01,  7.47182146e-02,\n",
              "         2.02165529e-01,  8.30900595e-02,  1.00373290e-01, -3.90367433e-02,\n",
              "         7.31211305e-02, -1.41061088e-02,  1.54951513e-01, -3.91746089e-02,\n",
              "        -5.86302206e-02,  2.04219744e-01, -5.05656973e-02, -1.85628414e-01,\n",
              "        -5.28302789e-02,  1.90720183e-03, -1.13891602e-01,  4.74328697e-02,\n",
              "         1.14545926e-01, -1.30883947e-01, -1.70566261e-01, -2.02759236e-01,\n",
              "        -5.60300648e-02,  3.26572001e-01, -4.51747924e-02, -1.80128500e-01,\n",
              "        -4.90782112e-02, -2.05014125e-02, -5.56205474e-02, -3.69874924e-01,\n",
              "        -3.40174511e-02,  9.72458944e-02,  2.40482055e-02,  4.15328071e-02,\n",
              "        -5.04374206e-02,  1.06217943e-01, -8.74024257e-02,  3.69751185e-01,\n",
              "        -1.95744440e-01,  2.33570039e-02, -9.88311991e-02,  8.14420208e-02,\n",
              "        -1.57958001e-01, -3.28224361e-01, -1.57067776e-01,  1.37915254e-01,\n",
              "        -1.09302908e-01,  1.24306969e-01, -7.93980807e-02, -1.87938780e-01,\n",
              "         1.59615487e-01, -9.15304795e-02, -5.63587472e-02, -2.18780383e-01,\n",
              "        -9.69006494e-02, -2.33704880e-01,  1.00005358e-01,  1.47724614e-01,\n",
              "        -2.28233993e-01, -1.20693408e-01, -1.52915791e-01, -8.31990540e-02,\n",
              "         1.86496116e-02,  6.51676999e-03, -7.28091225e-02,  1.24311134e-01,\n",
              "         1.43197104e-01, -3.51601578e-02, -7.32267052e-02, -2.19816849e-01,\n",
              "         6.89477324e-02,  7.02141970e-02,  4.98516159e-03, -1.62382826e-01,\n",
              "         3.64730060e-01,  3.24889183e-01,  3.20270215e-03, -5.20808846e-02,\n",
              "        -1.38850585e-01, -1.05670325e-01, -2.40847394e-01,  1.87796205e-01,\n",
              "         2.32065395e-01,  1.82609603e-01,  1.88467786e-01,  1.51265532e-01,\n",
              "        -7.07818270e-02,  2.42532119e-01, -6.47004172e-02, -1.11115552e-01,\n",
              "         1.12843938e-01,  9.53574926e-02, -2.03753333e-03,  2.41203234e-01],\n",
              "       dtype=float32)]"
            ]
          },
          "metadata": {
            "tags": []
          },
          "execution_count": 80
        }
      ]
    },
    {
      "cell_type": "code",
      "metadata": {
        "id": "kcBu6BlPjirg"
      },
      "source": [
        "X_train1 = np.array(X_train1)"
      ],
      "execution_count": null,
      "outputs": []
    },
    {
      "cell_type": "code",
      "metadata": {
        "colab": {
          "base_uri": "https://localhost:8080/"
        },
        "id": "A6W7tC-EjosN",
        "outputId": "eb7d1394-17f0-4d58-93f4-0c650f4394c0"
      },
      "source": [
        "X_train1"
      ],
      "execution_count": null,
      "outputs": [
        {
          "output_type": "execute_result",
          "data": {
            "text/plain": [
              "array([[ 0.02905023,  0.24393749, -0.12202043, ...,  0.0690724 ,\n",
              "         0.01712977,  0.25508857],\n",
              "       [-0.00045247,  0.25899416, -0.15877154, ...,  0.09535749,\n",
              "        -0.00203753,  0.24120323],\n",
              "       [ 0.05558576,  0.23715794, -0.13275072, ...,  0.0588485 ,\n",
              "         0.02825334,  0.22477861],\n",
              "       ...,\n",
              "       [ 0.00206455,  0.1839243 , -0.13404533, ...,  0.0802913 ,\n",
              "        -0.01496911,  0.22712563],\n",
              "       [ 0.04114329,  0.26624057, -0.11729035, ...,  0.06257403,\n",
              "         0.02525073,  0.22398902],\n",
              "       [ 0.0051788 ,  0.3459836 , -0.12293278, ...,  0.0697543 ,\n",
              "         0.01562149,  0.27420023]], dtype=float32)"
            ]
          },
          "metadata": {
            "tags": []
          },
          "execution_count": 82
        }
      ]
    },
    {
      "cell_type": "code",
      "metadata": {
        "colab": {
          "base_uri": "https://localhost:8080/"
        },
        "id": "1cnhB5ock4-b",
        "outputId": "a12cd5d4-9dd5-4e5a-8bf1-9b3564f40511"
      },
      "source": [
        "len(X_train1)"
      ],
      "execution_count": null,
      "outputs": [
        {
          "output_type": "execute_result",
          "data": {
            "text/plain": [
              "1557"
            ]
          },
          "metadata": {
            "tags": []
          },
          "execution_count": 83
        }
      ]
    },
    {
      "cell_type": "code",
      "metadata": {
        "colab": {
          "base_uri": "https://localhost:8080/"
        },
        "id": "4qNoH6u_k-B7",
        "outputId": "9c44cce5-ceb9-4084-8602-ed028b8c736f"
      },
      "source": [
        "len(X_train1[0])"
      ],
      "execution_count": null,
      "outputs": [
        {
          "output_type": "execute_result",
          "data": {
            "text/plain": [
              "500"
            ]
          },
          "metadata": {
            "tags": []
          },
          "execution_count": 84
        }
      ]
    },
    {
      "cell_type": "code",
      "metadata": {
        "id": "RvYWmjNunvvS"
      },
      "source": [
        "# do same operation for test set as done with train set\n",
        "\n",
        "X_test1 = [np.mean([vectorized[w] for w in words if w in vectorized] or [np.zeros(veclen, dtype=object)], axis=0) for words in X_test]"
      ],
      "execution_count": null,
      "outputs": []
    },
    {
      "cell_type": "code",
      "metadata": {
        "id": "uxg2BB8d9Cy9"
      },
      "source": [
        "X_test1 = np.array(X_test1)"
      ],
      "execution_count": null,
      "outputs": []
    },
    {
      "cell_type": "code",
      "metadata": {
        "colab": {
          "base_uri": "https://localhost:8080/"
        },
        "id": "3X687ijHn0SV",
        "outputId": "c992eda0-40bf-4b45-d009-0a0c13826fbf"
      },
      "source": [
        "len(X_test1)"
      ],
      "execution_count": null,
      "outputs": [
        {
          "output_type": "execute_result",
          "data": {
            "text/plain": [
              "668"
            ]
          },
          "metadata": {
            "tags": []
          },
          "execution_count": 87
        }
      ]
    },
    {
      "cell_type": "code",
      "metadata": {
        "colab": {
          "base_uri": "https://localhost:8080/"
        },
        "id": "a1ImYRNYjw3G",
        "outputId": "f773b646-9da4-4b96-bf62-d661a8d1e835"
      },
      "source": [
        "classifier = LogisticRegression()\n",
        "classifier.fit(X_train1, y_train)"
      ],
      "execution_count": null,
      "outputs": [
        {
          "output_type": "execute_result",
          "data": {
            "text/plain": [
              "LogisticRegression(C=1.0, class_weight=None, dual=False, fit_intercept=True,\n",
              "                   intercept_scaling=1, l1_ratio=None, max_iter=100,\n",
              "                   multi_class='auto', n_jobs=None, penalty='l2',\n",
              "                   random_state=None, solver='lbfgs', tol=0.0001, verbose=0,\n",
              "                   warm_start=False)"
            ]
          },
          "metadata": {
            "tags": []
          },
          "execution_count": 89
        }
      ]
    },
    {
      "cell_type": "code",
      "metadata": {
        "id": "ZzkvQeS9k5v7"
      },
      "source": [
        "y_pred = classifier.predict(X_test1)"
      ],
      "execution_count": null,
      "outputs": []
    },
    {
      "cell_type": "code",
      "metadata": {
        "colab": {
          "base_uri": "https://localhost:8080/"
        },
        "id": "lq6p-UX8n_t5",
        "outputId": "e5ed4135-8abd-4644-f44a-f7db0610acc9"
      },
      "source": [
        "y_test"
      ],
      "execution_count": null,
      "outputs": [
        {
          "output_type": "execute_result",
          "data": {
            "text/plain": [
              "845     3\n",
              "887     2\n",
              "1621    3\n",
              "1912    1\n",
              "1672    0\n",
              "       ..\n",
              "997     1\n",
              "572     0\n",
              "1487    0\n",
              "948     1\n",
              "370     0\n",
              "Name: Target, Length: 668, dtype: int64"
            ]
          },
          "metadata": {
            "tags": []
          },
          "execution_count": 91
        }
      ]
    },
    {
      "cell_type": "code",
      "metadata": {
        "colab": {
          "base_uri": "https://localhost:8080/"
        },
        "id": "eTDR18Wnn_w1",
        "outputId": "a9c8f878-ec3d-4d7c-adf7-9ea698c18c08"
      },
      "source": [
        "y_pred"
      ],
      "execution_count": null,
      "outputs": [
        {
          "output_type": "execute_result",
          "data": {
            "text/plain": [
              "array([3, 0, 3, 1, 0, 4, 0, 0, 1, 0, 3, 1, 2, 0, 1, 3, 2, 0, 1, 4, 1, 4,\n",
              "       1, 0, 0, 0, 0, 2, 3, 2, 1, 2, 4, 0, 3, 2, 4, 0, 4, 4, 3, 4, 3, 3,\n",
              "       4, 1, 4, 0, 4, 0, 3, 0, 3, 3, 1, 3, 0, 4, 0, 2, 0, 1, 4, 2, 0, 0,\n",
              "       3, 0, 2, 3, 0, 0, 0, 1, 0, 4, 3, 3, 1, 0, 2, 1, 0, 0, 4, 2, 3, 2,\n",
              "       3, 4, 3, 3, 0, 1, 3, 4, 2, 3, 0, 1, 3, 4, 4, 0, 2, 3, 4, 1, 2, 3,\n",
              "       1, 1, 2, 2, 4, 2, 2, 2, 2, 3, 1, 2, 0, 4, 3, 0, 1, 2, 2, 2, 4, 3,\n",
              "       3, 4, 2, 2, 2, 0, 4, 4, 0, 2, 0, 1, 4, 4, 3, 2, 3, 1, 0, 0, 0, 3,\n",
              "       4, 4, 0, 3, 3, 0, 0, 1, 2, 3, 4, 0, 4, 1, 0, 0, 3, 1, 1, 3, 3, 2,\n",
              "       2, 3, 4, 0, 3, 3, 2, 2, 1, 3, 2, 4, 4, 3, 1, 0, 3, 2, 4, 0, 1, 0,\n",
              "       3, 2, 0, 4, 0, 4, 0, 2, 4, 0, 1, 4, 2, 3, 2, 3, 1, 1, 2, 3, 4, 4,\n",
              "       3, 1, 2, 4, 4, 2, 3, 0, 4, 3, 3, 1, 1, 3, 2, 4, 2, 0, 3, 3, 0, 3,\n",
              "       0, 1, 4, 3, 3, 0, 0, 4, 0, 3, 2, 1, 0, 2, 2, 4, 2, 0, 3, 1, 4, 1,\n",
              "       0, 1, 4, 4, 4, 3, 4, 4, 0, 1, 4, 3, 1, 1, 0, 0, 0, 1, 0, 4, 2, 0,\n",
              "       4, 0, 4, 1, 0, 4, 1, 4, 4, 0, 2, 1, 4, 1, 2, 3, 0, 1, 2, 0, 1, 0,\n",
              "       0, 3, 0, 0, 3, 2, 0, 2, 3, 2, 0, 3, 0, 0, 1, 4, 2, 3, 2, 1, 2, 4,\n",
              "       4, 2, 3, 0, 3, 1, 1, 3, 3, 4, 0, 3, 3, 2, 2, 1, 0, 0, 3, 4, 3, 3,\n",
              "       1, 4, 0, 1, 0, 2, 2, 3, 2, 2, 2, 3, 3, 3, 4, 1, 0, 2, 0, 0, 4, 3,\n",
              "       3, 1, 0, 0, 3, 3, 1, 1, 0, 0, 4, 1, 4, 0, 1, 4, 4, 4, 3, 3, 2, 3,\n",
              "       1, 0, 2, 1, 2, 1, 2, 0, 0, 2, 3, 0, 2, 4, 3, 2, 3, 1, 0, 2, 3, 2,\n",
              "       1, 1, 0, 4, 4, 0, 1, 2, 4, 2, 3, 4, 1, 0, 0, 3, 0, 1, 4, 1, 1, 4,\n",
              "       3, 0, 1, 1, 0, 1, 2, 0, 0, 4, 4, 0, 2, 3, 4, 2, 3, 2, 4, 0, 4, 1,\n",
              "       0, 0, 0, 1, 4, 3, 2, 2, 4, 1, 1, 0, 3, 0, 2, 4, 0, 1, 1, 3, 2, 3,\n",
              "       0, 0, 4, 3, 3, 3, 1, 3, 2, 3, 0, 3, 1, 2, 3, 2, 1, 0, 0, 1, 3, 3,\n",
              "       0, 2, 3, 3, 4, 3, 3, 4, 3, 4, 3, 1, 3, 4, 4, 4, 0, 3, 3, 3, 0, 2,\n",
              "       1, 3, 4, 2, 1, 0, 2, 2, 3, 4, 0, 3, 1, 2, 2, 1, 3, 3, 0, 0, 0, 3,\n",
              "       0, 3, 2, 1, 3, 3, 3, 4, 3, 0, 3, 1, 2, 0, 1, 2, 3, 3, 3, 3, 3, 0,\n",
              "       1, 1, 2, 3, 0, 2, 4, 1, 4, 3, 1, 0, 0, 4, 4, 2, 0, 3, 0, 3, 2, 1,\n",
              "       0, 1, 1, 1, 0, 3, 3, 0, 1, 3, 2, 2, 3, 3, 3, 2, 4, 0, 2, 3, 2, 3,\n",
              "       2, 1, 1, 4, 4, 4, 4, 2, 3, 4, 4, 4, 0, 1, 3, 0, 2, 1, 2, 2, 3, 4,\n",
              "       3, 3, 0, 1, 2, 2, 1, 4, 3, 4, 4, 0, 4, 2, 3, 2, 0, 4, 1, 1, 3, 4,\n",
              "       3, 2, 0, 4, 0, 0, 1, 0])"
            ]
          },
          "metadata": {
            "tags": []
          },
          "execution_count": 92
        }
      ]
    },
    {
      "cell_type": "code",
      "metadata": {
        "colab": {
          "base_uri": "https://localhost:8080/"
        },
        "id": "lhCFNxAcoAPJ",
        "outputId": "fc2588ed-cdf7-481e-d559-00e00cca32a5"
      },
      "source": [
        "cm = confusion_matrix(y_test, y_pred)\n",
        "print(cm)"
      ],
      "execution_count": null,
      "outputs": [
        {
          "output_type": "stream",
          "text": [
            "[[141   1   6   0   5]\n",
            " [  2 103   2   3   6]\n",
            " [  9   3 110   2   1]\n",
            " [  0   2   0 152   0]\n",
            " [  2   5   2   2 109]]\n"
          ],
          "name": "stdout"
        }
      ]
    },
    {
      "cell_type": "code",
      "metadata": {
        "colab": {
          "base_uri": "https://localhost:8080/"
        },
        "id": "F585mPu0oAPM",
        "outputId": "d5ee7f80-4c4a-4a56-e880-c63a9aee3464"
      },
      "source": [
        "print('Accuracy: ', round(accuracy_score(y_test, y_pred)*100,2),'%')"
      ],
      "execution_count": null,
      "outputs": [
        {
          "output_type": "stream",
          "text": [
            "Accuracy:  92.07 %\n"
          ],
          "name": "stdout"
        }
      ]
    },
    {
      "cell_type": "markdown",
      "metadata": {
        "id": "z2vrWIPID6Pf"
      },
      "source": [
        "Using LSA concept, we got accuracy 83.98%. Using Word2Vec concept, we got accuracy 92.07%. In both the models, we used Logistic Regression as classifier."
      ]
    }
  ]
}