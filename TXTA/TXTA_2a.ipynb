{
  "nbformat": 4,
  "nbformat_minor": 0,
  "metadata": {
    "colab": {
      "name": "TXTA 2.ipynb",
      "provenance": []
    },
    "kernelspec": {
      "name": "python3",
      "display_name": "Python 3"
    },
    "language_info": {
      "name": "python"
    }
  },
  "cells": [
    {
      "cell_type": "code",
      "metadata": {
        "id": "7s-w_iqaNCfR"
      },
      "source": [
        "import pandas as pd\n",
        "import numpy as np\n",
        "import matplotlib.pyplot as plt\n",
        "import seaborn as sns\n",
        "plt.style.use('fivethirtyeight')\n",
        "from bs4 import BeautifulSoup\n",
        "from time import sleep\n",
        "from random import randint\n",
        "import requests\n",
        "\n",
        "import warnings\n",
        "warnings.filterwarnings('ignore')"
      ],
      "execution_count": null,
      "outputs": []
    },
    {
      "cell_type": "code",
      "metadata": {
        "id": "o2VKkjoqTyEg"
      },
      "source": [
        "# get the HTML\n",
        "\n",
        "url = \"https://www.99acres.com/property-in-kolkata-ffid-page-1\"\n",
        "r = requests.get(url)\n",
        "htmlContent = r.content"
      ],
      "execution_count": null,
      "outputs": []
    },
    {
      "cell_type": "code",
      "metadata": {
        "id": "9CWNkH6RUSn0"
      },
      "source": [
        "# parse the HTML\n",
        "\n",
        "soup = BeautifulSoup(htmlContent, 'html.parser')"
      ],
      "execution_count": null,
      "outputs": []
    },
    {
      "cell_type": "code",
      "metadata": {
        "colab": {
          "base_uri": "https://localhost:8080/",
          "height": 36
        },
        "id": "6M4bMd_1UTgb",
        "outputId": "258b2560-7574-4875-8001-35951cb1a7c9"
      },
      "source": [
        "soup.title.text"
      ],
      "execution_count": null,
      "outputs": [
        {
          "output_type": "execute_result",
          "data": {
            "application/vnd.google.colaboratory.intrinsic+json": {
              "type": "string"
            },
            "text/plain": [
              "'Property in Kolkata - Real Estate / Property for sale in Kolkata'"
            ]
          },
          "metadata": {
            "tags": []
          },
          "execution_count": 4
        }
      ]
    },
    {
      "cell_type": "markdown",
      "metadata": {
        "id": "sixBodIVUcow"
      },
      "source": [
        "## Accessing only 1 page"
      ]
    },
    {
      "cell_type": "code",
      "metadata": {
        "colab": {
          "base_uri": "https://localhost:8080/"
        },
        "id": "HDDd772JWbBR",
        "outputId": "51463c3c-ffe2-4f70-caf6-f1cdc298cb80"
      },
      "source": [
        "containers = soup.find_all(name='div', attrs={'class':'pageComponent srpTuple__srpTupleBox srp'})\n",
        "containers[0]"
      ],
      "execution_count": null,
      "outputs": [
        {
          "output_type": "execute_result",
          "data": {
            "text/plain": [
              "<div class=\"pageComponent srpTuple__srpTupleBox srp\" data-custominfo='{\"payload\":{\"search_results\":{\"selected_entity_tuples\":[{\"id\":\"56008360\",\"rank\":1}]}}}' data-label=\"FSL\" data-rank=\"1_1\" id=\"G56008360\"><div class=\"srpTuple__tupleDetails srpTuple__fsl\"><div class=\"pageComponent srpTuple__thumb \" data-label=\"PHOTO\"><div class=\"srpTuple__photonImgSec\"><picture><source alt=\"SGIL Residenzza Others\" height=\"100%\" srcset=\"https://static.99acres.com/universalapp/img/noImage.png\" style=\"background-image:url(https://static.99acres.com/universalapp/img/noImage.png)\" title=\"99acres\" type=\"image/png\" width=\"100%\"/><img alt=\"SGIL Residenzza Others\" height=\"100%\" src=\"https://static.99acres.com/universalapp/img/noImage.png\" style=\"background-image:url(https://static.99acres.com/universalapp/img/noImage.png)\" title=\"99acres\" width=\"100%\"/></picture><div class=\"srpTuple__srpTupleImgCnt\"><i class=\"iconS_Common_16 icon_squrebar\"></i><span class=\"badges_regular_primary_white\">1</span></div></div><div class=\"srpTuple__srpTupleTags\" style=\"z-index:0\"></div></div><div><table class=\"srpTuple__tupleTable\"><tr><td colspan=\"3\"><a class=\"body_med srpTuple__propertyName\" href=\"/3-bhk-bedroom-residential-apartments-for-sale-in-sgil-residenzza-airport-north-kolkata-1152-sq-ft-to1627-sq-ft-npspid-G56008360\" id=\"srp_tuple_property_title\" target=\"blank\"><h2>3 BHK Residential Apartment in Airport</h2></a></td></tr><tr><td class=\"list_header_bold srpTuple__spacer10\" colspan=\"3\" id=\"srp_tuple_society_heading\"><a href=\"/sgil-residenzza-airport-kolkata-north-npxid-r30976\" target=\"blank\">SGIL Residenzza</a></td></tr><tr><td class=\"srpTuple__midGrid title_semiBold srpTuple__spacer16 \" id=\"srp_tuple_price\">₹ 48.38  - 68.33 <span class=\"caption_strong_medium\" id=\"srp_tuple_price_unit\">Lac</span><div class=\"caption_subdued_small\" id=\"srp_tuple_price_per_unit_area\">₹ 4,200/sq.ft.</div></td><td class=\"srpTuple__midGrid title_semiBold srpTuple__spacer16 \" id=\"srp_tuple_primary_area\">1,152-1,627<span class=\"caption_strong_medium\" id=\"srp_tuple_primary_area_unit\"> <!-- -->sq.ft.<!-- --> <em></em></span><div class=\"caption_subdued_small\" id=\"srp_tuple_secondary_area\">(107-151 sq.m.) Super built-up Area</div></td><td class=\"srpTuple__midGrid title_semiBold srpTuple__spacer16\" id=\"srp_tuple_bedroom\">3 BHK<div class=\"caption_subdued_small\" id=\"srp_tuple_bathroom\">2 Baths</div></td></tr><tr><td class=\"srpTuple__expandDesc srpTuple__spacer10 srpTuple__moreAndLess\" colspan=\"3\"><div class=\"body_med\" id=\"srp_tuple_description\"><p>Make SGIL Residenzza your next home. This project offers 3 BHK flats in Airport, Kolkata North. With a super built-up area ranging from 1152.0 sq. ft. to 1627.0 sq. ft., these flats combine the finest design and amenities in Kolkata North to provide a living experience unlike any other. It is a ready to move project and is unique in its perfect harmony of classic form and modern construction. T...</p></div><span class=\"hyperlinks_medium\"> less</span></td></tr><tr><td class=\"srpTuple__tupleBadges\" colspan=\"3\" style=\"white-space:normal\"><div class=\"undefined badges__featuredTag\" id=\"srp_tuple_featured_tags_0\" variant=\"featuredTag\"><div class=\"null\">FEATURED</div></div><div class=\"undefined badges__secondaryLargeSubtle\" id=\"srp_tuple_secondary_tags_0\" variant=\"secondaryLargeSubtle\"><div class=\"null\">READY TO MOVE</div></div><div class=\"undefined badges__secondaryLargeSubtle\" id=\"srp_tuple_secondary_tags_1\" variant=\"secondaryLargeSubtle\"><div class=\"null\">NEW BOOKING</div></div></td></tr></table><div class=\"srpTuple__srpTupleIcons\"><i class=\"iconS_srp_20 icon_blockIcn pageComponent\" data-label=\"RI_LAYER1.DONTTALK\"><div class=\" toolTip__toolTip undefined pageComponent \" text=\"Share Feedback\">Share Feedback</div></i><i class=\"iconS_srp_20 icon_hideIcn pageComponent\" data-label=\"NEGATE_ELLIPSIS\"><div class=\" toolTip__toolTip undefined pageComponent \" text=\"Hide\">Hide</div></i><i class=\"pageComponent iconS_srp_20 icon_shortlist\" data-label=\"SHORTLIST\"><div class=\" toolTip__toolTip undefined pageComponent \" text=\"Shortlist\">Shortlist</div></i></div></div></div><div><div class=\"srpTuple__srpDealerInfoWrap\"><div class=\"srpTuple__srpDealerInfo\"><div class=\"caption_strong_small\"><span>Posted on 19th Apr, 2021 by </span>Builder</div><div class=\"list_header_semiBold\"><div>SGIL Group</div></div></div></div><div><div class=\"trackGAClick srpTuple__tupleBtn\" data-galabel=\"SRP_VIEW_PHONE\"><a><button class=\"pageComponent buttons__tertiary buttons__semi pageComponent\" data-custominfo='{\"payload\":{\"search_results\":{\"selected_entity_tuples\":[{\"id\":\"56008360\",\"rank\":1}]}}}' data-label=\"PHONE\" font-style=\"semi\" type=\"submit\" variant=\"tertiary\"><span>View Phone Number</span></button></a></div><div class=\"trackGAClick srpTuple__tupleBtn\" data-galabel=\"SRP_CONTACT\"><a><button class=\"pageComponent buttons__primaryRegular buttons__semi pageComponent\" data-custominfo='{\"payload\":{\"search_results\":{\"selected_entity_tuples\":[{\"id\":\"56008360\",\"rank\":1}]}}}' data-label=\"CONTACT\" font-style=\"semi\" type=\"submit\" variant=\"primaryRegular\"><span>Contact <!-- -->Builder</span></button></a></div></div></div></div>"
            ]
          },
          "metadata": {
            "tags": []
          },
          "execution_count": 9
        }
      ]
    },
    {
      "cell_type": "code",
      "metadata": {
        "id": "7ZQ7Z3C3UTmX"
      },
      "source": [
        "first = containers[0]"
      ],
      "execution_count": null,
      "outputs": []
    },
    {
      "cell_type": "code",
      "metadata": {
        "colab": {
          "base_uri": "https://localhost:8080/",
          "height": 107
        },
        "id": "ORv2HziiYAPV",
        "outputId": "bf5faadc-185f-488a-9362-e9680119c338"
      },
      "source": [
        "first.prettify()"
      ],
      "execution_count": null,
      "outputs": [
        {
          "output_type": "execute_result",
          "data": {
            "application/vnd.google.colaboratory.intrinsic+json": {
              "type": "string"
            },
            "text/plain": [
              "'<div class=\"pageComponent srpTuple__srpTupleBox srp\" data-custominfo=\\'{\"payload\":{\"search_results\":{\"selected_entity_tuples\":[{\"id\":\"56008360\",\"rank\":1}]}}}\\' data-label=\"FSL\" data-rank=\"1_1\" id=\"G56008360\">\\n <div class=\"srpTuple__tupleDetails srpTuple__fsl\">\\n  <div class=\"pageComponent srpTuple__thumb \" data-label=\"PHOTO\">\\n   <div class=\"srpTuple__photonImgSec\">\\n    <picture>\\n     <source alt=\"SGIL Residenzza Others\" height=\"100%\" srcset=\"https://static.99acres.com/universalapp/img/noImage.png\" style=\"background-image:url(https://static.99acres.com/universalapp/img/noImage.png)\" title=\"99acres\" type=\"image/png\" width=\"100%\"/>\\n     <img alt=\"SGIL Residenzza Others\" height=\"100%\" src=\"https://static.99acres.com/universalapp/img/noImage.png\" style=\"background-image:url(https://static.99acres.com/universalapp/img/noImage.png)\" title=\"99acres\" width=\"100%\"/>\\n    </picture>\\n    <div class=\"srpTuple__srpTupleImgCnt\">\\n     <i class=\"iconS_Common_16 icon_squrebar\">\\n     </i>\\n     <span class=\"badges_regular_primary_white\">\\n      1\\n     </span>\\n    </div>\\n   </div>\\n   <div class=\"srpTuple__srpTupleTags\" style=\"z-index:0\">\\n   </div>\\n  </div>\\n  <div>\\n   <table class=\"srpTuple__tupleTable\">\\n    <tr>\\n     <td colspan=\"3\">\\n      <a class=\"body_med srpTuple__propertyName\" href=\"/3-bhk-bedroom-residential-apartments-for-sale-in-sgil-residenzza-airport-north-kolkata-1152-sq-ft-to1627-sq-ft-npspid-G56008360\" id=\"srp_tuple_property_title\" target=\"blank\">\\n       <h2>\\n        3 BHK Residential Apartment in Airport\\n       </h2>\\n      </a>\\n     </td>\\n    </tr>\\n    <tr>\\n     <td class=\"list_header_bold srpTuple__spacer10\" colspan=\"3\" id=\"srp_tuple_society_heading\">\\n      <a href=\"/sgil-residenzza-airport-kolkata-north-npxid-r30976\" target=\"blank\">\\n       SGIL Residenzza\\n      </a>\\n     </td>\\n    </tr>\\n    <tr>\\n     <td class=\"srpTuple__midGrid title_semiBold srpTuple__spacer16 \" id=\"srp_tuple_price\">\\n      ₹ 48.38  - 68.33\\n      <span class=\"caption_strong_medium\" id=\"srp_tuple_price_unit\">\\n       Lac\\n      </span>\\n      <div class=\"caption_subdued_small\" id=\"srp_tuple_price_per_unit_area\">\\n       ₹ 4,200/sq.ft.\\n      </div>\\n     </td>\\n     <td class=\"srpTuple__midGrid title_semiBold srpTuple__spacer16 \" id=\"srp_tuple_primary_area\">\\n      1,152-1,627\\n      <span class=\"caption_strong_medium\" id=\"srp_tuple_primary_area_unit\">\\n       <!-- -->\\n       sq.ft.\\n       <!-- -->\\n       <em>\\n       </em>\\n      </span>\\n      <div class=\"caption_subdued_small\" id=\"srp_tuple_secondary_area\">\\n       (107-151 sq.m.) Super built-up Area\\n      </div>\\n     </td>\\n     <td class=\"srpTuple__midGrid title_semiBold srpTuple__spacer16\" id=\"srp_tuple_bedroom\">\\n      3 BHK\\n      <div class=\"caption_subdued_small\" id=\"srp_tuple_bathroom\">\\n       2 Baths\\n      </div>\\n     </td>\\n    </tr>\\n    <tr>\\n     <td class=\"srpTuple__expandDesc srpTuple__spacer10 srpTuple__moreAndLess\" colspan=\"3\">\\n      <div class=\"body_med\" id=\"srp_tuple_description\">\\n       <p>\\n        Make SGIL Residenzza your next home. This project offers 3 BHK flats in Airport, Kolkata North. With a super built-up area ranging from 1152.0 sq. ft. to 1627.0 sq. ft., these flats combine the finest design and amenities in Kolkata North to provide a living experience unlike any other. It is a ready to move project and is unique in its perfect harmony of classic form and modern construction. T...\\n       </p>\\n      </div>\\n      <span class=\"hyperlinks_medium\">\\n       less\\n      </span>\\n     </td>\\n    </tr>\\n    <tr>\\n     <td class=\"srpTuple__tupleBadges\" colspan=\"3\" style=\"white-space:normal\">\\n      <div class=\"undefined badges__featuredTag\" id=\"srp_tuple_featured_tags_0\" variant=\"featuredTag\">\\n       <div class=\"null\">\\n        FEATURED\\n       </div>\\n      </div>\\n      <div class=\"undefined badges__secondaryLargeSubtle\" id=\"srp_tuple_secondary_tags_0\" variant=\"secondaryLargeSubtle\">\\n       <div class=\"null\">\\n        READY TO MOVE\\n       </div>\\n      </div>\\n      <div class=\"undefined badges__secondaryLargeSubtle\" id=\"srp_tuple_secondary_tags_1\" variant=\"secondaryLargeSubtle\">\\n       <div class=\"null\">\\n        NEW BOOKING\\n       </div>\\n      </div>\\n     </td>\\n    </tr>\\n   </table>\\n   <div class=\"srpTuple__srpTupleIcons\">\\n    <i class=\"iconS_srp_20 icon_blockIcn pageComponent\" data-label=\"RI_LAYER1.DONTTALK\">\\n     <div class=\" toolTip__toolTip undefined pageComponent \" text=\"Share Feedback\">\\n      Share Feedback\\n     </div>\\n    </i>\\n    <i class=\"iconS_srp_20 icon_hideIcn pageComponent\" data-label=\"NEGATE_ELLIPSIS\">\\n     <div class=\" toolTip__toolTip undefined pageComponent \" text=\"Hide\">\\n      Hide\\n     </div>\\n    </i>\\n    <i class=\"pageComponent iconS_srp_20 icon_shortlist\" data-label=\"SHORTLIST\">\\n     <div class=\" toolTip__toolTip undefined pageComponent \" text=\"Shortlist\">\\n      Shortlist\\n     </div>\\n    </i>\\n   </div>\\n  </div>\\n </div>\\n <div>\\n  <div class=\"srpTuple__srpDealerInfoWrap\">\\n   <div class=\"srpTuple__srpDealerInfo\">\\n    <div class=\"caption_strong_small\">\\n     <span>\\n      Posted on 19th Apr, 2021 by\\n     </span>\\n     Builder\\n    </div>\\n    <div class=\"list_header_semiBold\">\\n     <div>\\n      SGIL Group\\n     </div>\\n    </div>\\n   </div>\\n  </div>\\n  <div>\\n   <div class=\"trackGAClick srpTuple__tupleBtn\" data-galabel=\"SRP_VIEW_PHONE\">\\n    <a>\\n     <button class=\"pageComponent buttons__tertiary buttons__semi pageComponent\" data-custominfo=\\'{\"payload\":{\"search_results\":{\"selected_entity_tuples\":[{\"id\":\"56008360\",\"rank\":1}]}}}\\' data-label=\"PHONE\" font-style=\"semi\" type=\"submit\" variant=\"tertiary\">\\n      <span>\\n       View Phone Number\\n      </span>\\n     </button>\\n    </a>\\n   </div>\\n   <div class=\"trackGAClick srpTuple__tupleBtn\" data-galabel=\"SRP_CONTACT\">\\n    <a>\\n     <button class=\"pageComponent buttons__primaryRegular buttons__semi pageComponent\" data-custominfo=\\'{\"payload\":{\"search_results\":{\"selected_entity_tuples\":[{\"id\":\"56008360\",\"rank\":1}]}}}\\' data-label=\"CONTACT\" font-style=\"semi\" type=\"submit\" variant=\"primaryRegular\">\\n      <span>\\n       Contact\\n       <!-- -->\\n       Builder\\n      </span>\\n     </button>\\n    </a>\\n   </div>\\n  </div>\\n </div>\\n</div>\\n'"
            ]
          },
          "metadata": {
            "tags": []
          },
          "execution_count": 14
        }
      ]
    },
    {
      "cell_type": "code",
      "metadata": {
        "colab": {
          "base_uri": "https://localhost:8080/",
          "height": 36
        },
        "id": "XMBfTwJteLZK",
        "outputId": "63503332-78b1-4d0b-ad8b-b9a3865f7b49"
      },
      "source": [
        "first.find('a', {'class':'body_med srpTuple__propertyName'}).text.split('in ')[1]       # Location"
      ],
      "execution_count": null,
      "outputs": [
        {
          "output_type": "execute_result",
          "data": {
            "application/vnd.google.colaboratory.intrinsic+json": {
              "type": "string"
            },
            "text/plain": [
              "'Airport'"
            ]
          },
          "metadata": {
            "tags": []
          },
          "execution_count": 33
        }
      ]
    },
    {
      "cell_type": "code",
      "metadata": {
        "colab": {
          "base_uri": "https://localhost:8080/",
          "height": 36
        },
        "id": "tJKviGpqXljl",
        "outputId": "6f746ae4-f295-4471-c68b-5b5336196064"
      },
      "source": [
        "first.find('td', {'class':'list_header_bold srpTuple__spacer10'}).text                  # Property"
      ],
      "execution_count": null,
      "outputs": [
        {
          "output_type": "execute_result",
          "data": {
            "application/vnd.google.colaboratory.intrinsic+json": {
              "type": "string"
            },
            "text/plain": [
              "'SGIL Residenzza'"
            ]
          },
          "metadata": {
            "tags": []
          },
          "execution_count": 23
        }
      ]
    },
    {
      "cell_type": "code",
      "metadata": {
        "colab": {
          "base_uri": "https://localhost:8080/",
          "height": 36
        },
        "id": "RZVrTOcYUTpQ",
        "outputId": "7ce3fe7e-7a82-40b3-9fef-68acab29b303"
      },
      "source": [
        "first.find('td', {'id':'srp_tuple_price'}).text.split('₹')[1].lstrip()                  # Price"
      ],
      "execution_count": null,
      "outputs": [
        {
          "output_type": "execute_result",
          "data": {
            "application/vnd.google.colaboratory.intrinsic+json": {
              "type": "string"
            },
            "text/plain": [
              "'48.38  - 68.33 Lac'"
            ]
          },
          "metadata": {
            "tags": []
          },
          "execution_count": 39
        }
      ]
    },
    {
      "cell_type": "code",
      "metadata": {
        "colab": {
          "base_uri": "https://localhost:8080/",
          "height": 36
        },
        "id": "C0MwVlY2Z2PX",
        "outputId": "7fcc6a69-89bd-4c91-b5fd-58d5ab5aa305"
      },
      "source": [
        "first.find('td', {'id':'srp_tuple_primary_area'}).text.split(' (')[0]                   # Area"
      ],
      "execution_count": null,
      "outputs": [
        {
          "output_type": "execute_result",
          "data": {
            "application/vnd.google.colaboratory.intrinsic+json": {
              "type": "string"
            },
            "text/plain": [
              "'1,152-1,627 sq.ft.'"
            ]
          },
          "metadata": {
            "tags": []
          },
          "execution_count": 43
        }
      ]
    },
    {
      "cell_type": "code",
      "metadata": {
        "colab": {
          "base_uri": "https://localhost:8080/",
          "height": 36
        },
        "id": "sRHSj7Qjahz4",
        "outputId": "92fd9ea2-37fd-4574-c5eb-f1323f1bb9ac"
      },
      "source": [
        "first.find('td', {'id':'srp_tuple_bedroom'}).text.split(' ')[0]                         # BHK"
      ],
      "execution_count": null,
      "outputs": [
        {
          "output_type": "execute_result",
          "data": {
            "application/vnd.google.colaboratory.intrinsic+json": {
              "type": "string"
            },
            "text/plain": [
              "'3'"
            ]
          },
          "metadata": {
            "tags": []
          },
          "execution_count": 37
        }
      ]
    },
    {
      "cell_type": "code",
      "metadata": {
        "id": "YC1K-wu_gtLd"
      },
      "source": [
        "# running loop for entire 1st page containers\n",
        "\n",
        "plocation = []\n",
        "pproperty = []\n",
        "pprice = []\n",
        "parea = []\n",
        "pbhk = []\n",
        "\n",
        "for container in containers:\n",
        "  plocation.append(container.find('a', {'class':'body_med srpTuple__propertyName'}).text.split('in ')[1])\n",
        "  pproperty.append(container.find('td', {'class':'list_header_bold srpTuple__spacer10'}).text)\n",
        "  pprice.append(container.find('td', {'id':'srp_tuple_price'}).text.split('₹')[1].lstrip())\n",
        "  parea.append(container.find('td', {'id':'srp_tuple_primary_area'}).text.split(' (')[0])\n",
        "  pbhk.append(container.find('td', {'id':'srp_tuple_bedroom'}).text.split(' ')[0] )"
      ],
      "execution_count": null,
      "outputs": []
    },
    {
      "cell_type": "code",
      "metadata": {
        "colab": {
          "base_uri": "https://localhost:8080/",
          "height": 194
        },
        "id": "20akydpwh0_H",
        "outputId": "f1ce7df1-4adc-4d4c-b546-654556219006"
      },
      "source": [
        "details = list(zip(plocation, pbhk, pprice, parea, pproperty))\n",
        "\n",
        "df = pd.DataFrame(details, columns =['Location', 'BHK', 'Price', 'Area', 'Property'])\n",
        "df.head()"
      ],
      "execution_count": null,
      "outputs": [
        {
          "output_type": "execute_result",
          "data": {
            "text/html": [
              "<div>\n",
              "<style scoped>\n",
              "    .dataframe tbody tr th:only-of-type {\n",
              "        vertical-align: middle;\n",
              "    }\n",
              "\n",
              "    .dataframe tbody tr th {\n",
              "        vertical-align: top;\n",
              "    }\n",
              "\n",
              "    .dataframe thead th {\n",
              "        text-align: right;\n",
              "    }\n",
              "</style>\n",
              "<table border=\"1\" class=\"dataframe\">\n",
              "  <thead>\n",
              "    <tr style=\"text-align: right;\">\n",
              "      <th></th>\n",
              "      <th>Location</th>\n",
              "      <th>BHK</th>\n",
              "      <th>Price</th>\n",
              "      <th>Area</th>\n",
              "      <th>Property</th>\n",
              "    </tr>\n",
              "  </thead>\n",
              "  <tbody>\n",
              "    <tr>\n",
              "      <th>0</th>\n",
              "      <td>Airport</td>\n",
              "      <td>3</td>\n",
              "      <td>48.38  - 68.33 Lac</td>\n",
              "      <td>1,152-1,627 sq.ft.</td>\n",
              "      <td>SGIL Residenzza</td>\n",
              "    </tr>\n",
              "    <tr>\n",
              "      <th>1</th>\n",
              "      <td>Narendrapur</td>\n",
              "      <td>2</td>\n",
              "      <td>35.71  - 41.45 Lac</td>\n",
              "      <td>871-1,011 sq.ft.</td>\n",
              "      <td>Su Casa Royal</td>\n",
              "    </tr>\n",
              "    <tr>\n",
              "      <th>2</th>\n",
              "      <td>Narkeldanga</td>\n",
              "      <td>3</td>\n",
              "      <td>1.5  - 1.5 Cr</td>\n",
              "      <td>1,172-1,340 sq.ft.</td>\n",
              "      <td>Prasad Rare Earth</td>\n",
              "    </tr>\n",
              "    <tr>\n",
              "      <th>3</th>\n",
              "      <td>Narkeldanga</td>\n",
              "      <td>4</td>\n",
              "      <td>2.28  - 2.28 Cr</td>\n",
              "      <td>1,976-2,062 sq.ft.</td>\n",
              "      <td>Prasad Rare Earth</td>\n",
              "    </tr>\n",
              "    <tr>\n",
              "      <th>4</th>\n",
              "      <td>Beliaghata</td>\n",
              "      <td>3</td>\n",
              "      <td>86.54  - 94.71 Lac</td>\n",
              "      <td>1,049-1,148 sq.ft.</td>\n",
              "      <td>Bella Vista</td>\n",
              "    </tr>\n",
              "  </tbody>\n",
              "</table>\n",
              "</div>"
            ],
            "text/plain": [
              "      Location BHK               Price                Area           Property\n",
              "0      Airport   3  48.38  - 68.33 Lac  1,152-1,627 sq.ft.    SGIL Residenzza\n",
              "1  Narendrapur   2  35.71  - 41.45 Lac    871-1,011 sq.ft.      Su Casa Royal\n",
              "2  Narkeldanga   3       1.5  - 1.5 Cr  1,172-1,340 sq.ft.  Prasad Rare Earth\n",
              "3  Narkeldanga   4     2.28  - 2.28 Cr  1,976-2,062 sq.ft.  Prasad Rare Earth\n",
              "4   Beliaghata   3  86.54  - 94.71 Lac  1,049-1,148 sq.ft.        Bella Vista"
            ]
          },
          "metadata": {
            "tags": []
          },
          "execution_count": 54
        }
      ]
    },
    {
      "cell_type": "code",
      "metadata": {
        "colab": {
          "base_uri": "https://localhost:8080/",
          "height": 194
        },
        "id": "J7Y_2L9HiSwI",
        "outputId": "ba68e9e0-c8cb-43a1-e91f-54393e250a63"
      },
      "source": [
        "df.tail()"
      ],
      "execution_count": null,
      "outputs": [
        {
          "output_type": "execute_result",
          "data": {
            "text/html": [
              "<div>\n",
              "<style scoped>\n",
              "    .dataframe tbody tr th:only-of-type {\n",
              "        vertical-align: middle;\n",
              "    }\n",
              "\n",
              "    .dataframe tbody tr th {\n",
              "        vertical-align: top;\n",
              "    }\n",
              "\n",
              "    .dataframe thead th {\n",
              "        text-align: right;\n",
              "    }\n",
              "</style>\n",
              "<table border=\"1\" class=\"dataframe\">\n",
              "  <thead>\n",
              "    <tr style=\"text-align: right;\">\n",
              "      <th></th>\n",
              "      <th>Location</th>\n",
              "      <th>BHK</th>\n",
              "      <th>Price</th>\n",
              "      <th>Area</th>\n",
              "      <th>Property</th>\n",
              "    </tr>\n",
              "  </thead>\n",
              "  <tbody>\n",
              "    <tr>\n",
              "      <th>20</th>\n",
              "      <td>Behala Chowrasta</td>\n",
              "      <td>3</td>\n",
              "      <td>47.59  - 59.56 Lac</td>\n",
              "      <td>791-1,001 sq.ft.</td>\n",
              "      <td>Merlin Next</td>\n",
              "    </tr>\n",
              "    <tr>\n",
              "      <th>21</th>\n",
              "      <td>Tollygunge</td>\n",
              "      <td>3</td>\n",
              "      <td>97 Lac</td>\n",
              "      <td>1,024 sq.ft.</td>\n",
              "      <td>Merlin The One</td>\n",
              "    </tr>\n",
              "    <tr>\n",
              "      <th>22</th>\n",
              "      <td>New Alipore</td>\n",
              "      <td>3</td>\n",
              "      <td>1.1  - 1.17 Cr</td>\n",
              "      <td>1,105-1,168 sq.ft.</td>\n",
              "      <td>Merlin Pristine</td>\n",
              "    </tr>\n",
              "    <tr>\n",
              "      <th>23</th>\n",
              "      <td>Dum Dum</td>\n",
              "      <td>2</td>\n",
              "      <td>48.5  - 69.44 Lac</td>\n",
              "      <td>688-985 sq.ft.</td>\n",
              "      <td>Eden The Forest</td>\n",
              "    </tr>\n",
              "    <tr>\n",
              "      <th>24</th>\n",
              "      <td>Chingrighata</td>\n",
              "      <td>3</td>\n",
              "      <td>1.12  - 1.47 Cr</td>\n",
              "      <td>859-1,116 sq.ft.</td>\n",
              "      <td>PS Jiva</td>\n",
              "    </tr>\n",
              "  </tbody>\n",
              "</table>\n",
              "</div>"
            ],
            "text/plain": [
              "            Location BHK  ...                Area         Property\n",
              "20  Behala Chowrasta   3  ...    791-1,001 sq.ft.      Merlin Next\n",
              "21        Tollygunge   3  ...        1,024 sq.ft.   Merlin The One\n",
              "22       New Alipore   3  ...  1,105-1,168 sq.ft.  Merlin Pristine\n",
              "23           Dum Dum   2  ...      688-985 sq.ft.  Eden The Forest\n",
              "24      Chingrighata   3  ...    859-1,116 sq.ft.          PS Jiva\n",
              "\n",
              "[5 rows x 5 columns]"
            ]
          },
          "metadata": {
            "tags": []
          },
          "execution_count": 55
        }
      ]
    },
    {
      "cell_type": "markdown",
      "metadata": {
        "id": "THajl7JIicKU"
      },
      "source": [
        "## Accessing all pages"
      ]
    },
    {
      "cell_type": "code",
      "metadata": {
        "id": "e_VcHfvxiWN7"
      },
      "source": [
        "pages = np.arange(1,11)   # 50 pages in total, taking in a variable\n",
        "\n",
        "plocation = []\n",
        "pproperty = []\n",
        "pprice = []\n",
        "parea = []\n",
        "pbhk = []"
      ],
      "execution_count": null,
      "outputs": []
    },
    {
      "cell_type": "code",
      "metadata": {
        "id": "2sAJlomAiwRf"
      },
      "source": [
        "for page in pages:    # running for every page\n",
        "  url = \"https://www.99acres.com/property-in-kolkata-ffid-page-\"+str(page)\n",
        "  r = requests.get(url)\n",
        "  htmlContent = r.content\n",
        "  soup = BeautifulSoup(htmlContent, 'html.parser')\n",
        "  containers = soup.find_all(name='div', attrs={'class':'pageComponent srpTuple__srpTupleBox srp'})\n",
        "  sleep(randint(3,6))           # sleeping for 3 to 6 secs to control crawling\n",
        "\n",
        "  for container in containers:\n",
        "      plocation.append(container.find('a', {'class':'body_med srpTuple__propertyName'}).text.split('in ')[1])\n",
        "      pproperty.append(container.find('td', {'class':'list_header_bold srpTuple__spacer10'}).text)\n",
        "      try:\n",
        "        pprice.append(container.find('td', {'id':'srp_tuple_price'}).text.split('₹')[1].lstrip())\n",
        "      except:\n",
        "        pprice.append('Price on Request')\n",
        "      parea.append(container.find('td', {'id':'srp_tuple_primary_area'}).text.split(' (')[0])\n",
        "      pbhk.append(container.find('td', {'id':'srp_tuple_bedroom'}).text.split(' ')[0] )"
      ],
      "execution_count": null,
      "outputs": []
    },
    {
      "cell_type": "code",
      "metadata": {
        "colab": {
          "base_uri": "https://localhost:8080/",
          "height": 194
        },
        "id": "1-8BD6XOvyzd",
        "outputId": "00e57bd2-577c-4655-a736-e138b4f2d464"
      },
      "source": [
        "details = list(zip(plocation, pbhk, pprice, parea, pproperty))\n",
        "\n",
        "df = pd.DataFrame(details, columns =['Location', 'BHK', 'Price', 'Area', 'Property'])\n",
        "df.head()"
      ],
      "execution_count": null,
      "outputs": [
        {
          "output_type": "execute_result",
          "data": {
            "text/html": [
              "<div>\n",
              "<style scoped>\n",
              "    .dataframe tbody tr th:only-of-type {\n",
              "        vertical-align: middle;\n",
              "    }\n",
              "\n",
              "    .dataframe tbody tr th {\n",
              "        vertical-align: top;\n",
              "    }\n",
              "\n",
              "    .dataframe thead th {\n",
              "        text-align: right;\n",
              "    }\n",
              "</style>\n",
              "<table border=\"1\" class=\"dataframe\">\n",
              "  <thead>\n",
              "    <tr style=\"text-align: right;\">\n",
              "      <th></th>\n",
              "      <th>Location</th>\n",
              "      <th>BHK</th>\n",
              "      <th>Price</th>\n",
              "      <th>Area</th>\n",
              "      <th>Property</th>\n",
              "    </tr>\n",
              "  </thead>\n",
              "  <tbody>\n",
              "    <tr>\n",
              "      <th>0</th>\n",
              "      <td>Narendrapur</td>\n",
              "      <td>2</td>\n",
              "      <td>27.81  - 36.35 Lac</td>\n",
              "      <td>673-850 sq.ft.</td>\n",
              "      <td>Amaya Residences</td>\n",
              "    </tr>\n",
              "    <tr>\n",
              "      <th>1</th>\n",
              "      <td>Garia</td>\n",
              "      <td>2</td>\n",
              "      <td>25.08 Lac</td>\n",
              "      <td>809 sq.ft.</td>\n",
              "      <td>Richmond Enclave</td>\n",
              "    </tr>\n",
              "    <tr>\n",
              "      <th>2</th>\n",
              "      <td>Narkeldanga</td>\n",
              "      <td>3</td>\n",
              "      <td>1.5  - 1.5 Cr</td>\n",
              "      <td>1,172-1,340 sq.ft.</td>\n",
              "      <td>Prasad Rare Earth</td>\n",
              "    </tr>\n",
              "    <tr>\n",
              "      <th>3</th>\n",
              "      <td>Narkeldanga</td>\n",
              "      <td>4</td>\n",
              "      <td>2.28  - 2.28 Cr</td>\n",
              "      <td>1,976-2,062 sq.ft.</td>\n",
              "      <td>Prasad Rare Earth</td>\n",
              "    </tr>\n",
              "    <tr>\n",
              "      <th>4</th>\n",
              "      <td>Beliaghata</td>\n",
              "      <td>3</td>\n",
              "      <td>86.54  - 94.71 Lac</td>\n",
              "      <td>1,049-1,148 sq.ft.</td>\n",
              "      <td>Bella Vista</td>\n",
              "    </tr>\n",
              "  </tbody>\n",
              "</table>\n",
              "</div>"
            ],
            "text/plain": [
              "      Location BHK               Price                Area           Property\n",
              "0  Narendrapur   2  27.81  - 36.35 Lac      673-850 sq.ft.   Amaya Residences\n",
              "1        Garia   2           25.08 Lac          809 sq.ft.   Richmond Enclave\n",
              "2  Narkeldanga   3       1.5  - 1.5 Cr  1,172-1,340 sq.ft.  Prasad Rare Earth\n",
              "3  Narkeldanga   4     2.28  - 2.28 Cr  1,976-2,062 sq.ft.  Prasad Rare Earth\n",
              "4   Beliaghata   3  86.54  - 94.71 Lac  1,049-1,148 sq.ft.        Bella Vista"
            ]
          },
          "metadata": {
            "tags": []
          },
          "execution_count": 96
        }
      ]
    },
    {
      "cell_type": "code",
      "metadata": {
        "colab": {
          "base_uri": "https://localhost:8080/",
          "height": 1000
        },
        "id": "XS3HBy2Wv36B",
        "outputId": "eecdd4b8-f6d8-4b04-f881-c2a5d37208c4"
      },
      "source": [
        "df.head(50)"
      ],
      "execution_count": null,
      "outputs": [
        {
          "output_type": "execute_result",
          "data": {
            "text/html": [
              "<div>\n",
              "<style scoped>\n",
              "    .dataframe tbody tr th:only-of-type {\n",
              "        vertical-align: middle;\n",
              "    }\n",
              "\n",
              "    .dataframe tbody tr th {\n",
              "        vertical-align: top;\n",
              "    }\n",
              "\n",
              "    .dataframe thead th {\n",
              "        text-align: right;\n",
              "    }\n",
              "</style>\n",
              "<table border=\"1\" class=\"dataframe\">\n",
              "  <thead>\n",
              "    <tr style=\"text-align: right;\">\n",
              "      <th></th>\n",
              "      <th>Location</th>\n",
              "      <th>BHK</th>\n",
              "      <th>Price</th>\n",
              "      <th>Area</th>\n",
              "      <th>Property</th>\n",
              "    </tr>\n",
              "  </thead>\n",
              "  <tbody>\n",
              "    <tr>\n",
              "      <th>0</th>\n",
              "      <td>Narendrapur</td>\n",
              "      <td>2</td>\n",
              "      <td>27.81  - 36.35 Lac</td>\n",
              "      <td>673-850 sq.ft.</td>\n",
              "      <td>Amaya Residences</td>\n",
              "    </tr>\n",
              "    <tr>\n",
              "      <th>1</th>\n",
              "      <td>Garia</td>\n",
              "      <td>2</td>\n",
              "      <td>25.08 Lac</td>\n",
              "      <td>809 sq.ft.</td>\n",
              "      <td>Richmond Enclave</td>\n",
              "    </tr>\n",
              "    <tr>\n",
              "      <th>2</th>\n",
              "      <td>Narkeldanga</td>\n",
              "      <td>3</td>\n",
              "      <td>1.5  - 1.5 Cr</td>\n",
              "      <td>1,172-1,340 sq.ft.</td>\n",
              "      <td>Prasad Rare Earth</td>\n",
              "    </tr>\n",
              "    <tr>\n",
              "      <th>3</th>\n",
              "      <td>Narkeldanga</td>\n",
              "      <td>4</td>\n",
              "      <td>2.28  - 2.28 Cr</td>\n",
              "      <td>1,976-2,062 sq.ft.</td>\n",
              "      <td>Prasad Rare Earth</td>\n",
              "    </tr>\n",
              "    <tr>\n",
              "      <th>4</th>\n",
              "      <td>Beliaghata</td>\n",
              "      <td>3</td>\n",
              "      <td>86.54  - 94.71 Lac</td>\n",
              "      <td>1,049-1,148 sq.ft.</td>\n",
              "      <td>Bella Vista</td>\n",
              "    </tr>\n",
              "    <tr>\n",
              "      <th>5</th>\n",
              "      <td>Tangra</td>\n",
              "      <td>3</td>\n",
              "      <td>1.3 Cr</td>\n",
              "      <td>1,424 sq.ft.</td>\n",
              "      <td>Merlin Regalia</td>\n",
              "    </tr>\n",
              "    <tr>\n",
              "      <th>6</th>\n",
              "      <td>B T Road</td>\n",
              "      <td>4</td>\n",
              "      <td>85.11 Lac</td>\n",
              "      <td>1,998 sq.ft.</td>\n",
              "      <td>Dhoot Pratham</td>\n",
              "    </tr>\n",
              "    <tr>\n",
              "      <th>7</th>\n",
              "      <td>Salt Lake</td>\n",
              "      <td>3</td>\n",
              "      <td>1.33  - 1.45 Cr</td>\n",
              "      <td>1,559-1,705 sq.ft.</td>\n",
              "      <td>Merlin The Fourth</td>\n",
              "    </tr>\n",
              "    <tr>\n",
              "      <th>8</th>\n",
              "      <td>New Alipore</td>\n",
              "      <td>2</td>\n",
              "      <td>70  - 70.75 Lac</td>\n",
              "      <td>728-736 sq.ft.</td>\n",
              "      <td>Merlin Pristine</td>\n",
              "    </tr>\n",
              "    <tr>\n",
              "      <th>9</th>\n",
              "      <td>Howrah</td>\n",
              "      <td>3</td>\n",
              "      <td>21.02  - 24.33 Lac</td>\n",
              "      <td>841-973 sq.ft.</td>\n",
              "      <td>Swarna Bhoomi</td>\n",
              "    </tr>\n",
              "    <tr>\n",
              "      <th>10</th>\n",
              "      <td>Howrah</td>\n",
              "      <td>1</td>\n",
              "      <td>12.13  - 13.07 Lac</td>\n",
              "      <td>485-523 sq.ft.</td>\n",
              "      <td>Swarna Bhoomi</td>\n",
              "    </tr>\n",
              "    <tr>\n",
              "      <th>11</th>\n",
              "      <td>Howrah</td>\n",
              "      <td>2</td>\n",
              "      <td>15.48  - 20.9 Lac</td>\n",
              "      <td>619-836 sq.ft.</td>\n",
              "      <td>Swarna Bhoomi</td>\n",
              "    </tr>\n",
              "    <tr>\n",
              "      <th>12</th>\n",
              "      <td>Tollygunge</td>\n",
              "      <td>2</td>\n",
              "      <td>59 Lac Onwards</td>\n",
              "      <td>700-1,005 sq.ft.</td>\n",
              "      <td>Merlin Verve</td>\n",
              "    </tr>\n",
              "    <tr>\n",
              "      <th>13</th>\n",
              "      <td>Konnagar</td>\n",
              "      <td>2</td>\n",
              "      <td>26.75 Lac Onwards</td>\n",
              "      <td>602-624 sq.ft.</td>\n",
              "      <td>Merlin Gangotri</td>\n",
              "    </tr>\n",
              "    <tr>\n",
              "      <th>14</th>\n",
              "      <td>Behala Chowrasta</td>\n",
              "      <td>2</td>\n",
              "      <td>36.92  - 43.85 Lac</td>\n",
              "      <td>624-737 sq.ft.</td>\n",
              "      <td>Merlin Next</td>\n",
              "    </tr>\n",
              "    <tr>\n",
              "      <th>15</th>\n",
              "      <td>Tollygunge</td>\n",
              "      <td>2</td>\n",
              "      <td>63 Lac Onwards</td>\n",
              "      <td>694-867 sq.ft.</td>\n",
              "      <td>Merlin The One</td>\n",
              "    </tr>\n",
              "    <tr>\n",
              "      <th>16</th>\n",
              "      <td>Tollygunge</td>\n",
              "      <td>3</td>\n",
              "      <td>80 Lac Onwards</td>\n",
              "      <td>961-1,263 sq.ft.</td>\n",
              "      <td>Merlin Verve</td>\n",
              "    </tr>\n",
              "    <tr>\n",
              "      <th>17</th>\n",
              "      <td>Konnagar</td>\n",
              "      <td>3</td>\n",
              "      <td>34 Lac Onwards</td>\n",
              "      <td>762-791 sq.ft.</td>\n",
              "      <td>Merlin Gangotri</td>\n",
              "    </tr>\n",
              "    <tr>\n",
              "      <th>18</th>\n",
              "      <td>Salt Lake</td>\n",
              "      <td>4</td>\n",
              "      <td>1.66  - 1.76 Cr</td>\n",
              "      <td>1,947-2,033 sq.ft.</td>\n",
              "      <td>Merlin The Fourth</td>\n",
              "    </tr>\n",
              "    <tr>\n",
              "      <th>19</th>\n",
              "      <td>New Town</td>\n",
              "      <td>2</td>\n",
              "      <td>62 Lac</td>\n",
              "      <td>929 sq.ft.</td>\n",
              "      <td>Elita Garden Vista Phase 2</td>\n",
              "    </tr>\n",
              "    <tr>\n",
              "      <th>20</th>\n",
              "      <td>Behala Chowrasta</td>\n",
              "      <td>3</td>\n",
              "      <td>47.59  - 59.56 Lac</td>\n",
              "      <td>791-1,001 sq.ft.</td>\n",
              "      <td>Merlin Next</td>\n",
              "    </tr>\n",
              "    <tr>\n",
              "      <th>21</th>\n",
              "      <td>Tollygunge</td>\n",
              "      <td>3</td>\n",
              "      <td>97 Lac</td>\n",
              "      <td>1,024 sq.ft.</td>\n",
              "      <td>Merlin The One</td>\n",
              "    </tr>\n",
              "    <tr>\n",
              "      <th>22</th>\n",
              "      <td>New Alipore</td>\n",
              "      <td>3</td>\n",
              "      <td>1.1  - 1.17 Cr</td>\n",
              "      <td>1,105-1,168 sq.ft.</td>\n",
              "      <td>Merlin Pristine</td>\n",
              "    </tr>\n",
              "    <tr>\n",
              "      <th>23</th>\n",
              "      <td>Dum Dum</td>\n",
              "      <td>2</td>\n",
              "      <td>48.5  - 69.44 Lac</td>\n",
              "      <td>688-985 sq.ft.</td>\n",
              "      <td>Eden The Forest</td>\n",
              "    </tr>\n",
              "    <tr>\n",
              "      <th>24</th>\n",
              "      <td>Chingrighata</td>\n",
              "      <td>3</td>\n",
              "      <td>1.12  - 1.47 Cr</td>\n",
              "      <td>859-1,116 sq.ft.</td>\n",
              "      <td>PS Jiva</td>\n",
              "    </tr>\n",
              "    <tr>\n",
              "      <th>25</th>\n",
              "      <td>Barasat</td>\n",
              "      <td>3</td>\n",
              "      <td>32  - 46.18 Lac</td>\n",
              "      <td>893-1,295 sq.ft.</td>\n",
              "      <td>Fortune Heights</td>\n",
              "    </tr>\n",
              "    <tr>\n",
              "      <th>26</th>\n",
              "      <td>Barasat</td>\n",
              "      <td>2</td>\n",
              "      <td>25  - 35 Lac</td>\n",
              "      <td>705-966 sq.ft.</td>\n",
              "      <td>Fortune Heights</td>\n",
              "    </tr>\n",
              "    <tr>\n",
              "      <th>27</th>\n",
              "      <td>Dum Dum Metro</td>\n",
              "      <td>3</td>\n",
              "      <td>79.62 Lac</td>\n",
              "      <td>1,361 sq.ft.</td>\n",
              "      <td>Padmalaya Apartments</td>\n",
              "    </tr>\n",
              "    <tr>\n",
              "      <th>28</th>\n",
              "      <td>Dum Dum Metro</td>\n",
              "      <td>2</td>\n",
              "      <td>59.33 Lac</td>\n",
              "      <td>1,075 sq.ft.</td>\n",
              "      <td>Padmalaya Apartments</td>\n",
              "    </tr>\n",
              "    <tr>\n",
              "      <th>29</th>\n",
              "      <td>Shyam Bazaar</td>\n",
              "      <td>4</td>\n",
              "      <td>1.33  - 1.36 Cr</td>\n",
              "      <td>2,053-2,089 sq.ft.</td>\n",
              "      <td>Ginni Himadri</td>\n",
              "    </tr>\n",
              "    <tr>\n",
              "      <th>30</th>\n",
              "      <td>New Town</td>\n",
              "      <td>3</td>\n",
              "      <td>72.42  - 73.34 Lac</td>\n",
              "      <td>1,420-1,438 sq.ft.</td>\n",
              "      <td>Mahamani Meena Eco Vista</td>\n",
              "    </tr>\n",
              "    <tr>\n",
              "      <th>31</th>\n",
              "      <td>Shyam Bazaar</td>\n",
              "      <td>3</td>\n",
              "      <td>1.05  - 1.17 Cr</td>\n",
              "      <td>1,608-1,806 sq.ft.</td>\n",
              "      <td>Ginni Himadri</td>\n",
              "    </tr>\n",
              "    <tr>\n",
              "      <th>32</th>\n",
              "      <td>Dum Dum</td>\n",
              "      <td>3</td>\n",
              "      <td>62.32  - 72.4 Lac</td>\n",
              "      <td>884-1,027 sq.ft.</td>\n",
              "      <td>Eden The Forest</td>\n",
              "    </tr>\n",
              "    <tr>\n",
              "      <th>33</th>\n",
              "      <td>New Town</td>\n",
              "      <td>2</td>\n",
              "      <td>42.13  - 54.31 Lac</td>\n",
              "      <td>826-1,065 sq.ft.</td>\n",
              "      <td>Mahamani Meena Eco Vista</td>\n",
              "    </tr>\n",
              "    <tr>\n",
              "      <th>34</th>\n",
              "      <td>Santragachi</td>\n",
              "      <td>2</td>\n",
              "      <td>35.9 Lac</td>\n",
              "      <td>643 sq.ft.</td>\n",
              "      <td>Joyville Western Heights</td>\n",
              "    </tr>\n",
              "    <tr>\n",
              "      <th>35</th>\n",
              "      <td>Dum Dum</td>\n",
              "      <td>4</td>\n",
              "      <td>1.06 Cr</td>\n",
              "      <td>1,459 sq.ft.</td>\n",
              "      <td>Merlin Urvan</td>\n",
              "    </tr>\n",
              "    <tr>\n",
              "      <th>36</th>\n",
              "      <td>Dum Dum</td>\n",
              "      <td>2</td>\n",
              "      <td>49.75  - 50.3 Lac</td>\n",
              "      <td>687-696 sq.ft.</td>\n",
              "      <td>Merlin Urvan</td>\n",
              "    </tr>\n",
              "    <tr>\n",
              "      <th>37</th>\n",
              "      <td>Narendrapur</td>\n",
              "      <td>2</td>\n",
              "      <td>21.51  - 29.85 Lac</td>\n",
              "      <td>717-1,012 sq.ft.</td>\n",
              "      <td>Eden Richmond Enclave</td>\n",
              "    </tr>\n",
              "    <tr>\n",
              "      <th>38</th>\n",
              "      <td>Jessore Road</td>\n",
              "      <td>3</td>\n",
              "      <td>65  - 69.46 Lac</td>\n",
              "      <td>1,240-1,325 sq.ft.</td>\n",
              "      <td>Transways Dum Dum Heights</td>\n",
              "    </tr>\n",
              "    <tr>\n",
              "      <th>39</th>\n",
              "      <td>B T Road</td>\n",
              "      <td>4</td>\n",
              "      <td>73.1  - 76.41 Lac</td>\n",
              "      <td>1,832-1,915 sq.ft.</td>\n",
              "      <td>Space Aurum</td>\n",
              "    </tr>\n",
              "    <tr>\n",
              "      <th>40</th>\n",
              "      <td>New Town</td>\n",
              "      <td>3</td>\n",
              "      <td>50.33  - 72.99 Lac</td>\n",
              "      <td>915-1,327 sq.ft.</td>\n",
              "      <td>Realtech Nirman Curiocity Classic</td>\n",
              "    </tr>\n",
              "    <tr>\n",
              "      <th>41</th>\n",
              "      <td>Narendrapur</td>\n",
              "      <td>3</td>\n",
              "      <td>27.35  - 32.24 Lac</td>\n",
              "      <td>927-1,093 sq.ft.</td>\n",
              "      <td>Eden Richmond Enclave</td>\n",
              "    </tr>\n",
              "    <tr>\n",
              "      <th>42</th>\n",
              "      <td>Dum Dum</td>\n",
              "      <td>3</td>\n",
              "      <td>57.2  - 92.23 Lac</td>\n",
              "      <td>793-1,267 sq.ft.</td>\n",
              "      <td>Merlin Urvan</td>\n",
              "    </tr>\n",
              "    <tr>\n",
              "      <th>43</th>\n",
              "      <td>Baruipur</td>\n",
              "      <td>1</td>\n",
              "      <td>Price on Request</td>\n",
              "      <td>305-314 sq.ft.</td>\n",
              "      <td>Eden Meghbalika</td>\n",
              "    </tr>\n",
              "    <tr>\n",
              "      <th>44</th>\n",
              "      <td>New Town</td>\n",
              "      <td>2</td>\n",
              "      <td>34.43  - 47.41 Lac</td>\n",
              "      <td>626-862 sq.ft.</td>\n",
              "      <td>Realtech Nirman Curiocity Classic</td>\n",
              "    </tr>\n",
              "    <tr>\n",
              "      <th>45</th>\n",
              "      <td>Joka</td>\n",
              "      <td>4</td>\n",
              "      <td>75  - 75 Lac</td>\n",
              "      <td>1,585-1,774 sq.ft.</td>\n",
              "      <td>Gems Bougainvillas</td>\n",
              "    </tr>\n",
              "    <tr>\n",
              "      <th>46</th>\n",
              "      <td>Joka</td>\n",
              "      <td>2</td>\n",
              "      <td>23.45  - 25.28 Lac</td>\n",
              "      <td>709-765 sq.ft.</td>\n",
              "      <td>Imperial Riddhi Siddhi</td>\n",
              "    </tr>\n",
              "    <tr>\n",
              "      <th>47</th>\n",
              "      <td>Joka</td>\n",
              "      <td>3</td>\n",
              "      <td>37.04  - 49.32 Lac</td>\n",
              "      <td>1,029-1,370 sq.ft.</td>\n",
              "      <td>DTC Southern Heights</td>\n",
              "    </tr>\n",
              "    <tr>\n",
              "      <th>48</th>\n",
              "      <td>Joka</td>\n",
              "      <td>3</td>\n",
              "      <td>37.04  - 49.32 Lac</td>\n",
              "      <td>1,029-1,370 sq.ft.</td>\n",
              "      <td>DTC Southern Heights</td>\n",
              "    </tr>\n",
              "    <tr>\n",
              "      <th>49</th>\n",
              "      <td>B T Road</td>\n",
              "      <td>3</td>\n",
              "      <td>60.81  - 63.16 Lac</td>\n",
              "      <td>1,524-1,583 sq.ft.</td>\n",
              "      <td>Space Aurum</td>\n",
              "    </tr>\n",
              "  </tbody>\n",
              "</table>\n",
              "</div>"
            ],
            "text/plain": [
              "            Location BHK  ...                Area                           Property\n",
              "0        Narendrapur   2  ...      673-850 sq.ft.                   Amaya Residences\n",
              "1              Garia   2  ...          809 sq.ft.                   Richmond Enclave\n",
              "2        Narkeldanga   3  ...  1,172-1,340 sq.ft.                  Prasad Rare Earth\n",
              "3        Narkeldanga   4  ...  1,976-2,062 sq.ft.                  Prasad Rare Earth\n",
              "4         Beliaghata   3  ...  1,049-1,148 sq.ft.                        Bella Vista\n",
              "5             Tangra   3  ...        1,424 sq.ft.                     Merlin Regalia\n",
              "6           B T Road   4  ...        1,998 sq.ft.                      Dhoot Pratham\n",
              "7          Salt Lake   3  ...  1,559-1,705 sq.ft.                  Merlin The Fourth\n",
              "8        New Alipore   2  ...      728-736 sq.ft.                    Merlin Pristine\n",
              "9             Howrah   3  ...      841-973 sq.ft.                      Swarna Bhoomi\n",
              "10            Howrah   1  ...      485-523 sq.ft.                      Swarna Bhoomi\n",
              "11            Howrah   2  ...      619-836 sq.ft.                      Swarna Bhoomi\n",
              "12        Tollygunge   2  ...    700-1,005 sq.ft.                       Merlin Verve\n",
              "13          Konnagar   2  ...      602-624 sq.ft.                    Merlin Gangotri\n",
              "14  Behala Chowrasta   2  ...      624-737 sq.ft.                        Merlin Next\n",
              "15        Tollygunge   2  ...      694-867 sq.ft.                     Merlin The One\n",
              "16        Tollygunge   3  ...    961-1,263 sq.ft.                       Merlin Verve\n",
              "17          Konnagar   3  ...      762-791 sq.ft.                    Merlin Gangotri\n",
              "18         Salt Lake   4  ...  1,947-2,033 sq.ft.                  Merlin The Fourth\n",
              "19          New Town   2  ...          929 sq.ft.         Elita Garden Vista Phase 2\n",
              "20  Behala Chowrasta   3  ...    791-1,001 sq.ft.                        Merlin Next\n",
              "21        Tollygunge   3  ...        1,024 sq.ft.                     Merlin The One\n",
              "22       New Alipore   3  ...  1,105-1,168 sq.ft.                    Merlin Pristine\n",
              "23           Dum Dum   2  ...      688-985 sq.ft.                    Eden The Forest\n",
              "24      Chingrighata   3  ...    859-1,116 sq.ft.                            PS Jiva\n",
              "25           Barasat   3  ...    893-1,295 sq.ft.                    Fortune Heights\n",
              "26           Barasat   2  ...      705-966 sq.ft.                    Fortune Heights\n",
              "27     Dum Dum Metro   3  ...        1,361 sq.ft.               Padmalaya Apartments\n",
              "28     Dum Dum Metro   2  ...        1,075 sq.ft.               Padmalaya Apartments\n",
              "29      Shyam Bazaar   4  ...  2,053-2,089 sq.ft.                      Ginni Himadri\n",
              "30          New Town   3  ...  1,420-1,438 sq.ft.           Mahamani Meena Eco Vista\n",
              "31      Shyam Bazaar   3  ...  1,608-1,806 sq.ft.                      Ginni Himadri\n",
              "32           Dum Dum   3  ...    884-1,027 sq.ft.                    Eden The Forest\n",
              "33          New Town   2  ...    826-1,065 sq.ft.           Mahamani Meena Eco Vista\n",
              "34       Santragachi   2  ...          643 sq.ft.           Joyville Western Heights\n",
              "35           Dum Dum   4  ...        1,459 sq.ft.                       Merlin Urvan\n",
              "36           Dum Dum   2  ...      687-696 sq.ft.                       Merlin Urvan\n",
              "37       Narendrapur   2  ...    717-1,012 sq.ft.              Eden Richmond Enclave\n",
              "38      Jessore Road   3  ...  1,240-1,325 sq.ft.          Transways Dum Dum Heights\n",
              "39          B T Road   4  ...  1,832-1,915 sq.ft.                        Space Aurum\n",
              "40          New Town   3  ...    915-1,327 sq.ft.  Realtech Nirman Curiocity Classic\n",
              "41       Narendrapur   3  ...    927-1,093 sq.ft.              Eden Richmond Enclave\n",
              "42           Dum Dum   3  ...    793-1,267 sq.ft.                       Merlin Urvan\n",
              "43          Baruipur   1  ...      305-314 sq.ft.                    Eden Meghbalika\n",
              "44          New Town   2  ...      626-862 sq.ft.  Realtech Nirman Curiocity Classic\n",
              "45              Joka   4  ...  1,585-1,774 sq.ft.                 Gems Bougainvillas\n",
              "46              Joka   2  ...      709-765 sq.ft.             Imperial Riddhi Siddhi\n",
              "47              Joka   3  ...  1,029-1,370 sq.ft.               DTC Southern Heights\n",
              "48              Joka   3  ...  1,029-1,370 sq.ft.               DTC Southern Heights\n",
              "49          B T Road   3  ...  1,524-1,583 sq.ft.                        Space Aurum\n",
              "\n",
              "[50 rows x 5 columns]"
            ]
          },
          "metadata": {
            "tags": []
          },
          "execution_count": 97
        }
      ]
    },
    {
      "cell_type": "code",
      "metadata": {
        "colab": {
          "base_uri": "https://localhost:8080/",
          "height": 194
        },
        "id": "TzYWkf39v5KG",
        "outputId": "14e2e3bc-fde7-4f75-a634-6ca5b5f94bdb"
      },
      "source": [
        "df.tail()"
      ],
      "execution_count": null,
      "outputs": [
        {
          "output_type": "execute_result",
          "data": {
            "text/html": [
              "<div>\n",
              "<style scoped>\n",
              "    .dataframe tbody tr th:only-of-type {\n",
              "        vertical-align: middle;\n",
              "    }\n",
              "\n",
              "    .dataframe tbody tr th {\n",
              "        vertical-align: top;\n",
              "    }\n",
              "\n",
              "    .dataframe thead th {\n",
              "        text-align: right;\n",
              "    }\n",
              "</style>\n",
              "<table border=\"1\" class=\"dataframe\">\n",
              "  <thead>\n",
              "    <tr style=\"text-align: right;\">\n",
              "      <th></th>\n",
              "      <th>Location</th>\n",
              "      <th>BHK</th>\n",
              "      <th>Price</th>\n",
              "      <th>Area</th>\n",
              "      <th>Property</th>\n",
              "    </tr>\n",
              "  </thead>\n",
              "  <tbody>\n",
              "    <tr>\n",
              "      <th>245</th>\n",
              "      <td>Paikpara</td>\n",
              "      <td>4</td>\n",
              "      <td>100 Lac - 1.16 Cr</td>\n",
              "      <td>1,947-2,263 sq.ft.</td>\n",
              "      <td>Meridian Splendora</td>\n",
              "    </tr>\n",
              "    <tr>\n",
              "      <th>246</th>\n",
              "      <td>Nayabad</td>\n",
              "      <td>3</td>\n",
              "      <td>42 Lac</td>\n",
              "      <td>1,100 sq.ft.</td>\n",
              "      <td>Technocon Sunflower Apartment</td>\n",
              "    </tr>\n",
              "    <tr>\n",
              "      <th>247</th>\n",
              "      <td>Narendrapur</td>\n",
              "      <td>2</td>\n",
              "      <td>27.45  - 27.91 Lac</td>\n",
              "      <td>900-915 sq.ft.</td>\n",
              "      <td>Atri Green Valley</td>\n",
              "    </tr>\n",
              "    <tr>\n",
              "      <th>248</th>\n",
              "      <td>Madhyamgram</td>\n",
              "      <td>2</td>\n",
              "      <td>19.11  - 29.1 Lac</td>\n",
              "      <td>637-970 sq.ft.</td>\n",
              "      <td>Sapphire</td>\n",
              "    </tr>\n",
              "    <tr>\n",
              "      <th>249</th>\n",
              "      <td>Jessore Road</td>\n",
              "      <td>3</td>\n",
              "      <td>90 Lac Onwards</td>\n",
              "      <td>1,700-1,920 sq.ft.</td>\n",
              "      <td>Emami City</td>\n",
              "    </tr>\n",
              "  </tbody>\n",
              "</table>\n",
              "</div>"
            ],
            "text/plain": [
              "         Location BHK  ...                Area                       Property\n",
              "245      Paikpara   4  ...  1,947-2,263 sq.ft.             Meridian Splendora\n",
              "246       Nayabad   3  ...        1,100 sq.ft.  Technocon Sunflower Apartment\n",
              "247   Narendrapur   2  ...      900-915 sq.ft.              Atri Green Valley\n",
              "248   Madhyamgram   2  ...      637-970 sq.ft.                       Sapphire\n",
              "249  Jessore Road   3  ...  1,700-1,920 sq.ft.                     Emami City\n",
              "\n",
              "[5 rows x 5 columns]"
            ]
          },
          "metadata": {
            "tags": []
          },
          "execution_count": 99
        }
      ]
    },
    {
      "cell_type": "code",
      "metadata": {
        "colab": {
          "base_uri": "https://localhost:8080/"
        },
        "id": "MuOjQGHnv-sU",
        "outputId": "0902f163-3715-4f13-8a79-6607bc3c9a7f"
      },
      "source": [
        "len(df)"
      ],
      "execution_count": null,
      "outputs": [
        {
          "output_type": "execute_result",
          "data": {
            "text/plain": [
              "250"
            ]
          },
          "metadata": {
            "tags": []
          },
          "execution_count": 100
        }
      ]
    },
    {
      "cell_type": "markdown",
      "metadata": {
        "id": "AYDXwebhwIku"
      },
      "source": [
        "Reviews of 250 properties have been scraped. "
      ]
    }
  ]
}