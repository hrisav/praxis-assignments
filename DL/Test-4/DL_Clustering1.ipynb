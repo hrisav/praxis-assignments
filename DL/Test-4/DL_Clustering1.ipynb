{
  "nbformat": 4,
  "nbformat_minor": 0,
  "metadata": {
    "colab": {
      "name": "DL_Clustering1.ipynb",
      "provenance": []
    },
    "kernelspec": {
      "name": "python3",
      "display_name": "Python 3"
    },
    "language_info": {
      "name": "python"
    },
    "accelerator": "GPU"
  },
  "cells": [
    {
      "cell_type": "code",
      "metadata": {
        "colab": {
          "base_uri": "https://localhost:8080/"
        },
        "id": "vzE3_QuLTfr7",
        "outputId": "ba63b57b-ec40-406e-b0d7-52838414a97d"
      },
      "source": [
        "!unzip \"/content/clustering.zip\" -d \"/content/\""
      ],
      "execution_count": 1,
      "outputs": [
        {
          "output_type": "stream",
          "name": "stdout",
          "text": [
            "Archive:  /content/clustering.zip\n",
            "   creating: /content/clustering/\n",
            "  inflating: /content/clustering/carimg181.jpeg  \n",
            "  inflating: /content/clustering/carimg222.jpeg  \n",
            "  inflating: /content/clustering/carimg271.jpeg  \n",
            "  inflating: /content/clustering/carimg331.jpeg  \n",
            "  inflating: /content/clustering/carimg453.jpeg  \n",
            "  inflating: /content/clustering/carimg602.jpeg  \n",
            "  inflating: /content/clustering/carimg941.jpeg  \n",
            "  inflating: /content/clustering/planeimg001.jpeg  \n",
            "  inflating: /content/clustering/planeimg056.jpeg  \n",
            "  inflating: /content/clustering/planeimg111.jpeg  \n",
            "  inflating: /content/clustering/planeimg201.jpeg  \n",
            "  inflating: /content/clustering/planeimg371.jpeg  \n",
            "  inflating: /content/clustering/planeimg506.jpeg  \n",
            "  inflating: /content/clustering/planeimg901.jpeg  \n",
            "  inflating: /content/clustering/shipimg002.jpeg  \n",
            "  inflating: /content/clustering/shipimg041.jpeg  \n",
            "  inflating: /content/clustering/shipimg211.jpeg  \n",
            "  inflating: /content/clustering/shipimg661.jpeg  \n",
            "  inflating: /content/clustering/shipimg91.jpeg  \n"
          ]
        }
      ]
    },
    {
      "cell_type": "code",
      "metadata": {
        "id": "oU5e1HMGUcp6"
      },
      "source": [
        "from tensorflow.keras.applications.inception_v3 import InceptionV3\n",
        "from tensorflow.keras.applications.inception_v3 import preprocess_input\n",
        "\n",
        "from tensorflow.keras.preprocessing import image\n",
        "from tensorflow.keras.preprocessing.image import img_to_array\n",
        "from sklearn.cluster import KMeans\n",
        "import pandas as pd\n",
        "import numpy as np\n",
        "from tqdm import tqdm\n",
        "import os\n",
        "import shutil"
      ],
      "execution_count": 1,
      "outputs": []
    },
    {
      "cell_type": "code",
      "metadata": {
        "colab": {
          "base_uri": "https://localhost:8080/"
        },
        "id": "axFAggBhWQZl",
        "outputId": "e0a9d588-e550-4f56-8503-f169ae609501"
      },
      "source": [
        "for i in tqdm(os.listdir('/content/clustering')):\n",
        "    print(i)"
      ],
      "execution_count": 3,
      "outputs": [
        {
          "output_type": "stream",
          "name": "stderr",
          "text": [
            "100%|██████████| 19/19 [00:00<00:00, 3846.69it/s]"
          ]
        },
        {
          "output_type": "stream",
          "name": "stdout",
          "text": [
            "shipimg002.jpeg\n",
            "carimg331.jpeg\n",
            "planeimg056.jpeg\n",
            "shipimg211.jpeg\n",
            "carimg453.jpeg\n",
            "carimg271.jpeg\n",
            "carimg602.jpeg\n",
            "planeimg201.jpeg\n",
            "carimg941.jpeg\n",
            "planeimg371.jpeg\n",
            "carimg222.jpeg\n",
            "shipimg041.jpeg\n",
            "shipimg661.jpeg\n",
            "planeimg506.jpeg\n",
            "planeimg001.jpeg\n",
            "carimg181.jpeg\n",
            "planeimg901.jpeg\n",
            "planeimg111.jpeg\n",
            "shipimg91.jpeg\n"
          ]
        },
        {
          "output_type": "stream",
          "name": "stderr",
          "text": [
            "\n"
          ]
        }
      ]
    },
    {
      "cell_type": "code",
      "metadata": {
        "id": "ilAIfZ0RUjoC"
      },
      "source": [
        "def image_feature(direc):\n",
        "    model = InceptionV3(weights='imagenet', include_top=False)\n",
        "    features = []\n",
        "    img_name = []\n",
        "    for i in tqdm(direc):\n",
        "        fname = 'clustering'+'/'+i\n",
        "        img = image.load_img(fname, target_size=(224,224))        # loads an image and resizes the image to (224, 224)\n",
        "        x = img_to_array(img)                                     # adds channels: x.shape = (224, 224, 3) for RGB\n",
        "        x = np.expand_dims(x, axis=0)                             # add the number of images: x.shape = (1, 224, 224, 3)\n",
        "        x = preprocess_input(x)                                   # preprocess_input subtracts the mean RGB channels of the imagenet dataset\n",
        "        feat = model.predict(x)\n",
        "        feat = feat.flatten()\n",
        "        features.append(feat)\n",
        "        img_name.append(i)\n",
        "    return features, img_name"
      ],
      "execution_count": 2,
      "outputs": []
    },
    {
      "cell_type": "code",
      "metadata": {
        "id": "dLAi-JQFVFkW"
      },
      "source": [
        "img_path = os.listdir('/content/clustering')"
      ],
      "execution_count": 3,
      "outputs": []
    },
    {
      "cell_type": "code",
      "metadata": {
        "colab": {
          "base_uri": "https://localhost:8080/"
        },
        "id": "uao10cL3VNcf",
        "outputId": "8a60bc57-0049-4f9e-c32f-922f4dad8294"
      },
      "source": [
        "img_features, img_name = image_feature(img_path)"
      ],
      "execution_count": 4,
      "outputs": [
        {
          "output_type": "stream",
          "name": "stderr",
          "text": [
            "100%|██████████| 19/19 [00:31<00:00,  1.66s/it]\n"
          ]
        }
      ]
    },
    {
      "cell_type": "code",
      "metadata": {
        "id": "Mr9J5fwxVdpp"
      },
      "source": [
        "image_cluster = pd.DataFrame(img_name, columns=['image'])"
      ],
      "execution_count": 5,
      "outputs": []
    },
    {
      "cell_type": "code",
      "metadata": {
        "colab": {
          "base_uri": "https://localhost:8080/"
        },
        "id": "HFlBwM7mXko_",
        "outputId": "03ef12b0-f530-4059-c077-e2512e7fca7b"
      },
      "source": [
        "k = 3\n",
        "clusters = KMeans(k, random_state = 20)\n",
        "clusters.fit(img_features)"
      ],
      "execution_count": 6,
      "outputs": [
        {
          "output_type": "execute_result",
          "data": {
            "text/plain": [
              "KMeans(algorithm='auto', copy_x=True, init='k-means++', max_iter=300,\n",
              "       n_clusters=3, n_init=10, n_jobs=None, precompute_distances='auto',\n",
              "       random_state=20, tol=0.0001, verbose=0)"
            ]
          },
          "metadata": {},
          "execution_count": 6
        }
      ]
    },
    {
      "cell_type": "code",
      "metadata": {
        "id": "yIagvNVeXoXC"
      },
      "source": [
        "image_cluster['clusterid'] = clusters.labels_"
      ],
      "execution_count": 7,
      "outputs": []
    },
    {
      "cell_type": "code",
      "metadata": {
        "colab": {
          "base_uri": "https://localhost:8080/",
          "height": 631
        },
        "id": "VQBIflZAX3wu",
        "outputId": "09da7268-0f91-4dd7-a0f3-a241e9fe5889"
      },
      "source": [
        "image_cluster"
      ],
      "execution_count": 8,
      "outputs": [
        {
          "output_type": "execute_result",
          "data": {
            "text/html": [
              "<div>\n",
              "<style scoped>\n",
              "    .dataframe tbody tr th:only-of-type {\n",
              "        vertical-align: middle;\n",
              "    }\n",
              "\n",
              "    .dataframe tbody tr th {\n",
              "        vertical-align: top;\n",
              "    }\n",
              "\n",
              "    .dataframe thead th {\n",
              "        text-align: right;\n",
              "    }\n",
              "</style>\n",
              "<table border=\"1\" class=\"dataframe\">\n",
              "  <thead>\n",
              "    <tr style=\"text-align: right;\">\n",
              "      <th></th>\n",
              "      <th>image</th>\n",
              "      <th>clusterid</th>\n",
              "    </tr>\n",
              "  </thead>\n",
              "  <tbody>\n",
              "    <tr>\n",
              "      <th>0</th>\n",
              "      <td>shipimg002.jpeg</td>\n",
              "      <td>0</td>\n",
              "    </tr>\n",
              "    <tr>\n",
              "      <th>1</th>\n",
              "      <td>carimg331.jpeg</td>\n",
              "      <td>1</td>\n",
              "    </tr>\n",
              "    <tr>\n",
              "      <th>2</th>\n",
              "      <td>planeimg056.jpeg</td>\n",
              "      <td>2</td>\n",
              "    </tr>\n",
              "    <tr>\n",
              "      <th>3</th>\n",
              "      <td>shipimg211.jpeg</td>\n",
              "      <td>0</td>\n",
              "    </tr>\n",
              "    <tr>\n",
              "      <th>4</th>\n",
              "      <td>carimg453.jpeg</td>\n",
              "      <td>1</td>\n",
              "    </tr>\n",
              "    <tr>\n",
              "      <th>5</th>\n",
              "      <td>carimg271.jpeg</td>\n",
              "      <td>1</td>\n",
              "    </tr>\n",
              "    <tr>\n",
              "      <th>6</th>\n",
              "      <td>carimg602.jpeg</td>\n",
              "      <td>1</td>\n",
              "    </tr>\n",
              "    <tr>\n",
              "      <th>7</th>\n",
              "      <td>planeimg201.jpeg</td>\n",
              "      <td>2</td>\n",
              "    </tr>\n",
              "    <tr>\n",
              "      <th>8</th>\n",
              "      <td>carimg941.jpeg</td>\n",
              "      <td>1</td>\n",
              "    </tr>\n",
              "    <tr>\n",
              "      <th>9</th>\n",
              "      <td>planeimg371.jpeg</td>\n",
              "      <td>2</td>\n",
              "    </tr>\n",
              "    <tr>\n",
              "      <th>10</th>\n",
              "      <td>carimg222.jpeg</td>\n",
              "      <td>1</td>\n",
              "    </tr>\n",
              "    <tr>\n",
              "      <th>11</th>\n",
              "      <td>shipimg041.jpeg</td>\n",
              "      <td>0</td>\n",
              "    </tr>\n",
              "    <tr>\n",
              "      <th>12</th>\n",
              "      <td>shipimg661.jpeg</td>\n",
              "      <td>0</td>\n",
              "    </tr>\n",
              "    <tr>\n",
              "      <th>13</th>\n",
              "      <td>planeimg506.jpeg</td>\n",
              "      <td>2</td>\n",
              "    </tr>\n",
              "    <tr>\n",
              "      <th>14</th>\n",
              "      <td>planeimg001.jpeg</td>\n",
              "      <td>2</td>\n",
              "    </tr>\n",
              "    <tr>\n",
              "      <th>15</th>\n",
              "      <td>carimg181.jpeg</td>\n",
              "      <td>1</td>\n",
              "    </tr>\n",
              "    <tr>\n",
              "      <th>16</th>\n",
              "      <td>planeimg901.jpeg</td>\n",
              "      <td>2</td>\n",
              "    </tr>\n",
              "    <tr>\n",
              "      <th>17</th>\n",
              "      <td>planeimg111.jpeg</td>\n",
              "      <td>2</td>\n",
              "    </tr>\n",
              "    <tr>\n",
              "      <th>18</th>\n",
              "      <td>shipimg91.jpeg</td>\n",
              "      <td>0</td>\n",
              "    </tr>\n",
              "  </tbody>\n",
              "</table>\n",
              "</div>"
            ],
            "text/plain": [
              "               image  clusterid\n",
              "0    shipimg002.jpeg          0\n",
              "1     carimg331.jpeg          1\n",
              "2   planeimg056.jpeg          2\n",
              "3    shipimg211.jpeg          0\n",
              "4     carimg453.jpeg          1\n",
              "5     carimg271.jpeg          1\n",
              "6     carimg602.jpeg          1\n",
              "7   planeimg201.jpeg          2\n",
              "8     carimg941.jpeg          1\n",
              "9   planeimg371.jpeg          2\n",
              "10    carimg222.jpeg          1\n",
              "11   shipimg041.jpeg          0\n",
              "12   shipimg661.jpeg          0\n",
              "13  planeimg506.jpeg          2\n",
              "14  planeimg001.jpeg          2\n",
              "15    carimg181.jpeg          1\n",
              "16  planeimg901.jpeg          2\n",
              "17  planeimg111.jpeg          2\n",
              "18    shipimg91.jpeg          0"
            ]
          },
          "metadata": {},
          "execution_count": 8
        }
      ]
    },
    {
      "cell_type": "code",
      "metadata": {
        "colab": {
          "base_uri": "https://localhost:8080/",
          "height": 202
        },
        "id": "iwqfn-PNYCwC",
        "outputId": "9f06de7c-7219-496b-9a85-7488a61328c3"
      },
      "source": [
        "image_cluster[image_cluster['clusterid'] == 0]"
      ],
      "execution_count": 9,
      "outputs": [
        {
          "output_type": "execute_result",
          "data": {
            "text/html": [
              "<div>\n",
              "<style scoped>\n",
              "    .dataframe tbody tr th:only-of-type {\n",
              "        vertical-align: middle;\n",
              "    }\n",
              "\n",
              "    .dataframe tbody tr th {\n",
              "        vertical-align: top;\n",
              "    }\n",
              "\n",
              "    .dataframe thead th {\n",
              "        text-align: right;\n",
              "    }\n",
              "</style>\n",
              "<table border=\"1\" class=\"dataframe\">\n",
              "  <thead>\n",
              "    <tr style=\"text-align: right;\">\n",
              "      <th></th>\n",
              "      <th>image</th>\n",
              "      <th>clusterid</th>\n",
              "    </tr>\n",
              "  </thead>\n",
              "  <tbody>\n",
              "    <tr>\n",
              "      <th>0</th>\n",
              "      <td>shipimg002.jpeg</td>\n",
              "      <td>0</td>\n",
              "    </tr>\n",
              "    <tr>\n",
              "      <th>3</th>\n",
              "      <td>shipimg211.jpeg</td>\n",
              "      <td>0</td>\n",
              "    </tr>\n",
              "    <tr>\n",
              "      <th>11</th>\n",
              "      <td>shipimg041.jpeg</td>\n",
              "      <td>0</td>\n",
              "    </tr>\n",
              "    <tr>\n",
              "      <th>12</th>\n",
              "      <td>shipimg661.jpeg</td>\n",
              "      <td>0</td>\n",
              "    </tr>\n",
              "    <tr>\n",
              "      <th>18</th>\n",
              "      <td>shipimg91.jpeg</td>\n",
              "      <td>0</td>\n",
              "    </tr>\n",
              "  </tbody>\n",
              "</table>\n",
              "</div>"
            ],
            "text/plain": [
              "              image  clusterid\n",
              "0   shipimg002.jpeg          0\n",
              "3   shipimg211.jpeg          0\n",
              "11  shipimg041.jpeg          0\n",
              "12  shipimg661.jpeg          0\n",
              "18   shipimg91.jpeg          0"
            ]
          },
          "metadata": {},
          "execution_count": 9
        }
      ]
    },
    {
      "cell_type": "code",
      "metadata": {
        "colab": {
          "base_uri": "https://localhost:8080/",
          "height": 263
        },
        "id": "eWQcSmUrYOdd",
        "outputId": "c35cdb5c-35d5-47bd-f325-9e7805a50f09"
      },
      "source": [
        "image_cluster[image_cluster['clusterid'] == 1]"
      ],
      "execution_count": 10,
      "outputs": [
        {
          "output_type": "execute_result",
          "data": {
            "text/html": [
              "<div>\n",
              "<style scoped>\n",
              "    .dataframe tbody tr th:only-of-type {\n",
              "        vertical-align: middle;\n",
              "    }\n",
              "\n",
              "    .dataframe tbody tr th {\n",
              "        vertical-align: top;\n",
              "    }\n",
              "\n",
              "    .dataframe thead th {\n",
              "        text-align: right;\n",
              "    }\n",
              "</style>\n",
              "<table border=\"1\" class=\"dataframe\">\n",
              "  <thead>\n",
              "    <tr style=\"text-align: right;\">\n",
              "      <th></th>\n",
              "      <th>image</th>\n",
              "      <th>clusterid</th>\n",
              "    </tr>\n",
              "  </thead>\n",
              "  <tbody>\n",
              "    <tr>\n",
              "      <th>1</th>\n",
              "      <td>carimg331.jpeg</td>\n",
              "      <td>1</td>\n",
              "    </tr>\n",
              "    <tr>\n",
              "      <th>4</th>\n",
              "      <td>carimg453.jpeg</td>\n",
              "      <td>1</td>\n",
              "    </tr>\n",
              "    <tr>\n",
              "      <th>5</th>\n",
              "      <td>carimg271.jpeg</td>\n",
              "      <td>1</td>\n",
              "    </tr>\n",
              "    <tr>\n",
              "      <th>6</th>\n",
              "      <td>carimg602.jpeg</td>\n",
              "      <td>1</td>\n",
              "    </tr>\n",
              "    <tr>\n",
              "      <th>8</th>\n",
              "      <td>carimg941.jpeg</td>\n",
              "      <td>1</td>\n",
              "    </tr>\n",
              "    <tr>\n",
              "      <th>10</th>\n",
              "      <td>carimg222.jpeg</td>\n",
              "      <td>1</td>\n",
              "    </tr>\n",
              "    <tr>\n",
              "      <th>15</th>\n",
              "      <td>carimg181.jpeg</td>\n",
              "      <td>1</td>\n",
              "    </tr>\n",
              "  </tbody>\n",
              "</table>\n",
              "</div>"
            ],
            "text/plain": [
              "             image  clusterid\n",
              "1   carimg331.jpeg          1\n",
              "4   carimg453.jpeg          1\n",
              "5   carimg271.jpeg          1\n",
              "6   carimg602.jpeg          1\n",
              "8   carimg941.jpeg          1\n",
              "10  carimg222.jpeg          1\n",
              "15  carimg181.jpeg          1"
            ]
          },
          "metadata": {},
          "execution_count": 10
        }
      ]
    },
    {
      "cell_type": "code",
      "metadata": {
        "colab": {
          "base_uri": "https://localhost:8080/",
          "height": 263
        },
        "id": "PWOoyrPQYQK9",
        "outputId": "a4a7048f-e23f-4c5e-e2c6-33918c0d3eb5"
      },
      "source": [
        "image_cluster[image_cluster['clusterid'] == 2]"
      ],
      "execution_count": 11,
      "outputs": [
        {
          "output_type": "execute_result",
          "data": {
            "text/html": [
              "<div>\n",
              "<style scoped>\n",
              "    .dataframe tbody tr th:only-of-type {\n",
              "        vertical-align: middle;\n",
              "    }\n",
              "\n",
              "    .dataframe tbody tr th {\n",
              "        vertical-align: top;\n",
              "    }\n",
              "\n",
              "    .dataframe thead th {\n",
              "        text-align: right;\n",
              "    }\n",
              "</style>\n",
              "<table border=\"1\" class=\"dataframe\">\n",
              "  <thead>\n",
              "    <tr style=\"text-align: right;\">\n",
              "      <th></th>\n",
              "      <th>image</th>\n",
              "      <th>clusterid</th>\n",
              "    </tr>\n",
              "  </thead>\n",
              "  <tbody>\n",
              "    <tr>\n",
              "      <th>2</th>\n",
              "      <td>planeimg056.jpeg</td>\n",
              "      <td>2</td>\n",
              "    </tr>\n",
              "    <tr>\n",
              "      <th>7</th>\n",
              "      <td>planeimg201.jpeg</td>\n",
              "      <td>2</td>\n",
              "    </tr>\n",
              "    <tr>\n",
              "      <th>9</th>\n",
              "      <td>planeimg371.jpeg</td>\n",
              "      <td>2</td>\n",
              "    </tr>\n",
              "    <tr>\n",
              "      <th>13</th>\n",
              "      <td>planeimg506.jpeg</td>\n",
              "      <td>2</td>\n",
              "    </tr>\n",
              "    <tr>\n",
              "      <th>14</th>\n",
              "      <td>planeimg001.jpeg</td>\n",
              "      <td>2</td>\n",
              "    </tr>\n",
              "    <tr>\n",
              "      <th>16</th>\n",
              "      <td>planeimg901.jpeg</td>\n",
              "      <td>2</td>\n",
              "    </tr>\n",
              "    <tr>\n",
              "      <th>17</th>\n",
              "      <td>planeimg111.jpeg</td>\n",
              "      <td>2</td>\n",
              "    </tr>\n",
              "  </tbody>\n",
              "</table>\n",
              "</div>"
            ],
            "text/plain": [
              "               image  clusterid\n",
              "2   planeimg056.jpeg          2\n",
              "7   planeimg201.jpeg          2\n",
              "9   planeimg371.jpeg          2\n",
              "13  planeimg506.jpeg          2\n",
              "14  planeimg001.jpeg          2\n",
              "16  planeimg901.jpeg          2\n",
              "17  planeimg111.jpeg          2"
            ]
          },
          "metadata": {},
          "execution_count": 11
        }
      ]
    },
    {
      "cell_type": "code",
      "metadata": {
        "id": "c9-t4xXkYUgI"
      },
      "source": [
        "os.mkdir('ship')\n",
        "os.mkdir('car')\n",
        "os.mkdir('plane')"
      ],
      "execution_count": 12,
      "outputs": []
    },
    {
      "cell_type": "code",
      "metadata": {
        "colab": {
          "base_uri": "https://localhost:8080/"
        },
        "id": "iDezl48rYsHh",
        "outputId": "67b64837-9d77-4d41-8b0d-fb105d551846"
      },
      "source": [
        "len(image_cluster)"
      ],
      "execution_count": 13,
      "outputs": [
        {
          "output_type": "execute_result",
          "data": {
            "text/plain": [
              "19"
            ]
          },
          "metadata": {},
          "execution_count": 13
        }
      ]
    },
    {
      "cell_type": "code",
      "metadata": {
        "colab": {
          "base_uri": "https://localhost:8080/"
        },
        "id": "rnr0RBZ-Y6hR",
        "outputId": "5711d575-5a8c-46b4-bb0c-bf073ab6072d"
      },
      "source": [
        "image_cluster['clusterid'][0]"
      ],
      "execution_count": 14,
      "outputs": [
        {
          "output_type": "execute_result",
          "data": {
            "text/plain": [
              "0"
            ]
          },
          "metadata": {},
          "execution_count": 14
        }
      ]
    },
    {
      "cell_type": "code",
      "metadata": {
        "id": "eaDHV_YjYbqw"
      },
      "source": [
        "# move all images in clustering folder to folders ship, car and plane\n",
        "\n",
        "for i in range(len(image_cluster)):\n",
        "    if image_cluster['clusterid'][i]==0:\n",
        "        shutil.move(os.path.join('clustering', image_cluster['image'][i]), 'ship')\n",
        "    elif image_cluster['clusterid'][i]==1:\n",
        "        shutil.move(os.path.join('clustering', image_cluster['image'][i]), 'car')\n",
        "    else:\n",
        "        shutil.move(os.path.join('clustering', image_cluster['image'][i]), 'plane')"
      ],
      "execution_count": 15,
      "outputs": []
    }
  ]
}